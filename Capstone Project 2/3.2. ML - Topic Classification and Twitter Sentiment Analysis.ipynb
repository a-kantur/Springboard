{
 "cells": [
  {
   "cell_type": "markdown",
   "metadata": {},
   "source": [
    "# Uploading Modules"
   ]
  },
  {
   "cell_type": "code",
   "execution_count": 1,
   "metadata": {},
   "outputs": [],
   "source": [
    "import pandas as pd\n",
    "import spacy\n",
    "nlp = spacy.load('en_core_web_md')\n",
    "import matplotlib.pyplot as plt\n",
    "import seaborn as sns"
   ]
  },
  {
   "cell_type": "markdown",
   "metadata": {},
   "source": [
    "# Importing Data"
   ]
  },
  {
   "cell_type": "code",
   "execution_count": 2,
   "metadata": {},
   "outputs": [],
   "source": [
    "active20=pd.read_csv(\"active20-clean.csv\")\n",
    "active19=pd.read_csv(\"active19-clean.csv\")\n",
    "lazy20=pd.read_csv(\"lazy20-clean.csv\")\n",
    "lazy19=pd.read_csv(\"lazy19-clean.csv\")\n",
    "twitter_users = pd.read_csv(\"Twitter users.csv\")"
   ]
  },
  {
   "cell_type": "markdown",
   "metadata": {},
   "source": [
    "In this section we will try to answer the following questions:\n",
    "- How much more people tweeted about diseases and being sick in 2020 vs 2019? Any difference between active and lazy user cohorts?\n",
    "- What is the overall change in sentiment on disease-related tweets between 2019 vs 2020 and lazy vs active? <br>\n",
    "To answer these questions, we will use topic classification. For this we will need to know the topics of a text before starting the analysis, because we will need to tag data in order to train a topic classifier. We will identify disease releated tweets using the concept of semantic similarity and SpaCy NLP package, and then analyze Twitter sentiment on disease-related tweets for 2019 vs 2020 and lazy vs active using vaderSentiment. "
   ]
  },
  {
   "cell_type": "markdown",
   "metadata": {},
   "source": [
    "## Tweets about COVID and Diseases"
   ]
  },
  {
   "cell_type": "markdown",
   "metadata": {},
   "source": [
    "We will pick all the tweets that are semantically similar to Coronavirus-related words in 2020 or disease-related words in 2019 using the algorithm word2vec and spaCy's prebuilt word embeddings.<br> \n",
    "For our analysis we choose tweets with the similarity 0.55 or higher. (We intentionally set the threshold for similarity as high as 0.55 to ensure that only the relevant tweets will get selected. We wanted to avoid tweets like \"This day was sick!\" (i.e. great day))<br>\n",
    "Also, after some consideration we decided to exlude the words \"fever\" and \"emergency\" from the disease-related words, because we wanted to avoid the mix up with the expression \"cabin fever\" and exclude tweets about natural disasters like fires and hurricanes (even though one can argue that these events also change the predictable course of life)."
   ]
  },
  {
   "cell_type": "code",
   "execution_count": 3,
   "metadata": {},
   "outputs": [],
   "source": [
    "# Create a word embedding using spaCy for the Coronavirus-related words and disease-related words\n",
    "covid = nlp('covid coronavirus virus pandemic disease lockdown quarantine cough doctor nurse hospital')\n",
    "disease = nlp('disease virus cough doctor nurse hospital')"
   ]
  },
  {
   "cell_type": "markdown",
   "metadata": {},
   "source": [
    "Now let's define semantic similarity to the covid word vector in 2020 and to the disease word vector in 2019."
   ]
  },
  {
   "cell_type": "code",
   "execution_count": 4,
   "metadata": {},
   "outputs": [],
   "source": [
    "import warnings\n",
    "warnings.simplefilter(\"ignore\", UserWarning)\n",
    "active19['word_sim'] = active19.clean_text.apply(lambda x: nlp(x).similarity(disease))"
   ]
  },
  {
   "cell_type": "code",
   "execution_count": 5,
   "metadata": {},
   "outputs": [
    {
     "data": {
      "text/html": [
       "<div>\n",
       "<style scoped>\n",
       "    .dataframe tbody tr th:only-of-type {\n",
       "        vertical-align: middle;\n",
       "    }\n",
       "\n",
       "    .dataframe tbody tr th {\n",
       "        vertical-align: top;\n",
       "    }\n",
       "\n",
       "    .dataframe thead th {\n",
       "        text-align: right;\n",
       "    }\n",
       "</style>\n",
       "<table border=\"1\" class=\"dataframe\">\n",
       "  <thead>\n",
       "    <tr style=\"text-align: right;\">\n",
       "      <th></th>\n",
       "      <th>Unnamed: 0</th>\n",
       "      <th>index</th>\n",
       "      <th>Text</th>\n",
       "      <th>Date</th>\n",
       "      <th>Name</th>\n",
       "      <th>Location</th>\n",
       "      <th>search term</th>\n",
       "      <th>clean_text</th>\n",
       "      <th>word_sim</th>\n",
       "    </tr>\n",
       "  </thead>\n",
       "  <tbody>\n",
       "    <tr>\n",
       "      <td>170</td>\n",
       "      <td>170</td>\n",
       "      <td>170</td>\n",
       "      <td>It's pretty bad when the US can not be in the ...</td>\n",
       "      <td>2019-03-22</td>\n",
       "      <td>Iam_MsElizabeth</td>\n",
       "      <td>Buena Vista, CO</td>\n",
       "      <td>outdoor</td>\n",
       "      <td>pretty bad us not top countrys not surprised w...</td>\n",
       "      <td>0.571244</td>\n",
       "    </tr>\n",
       "    <tr>\n",
       "      <td>191</td>\n",
       "      <td>191</td>\n",
       "      <td>191</td>\n",
       "      <td>Taking care of your immune system is essential...</td>\n",
       "      <td>2019-04-01</td>\n",
       "      <td>GearWeAre</td>\n",
       "      <td>US and UK / Europe</td>\n",
       "      <td>outdoor</td>\n",
       "      <td>taking care immune system essential overall we...</td>\n",
       "      <td>0.629675</td>\n",
       "    </tr>\n",
       "    <tr>\n",
       "      <td>254</td>\n",
       "      <td>254</td>\n",
       "      <td>254</td>\n",
       "      <td>$2.8B invested in health innovation co's in Q1...</td>\n",
       "      <td>2019-04-04</td>\n",
       "      <td>Tara_Salamone</td>\n",
       "      <td>United States</td>\n",
       "      <td>outdoor</td>\n",
       "      <td>b invested health innovation cos q startupheal...</td>\n",
       "      <td>0.553011</td>\n",
       "    </tr>\n",
       "    <tr>\n",
       "      <td>395</td>\n",
       "      <td>395</td>\n",
       "      <td>395</td>\n",
       "      <td>Ramona Bruland is fundraising for 8th Annual A...</td>\n",
       "      <td>2019-03-13</td>\n",
       "      <td>RamonaBruland</td>\n",
       "      <td>Aspen, CO</td>\n",
       "      <td>outdoor</td>\n",
       "      <td>ramona bruland fundraising th annual aspen car...</td>\n",
       "      <td>0.577576</td>\n",
       "    </tr>\n",
       "    <tr>\n",
       "      <td>474</td>\n",
       "      <td>474</td>\n",
       "      <td>474</td>\n",
       "      <td>Spasms usually do stem from your muscles but s...</td>\n",
       "      <td>2019-03-19</td>\n",
       "      <td>rikich0n</td>\n",
       "      <td>Vancouver Canada</td>\n",
       "      <td>outdoor</td>\n",
       "      <td>spasms usually stem muscles sometimes result t...</td>\n",
       "      <td>0.583666</td>\n",
       "    </tr>\n",
       "  </tbody>\n",
       "</table>\n",
       "</div>"
      ],
      "text/plain": [
       "     Unnamed: 0  index                                               Text  \\\n",
       "170         170    170  It's pretty bad when the US can not be in the ...   \n",
       "191         191    191  Taking care of your immune system is essential...   \n",
       "254         254    254  $2.8B invested in health innovation co's in Q1...   \n",
       "395         395    395  Ramona Bruland is fundraising for 8th Annual A...   \n",
       "474         474    474  Spasms usually do stem from your muscles but s...   \n",
       "\n",
       "           Date             Name            Location search term  \\\n",
       "170  2019-03-22  Iam_MsElizabeth     Buena Vista, CO     outdoor   \n",
       "191  2019-04-01        GearWeAre  US and UK / Europe     outdoor   \n",
       "254  2019-04-04    Tara_Salamone       United States     outdoor   \n",
       "395  2019-03-13    RamonaBruland           Aspen, CO     outdoor   \n",
       "474  2019-03-19         rikich0n    Vancouver Canada     outdoor   \n",
       "\n",
       "                                            clean_text  word_sim  \n",
       "170  pretty bad us not top countrys not surprised w...  0.571244  \n",
       "191  taking care immune system essential overall we...  0.629675  \n",
       "254  b invested health innovation cos q startupheal...  0.553011  \n",
       "395  ramona bruland fundraising th annual aspen car...  0.577576  \n",
       "474  spasms usually stem muscles sometimes result t...  0.583666  "
      ]
     },
     "execution_count": 5,
     "metadata": {},
     "output_type": "execute_result"
    }
   ],
   "source": [
    "active19[active19['word_sim']>0.55].head()"
   ]
  },
  {
   "cell_type": "code",
   "execution_count": 6,
   "metadata": {},
   "outputs": [],
   "source": [
    "import warnings\n",
    "warnings.simplefilter(\"ignore\", UserWarning)\n",
    "active20['word_sim']=active20.clean_text.apply(lambda x: nlp(x).similarity(covid) if type(x)==str else 0)"
   ]
  },
  {
   "cell_type": "code",
   "execution_count": 7,
   "metadata": {},
   "outputs": [],
   "source": [
    "import warnings\n",
    "warnings.simplefilter(\"ignore\", UserWarning)\n",
    "lazy19['word_sim']=lazy19.clean_text.apply(lambda x: nlp(x).similarity(disease) if type(x)==str else 0)"
   ]
  },
  {
   "cell_type": "code",
   "execution_count": 8,
   "metadata": {},
   "outputs": [],
   "source": [
    "import warnings\n",
    "warnings.simplefilter(\"ignore\", UserWarning)\n",
    "lazy20['word_sim']=lazy20.clean_text.apply(lambda x: nlp(x).similarity(covid) if type(x)==str else 0)"
   ]
  },
  {
   "cell_type": "code",
   "execution_count": 9,
   "metadata": {},
   "outputs": [
    {
     "data": {
      "image/png": "[encoded data removed]",
      "text/plain": [
       "<Figure size 432x288 with 1 Axes>"
      ]
     },
     "metadata": {
      "needs_background": "light"
     },
     "output_type": "display_data"
    }
   ],
   "source": [
    "# % of tweets about illness\n",
    "x = ['active 2019', 'active 2020', 'lazy 2019', 'lazy 2020']\n",
    "y = [100*len(active19[active19.word_sim>0.55])/len(active19), \n",
    "     100*len(active20[active20.word_sim>0.55])/len(active20),\n",
    "     100*len(lazy19[lazy19.word_sim>0.55])/len(lazy19), \n",
    "     100*len(lazy20[lazy20.word_sim>0.55])/len(lazy20)]\n",
    "abs_vals=[len(active19[active19.word_sim>0.55]),len(active20[active20.word_sim>0.55]),\n",
    "         len(lazy19[lazy19.word_sim>0.55]),len(lazy20[lazy20.word_sim>0.55])]\n",
    "g=sns.barplot(x,y, color='salmon')\n",
    "for i, v in enumerate(y):\n",
    "    g.text(i,v,round(float(v),2), color='black', ha=\"center\")\n",
    "_ = plt.title('% of Disease-Related Tweets')\n",
    "_ = plt.show()"
   ]
  },
  {
   "cell_type": "code",
   "execution_count": 10,
   "metadata": {},
   "outputs": [
    {
     "name": "stdout",
     "output_type": "stream",
     "text": [
      "YoY Increase in Disease-Related Tweets - Active Users: 4017\n",
      "YoY Increase in Disease-Related Tweets - Lazy Users: 3569\n"
     ]
    }
   ],
   "source": [
    "print('YoY Increase in Disease-Related Tweets - Active Users:',abs_vals[1]-abs_vals[0])\n",
    "print('YoY Increase in Disease-Related Tweets - Lazy Users:',abs_vals[3]-abs_vals[2])"
   ]
  },
  {
   "cell_type": "markdown",
   "metadata": {},
   "source": [
    "There is a YoY increase in disease-related tweets of 5-6% in both groups, which equals to 4K more tweets in 2020 in every user cohort."
   ]
  },
  {
   "cell_type": "code",
   "execution_count": 13,
   "metadata": {},
   "outputs": [],
   "source": [
    "# import Disease-Related Tweets dataframes for future use:\n",
    "active19[active19.word_sim>0.55].to_csv('active19-disease.csv')\n",
    "active20[active20.word_sim>0.55].to_csv('active20-disease.csv')\n",
    "lazy19[lazy19.word_sim>0.55].to_csv('lazy19-disease.csv')\n",
    "lazy20[lazy20.word_sim>0.55].to_csv('lazy20-disease.csv')"
   ]
  },
  {
   "cell_type": "markdown",
   "metadata": {},
   "source": [
    "## Sentiment Analysis for Disease-Realted Tweets"
   ]
  },
  {
   "cell_type": "markdown",
   "metadata": {},
   "source": [
    "We will use out-of0-the-box Twitter Sentiment model called SentimentIntensityAnalyzer from vaderSentiment package. The model produces negative, neutral, positive and compound scores. We will follow the thresholds for sentiment determined on the vaderSentiment website:<br>\n",
    "\"The compound score is computed by summing the valence scores of each word in the lexicon, adjusted according to the rules, and then normalized to be between -1 (most extreme negative) and +1 (most extreme positive). This is the most useful metric if you want a single unidimensional measure of sentiment for a given sentence. Calling it a ‘normalized, weighted composite score’ is accurate.<br>\n",
    "It is also useful for researchers who would like to set standardized thresholds for classifying sentences as either positive, neutral, or negative. Typical threshold values (used in the literature cited on this page) are:<br>\n",
    "positive sentiment: compound score >= 0.05<br>\n",
    "neutral sentiment: (compound score > -0.05) and (compound score < 0.05)<br>\n",
    "negative sentiment: compound score <= -0.05\""
   ]
  },
  {
   "cell_type": "markdown",
   "metadata": {},
   "source": [
    "### 2019 vs 2020"
   ]
  },
  {
   "cell_type": "code",
   "execution_count": 15,
   "metadata": {},
   "outputs": [],
   "source": [
    "# comnine active and lazy for 2019 and 2020:\n",
    "cols=['Text','Date','Name','Location','clean_text','word_sim']\n",
    "df1 = pd.read_csv('active19_disease.csv', usecols=cols)\n",
    "df2 = pd.read_csv('lazy19_disease.csv', usecols=cols)\n",
    "df2019 = pd.concat([df1,df2], axis=0, ignore_index=True)\n",
    "\n",
    "df3 = pd.read_csv('active20_disease.csv', usecols=cols)\n",
    "df4 = pd.read_csv('lazy20_disease.csv', usecols=cols)\n",
    "df2020 = pd.concat([df3,df4], axis=0, ignore_index=True)"
   ]
  },
  {
   "cell_type": "code",
   "execution_count": 16,
   "metadata": {},
   "outputs": [
    {
     "name": "stdout",
     "output_type": "stream",
     "text": [
      "{'neg': 0.0, 'neu': 0.674, 'pos': 0.326, 'compound': 0.4404}\n"
     ]
    }
   ],
   "source": [
    "from vaderSentiment.vaderSentiment import SentimentIntensityAnalyzer\n",
    "analyzer = SentimentIntensityAnalyzer()\n",
    "test = analyzer.polarity_scores('This package is good at identifying sentiment')  #df2019.clean_text[0]\n",
    "print(test)"
   ]
  },
  {
   "cell_type": "code",
   "execution_count": 17,
   "metadata": {},
   "outputs": [],
   "source": [
    "pos_count = 0\n",
    "is_pos = 0\n",
    "neg_count = 0\n",
    "is_neg = 0\n",
    "threshold = 0.05 #using the recommended threshold values\n",
    "\n",
    "def analyze_sentiment(df):\n",
    "    pos_count = 0\n",
    "    is_pos = 0\n",
    "    neg_count = 0\n",
    "    is_neg = 0\n",
    "    threshold = 0.05 #using the recommended threshold values\n",
    "    for i in range(0, len(df)):\n",
    "        vs = analyzer.polarity_scores(df.Text[i]) #using Text and not clean text to include all negative stopwords \n",
    "        if vs['compound'] >= threshold:\n",
    "            is_pos +=1\n",
    "            pos_count +=1\n",
    "        elif vs['compound'] <= -threshold:\n",
    "            is_neg +=1\n",
    "            neg_count +=1\n",
    "        else:\n",
    "            continue\n",
    "    print(\"Positive accuracy = {}% via {} samples\".format(is_pos/(pos_count+neg_count)*100, (pos_count+neg_count)))\n",
    "    print(\"Negative accuracy = {}% via {} samples\".format(is_neg/(pos_count+neg_count)*100, (pos_count+neg_count)))"
   ]
  },
  {
   "cell_type": "code",
   "execution_count": 18,
   "metadata": {},
   "outputs": [
    {
     "name": "stdout",
     "output_type": "stream",
     "text": [
      "Positive accuracy = 51.49253731343284% via 134 samples\n",
      "Negative accuracy = 48.507462686567166% via 134 samples\n"
     ]
    }
   ],
   "source": [
    "analyze_sentiment(df2019)"
   ]
  },
  {
   "cell_type": "code",
   "execution_count": 19,
   "metadata": {},
   "outputs": [
    {
     "name": "stdout",
     "output_type": "stream",
     "text": [
      "Positive accuracy = 52.523853493382575% via 6498 samples\n",
      "Negative accuracy = 47.476146506617425% via 6498 samples\n"
     ]
    }
   ],
   "source": [
    "analyze_sentiment(df2020)"
   ]
  },
  {
   "cell_type": "markdown",
   "metadata": {},
   "source": [
    "2020 to 2019 YoY change in sentiment towards disease was quite small: the positive accuracy increased by 1% from 51.5% to 52.5%. Interestingly, there was slightly more positive sentiment in 2020 during the COVID pandemic."
   ]
  },
  {
   "cell_type": "markdown",
   "metadata": {},
   "source": [
    "### Active vs Lazy"
   ]
  },
  {
   "cell_type": "code",
   "execution_count": 20,
   "metadata": {},
   "outputs": [],
   "source": [
    "# comnine 2019 and 2020 for active and lazy:\n",
    "cols=['Text','Date','Name','Location','clean_text','word_sim']\n",
    "df1 = pd.read_csv('active19_disease.csv', usecols=cols)\n",
    "df2 = pd.read_csv('active20_disease.csv', usecols=cols)\n",
    "df_active = pd.concat([df1,df2], axis=0, ignore_index=True)\n",
    "\n",
    "df3 = pd.read_csv('lazy19_disease.csv', usecols=cols)\n",
    "df4 = pd.read_csv('lazy20_disease.csv', usecols=cols)\n",
    "df_lazy = pd.concat([df3,df4], axis=0, ignore_index=True)"
   ]
  },
  {
   "cell_type": "code",
   "execution_count": 21,
   "metadata": {},
   "outputs": [
    {
     "name": "stdout",
     "output_type": "stream",
     "text": [
      "Positive accuracy = 56.83192261185006% via 3308 samples\n",
      "Negative accuracy = 43.16807738814994% via 3308 samples\n"
     ]
    }
   ],
   "source": [
    "analyze_sentiment(df_active)"
   ]
  },
  {
   "cell_type": "code",
   "execution_count": 22,
   "metadata": {
    "scrolled": true
   },
   "outputs": [
    {
     "name": "stdout",
     "output_type": "stream",
     "text": [
      "Positive accuracy = 48.194945848375454% via 3324 samples\n",
      "Negative accuracy = 51.80505415162455% via 3324 samples\n"
     ]
    }
   ],
   "source": [
    "analyze_sentiment(df_lazy)"
   ]
  },
  {
   "cell_type": "markdown",
   "metadata": {},
   "source": [
    "Combining both 2019 and 2020 years, users in the active cohort are almost 8% more negative on Twitter about diseases than the users in the lazy cohort."
   ]
  },
  {
   "cell_type": "markdown",
   "metadata": {},
   "source": [
    "### Active and Lazy in 2019 vs 2020"
   ]
  },
  {
   "cell_type": "markdown",
   "metadata": {},
   "source": [
    "We also decided to look at all tweets and compare the sentiment in 2019 and 2020 for both user cohorts. "
   ]
  },
  {
   "cell_type": "code",
   "execution_count": 23,
   "metadata": {},
   "outputs": [
    {
     "name": "stdout",
     "output_type": "stream",
     "text": [
      "Positive accuracy = 87.20103425985779% via 3094 samples\n",
      "Negative accuracy = 12.79896574014221% via 3094 samples\n"
     ]
    }
   ],
   "source": [
    "analyze_sentiment(active19)"
   ]
  },
  {
   "cell_type": "code",
   "execution_count": 24,
   "metadata": {},
   "outputs": [
    {
     "name": "stdout",
     "output_type": "stream",
     "text": [
      "Positive accuracy = 81.74184926498398% via 39659 samples\n",
      "Negative accuracy = 18.258150735016013% via 39659 samples\n"
     ]
    }
   ],
   "source": [
    "analyze_sentiment(active20)"
   ]
  },
  {
   "cell_type": "code",
   "execution_count": 25,
   "metadata": {},
   "outputs": [
    {
     "name": "stdout",
     "output_type": "stream",
     "text": [
      "Positive accuracy = 70.54794520547945% via 1460 samples\n",
      "Negative accuracy = 29.45205479452055% via 1460 samples\n"
     ]
    }
   ],
   "source": [
    "analyze_sentiment(lazy19)"
   ]
  },
  {
   "cell_type": "code",
   "execution_count": 26,
   "metadata": {},
   "outputs": [
    {
     "name": "stdout",
     "output_type": "stream",
     "text": [
      "Positive accuracy = 64.01385182361165% via 31476 samples\n",
      "Negative accuracy = 35.98614817638836% via 31476 samples\n"
     ]
    }
   ],
   "source": [
    "analyze_sentiment(lazy20)"
   ]
  },
  {
   "cell_type": "markdown",
   "metadata": {},
   "source": [
    "The mood on Twitter in 2020 worsened vs a year ago by 5.5%  for active users, and by 6.5% for lazy users, whcih means that the events of 2020 COVID pandemic affected lazy and active users equally negatively."
   ]
  }
 ],
 "metadata": {
  "kernelspec": {
   "display_name": "Python 3",
   "language": "python",
   "name": "python3"
  },
  "language_info": {
   "codemirror_mode": {
    "name": "ipython",
    "version": 3
   },
   "file_extension": ".py",
   "mimetype": "text/x-python",
   "name": "python",
   "nbconvert_exporter": "python",
   "pygments_lexer": "ipython3",
   "version": "3.7.4"
  }
 },
 "nbformat": 4,
 "nbformat_minor": 2
}
