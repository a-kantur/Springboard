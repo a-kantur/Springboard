{
 "cells": [
  {
   "cell_type": "markdown",
   "metadata": {},
   "source": [
    "# Data Wrangling"
   ]
  },
  {
   "cell_type": "markdown",
   "metadata": {},
   "source": [
    "## Importing Modules"
   ]
  },
  {
   "cell_type": "code",
   "execution_count": 6,
   "metadata": {},
   "outputs": [],
   "source": [
    "import os\n",
    "import tweepy as tw\n",
    "import pandas as pd\n",
    "import datetime as dt"
   ]
  },
  {
   "cell_type": "markdown",
   "metadata": {},
   "source": [
    "## Loading Twitter Data"
   ]
  },
  {
   "cell_type": "code",
   "execution_count": 3,
   "metadata": {},
   "outputs": [],
   "source": [
    "consumer_key= 'LvRdHf5ngA2G8g0uEqJVJqNVC'\n",
    "consumer_secret= '5PTWfqrpTf7FywHgjPfdHJiMGGzaKME24q9ubAB78nMvmIH71z'\n",
    "access_token= '1194114471049887744-cWqTo2zFitH5qI3OmHcUCVqUD2v3f1'\n",
    "access_token_secret= 'CE50qralUcPKnFhnb586p7dg5otsF96s3mngX2eKvBW2g'"
   ]
  },
  {
   "cell_type": "code",
   "execution_count": 4,
   "metadata": {},
   "outputs": [],
   "source": [
    "auth = tw.OAuthHandler(consumer_key, consumer_secret)\n",
    "auth.set_access_token(access_token, access_token_secret)\n",
    "api = tw.API(auth, wait_on_rate_limit=True)"
   ]
  },
  {
   "cell_type": "code",
   "execution_count": 5,
   "metadata": {},
   "outputs": [
    {
     "data": {
      "text/html": [
       "<div>\n",
       "<style scoped>\n",
       "    .dataframe tbody tr th:only-of-type {\n",
       "        vertical-align: middle;\n",
       "    }\n",
       "\n",
       "    .dataframe tbody tr th {\n",
       "        vertical-align: top;\n",
       "    }\n",
       "\n",
       "    .dataframe thead th {\n",
       "        text-align: right;\n",
       "    }\n",
       "</style>\n",
       "<table border=\"1\" class=\"dataframe\">\n",
       "  <thead>\n",
       "    <tr style=\"text-align: right;\">\n",
       "      <th></th>\n",
       "      <th>user</th>\n",
       "      <th>type</th>\n",
       "      <th>city</th>\n",
       "    </tr>\n",
       "  </thead>\n",
       "  <tbody>\n",
       "    <tr>\n",
       "      <td>0</td>\n",
       "      <td>E_Guizzetti</td>\n",
       "      <td>active</td>\n",
       "      <td>Seattle</td>\n",
       "    </tr>\n",
       "    <tr>\n",
       "      <td>1</td>\n",
       "      <td>OrecAmerica Love hiking mountain biking and an...</td>\n",
       "      <td>active</td>\n",
       "      <td>Seattle</td>\n",
       "    </tr>\n",
       "    <tr>\n",
       "      <td>2</td>\n",
       "      <td>ClipperVacation obsessions: content marketing ...</td>\n",
       "      <td>active</td>\n",
       "      <td>Seattle</td>\n",
       "    </tr>\n",
       "    <tr>\n",
       "      <td>3</td>\n",
       "      <td>Microsoft, dad, partner, former SharePoint MVP...</td>\n",
       "      <td>active</td>\n",
       "      <td>Seattle</td>\n",
       "    </tr>\n",
       "    <tr>\n",
       "      <td>4</td>\n",
       "      <td>PrimeVideo | #SocialMarketing #DigitalMarketin...</td>\n",
       "      <td>active</td>\n",
       "      <td>Seattle</td>\n",
       "    </tr>\n",
       "  </tbody>\n",
       "</table>\n",
       "</div>"
      ],
      "text/plain": [
       "                                                user    type     city\n",
       "0                                        E_Guizzetti  active  Seattle\n",
       "1  OrecAmerica Love hiking mountain biking and an...  active  Seattle\n",
       "2  ClipperVacation obsessions: content marketing ...  active  Seattle\n",
       "3  Microsoft, dad, partner, former SharePoint MVP...  active  Seattle\n",
       "4  PrimeVideo | #SocialMarketing #DigitalMarketin...  active  Seattle"
      ]
     },
     "execution_count": 5,
     "metadata": {},
     "output_type": "execute_result"
    }
   ],
   "source": [
    "users=pd.read_csv('Twitter users.csv')\n",
    "users.head()"
   ]
  },
  {
   "cell_type": "code",
   "execution_count": 9,
   "metadata": {},
   "outputs": [
    {
     "name": "stdout",
     "output_type": "stream",
     "text": [
      "active20: 4782 active19: 366\n"
     ]
    }
   ],
   "source": [
    "#get Tweets of a specific user (API restriction for 200 Tweets)\n",
    "\n",
    "active20 = []\n",
    "active19 = []\n",
    "lazy20 = []\n",
    "lazy19 = []\n",
    "start_date20=dt.datetime(2020, 3, 1, 0, 0, 0)\n",
    "start_date19=dt.datetime(2019, 3, 1, 0, 0, 0)\n",
    "end_date19=dt.datetime(2019, 4, 15, 0, 0, 0)\n",
    "\n",
    "for user in users.user[users.type=='active']:\n",
    "    try: # block raising TweepError: Twitter error response: status code = 401 for private users\n",
    "        tweets = tw.Cursor(api.user_timeline, id=user, count=200).items(200)\n",
    "        for tweet in tweets:\n",
    "            if tweet.created_at > start_date20:\n",
    "                array = [tweet._json[\"user\"],tweet._json[\"text\"].strip(), tweet._json[\"favorite_count\"], tweet._json[\"created_at\"],tweet._json[\"retweet_count\"],[h[\"text\"] for h in tweet._json[\"entities\"][\"hashtags\"]]]\n",
    "                active20.append(array)\n",
    "            elif tweet.created_at > start_date19 and tweet.created_at < end_date19:\n",
    "                array = [tweet._json[\"user\"],tweet._json[\"text\"].strip(), tweet._json[\"favorite_count\"], tweet._json[\"created_at\"],tweet._json[\"retweet_count\"],[h[\"text\"] for h in tweet._json[\"entities\"][\"hashtags\"]]]\n",
    "                active19.append(array)\n",
    "    except:\n",
    "        pass\n",
    "active20 = pd.DataFrame(active20, columns=[\"User\",\"Text\", \"Like\", \"Created at\",\"Retweet\",\"Hashtags\"])\n",
    "active20 = active20[~active20[\"Text\"].str.startswith('RT')]\n",
    "active19 = pd.DataFrame(active19, columns=[\"User\",\"Text\", \"Like\", \"Created at\",\"Retweet\",\"Hashtags\"])\n",
    "active19 = active19[~active19[\"Text\"].str.startswith('RT')]\n",
    "print('active20:',len(active20),'active19:',len(active19))"
   ]
  },
  {
   "cell_type": "code",
   "execution_count": 10,
   "metadata": {},
   "outputs": [
    {
     "name": "stdout",
     "output_type": "stream",
     "text": [
      "lazy20: 7306 lazy19: 282\n"
     ]
    }
   ],
   "source": [
    "#get Tweets of a specific user (API restriction for 200 Tweets)\n",
    "\n",
    "lazy20 = []\n",
    "lazy19 = []\n",
    "start_date20=dt.datetime(2020, 3, 1, 0, 0, 0)\n",
    "start_date19=dt.datetime(2019, 3, 1, 0, 0, 0)\n",
    "end_date19=dt.datetime(2019, 4, 15, 0, 0, 0)\n",
    "\n",
    "for user in users.user[users.type=='lazy']:\n",
    "    try: # block raising TweepError: Twitter error response: status code = 401 for private users\n",
    "        tweets = tw.Cursor(api.user_timeline, id=user, count=200).items(200)\n",
    "        for tweet in tweets:\n",
    "            if tweet.created_at > start_date20:\n",
    "                array = [tweet._json[\"user\"],tweet._json[\"text\"].strip(), tweet._json[\"favorite_count\"], tweet._json[\"created_at\"],tweet._json[\"retweet_count\"],[h[\"text\"] for h in tweet._json[\"entities\"][\"hashtags\"]]]\n",
    "                lazy20.append(array)\n",
    "            elif tweet.created_at > start_date19 and tweet.created_at < end_date19:\n",
    "                array = [tweet._json[\"user\"],tweet._json[\"text\"].strip(), tweet._json[\"favorite_count\"], tweet._json[\"created_at\"],tweet._json[\"retweet_count\"],[h[\"text\"] for h in tweet._json[\"entities\"][\"hashtags\"]]]\n",
    "                lazy19.append(array)\n",
    "    except:\n",
    "        pass\n",
    "lazy20 = pd.DataFrame(lazy20, columns=[\"User\",\"Text\", \"Like\", \"Created at\",\"Retweet\",\"Hashtags\"])\n",
    "lazy20 = lazy20[~lazy20[\"Text\"].str.startswith('RT')]\n",
    "lazy19 = pd.DataFrame(lazy19, columns=[\"User\",\"Text\", \"Like\", \"Created at\",\"Retweet\",\"Hashtags\"])\n",
    "lazy19 = lazy19[~lazy19[\"Text\"].str.startswith('RT')]\n",
    "print('lazy20:',len(lazy20),'lazy19:',len(lazy19))"
   ]
  },
  {
   "cell_type": "code",
   "execution_count": null,
   "metadata": {},
   "outputs": [],
   "source": []
  }
 ],
 "metadata": {
  "kernelspec": {
   "display_name": "Python 3",
   "language": "python",
   "name": "python3"
  },
  "language_info": {
   "codemirror_mode": {
    "name": "ipython",
    "version": 3
   },
   "file_extension": ".py",
   "mimetype": "text/x-python",
   "name": "python",
   "nbconvert_exporter": "python",
   "pygments_lexer": "ipython3",
   "version": "3.7.4"
  }
 },
 "nbformat": 4,
 "nbformat_minor": 2
}
