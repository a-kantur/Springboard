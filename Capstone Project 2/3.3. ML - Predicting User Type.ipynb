{
 "cells": [
  {
   "cell_type": "markdown",
   "metadata": {},
   "source": [
    "# Loading the Modules"
   ]
  },
  {
   "cell_type": "code",
   "execution_count": 10,
   "metadata": {},
   "outputs": [],
   "source": [
    "import pandas as pd\n",
    "import matplotlib.pyplot as plt\n",
    "import numpy as np\n",
    "from sklearn.feature_extraction.text import CountVectorizer, TfidfVectorizer\n",
    "from sklearn.model_selection import train_test_split\n",
    "from sklearn.naive_bayes import MultinomialNB\n",
    "from sklearn import metrics\n",
    "from sklearn.metrics import roc_curve\n",
    "from sklearn.metrics import precision_recall_curve\n",
    "from sklearn.metrics import balanced_accuracy_score\n",
    "from sklearn.metrics import accuracy_score\n",
    "from sklearn.metrics import classification_report\n",
    "from sklearn.ensemble import RandomForestClassifier"
   ]
  },
  {
   "cell_type": "markdown",
   "metadata": {},
   "source": [
    "# Loading the Data"
   ]
  },
  {
   "cell_type": "code",
   "execution_count": 2,
   "metadata": {},
   "outputs": [
    {
     "data": {
      "text/html": [
       "<div>\n",
       "<style scoped>\n",
       "    .dataframe tbody tr th:only-of-type {\n",
       "        vertical-align: middle;\n",
       "    }\n",
       "\n",
       "    .dataframe tbody tr th {\n",
       "        vertical-align: top;\n",
       "    }\n",
       "\n",
       "    .dataframe thead th {\n",
       "        text-align: right;\n",
       "    }\n",
       "</style>\n",
       "<table border=\"1\" class=\"dataframe\">\n",
       "  <thead>\n",
       "    <tr style=\"text-align: right;\">\n",
       "      <th></th>\n",
       "      <th>Text</th>\n",
       "      <th>Date</th>\n",
       "      <th>Name</th>\n",
       "      <th>Location</th>\n",
       "      <th>search term</th>\n",
       "      <th>clean_text</th>\n",
       "      <th>type</th>\n",
       "    </tr>\n",
       "  </thead>\n",
       "  <tbody>\n",
       "    <tr>\n",
       "      <td>0</td>\n",
       "      <td>New #knife post on our forum! » New Opinel #6 ...</td>\n",
       "      <td>2019-03-24</td>\n",
       "      <td>mtjsblog</td>\n",
       "      <td>NaN</td>\n",
       "      <td>outdoor</td>\n",
       "      <td>new knife post forum new opinel httpstcoprbmwh...</td>\n",
       "      <td>active</td>\n",
       "    </tr>\n",
       "    <tr>\n",
       "      <td>1</td>\n",
       "      <td>New #shtf discussion on our forum! » https://t...</td>\n",
       "      <td>2019-03-18</td>\n",
       "      <td>mtjsblog</td>\n",
       "      <td>NaN</td>\n",
       "      <td>outdoor</td>\n",
       "      <td>new shtf discussion forum httpstcowzretpdwb</td>\n",
       "      <td>active</td>\n",
       "    </tr>\n",
       "    <tr>\n",
       "      <td>2</td>\n",
       "      <td>Good time this weekend with our @twistedtea @c...</td>\n",
       "      <td>2019-04-01</td>\n",
       "      <td>tydillon</td>\n",
       "      <td>Welcome, North Carolina</td>\n",
       "      <td>outdoor</td>\n",
       "      <td>good time weekend twistedtea chevy texas call_...</td>\n",
       "      <td>active</td>\n",
       "    </tr>\n",
       "    <tr>\n",
       "      <td>3</td>\n",
       "      <td>Proud of GEICO’s dedication to NASCAR! https:/...</td>\n",
       "      <td>2019-03-25</td>\n",
       "      <td>tydillon</td>\n",
       "      <td>Welcome, North Carolina</td>\n",
       "      <td>outdoor</td>\n",
       "      <td>proud geico dedication nascar httpstcouqxaszkrv</td>\n",
       "      <td>active</td>\n",
       "    </tr>\n",
       "    <tr>\n",
       "      <td>4</td>\n",
       "      <td>Summer is in the air! Call us to get started o...</td>\n",
       "      <td>2019-04-10</td>\n",
       "      <td>JSQimprovements</td>\n",
       "      <td>Huntington Beach, CA</td>\n",
       "      <td>outdoor</td>\n",
       "      <td>summer air call us get started custom swimming...</td>\n",
       "      <td>active</td>\n",
       "    </tr>\n",
       "  </tbody>\n",
       "</table>\n",
       "</div>"
      ],
      "text/plain": [
       "                                                Text        Date  \\\n",
       "0  New #knife post on our forum! » New Opinel #6 ...  2019-03-24   \n",
       "1  New #shtf discussion on our forum! » https://t...  2019-03-18   \n",
       "2  Good time this weekend with our @twistedtea @c...  2019-04-01   \n",
       "3  Proud of GEICO’s dedication to NASCAR! https:/...  2019-03-25   \n",
       "4  Summer is in the air! Call us to get started o...  2019-04-10   \n",
       "\n",
       "              Name                 Location search term  \\\n",
       "0         mtjsblog                      NaN     outdoor   \n",
       "1         mtjsblog                      NaN     outdoor   \n",
       "2         tydillon  Welcome, North Carolina     outdoor   \n",
       "3         tydillon  Welcome, North Carolina     outdoor   \n",
       "4  JSQimprovements     Huntington Beach, CA     outdoor   \n",
       "\n",
       "                                          clean_text    type  \n",
       "0  new knife post forum new opinel httpstcoprbmwh...  active  \n",
       "1        new shtf discussion forum httpstcowzretpdwb  active  \n",
       "2  good time weekend twistedtea chevy texas call_...  active  \n",
       "3    proud geico dedication nascar httpstcouqxaszkrv  active  \n",
       "4  summer air call us get started custom swimming...  active  "
      ]
     },
     "execution_count": 2,
     "metadata": {},
     "output_type": "execute_result"
    }
   ],
   "source": [
    "active = pd.read_csv(\"active19-clean.csv\", \n",
    "                     usecols=['Text','Date','Name','Location','search term','clean_text'])\n",
    "active20 = pd.read_csv(\"active20-clean.csv\", \n",
    "                     usecols=['Text','Date','Name','Location','search term','clean_text'])\n",
    "active = active.append(active20)\n",
    "active['type'] = 'active'\n",
    "active.head()"
   ]
  },
  {
   "cell_type": "code",
   "execution_count": 3,
   "metadata": {},
   "outputs": [],
   "source": [
    "lazy = pd.read_csv(\"lazy19-clean.csv\", \n",
    "                     usecols=['Text','Date','Name','Location','search term','clean_text'])\n",
    "lazy20 = pd.read_csv(\"lazy20-clean.csv\", \n",
    "                     usecols=['Text','Date','Name','Location','search term','clean_text'])\n",
    "lazy = lazy.append(lazy20)\n",
    "lazy['type']='lazy'"
   ]
  },
  {
   "cell_type": "code",
   "execution_count": 4,
   "metadata": {},
   "outputs": [],
   "source": [
    "df = active.append(lazy)"
   ]
  },
  {
   "cell_type": "code",
   "execution_count": 5,
   "metadata": {},
   "outputs": [
    {
     "data": {
      "text/html": [
       "<div>\n",
       "<style scoped>\n",
       "    .dataframe tbody tr th:only-of-type {\n",
       "        vertical-align: middle;\n",
       "    }\n",
       "\n",
       "    .dataframe tbody tr th {\n",
       "        vertical-align: top;\n",
       "    }\n",
       "\n",
       "    .dataframe thead th {\n",
       "        text-align: right;\n",
       "    }\n",
       "</style>\n",
       "<table border=\"1\" class=\"dataframe\">\n",
       "  <thead>\n",
       "    <tr style=\"text-align: right;\">\n",
       "      <th></th>\n",
       "      <th>Text</th>\n",
       "      <th>Date</th>\n",
       "      <th>Name</th>\n",
       "      <th>Location</th>\n",
       "      <th>search term</th>\n",
       "      <th>clean_text</th>\n",
       "      <th>type</th>\n",
       "    </tr>\n",
       "  </thead>\n",
       "  <tbody>\n",
       "    <tr>\n",
       "      <td>0</td>\n",
       "      <td>New #knife post on our forum! » New Opinel #6 ...</td>\n",
       "      <td>2019-03-24</td>\n",
       "      <td>mtjsblog</td>\n",
       "      <td>NaN</td>\n",
       "      <td>outdoor</td>\n",
       "      <td>new knife post forum new opinel httpstcoprbmwh...</td>\n",
       "      <td>active</td>\n",
       "    </tr>\n",
       "    <tr>\n",
       "      <td>1</td>\n",
       "      <td>New #shtf discussion on our forum! » https://t...</td>\n",
       "      <td>2019-03-18</td>\n",
       "      <td>mtjsblog</td>\n",
       "      <td>NaN</td>\n",
       "      <td>outdoor</td>\n",
       "      <td>new shtf discussion forum httpstcowzretpdwb</td>\n",
       "      <td>active</td>\n",
       "    </tr>\n",
       "    <tr>\n",
       "      <td>2</td>\n",
       "      <td>Good time this weekend with our @twistedtea @c...</td>\n",
       "      <td>2019-04-01</td>\n",
       "      <td>tydillon</td>\n",
       "      <td>Welcome, North Carolina</td>\n",
       "      <td>outdoor</td>\n",
       "      <td>good time weekend twistedtea chevy texas call_...</td>\n",
       "      <td>active</td>\n",
       "    </tr>\n",
       "    <tr>\n",
       "      <td>3</td>\n",
       "      <td>Proud of GEICO’s dedication to NASCAR! https:/...</td>\n",
       "      <td>2019-03-25</td>\n",
       "      <td>tydillon</td>\n",
       "      <td>Welcome, North Carolina</td>\n",
       "      <td>outdoor</td>\n",
       "      <td>proud geico dedication nascar httpstcouqxaszkrv</td>\n",
       "      <td>active</td>\n",
       "    </tr>\n",
       "    <tr>\n",
       "      <td>4</td>\n",
       "      <td>Summer is in the air! Call us to get started o...</td>\n",
       "      <td>2019-04-10</td>\n",
       "      <td>JSQimprovements</td>\n",
       "      <td>Huntington Beach, CA</td>\n",
       "      <td>outdoor</td>\n",
       "      <td>summer air call us get started custom swimming...</td>\n",
       "      <td>active</td>\n",
       "    </tr>\n",
       "  </tbody>\n",
       "</table>\n",
       "</div>"
      ],
      "text/plain": [
       "                                                Text        Date  \\\n",
       "0  New #knife post on our forum! » New Opinel #6 ...  2019-03-24   \n",
       "1  New #shtf discussion on our forum! » https://t...  2019-03-18   \n",
       "2  Good time this weekend with our @twistedtea @c...  2019-04-01   \n",
       "3  Proud of GEICO’s dedication to NASCAR! https:/...  2019-03-25   \n",
       "4  Summer is in the air! Call us to get started o...  2019-04-10   \n",
       "\n",
       "              Name                 Location search term  \\\n",
       "0         mtjsblog                      NaN     outdoor   \n",
       "1         mtjsblog                      NaN     outdoor   \n",
       "2         tydillon  Welcome, North Carolina     outdoor   \n",
       "3         tydillon  Welcome, North Carolina     outdoor   \n",
       "4  JSQimprovements     Huntington Beach, CA     outdoor   \n",
       "\n",
       "                                          clean_text    type  \n",
       "0  new knife post forum new opinel httpstcoprbmwh...  active  \n",
       "1        new shtf discussion forum httpstcowzretpdwb  active  \n",
       "2  good time weekend twistedtea chevy texas call_...  active  \n",
       "3    proud geico dedication nascar httpstcouqxaszkrv  active  \n",
       "4  summer air call us get started custom swimming...  active  "
      ]
     },
     "execution_count": 5,
     "metadata": {},
     "output_type": "execute_result"
    }
   ],
   "source": [
    "df.head()"
   ]
  },
  {
   "cell_type": "markdown",
   "metadata": {},
   "source": [
    "# Naive Bayes Model"
   ]
  },
  {
   "cell_type": "markdown",
   "metadata": {},
   "source": [
    "We decided to build a model that determines the most characteristic words of active or lazy users. We will use a Naive Bayes Multinomial Model to predict the type of the user. We want to predict a category with labelled data and over 100K samples of text data, so it is appropriate to use Naive Bayes as a model."
   ]
  },
  {
   "cell_type": "code",
   "execution_count": 7,
   "metadata": {},
   "outputs": [],
   "source": [
    "# Store tweet dataset into feature matrix and response vector\n",
    "X_words = df['clean_text']\n",
    "y_words = df['type']\n",
    "\n",
    "# Instantiate CountVectorizer and TfidfVectorizer\n",
    "count_vect = CountVectorizer(min_df=1, ngram_range=(1, 2)) \n",
    "tfidf_vect = TfidfVectorizer(min_df=1, ngram_range=(1, 2))\n",
    "\n",
    "\n",
    "# Apply CountVectorizer \n",
    "X_count = count_vect.fit_transform(df['clean_text'].apply(str))\n",
    "X_count = X_count.tocsc() \n",
    "\n",
    "# Apply TfidfVectorizer\n",
    "X_tfidf = tfidf_vect.fit_transform(df['clean_text'].apply(str))\n",
    "X_tfidf = X_tfidf.tocsc()\n",
    "\n",
    "\n",
    "# Split train/test data for all data\n",
    "Xtrain_count, Xtest_count, ytrain_count, ytest_count = train_test_split(X_count, y_words, random_state=17)\n",
    "Xtrain_tfidf, Xtest_tfidf, ytrain_tfidf, ytest_tfidf = train_test_split(X_tfidf, y_words, random_state=17)"
   ]
  },
  {
   "cell_type": "code",
   "execution_count": 37,
   "metadata": {},
   "outputs": [],
   "source": [
    "def evaluate_model(xtest, ytest, clf):\n",
    "    \"\"\" \n",
    "    This function evaluates the effectiveness of a ML model and outputs F1 Scores, AUC score and Confusion Matrix\n",
    "    \"\"\"\n",
    "    # Make predictions for Xtest\n",
    "    y_pred = clf.predict(xtest)\n",
    "    \n",
    "    # Confusion matrix\n",
    "    cm = metrics.confusion_matrix(ytest, y_pred)\n",
    "    \n",
    "    print(classification_report(ytest, y_pred))\n",
    "    print('\\nConfusion Matrix:\\n', cm)"
   ]
  },
  {
   "cell_type": "code",
   "execution_count": null,
   "metadata": {},
   "outputs": [],
   "source": [
    "# Instantiate multinomialNB()\n",
    "nb_words_count = MultinomialNB(alpha=1, fit_prior=True)\n",
    "nb_words_tfidf = MultinomialNB(alpha=1, fit_prior=True)\n",
    "\n",
    "# Train model\n",
    "nb_words_count.fit(Xtrain_count, ytrain_count)\n",
    "nb_words_tfidf.fit(Xtrain_tfidf, ytrain_tfidf)"
   ]
  },
  {
   "cell_type": "code",
   "execution_count": 9,
   "metadata": {},
   "outputs": [
    {
     "name": "stdout",
     "output_type": "stream",
     "text": [
      "              precision    recall  f1-score   support\n",
      "\n",
      "      active       0.83      0.71      0.77     15523\n",
      "        lazy       0.70      0.82      0.76     12657\n",
      "\n",
      "    accuracy                           0.76     28180\n",
      "   macro avg       0.76      0.77      0.76     28180\n",
      "weighted avg       0.77      0.76      0.76     28180\n",
      "\n",
      "\n",
      "Confusion Matrix:\n",
      " [[11080  4443]\n",
      " [ 2285 10372]]\n"
     ]
    }
   ],
   "source": [
    "evaluate_model(Xtest_count, ytest_count, nb_words_count)"
   ]
  },
  {
   "cell_type": "markdown",
   "metadata": {},
   "source": [
    "The F1-score is 77%. The number of False Positives (2,285) is low compared to True Positives (11,080). True Negatives number (10,372) is also much higher than False Negatives (4,443)."
   ]
  },
  {
   "cell_type": "code",
   "execution_count": 10,
   "metadata": {},
   "outputs": [
    {
     "name": "stdout",
     "output_type": "stream",
     "text": [
      "              precision    recall  f1-score   support\n",
      "\n",
      "      active       0.71      0.90      0.79     15523\n",
      "        lazy       0.81      0.54      0.65     12657\n",
      "\n",
      "    accuracy                           0.74     28180\n",
      "   macro avg       0.76      0.72      0.72     28180\n",
      "weighted avg       0.75      0.74      0.73     28180\n",
      "\n",
      "\n",
      "Confusion Matrix:\n",
      " [[13911  1612]\n",
      " [ 5789  6868]]\n"
     ]
    }
   ],
   "source": [
    "evaluate_model(Xtest_tfidf, ytest_tfidf, nb_words_tfidf)"
   ]
  },
  {
   "cell_type": "markdown",
   "metadata": {},
   "source": [
    "The F-1 score is 77%. The proportion for False Positives to True Positives and False Negatives to True Negatives stay around the same."
   ]
  },
  {
   "cell_type": "markdown",
   "metadata": {},
   "source": [
    "Overall we can conclude that the model is good, but we will try to tune in the hyperparameter alpha to make the predictions even better."
   ]
  },
  {
   "cell_type": "code",
   "execution_count": 11,
   "metadata": {},
   "outputs": [
    {
     "data": {
      "text/plain": [
       "{'alpha': 1}"
      ]
     },
     "execution_count": 11,
     "metadata": {},
     "output_type": "execute_result"
    }
   ],
   "source": [
    "from sklearn.model_selection import GridSearchCV\n",
    "param_grid = {'alpha': (1,0.1,0.01,0.001,2,5,10,25)} \n",
    "\n",
    "multinom_cv = GridSearchCV(nb_words_count, param_grid, cv=5, scoring='roc_auc') \n",
    "multinom_cv.fit(Xtrain_count, ytrain_count) \n",
    "multinom_cv.best_params_"
   ]
  },
  {
   "cell_type": "code",
   "execution_count": 12,
   "metadata": {},
   "outputs": [
    {
     "data": {
      "text/plain": [
       "0.8421094523447299"
      ]
     },
     "execution_count": 12,
     "metadata": {},
     "output_type": "execute_result"
    }
   ],
   "source": [
    "multinom_cv.best_score_"
   ]
  },
  {
   "cell_type": "code",
   "execution_count": 13,
   "metadata": {},
   "outputs": [
    {
     "data": {
      "text/plain": [
       "{'alpha': 0.1}"
      ]
     },
     "execution_count": 13,
     "metadata": {},
     "output_type": "execute_result"
    }
   ],
   "source": [
    "from sklearn.model_selection import GridSearchCV\n",
    "param_grid = {'alpha': (1,0.1,0.01,0.001,2,5,10,25)} \n",
    "\n",
    "tdidf_multinom_cv = GridSearchCV(nb_words_tfidf, param_grid, cv=5, scoring='roc_auc') \n",
    "tdidf_multinom_cv.fit(Xtrain_tfidf, ytrain_tfidf) \n",
    "tdidf_multinom_cv.best_params_"
   ]
  },
  {
   "cell_type": "code",
   "execution_count": 14,
   "metadata": {},
   "outputs": [
    {
     "data": {
      "text/plain": [
       "0.8480343803693777"
      ]
     },
     "execution_count": 14,
     "metadata": {},
     "output_type": "execute_result"
    }
   ],
   "source": [
    "tdidf_multinom_cv.best_score_"
   ]
  },
  {
   "cell_type": "markdown",
   "metadata": {},
   "source": [
    "The ROC-AUC score has improved to 84% for both models."
   ]
  },
  {
   "cell_type": "markdown",
   "metadata": {},
   "source": [
    "## Feature Importances"
   ]
  },
  {
   "cell_type": "markdown",
   "metadata": {},
   "source": [
    "Let's review top 20 most important words for predicting the active users on twitter by using sklearn feature_importances_"
   ]
  },
  {
   "cell_type": "code",
   "execution_count": 14,
   "metadata": {},
   "outputs": [],
   "source": [
    "#regular model feature importances\n",
    "NB_optimal = MultinomialNB(alpha=1, fit_prior=True)\n",
    "NB_optimal=NB_optimal.fit(X_count, y_words)\n",
    "feature_names = count_vect.get_feature_names()\n",
    "\n",
    "# model with Term Frequency feature importances\n",
    "NBtdidf_optimal = MultinomialNB(alpha=0.1, fit_prior=True)\n",
    "NBtdidf_optimal = NBtdidf_optimal.fit(X_tfidf, y_words)\n",
    "feature_names_tdidf = tfidf_vect.get_feature_names()"
   ]
  },
  {
   "cell_type": "code",
   "execution_count": 18,
   "metadata": {},
   "outputs": [
    {
     "data": {
      "image/png": "[encoded data removed]",
      "text/plain": [
       "<Figure size 720x504 with 2 Axes>"
      ]
     },
     "metadata": {
      "needs_background": "light"
     },
     "output_type": "display_data"
    }
   ],
   "source": [
    "_ = plt.figure(figsize=(10,7))\n",
    "_ = plt.suptitle('Top 20 Words to Identify Active Users', fontsize=15)\n",
    "\n",
    "_ = plt.subplot(1,2,1)\n",
    "for i in sorted(zip(NB_optimal.coef_[0], feature_names), reverse = True)[:20]:\n",
    "    _ = plt.bar(i[1],i[0],color='blue')\n",
    "    _ = plt.title('Regular Model')\n",
    "    _ = plt.xlabel('Words')\n",
    "    _ = plt.xticks(rotation=90)\n",
    "    _ = plt.ylabel('Importance')\n",
    "    #_ = plt.tight_layout(pad=2)\n",
    "\n",
    "_ = plt.subplot(1,2,2)\n",
    "for i in sorted(zip(NBtdidf_optimal.coef_[0], feature_names_tdidf), reverse = True)[:20]:\n",
    "    _ = plt.bar(i[1],i[0], color='blue')\n",
    "    _ = plt.title('Term Frequency Model')\n",
    "    _ = plt.xlabel('Words')\n",
    "    _ = plt.xticks(rotation=90)\n",
    "    _ = plt.ylabel('Importance')\n",
    "\n",
    "_ = plt.subplots_adjust(wspace = 0.5, hspace = 0.2)\n",
    "_ = plt.savefig(fname='NB-Top Words')"
   ]
  },
  {
   "cell_type": "markdown",
   "metadata": {},
   "source": [
    "The coef_ attribute of MultinomialNB is a re-parameterization of the naive Bayes model as a linear classifier model. For a binary classification problems this is basically the log of the estimated probability of a feature given the positive class. It means that higher values mean more important features for the positive class. <br>\n",
    "In our case even the most highly rated words (features) have negative values, meaning that they are not highly predictive."
   ]
  },
  {
   "cell_type": "markdown",
   "metadata": {},
   "source": [
    "# Random Forest Model"
   ]
  },
  {
   "cell_type": "code",
   "execution_count": 32,
   "metadata": {},
   "outputs": [],
   "source": [
    "# Store tweet dataset into feature matrix and response vector\n",
    "X_words = df['clean_text']\n",
    "y_words = df['type']\n",
    "\n",
    "# Instantiate CountVectorizer and TfidfVectorizer\n",
    "count_vect = CountVectorizer(ngram_range=(1, 2), max_df=0.95, min_df=100) \n",
    "tfidf_vect = TfidfVectorizer(ngram_range=(1, 2), max_df=0.95, min_df=100)\n",
    "\n",
    "\n",
    "# Apply CountVectorizer \n",
    "X_count = count_vect.fit_transform(df['clean_text'].apply(str))\n",
    "X_count = X_count.tocsc() \n",
    "\n",
    "# Apply TfidfVectorizer\n",
    "X_tfidf = tfidf_vect.fit_transform(df['clean_text'].apply(str))\n",
    "X_tfidf = X_tfidf.tocsc()\n",
    "\n",
    "\n",
    "# Split train/test data for all data\n",
    "Xtrain_count, Xtest_count, ytrain_count, ytest_count = train_test_split(X_count, y_words, random_state=17)\n",
    "Xtrain_tfidf, Xtest_tfidf, ytrain_tfidf, ytest_tfidf = train_test_split(X_tfidf, y_words, random_state=17)"
   ]
  },
  {
   "cell_type": "code",
   "execution_count": 33,
   "metadata": {},
   "outputs": [],
   "source": [
    "# Instantiate and fit training data to Random Forest Model (CountVec)\n",
    "forest_clf_count = RandomForestClassifier(class_weight='balanced',\n",
    "                                     n_estimators=100, max_depth=5).fit(Xtrain_count, ytrain_count)\n",
    "\n",
    "# Instantiate and fit training data to Random Forest Model (TFIDF Vec)\n",
    "forest_clf_tfidf = RandomForestClassifier(class_weight='balanced',\n",
    "                                     n_estimators=100, max_depth=5).fit(Xtrain_tfidf, ytrain_tfidf)"
   ]
  },
  {
   "cell_type": "code",
   "execution_count": 38,
   "metadata": {},
   "outputs": [
    {
     "name": "stdout",
     "output_type": "stream",
     "text": [
      "              precision    recall  f1-score   support\n",
      "\n",
      "      active       0.78      0.46      0.58     15458\n",
      "        lazy       0.56      0.85      0.67     12713\n",
      "\n",
      "    accuracy                           0.63     28171\n",
      "   macro avg       0.67      0.65      0.62     28171\n",
      "weighted avg       0.68      0.63      0.62     28171\n",
      "\n",
      "\n",
      "Confusion Matrix:\n",
      " [[ 7036  8422]\n",
      " [ 1960 10753]]\n"
     ]
    }
   ],
   "source": [
    "evaluate_model(Xtest_count, ytest_count, forest_clf_count)"
   ]
  },
  {
   "cell_type": "code",
   "execution_count": 39,
   "metadata": {},
   "outputs": [
    {
     "name": "stdout",
     "output_type": "stream",
     "text": [
      "              precision    recall  f1-score   support\n",
      "\n",
      "      active       0.78      0.45      0.57     15458\n",
      "        lazy       0.56      0.85      0.67     12713\n",
      "\n",
      "    accuracy                           0.63     28171\n",
      "   macro avg       0.67      0.65      0.62     28171\n",
      "weighted avg       0.68      0.63      0.62     28171\n",
      "\n",
      "\n",
      "Confusion Matrix:\n",
      " [[ 6887  8571]\n",
      " [ 1891 10822]]\n"
     ]
    }
   ],
   "source": [
    "evaluate_model(Xtest_tfidf, ytest_tfidf, forest_clf_tfidf)"
   ]
  },
  {
   "cell_type": "code",
   "execution_count": 40,
   "metadata": {},
   "outputs": [
    {
     "data": {
      "text/plain": [
       "{'max_depth': 5, 'n_estimators': 100}"
      ]
     },
     "execution_count": 40,
     "metadata": {},
     "output_type": "execute_result"
    }
   ],
   "source": [
    "# tune in hyperparameters\n",
    "from sklearn.model_selection import GridSearchCV\n",
    "param_grid = {'n_estimators': [20,100]\n",
    "             ,'max_depth': [3,5]}\n",
    "             #,'min_samples_split': [2, 5]\n",
    "             #,'min_samples_leaf': [1, 3]\n",
    "             #,'min_weight_fraction_leaf': [0, 0.25]\n",
    "             #,'max_features': [5, 10, 20]} \n",
    "\n",
    "rf = RandomForestClassifier()\n",
    "rf_cv = GridSearchCV(rf, param_grid, cv=5, scoring='roc_auc') \n",
    "rf_cv.fit(Xtrain_count, ytrain_count) \n",
    "rf_cv.best_params_"
   ]
  },
  {
   "cell_type": "code",
   "execution_count": 41,
   "metadata": {},
   "outputs": [
    {
     "data": {
      "text/plain": [
       "0.711209750491625"
      ]
     },
     "execution_count": 41,
     "metadata": {},
     "output_type": "execute_result"
    }
   ],
   "source": [
    "rf_cv.best_score_"
   ]
  },
  {
   "cell_type": "code",
   "execution_count": 42,
   "metadata": {},
   "outputs": [
    {
     "data": {
      "text/plain": [
       "{'max_depth': 5, 'n_estimators': 100}"
      ]
     },
     "execution_count": 42,
     "metadata": {},
     "output_type": "execute_result"
    }
   ],
   "source": [
    "from sklearn.model_selection import GridSearchCV\n",
    "param_grid = {'n_estimators': [20,100]\n",
    "             ,'max_depth': [3, 5]}\n",
    "             #,'min_samples_split': [2, 5]\n",
    "             #,'min_samples_leaf': [1, 3]\n",
    "             #,'min_weight_fraction_leaf': [0, 0.25]\n",
    "             #,'max_features': [5, 10, 20]} \n",
    "\n",
    "rf = RandomForestClassifier()\n",
    "rf_cv_tfidf = GridSearchCV(rf, param_grid, cv=5, scoring='roc_auc') \n",
    "rf_cv_tfidf.fit(Xtrain_tfidf, ytrain_tfidf) \n",
    "rf_cv_tfidf.best_params_"
   ]
  },
  {
   "cell_type": "code",
   "execution_count": 43,
   "metadata": {},
   "outputs": [
    {
     "data": {
      "text/plain": [
       "0.7137916395548499"
      ]
     },
     "execution_count": 43,
     "metadata": {},
     "output_type": "execute_result"
    }
   ],
   "source": [
    "rf_cv_tfidf.best_score_"
   ]
  },
  {
   "cell_type": "code",
   "execution_count": 56,
   "metadata": {},
   "outputs": [],
   "source": [
    "#regular model feature importances\n",
    "rf_optimal = RandomForestClassifier(n_estimators= 100, max_depth = 5)\n",
    "rf_optimal=rf_optimal.fit(X_count, y_words)\n",
    "feature_names = np.array(count_vect.get_feature_names())\n",
    "\n",
    "# model with Term Frequency feature importances\n",
    "rftdidf_optimal = RandomForestClassifier(n_estimators=100 , max_depth = 5)\n",
    "rftdidf_optimal = rftdidf_optimal.fit(X_tfidf, y_words)\n",
    "feature_names_tfidf = np.array(tfidf_vect.get_feature_names())"
   ]
  },
  {
   "cell_type": "code",
   "execution_count": 54,
   "metadata": {},
   "outputs": [
    {
     "data": {
      "text/plain": [
       "array(['outdoor', 'outdoors', 'camp', 'visit', 'nature', 'latest', 'tips',\n",
       "       'great', 'camping', 'travel', 'hiking', 'learn', 'join', 'via',\n",
       "       'spring', 'thanks', 'adventure', 'check', 'park', 'hike'],\n",
       "      dtype='<U66')"
      ]
     },
     "execution_count": 54,
     "metadata": {},
     "output_type": "execute_result"
    }
   ],
   "source": [
    "# regular model\n",
    "x = np.eye(Xtest_count.shape[1])\n",
    "probs = rf_optimal.predict_proba(x)[:, 0]\n",
    "ind = np.argsort(probs)\n",
    "active_words = feature_names[ind[-20:]][::-1]\n",
    "active_prob = probs[ind[-20:]][::-1]\n",
    "active_words"
   ]
  },
  {
   "cell_type": "code",
   "execution_count": 57,
   "metadata": {},
   "outputs": [
    {
     "data": {
      "text/plain": [
       "array(['camp', 'outdoor', 'camping', 'trail', 'us', 'hiking', 'outdoors',\n",
       "       'nature', 'latest', 'fishing', 'park', 'visit', 'covid',\n",
       "       'available', 'adventure', 'learn', 'hike', 'spring', 'local',\n",
       "       'join'], dtype='<U66')"
      ]
     },
     "execution_count": 57,
     "metadata": {},
     "output_type": "execute_result"
    }
   ],
   "source": [
    "# tfidf model\n",
    "x_tfidf = np.eye(Xtest_tfidf.shape[1])\n",
    "probs_tfidf = rf_optimal.predict_proba(x_tfidf)[:, 0]\n",
    "ind = np.argsort(probs_tfidf)\n",
    "active_words_tfidf = feature_names_tfidf[ind[-20:]][::-1]\n",
    "active_prob_tfidf = probs[ind[-20:]][::-1]\n",
    "active_words_tfidf"
   ]
  },
  {
   "cell_type": "code",
   "execution_count": 58,
   "metadata": {},
   "outputs": [
    {
     "data": {
      "image/png": "[encoded data removed]",
      "text/plain": [
       "<Figure size 720x504 with 2 Axes>"
      ]
     },
     "metadata": {
      "needs_background": "light"
     },
     "output_type": "display_data"
    }
   ],
   "source": [
    "# plot top words \n",
    "_ = plt.figure(figsize=(10,7))\n",
    "_ = plt.suptitle('Top 20 Words to Identify Active Users', fontsize=15)\n",
    "\n",
    "_ = plt.subplot(1,2,1)\n",
    "for i in sorted(zip(active_prob,active_words), reverse=True)[:20]:\n",
    "    _ = plt.bar(i[1],i[0], color='blue')\n",
    "    _ = plt.title('Regular Model')\n",
    "    _ = plt.xlabel('Words')\n",
    "    _ = plt.xticks(rotation=90)\n",
    "    _ = plt.ylabel('Importance')\n",
    "    #_ = plt.tight_layout(pad=2)\n",
    "\n",
    "_ = plt.subplot(1,2,2)\n",
    "for i in sorted(zip(active_prob_tfidf,active_words_tfidf), reverse=True)[:20]:\n",
    "    _ = plt.bar(i[1],i[0], color='blue')\n",
    "    _ = plt.title('Term Frequency Model')\n",
    "    _ = plt.xlabel('Words')\n",
    "    _ = plt.xticks(rotation=90)\n",
    "    _ = plt.ylabel('Importance')\n",
    "\n",
    "_ = plt.subplots_adjust(wspace = 0.2, hspace = 0.2)\n",
    "_ = plt.savefig(fname='RF-Top Words')"
   ]
  },
  {
   "cell_type": "markdown",
   "metadata": {},
   "source": [
    "The Random Forest model shows that active users turned to nintendo switch games during quarantine."
   ]
  }
 ],
 "metadata": {
  "kernelspec": {
   "display_name": "Python 3",
   "language": "python",
   "name": "python3"
  },
  "language_info": {
   "codemirror_mode": {
    "name": "ipython",
    "version": 3
   },
   "file_extension": ".py",
   "mimetype": "text/x-python",
   "name": "python",
   "nbconvert_exporter": "python",
   "pygments_lexer": "ipython3",
   "version": "3.7.4"
  }
 },
 "nbformat": 4,
 "nbformat_minor": 2
}
