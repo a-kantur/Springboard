{
 "cells": [
  {
   "cell_type": "markdown",
   "metadata": {},
   "source": [
    "# 0. Collecting The Data"
   ]
  },
  {
   "cell_type": "markdown",
   "metadata": {},
   "source": [
    "## Uploading Modules"
   ]
  },
  {
   "cell_type": "code",
   "execution_count": 1,
   "metadata": {},
   "outputs": [],
   "source": [
    "import os\n",
    "import tweepy as tw\n",
    "import pandas as pd\n",
    "import datetime as dt"
   ]
  },
  {
   "cell_type": "markdown",
   "metadata": {},
   "source": [
    "## Loading Twitter Data"
   ]
  },
  {
   "cell_type": "code",
   "execution_count": 2,
   "metadata": {},
   "outputs": [],
   "source": [
    "consumer_key= 'LvRdHf5ngA2G8g0uEqJVJqNVC'\n",
    "consumer_secret= '5PTWfqrpTf7FywHgjPfdHJiMGGzaKME24q9ubAB78nMvmIH71z'\n",
    "access_token= '1194114471049887744-cWqTo2zFitH5qI3OmHcUCVqUD2v3f1'\n",
    "access_token_secret= 'CE50qralUcPKnFhnb586p7dg5otsF96s3mngX2eKvBW2g'"
   ]
  },
  {
   "cell_type": "code",
   "execution_count": 3,
   "metadata": {},
   "outputs": [],
   "source": [
    "auth = tw.OAuthHandler(consumer_key, consumer_secret)\n",
    "auth.set_access_token(access_token, access_token_secret)\n",
    "api = tw.API(auth, wait_on_rate_limit=True)"
   ]
  },
  {
   "cell_type": "code",
   "execution_count": 4,
   "metadata": {},
   "outputs": [
    {
     "data": {
      "text/html": [
       "<div>\n",
       "<style scoped>\n",
       "    .dataframe tbody tr th:only-of-type {\n",
       "        vertical-align: middle;\n",
       "    }\n",
       "\n",
       "    .dataframe tbody tr th {\n",
       "        vertical-align: top;\n",
       "    }\n",
       "\n",
       "    .dataframe thead th {\n",
       "        text-align: right;\n",
       "    }\n",
       "</style>\n",
       "<table border=\"1\" class=\"dataframe\">\n",
       "  <thead>\n",
       "    <tr style=\"text-align: right;\">\n",
       "      <th></th>\n",
       "      <th>user</th>\n",
       "      <th>type</th>\n",
       "      <th>keyword</th>\n",
       "    </tr>\n",
       "  </thead>\n",
       "  <tbody>\n",
       "    <tr>\n",
       "      <td>0</td>\n",
       "      <td>prattprattpratt</td>\n",
       "      <td>active</td>\n",
       "      <td>outdoor</td>\n",
       "    </tr>\n",
       "    <tr>\n",
       "      <td>1</td>\n",
       "      <td>OutdoorPhotoMag</td>\n",
       "      <td>active</td>\n",
       "      <td>outdoor</td>\n",
       "    </tr>\n",
       "    <tr>\n",
       "      <td>2</td>\n",
       "      <td>timkaine</td>\n",
       "      <td>active</td>\n",
       "      <td>outdoor</td>\n",
       "    </tr>\n",
       "    <tr>\n",
       "      <td>3</td>\n",
       "      <td>BrooklynDecker</td>\n",
       "      <td>active</td>\n",
       "      <td>outdoor</td>\n",
       "    </tr>\n",
       "    <tr>\n",
       "      <td>4</td>\n",
       "      <td>micky_norcross</td>\n",
       "      <td>active</td>\n",
       "      <td>outdoor</td>\n",
       "    </tr>\n",
       "  </tbody>\n",
       "</table>\n",
       "</div>"
      ],
      "text/plain": [
       "              user    type  keyword\n",
       "0  prattprattpratt  active  outdoor\n",
       "1  OutdoorPhotoMag  active  outdoor\n",
       "2         timkaine  active  outdoor\n",
       "3   BrooklynDecker  active  outdoor\n",
       "4   micky_norcross  active  outdoor"
      ]
     },
     "execution_count": 4,
     "metadata": {},
     "output_type": "execute_result"
    }
   ],
   "source": [
    "users=pd.read_csv('Twitter users.csv')\n",
    "users.head()"
   ]
  },
  {
   "cell_type": "code",
   "execution_count": 5,
   "metadata": {},
   "outputs": [],
   "source": [
    "active20_list = []\n",
    "active19_list = []\n",
    "start_date20=dt.datetime(2020, 3, 1, 0, 0, 0)\n",
    "start_date19=dt.datetime(2019, 3, 1, 0, 0, 0)\n",
    "end_date19=dt.datetime(2019, 4, 15, 0, 0, 0)"
   ]
  },
  {
   "cell_type": "code",
   "execution_count": 11,
   "metadata": {},
   "outputs": [],
   "source": [
    "### make tweet lists for active users\n",
    "active20_list = []\n",
    "active19_list = []\n",
    "\n",
    "for user in users.user[users.type=='active']:\n",
    "    try: # block raising TweepError: Twitter error response: status code = 401 for private users\n",
    "        tmpTweets = api.user_timeline(screen_name=user, include_rts=False, tweet_mode='extended')\n",
    "        for tweet in tmpTweets:\n",
    "            if tweet.created_at > start_date20:\n",
    "                array = [tweet._json[\"user\"],tweet._json[\"full_text\"].strip(), tweet._json[\"created_at\"]]\n",
    "                active20_list.append(array)\n",
    "            if tweet.created_at > start_date19 and tweet.created_at < end_date19:\n",
    "                array = [tweet._json[\"user\"],tweet._json[\"full_text\"].strip(), tweet._json[\"created_at\"]]\n",
    "                active19_list.append(array)\n",
    "    except:\n",
    "        pass"
   ]
  },
  {
   "cell_type": "code",
   "execution_count": 6,
   "metadata": {},
   "outputs": [],
   "source": [
    "### make tweet lists for lazy users\n",
    "lazy20_list = []\n",
    "lazy19_list = []\n",
    "\n",
    "for user in users.user[users.type=='lazy']:\n",
    "    try: # block raising TweepError: Twitter error response: status code = 401 for private users\n",
    "        tmpTweets = api.user_timeline(screen_name=user, include_rts=False, tweet_mode='extended')\n",
    "        for tweet in tmpTweets:\n",
    "            if tweet.created_at > start_date20:\n",
    "                array = [tweet._json[\"user\"],tweet._json[\"full_text\"].strip(), tweet._json[\"created_at\"]]\n",
    "                lazy20_list.append(array)\n",
    "            if tweet.created_at > start_date19 and tweet.created_at < end_date19:\n",
    "                array = [tweet._json[\"user\"],tweet._json[\"full_text\"].strip(), tweet._json[\"created_at\"]]\n",
    "                lazy19_list.append(array)\n",
    "    except:\n",
    "        pass"
   ]
  },
  {
   "cell_type": "code",
   "execution_count": null,
   "metadata": {},
   "outputs": [],
   "source": [
    "for user in users.user[users.type=='lazy']:\n",
    "    try:\n",
    "        tmpTweets = tw.Cursor(api.user_timeline, since = start_date19, until = end_date19, id=user,\n",
    "              include_rts=False, tweet_mode='extended').items(1000)\n",
    "        for tweet in tmpTweets:\n",
    "            if tweet._json[\"created_at\"] > start_date19:\n",
    "                array = [tweet._json[\"user\"],tweet._json[\"full_text\"].strip(), tweet._json[\"created_at\"]]\n",
    "                lazy19_list.append(array)\n",
    "            else:\n",
    "                pass\n",
    "    except:\n",
    "        pass"
   ]
  },
  {
   "cell_type": "code",
   "execution_count": 7,
   "metadata": {},
   "outputs": [],
   "source": [
    "# create a function to make a dataframe in the format we need:\n",
    "def make_df(my_list):\n",
    "    my_df = pd.DataFrame(my_list, columns=['screen_name',\"Text\",\"Created at\"])\n",
    "    my_df=my_df.drop(my_df.index[(my_df.Text.str.startswith('RT'))|(my_df.Text.str.startswith('@'))],axis=0)\n",
    "    my_df=my_df.reset_index()\n",
    "    for i in range(0, len(my_df)):\n",
    "        my_df.loc[i,'Date'] = pd.to_datetime(my_df.loc[i,'Created at'], format='%a %b %d %H:%M:%S +0000 %Y')\n",
    "        my_df.loc[i,'Name'] = my_df.loc[i,'screen_name']['screen_name']\n",
    "        my_df.loc[i,'Location'] = my_df.loc[i,'screen_name']['location']\n",
    "\n",
    "    my_df=my_df.drop(['index','screen_name','Created at'],axis=1)\n",
    "    my_df=my_df.reset_index()\n",
    "    return(my_df)"
   ]
  },
  {
   "cell_type": "code",
   "execution_count": 29,
   "metadata": {},
   "outputs": [],
   "source": [
    "#active20=make_df(active20_list)\n",
    "#active19=make_df(active19_list)\n",
    "#lazy20=make_df(lazy20_list)\n",
    "lazy19_2=make_df(lazy19_list)"
   ]
  },
  {
   "cell_type": "code",
   "execution_count": 31,
   "metadata": {},
   "outputs": [],
   "source": [
    "lazy19_2.reset_index().to_csv(\"lazy19_2.csv\")"
   ]
  },
  {
   "cell_type": "markdown",
   "metadata": {},
   "source": [
    "## Files for Future Use"
   ]
  },
  {
   "cell_type": "code",
   "execution_count": 9,
   "metadata": {},
   "outputs": [],
   "source": [
    "#save dataframes as csv for future analysis\n",
    "active20.reset_index().to_csv(\"active20.csv\")\n",
    "active19.reset_index().to_csv(\"active19.csv\")\n",
    "lazy20.reset_index().to_csv(\"lazy20.csv\")\n",
    "lazy19.reset_index().to_csv(\"lazy19.csv\")"
   ]
  }
 ],
 "metadata": {
  "kernelspec": {
   "display_name": "Python 3",
   "language": "python",
   "name": "python3"
  },
  "language_info": {
   "codemirror_mode": {
    "name": "ipython",
    "version": 3
   },
   "file_extension": ".py",
   "mimetype": "text/x-python",
   "name": "python",
   "nbconvert_exporter": "python",
   "pygments_lexer": "ipython3",
   "version": "3.7.4"
  }
 },
 "nbformat": 4,
 "nbformat_minor": 2
}
