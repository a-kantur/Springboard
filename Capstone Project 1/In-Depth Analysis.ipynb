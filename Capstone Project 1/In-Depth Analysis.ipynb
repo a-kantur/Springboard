{
 "cells": [
  {
   "cell_type": "markdown",
   "metadata": {},
   "source": [
    "# In-Depth Analysis "
   ]
  },
  {
   "cell_type": "markdown",
   "metadata": {},
   "source": [
    "## Loading Modules"
   ]
  },
  {
   "cell_type": "code",
   "execution_count": 1,
   "metadata": {},
   "outputs": [],
   "source": [
    "import pandas as pd\n",
    "import matplotlib.pyplot as plt\n",
    "import seaborn as sns\n",
    "import numpy as np\n",
    "from sklearn.model_selection import train_test_split "
   ]
  },
  {
   "cell_type": "markdown",
   "metadata": {},
   "source": [
    "## Importing the data"
   ]
  },
  {
   "cell_type": "code",
   "execution_count": 2,
   "metadata": {},
   "outputs": [],
   "source": [
    "recipes_df=pd.read_csv('recipes_df.csv')\n",
    "recipes_df.set_index('id', inplace=True)\n",
    "reviews_df=pd.read_csv('reviews_df.csv')\n",
    "reviews_df.set_index('recipe_id', inplace=True)\n",
    "tags_matrix=pd.read_csv('tags_matrix.csv')\n",
    "tags_matrix.set_index('id', inplace=True)\n",
    "ingredients_matrix=pd.read_csv('ingredients_matrix.csv')\n",
    "ingredients_matrix.set_index('id', inplace=True)"
   ]
  },
  {
   "cell_type": "code",
   "execution_count": 3,
   "metadata": {},
   "outputs": [
    {
     "data": {
      "image/png": "[encoded data removed]",
      "text/plain": [
       "<Figure size 720x720 with 1 Axes>"
      ]
     },
     "metadata": {
      "needs_background": "light"
     },
     "output_type": "display_data"
    }
   ],
   "source": [
    "_ = plt.figure(figsize=(10,10))\n",
    "x_range=[0.0,0.2,0.4,0.6,0.8,1.0,1.2,1.4,1.6,1.8,\n",
    "         2.0,2.2,2.4,2.6,2.8,3.0,3.2,3.4,3.6,3.8,\n",
    "         4.0,4.2,4.4,4.6,4.8,5.0]\n",
    "_ = plt.hist(reviews_df.groupby('recipe_id')['rating'].mean(), edgecolor='black', bins=25)#(len(x_range)-1)#np.arange(, 5, 0.20))\n",
    "_ = plt.title('Mean Recipe Rating Distribution')\n",
    "_ = plt.xlabel('Mean Recipe Rating')\n",
    "_ = plt.ylabel('Number of Recipes')\n",
    "_ = plt.xticks(x_range)\n",
    "_ = plt.axvline(x=4.2, linewidth=5, color='r')"
   ]
  },
  {
   "cell_type": "markdown",
   "metadata": {},
   "source": [
    "Based on the histogram above we decided to arbitrarily choose a mean rating of 4.2 as a threshold for \"good\" vs \"bad\" recipes."
   ]
  },
  {
   "cell_type": "code",
   "execution_count": 4,
   "metadata": {},
   "outputs": [
    {
     "name": "stdout",
     "output_type": "stream",
     "text": [
      "Number of \"good\" recipes with rating >=4.2 = 434232\n",
      "Number of \"bad\" recipes with rating < 4.2 = 143605\n"
     ]
    }
   ],
   "source": [
    "print('Number of \"good\" recipes with rating >=4.2 = '\n",
    "      +str(len(reviews_df.index[reviews_df.rating>=4.2]))+'\\n'\n",
    "      +'Number of \"bad\" recipes with rating < 4.2 = '\n",
    "      +str(len(reviews_df.index[reviews_df.rating < 4.2])))"
   ]
  },
  {
   "cell_type": "markdown",
   "metadata": {},
   "source": [
    "There are 3 times more recipes labeled as \"good\", so we have a class imbalance situation. It will impact our choice of model accuracy metrics later."
   ]
  },
  {
   "cell_type": "markdown",
   "metadata": {},
   "source": [
    "## Random Forest"
   ]
  },
  {
   "cell_type": "markdown",
   "metadata": {},
   "source": [
    "First, we need to create a combined_df containing all the features in one dataset."
   ]
  },
  {
   "cell_type": "code",
   "execution_count": 19,
   "metadata": {},
   "outputs": [
    {
     "data": {
      "text/html": [
       "<div>\n",
       "<style scoped>\n",
       "    .dataframe tbody tr th:only-of-type {\n",
       "        vertical-align: middle;\n",
       "    }\n",
       "\n",
       "    .dataframe tbody tr th {\n",
       "        vertical-align: top;\n",
       "    }\n",
       "\n",
       "    .dataframe thead th {\n",
       "        text-align: right;\n",
       "    }\n",
       "</style>\n",
       "<table border=\"1\" class=\"dataframe\">\n",
       "  <thead>\n",
       "    <tr style=\"text-align: right;\">\n",
       "      <th></th>\n",
       "      <th>minutes</th>\n",
       "      <th>n_steps</th>\n",
       "      <th>Calories</th>\n",
       "      <th>Total Fat</th>\n",
       "      <th>Sugars</th>\n",
       "      <th>Sodium</th>\n",
       "      <th>Protein</th>\n",
       "      <th>Saturated Fat</th>\n",
       "      <th>Total Carbohydrate</th>\n",
       "      <th>flour</th>\n",
       "      <th>...</th>\n",
       "      <th>'spreads'</th>\n",
       "      <th>'tropical-fruit'</th>\n",
       "      <th>'cauliflower'</th>\n",
       "      <th>'canning'</th>\n",
       "      <th>'15-minutes-or-less'</th>\n",
       "      <th>'mixer'</th>\n",
       "      <th>'chowders'</th>\n",
       "      <th>'pressure-canning'</th>\n",
       "      <th>'plums'</th>\n",
       "      <th>rating</th>\n",
       "    </tr>\n",
       "    <tr>\n",
       "      <th>id</th>\n",
       "      <th></th>\n",
       "      <th></th>\n",
       "      <th></th>\n",
       "      <th></th>\n",
       "      <th></th>\n",
       "      <th></th>\n",
       "      <th></th>\n",
       "      <th></th>\n",
       "      <th></th>\n",
       "      <th></th>\n",
       "      <th></th>\n",
       "      <th></th>\n",
       "      <th></th>\n",
       "      <th></th>\n",
       "      <th></th>\n",
       "      <th></th>\n",
       "      <th></th>\n",
       "      <th></th>\n",
       "      <th></th>\n",
       "      <th></th>\n",
       "      <th></th>\n",
       "    </tr>\n",
       "  </thead>\n",
       "  <tbody>\n",
       "    <tr>\n",
       "      <td>63986</td>\n",
       "      <td>500</td>\n",
       "      <td>5</td>\n",
       "      <td>105.7</td>\n",
       "      <td>8.0</td>\n",
       "      <td>0.0</td>\n",
       "      <td>26.0</td>\n",
       "      <td>5.0</td>\n",
       "      <td>4.0</td>\n",
       "      <td>3.0</td>\n",
       "      <td>1</td>\n",
       "      <td>...</td>\n",
       "      <td>0</td>\n",
       "      <td>0</td>\n",
       "      <td>0</td>\n",
       "      <td>0</td>\n",
       "      <td>0</td>\n",
       "      <td>0</td>\n",
       "      <td>0</td>\n",
       "      <td>0</td>\n",
       "      <td>0</td>\n",
       "      <td>4.368421</td>\n",
       "    </tr>\n",
       "    <tr>\n",
       "      <td>43026</td>\n",
       "      <td>45</td>\n",
       "      <td>9</td>\n",
       "      <td>94.0</td>\n",
       "      <td>10.0</td>\n",
       "      <td>0.0</td>\n",
       "      <td>11.0</td>\n",
       "      <td>11.0</td>\n",
       "      <td>21.0</td>\n",
       "      <td>0.0</td>\n",
       "      <td>0</td>\n",
       "      <td>...</td>\n",
       "      <td>0</td>\n",
       "      <td>0</td>\n",
       "      <td>0</td>\n",
       "      <td>0</td>\n",
       "      <td>0</td>\n",
       "      <td>0</td>\n",
       "      <td>0</td>\n",
       "      <td>0</td>\n",
       "      <td>0</td>\n",
       "      <td>4.045455</td>\n",
       "    </tr>\n",
       "    <tr>\n",
       "      <td>23933</td>\n",
       "      <td>15</td>\n",
       "      <td>4</td>\n",
       "      <td>232.7</td>\n",
       "      <td>21.0</td>\n",
       "      <td>77.0</td>\n",
       "      <td>4.0</td>\n",
       "      <td>6.0</td>\n",
       "      <td>38.0</td>\n",
       "      <td>8.0</td>\n",
       "      <td>0</td>\n",
       "      <td>...</td>\n",
       "      <td>0</td>\n",
       "      <td>0</td>\n",
       "      <td>0</td>\n",
       "      <td>0</td>\n",
       "      <td>0</td>\n",
       "      <td>0</td>\n",
       "      <td>0</td>\n",
       "      <td>0</td>\n",
       "      <td>0</td>\n",
       "      <td>4.833333</td>\n",
       "    </tr>\n",
       "  </tbody>\n",
       "</table>\n",
       "<p>3 rows × 654 columns</p>\n",
       "</div>"
      ],
      "text/plain": [
       "       minutes  n_steps  Calories  Total Fat  Sugars  Sodium  Protein  \\\n",
       "id                                                                      \n",
       "63986      500        5     105.7        8.0     0.0    26.0      5.0   \n",
       "43026       45        9      94.0       10.0     0.0    11.0     11.0   \n",
       "23933       15        4     232.7       21.0    77.0     4.0      6.0   \n",
       "\n",
       "       Saturated Fat  Total Carbohydrate  flour  ...   'spreads'  \\\n",
       "id                                               ...               \n",
       "63986            4.0                 3.0      1  ...           0   \n",
       "43026           21.0                 0.0      0  ...           0   \n",
       "23933           38.0                 8.0      0  ...           0   \n",
       "\n",
       "        'tropical-fruit'   'cauliflower'   'canning'   '15-minutes-or-less'  \\\n",
       "id                                                                            \n",
       "63986                  0               0           0                      0   \n",
       "43026                  0               0           0                      0   \n",
       "23933                  0               0           0                      0   \n",
       "\n",
       "        'mixer'   'chowders'   'pressure-canning'   'plums'    rating  \n",
       "id                                                                     \n",
       "63986         0            0                    0         0  4.368421  \n",
       "43026         0            0                    0         0  4.045455  \n",
       "23933         0            0                    0         0  4.833333  \n",
       "\n",
       "[3 rows x 654 columns]"
      ]
     },
     "execution_count": 19,
     "metadata": {},
     "output_type": "execute_result"
    }
   ],
   "source": [
    "combined_df=recipes_df[['minutes','n_steps','Calories','Total Fat','Sugars',\n",
    "           'Sodium','Protein','Saturated Fat',\n",
    "            'Total Carbohydrate']].merge(ingredients_matrix, right_index=True,left_index=True)\n",
    "combined_df=combined_df.merge(tags_matrix,right_index=True,left_index=True)\n",
    "combined_df=combined_df.join(avg_rating, how='left')\n",
    "combined_df.head(3)"
   ]
  },
  {
   "cell_type": "markdown",
   "metadata": {},
   "source": [
    "Now we have data with 653 features. Now let's use a Random Forest classifier on the dataset to classify the recipes as \"good\" (e.g. average rating > 4.2) or \"bad\"."
   ]
  },
  {
   "cell_type": "code",
   "execution_count": 43,
   "metadata": {},
   "outputs": [],
   "source": [
    "combined_df['rating1'] = combined_df.rating.apply(lambda x: 1 if x >= 4.2 else 0)\n",
    "samples=combined_df.iloc[:,:-2].values"
   ]
  },
  {
   "cell_type": "code",
   "execution_count": 70,
   "metadata": {},
   "outputs": [
    {
     "name": "stderr",
     "output_type": "stream",
     "text": [
      "C:\\Users\\anna_\\Anaconda3\\lib\\site-packages\\sklearn\\ensemble\\forest.py:245: FutureWarning: The default value of n_estimators will change from 10 in version 0.20 to 100 in 0.22.\n",
      "  \"10 in version 0.20 to 100 in 0.22.\", FutureWarning)\n"
     ]
    },
    {
     "name": "stdout",
     "output_type": "stream",
     "text": [
      "Classification Report:\n",
      "\n",
      "               precision    recall  f1-score   support\n",
      "\n",
      "           0       0.33      0.14      0.19      1166\n",
      "           1       0.80      0.93      0.86      4463\n",
      "\n",
      "    accuracy                           0.76      5629\n",
      "   macro avg       0.57      0.53      0.53      5629\n",
      "weighted avg       0.71      0.76      0.72      5629\n",
      "\n",
      "\n",
      "Confusion Matrix:\n",
      "\n",
      " [[ 159 1007]\n",
      " [ 327 4136]]\n",
      "\n",
      "Fbeta Score: 0.8260435390453366\n"
     ]
    }
   ],
   "source": [
    "from sklearn.ensemble import RandomForestClassifier\n",
    "rf = RandomForestClassifier()\n",
    "X=samples\n",
    "y=combined_df.rating1.values.astype(np.int)\n",
    "\n",
    "X_train, X_test, y_train, y_test = train_test_split(X, y,\n",
    "                                                    test_size = 0.3, random_state=42)\n",
    "\n",
    "y_pred = rf.fit(X_train,y_train).predict(X_test)\n",
    "\n",
    "from sklearn.metrics import confusion_matrix, classification_report, fbeta_score\n",
    "print(\"Classification Report:\\n\\n\",classification_report(y_test, y_pred, labels=[0, 1]))\n",
    "print(\"\\nConfusion Matrix:\\n\\n\",confusion_matrix(y_test, y_pred))\n",
    "print(\"\\nFbeta Score:\",fbeta_score(y_test, y_pred, beta=0.5))"
   ]
  },
  {
   "cell_type": "markdown",
   "metadata": {},
   "source": [
    "Random Forest model's F1 scores are slightly worse than those of tuned in Naive Bayes model (18% vs 22% on the training data, stayed same on the test data). The number of True Positives is higher in Random Forest (398 vs 365), but the number of True Negatives is lower (4,065 vs 4,098)"
   ]
  },
  {
   "cell_type": "markdown",
   "metadata": {},
   "source": [
    "### Feature Importances"
   ]
  },
  {
   "cell_type": "markdown",
   "metadata": {},
   "source": [
    "Let's review top 20 most important features by using sklearn feature_importances_"
   ]
  },
  {
   "cell_type": "code",
   "execution_count": 62,
   "metadata": {},
   "outputs": [
    {
     "name": "stdout",
     "output_type": "stream",
     "text": [
      "0 ('Sugars', 0.03647437868351507)\n",
      "1 ('Calories', 0.03335663059954855)\n",
      "2 ('minutes', 0.032325083244303936)\n",
      "3 ('Protein', 0.03216501938712848)\n",
      "4 ('Sodium', 0.02918910214413097)\n",
      "5 ('n_steps', 0.028909837834085322)\n",
      "6 ('Total Fat', 0.02865255769966964)\n",
      "7 ('Total Carbohydrate', 0.027698069065659355)\n",
      "8 ('Saturated Fat', 0.027534647161752687)\n",
      "9 ('salt', 0.007157547639489193)\n",
      "10 (\" 'occasion'\", 0.006609486694509244)\n",
      "11 (\" 'easy'\", 0.006517868291914836)\n",
      "12 (\" 'cuisine'\", 0.006407414491322801)\n",
      "13 (\" 'low-in-something'\", 0.006327640510926335)\n",
      "14 (\" 'number-of-servings'\", 0.006267027396586806)\n",
      "15 (\" 'equipment'\", 0.0059728176786675875)\n",
      "16 (\" 'taste-mood'\", 0.005692089915442195)\n",
      "17 ('oil', 0.005591656180447823)\n",
      "18 (\"'60-minutes-or-less'\", 0.0055337084192794385)\n",
      "19 ('flour', 0.005496337023658287)\n"
     ]
    }
   ],
   "source": [
    "zipped = zip(combined_df.iloc[:,:-2].columns,rf.feature_importances_)\n",
    "res = sorted(zipped, key = lambda x: x[1], reverse=True)\n",
    "for i in res[0:20]:\n",
    "    print(res.index(i), i)"
   ]
  },
  {
   "cell_type": "markdown",
   "metadata": {},
   "source": [
    "We can see that all nutritional values and an ingredient called \"salt\" are the top 10 most important features to predict the goodness of the recipe average rating."
   ]
  },
  {
   "cell_type": "markdown",
   "metadata": {},
   "source": [
    "### Tuning in Hyperparameters"
   ]
  },
  {
   "cell_type": "markdown",
   "metadata": {},
   "source": [
    "Let's see if we can improve Random Forest model's predictions by tuning in the hyperparameters:\n",
    "- n_estimators (default is 10 in our version of sklearn). \n",
    "- max_depth (default=None) The maximum depth of the tree. If None, then nodes are expanded until all leaves are pure or until all leaves contain less than min_samples_split samples.\n",
    "- min_samples_split (default=2) The minimum number of samples required to split an internal node\n",
    "- min_samples_leaf (default=1) The minimum number of samples required to be at a leaf node. A split point at any depth will only be considered if it leaves at least min_samples_leaf training samples in each of the left and right branches. This may have the effect of smoothing the model, especially in regression.\n",
    "- min_weight_fraction_leaf (default=0.) The minimum weighted fraction of the sum total of weights (of all the input samples) required to be at a leaf node. Samples have equal weight when sample_weight is not provided.\n",
    "- max_features (default=”auto”) The number of features to consider when looking for the best split \n",
    "\n",
    "<br> We will use GridSearch to tune in multiple parameters at a time, and will use ROC_AUC score as our accuracy metric."
   ]
  },
  {
   "cell_type": "code",
   "execution_count": 82,
   "metadata": {},
   "outputs": [
    {
     "data": {
      "text/plain": [
       "{'max_depth': 11,\n",
       " 'max_features': 20,\n",
       " 'min_samples_leaf': 3,\n",
       " 'min_samples_split': 2,\n",
       " 'min_weight_fraction_leaf': 0,\n",
       " 'n_estimators': 100}"
      ]
     },
     "execution_count": 82,
     "metadata": {},
     "output_type": "execute_result"
    }
   ],
   "source": [
    "from sklearn.model_selection import GridSearchCV\n",
    "param_grid = {'n_estimators': [10, 50, 100]\n",
    "             ,'max_depth': [3, 7, 11]\n",
    "             ,'min_samples_split': [2, 5]\n",
    "             ,'min_samples_leaf': [1, 3]\n",
    "             ,'min_weight_fraction_leaf': [0, 0.25]\n",
    "             ,'max_features': [5, 10, 20]} \n",
    "\n",
    "rf = RandomForestClassifier()\n",
    "rf_cv = GridSearchCV(rf, param_grid, cv=5, scoring='roc_auc') \n",
    "rf_cv.fit(X, y) \n",
    "rf_cv.best_params_"
   ]
  },
  {
   "cell_type": "code",
   "execution_count": 83,
   "metadata": {},
   "outputs": [
    {
     "data": {
      "text/plain": [
       "0.6332955223412016"
      ]
     },
     "execution_count": 83,
     "metadata": {},
     "output_type": "execute_result"
    }
   ],
   "source": [
    "rf_cv.best_score_"
   ]
  },
  {
   "cell_type": "markdown",
   "metadata": {},
   "source": [
    "The best combination of parameters produces the best average score of all cv folds equal to 63% with Random Forest classifier model."
   ]
  },
  {
   "cell_type": "markdown",
   "metadata": {},
   "source": [
    "## Logistic regression "
   ]
  },
  {
   "cell_type": "markdown",
   "metadata": {},
   "source": [
    "Let's use a Logistic Regression to predict recipe rating being 'good' or 'bad'"
   ]
  },
  {
   "cell_type": "code",
   "execution_count": 87,
   "metadata": {},
   "outputs": [
    {
     "name": "stderr",
     "output_type": "stream",
     "text": [
      "C:\\Users\\anna_\\Anaconda3\\lib\\site-packages\\sklearn\\linear_model\\logistic.py:432: FutureWarning: Default solver will be changed to 'lbfgs' in 0.22. Specify a solver to silence this warning.\n",
      "  FutureWarning)\n"
     ]
    }
   ],
   "source": [
    "from sklearn.linear_model import LogisticRegression\n",
    "from sklearn.model_selection import train_test_split\n",
    "logreg = LogisticRegression()\n",
    "X_train, X_test, y_train, y_test = train_test_split(X, y, test_size=0.4, random_state=42)\n",
    "logreg.fit(X_train, y_train)\n",
    "y_pred = logreg.predict(X_test)"
   ]
  },
  {
   "cell_type": "markdown",
   "metadata": {},
   "source": [
    "### Feature Importances"
   ]
  },
  {
   "cell_type": "markdown",
   "metadata": {},
   "source": [
    "Let's review top 20 most important features by using sklearn feature_importances_"
   ]
  },
  {
   "cell_type": "code",
   "execution_count": 89,
   "metadata": {},
   "outputs": [
    {
     "ename": "AttributeError",
     "evalue": "'LogisticRegression' object has no attribute 'feature_importances_'",
     "output_type": "error",
     "traceback": [
      "\u001b[1;31m---------------------------------------------------------------------------\u001b[0m",
      "\u001b[1;31mAttributeError\u001b[0m                            Traceback (most recent call last)",
      "\u001b[1;32m<ipython-input-89-2dbb7905764c>\u001b[0m in \u001b[0;36m<module>\u001b[1;34m\u001b[0m\n\u001b[1;32m----> 1\u001b[1;33m \u001b[0mzipped\u001b[0m \u001b[1;33m=\u001b[0m \u001b[0mzip\u001b[0m\u001b[1;33m(\u001b[0m\u001b[0mcombined_df\u001b[0m\u001b[1;33m.\u001b[0m\u001b[0miloc\u001b[0m\u001b[1;33m[\u001b[0m\u001b[1;33m:\u001b[0m\u001b[1;33m,\u001b[0m\u001b[1;33m:\u001b[0m\u001b[1;33m-\u001b[0m\u001b[1;36m2\u001b[0m\u001b[1;33m]\u001b[0m\u001b[1;33m.\u001b[0m\u001b[0mcolumns\u001b[0m\u001b[1;33m,\u001b[0m\u001b[0mlogreg\u001b[0m\u001b[1;33m.\u001b[0m\u001b[0mfeature_importances_\u001b[0m\u001b[1;33m)\u001b[0m\u001b[1;33m\u001b[0m\u001b[1;33m\u001b[0m\u001b[0m\n\u001b[0m\u001b[0;32m      2\u001b[0m \u001b[0mres\u001b[0m \u001b[1;33m=\u001b[0m \u001b[0msorted\u001b[0m\u001b[1;33m(\u001b[0m\u001b[0mzipped\u001b[0m\u001b[1;33m,\u001b[0m \u001b[0mkey\u001b[0m \u001b[1;33m=\u001b[0m \u001b[1;32mlambda\u001b[0m \u001b[0mx\u001b[0m\u001b[1;33m:\u001b[0m \u001b[0mx\u001b[0m\u001b[1;33m[\u001b[0m\u001b[1;36m1\u001b[0m\u001b[1;33m]\u001b[0m\u001b[1;33m,\u001b[0m \u001b[0mreverse\u001b[0m\u001b[1;33m=\u001b[0m\u001b[1;32mTrue\u001b[0m\u001b[1;33m)\u001b[0m\u001b[1;33m\u001b[0m\u001b[1;33m\u001b[0m\u001b[0m\n\u001b[0;32m      3\u001b[0m \u001b[1;32mfor\u001b[0m \u001b[0mi\u001b[0m \u001b[1;32min\u001b[0m \u001b[0mres\u001b[0m\u001b[1;33m[\u001b[0m\u001b[1;36m0\u001b[0m\u001b[1;33m:\u001b[0m\u001b[1;36m20\u001b[0m\u001b[1;33m]\u001b[0m\u001b[1;33m:\u001b[0m\u001b[1;33m\u001b[0m\u001b[1;33m\u001b[0m\u001b[0m\n\u001b[0;32m      4\u001b[0m     \u001b[0mprint\u001b[0m\u001b[1;33m(\u001b[0m\u001b[0mres\u001b[0m\u001b[1;33m.\u001b[0m\u001b[0mindex\u001b[0m\u001b[1;33m(\u001b[0m\u001b[0mi\u001b[0m\u001b[1;33m)\u001b[0m\u001b[1;33m,\u001b[0m \u001b[0mi\u001b[0m\u001b[1;33m)\u001b[0m\u001b[1;33m\u001b[0m\u001b[1;33m\u001b[0m\u001b[0m\n",
      "\u001b[1;31mAttributeError\u001b[0m: 'LogisticRegression' object has no attribute 'feature_importances_'"
     ]
    }
   ],
   "source": [
    "zipped = zip(combined_df.iloc[:,:-2].columns,logreg.feature_importances_)\n",
    "res = sorted(zipped, key = lambda x: x[1], reverse=True)\n",
    "for i in res[0:20]:\n",
    "    print(res.index(i), i)"
   ]
  },
  {
   "cell_type": "code",
   "execution_count": null,
   "metadata": {},
   "outputs": [],
   "source": []
  },
  {
   "cell_type": "code",
   "execution_count": null,
   "metadata": {},
   "outputs": [],
   "source": []
  },
  {
   "cell_type": "code",
   "execution_count": null,
   "metadata": {},
   "outputs": [],
   "source": []
  },
  {
   "cell_type": "code",
   "execution_count": null,
   "metadata": {},
   "outputs": [],
   "source": []
  }
 ],
 "metadata": {
  "kernelspec": {
   "display_name": "Python 3",
   "language": "python",
   "name": "python3"
  },
  "language_info": {
   "codemirror_mode": {
    "name": "ipython",
    "version": 3
   },
   "file_extension": ".py",
   "mimetype": "text/x-python",
   "name": "python",
   "nbconvert_exporter": "python",
   "pygments_lexer": "ipython3",
   "version": "3.7.4"
  }
 },
 "nbformat": 4,
 "nbformat_minor": 2
}
