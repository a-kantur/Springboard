{
 "cells": [
  {
   "cell_type": "markdown",
   "metadata": {},
   "source": [
    "# In-Depth Analysis "
   ]
  },
  {
   "cell_type": "markdown",
   "metadata": {},
   "source": [
    "## Loading Modules"
   ]
  },
  {
   "cell_type": "code",
   "execution_count": 1,
   "metadata": {},
   "outputs": [],
   "source": [
    "import pandas as pd\n",
    "import matplotlib.pyplot as plt\n",
    "import seaborn as sns\n",
    "import numpy as np\n",
    "from sklearn.model_selection import train_test_split "
   ]
  },
  {
   "cell_type": "markdown",
   "metadata": {},
   "source": [
    "## Importing the data"
   ]
  },
  {
   "cell_type": "code",
   "execution_count": 2,
   "metadata": {},
   "outputs": [],
   "source": [
    "recipes_df=pd.read_csv('recipes_df.csv')\n",
    "recipes_df.set_index('id', inplace=True)\n",
    "reviews_df=pd.read_csv('reviews_df.csv')\n",
    "reviews_df.set_index('recipe_id', inplace=True)\n",
    "tags_matrix=pd.read_csv('tags_matrix.csv')\n",
    "tags_matrix.set_index('id', inplace=True)\n",
    "ingredients_matrix=pd.read_csv('ingredients_matrix.csv')\n",
    "ingredients_matrix.set_index('id', inplace=True)"
   ]
  },
  {
   "cell_type": "code",
   "execution_count": 3,
   "metadata": {},
   "outputs": [
    {
     "data": {
      "image/png": "[encoded data removed]",
      "text/plain": [
       "<Figure size 720x720 with 1 Axes>"
      ]
     },
     "metadata": {
      "needs_background": "light"
     },
     "output_type": "display_data"
    }
   ],
   "source": [
    "_ = plt.figure(figsize=(10,10))\n",
    "x_range=[0.0,0.2,0.4,0.6,0.8,1.0,1.2,1.4,1.6,1.8,\n",
    "         2.0,2.2,2.4,2.6,2.8,3.0,3.2,3.4,3.6,3.8,\n",
    "         4.0,4.2,4.4,4.6,4.8,5.0]\n",
    "_ = plt.hist(reviews_df.groupby('recipe_id')['rating'].mean(), edgecolor='black', bins=25)#(len(x_range)-1)#np.arange(, 5, 0.20))\n",
    "_ = plt.title('Mean Recipe Rating Distribution')\n",
    "_ = plt.xlabel('Mean Recipe Rating')\n",
    "_ = plt.ylabel('Number of Recipes')\n",
    "_ = plt.xticks(x_range)\n",
    "_ = plt.axvline(x=4.2, linewidth=5, color='r')"
   ]
  },
  {
   "cell_type": "markdown",
   "metadata": {},
   "source": [
    "Based on the histogram above we decided to arbitrarily choose a mean rating of 4.2 as a threshold for \"good\" vs \"bad\" recipes."
   ]
  },
  {
   "cell_type": "code",
   "execution_count": 4,
   "metadata": {},
   "outputs": [
    {
     "name": "stdout",
     "output_type": "stream",
     "text": [
      "Number of \"good\" recipes with rating >=4.2 = 434232\n",
      "Number of \"bad\" recipes with rating < 4.2 = 143605\n"
     ]
    }
   ],
   "source": [
    "print('Number of \"good\" recipes with rating >=4.2 = '\n",
    "      +str(len(reviews_df.index[reviews_df.rating>=4.2]))+'\\n'\n",
    "      +'Number of \"bad\" recipes with rating < 4.2 = '\n",
    "      +str(len(reviews_df.index[reviews_df.rating < 4.2])))"
   ]
  },
  {
   "cell_type": "markdown",
   "metadata": {},
   "source": [
    "There are 3 times more recipes labeled as \"good\", so we have a class imbalance situation. It will impact our choice of model accuracy metrics later."
   ]
  },
  {
   "cell_type": "markdown",
   "metadata": {},
   "source": [
    "## Predicting Recipe Rating by Recipe Tags Using Naive Bayes"
   ]
  },
  {
   "cell_type": "markdown",
   "metadata": {},
   "source": [
    "We learned from the data analysis before that the recipe tags is one of the features of the recipes dataset, and that recipes with 'pressure-canning' tag has the worst rating.<br>\n",
    "We will dive deeper now and build a model to predict the recipe rating above or below 4.2 by  recipe tags."
   ]
  },
  {
   "cell_type": "markdown",
   "metadata": {},
   "source": [
    "In order to create the word vectors for all the tags present in a recipe, we can use tags_matrix with average recipe ratings that we built earlier."
   ]
  },
  {
   "cell_type": "code",
   "execution_count": 5,
   "metadata": {},
   "outputs": [
    {
     "data": {
      "text/html": [
       "<div>\n",
       "<style scoped>\n",
       "    .dataframe tbody tr th:only-of-type {\n",
       "        vertical-align: middle;\n",
       "    }\n",
       "\n",
       "    .dataframe tbody tr th {\n",
       "        vertical-align: top;\n",
       "    }\n",
       "\n",
       "    .dataframe thead th {\n",
       "        text-align: right;\n",
       "    }\n",
       "</style>\n",
       "<table border=\"1\" class=\"dataframe\">\n",
       "  <thead>\n",
       "    <tr style=\"text-align: right;\">\n",
       "      <th></th>\n",
       "      <th>'crusts-pastry-dough-2'</th>\n",
       "      <th>'april-fools-day'</th>\n",
       "      <th>'marinades-and-rubs'</th>\n",
       "      <th>'turkish'</th>\n",
       "      <th>'oamc-freezer-make-ahead'</th>\n",
       "      <th>'gifts'</th>\n",
       "      <th>'cooking-mixes'</th>\n",
       "      <th>'indonesian'</th>\n",
       "      <th>'breads'</th>\n",
       "      <th>'60-minutes-or-less'</th>\n",
       "      <th>...</th>\n",
       "      <th>'spreads'</th>\n",
       "      <th>'tropical-fruit'</th>\n",
       "      <th>'cauliflower'</th>\n",
       "      <th>'canning'</th>\n",
       "      <th>'15-minutes-or-less'</th>\n",
       "      <th>'mixer'</th>\n",
       "      <th>'chowders'</th>\n",
       "      <th>'pressure-canning'</th>\n",
       "      <th>'plums'</th>\n",
       "      <th>rating</th>\n",
       "    </tr>\n",
       "    <tr>\n",
       "      <th>id</th>\n",
       "      <th></th>\n",
       "      <th></th>\n",
       "      <th></th>\n",
       "      <th></th>\n",
       "      <th></th>\n",
       "      <th></th>\n",
       "      <th></th>\n",
       "      <th></th>\n",
       "      <th></th>\n",
       "      <th></th>\n",
       "      <th></th>\n",
       "      <th></th>\n",
       "      <th></th>\n",
       "      <th></th>\n",
       "      <th></th>\n",
       "      <th></th>\n",
       "      <th></th>\n",
       "      <th></th>\n",
       "      <th></th>\n",
       "      <th></th>\n",
       "      <th></th>\n",
       "    </tr>\n",
       "  </thead>\n",
       "  <tbody>\n",
       "    <tr>\n",
       "      <td>63986</td>\n",
       "      <td>0</td>\n",
       "      <td>0</td>\n",
       "      <td>0</td>\n",
       "      <td>0</td>\n",
       "      <td>0</td>\n",
       "      <td>0</td>\n",
       "      <td>0</td>\n",
       "      <td>0</td>\n",
       "      <td>0</td>\n",
       "      <td>0</td>\n",
       "      <td>...</td>\n",
       "      <td>0</td>\n",
       "      <td>0</td>\n",
       "      <td>0</td>\n",
       "      <td>0</td>\n",
       "      <td>0</td>\n",
       "      <td>0</td>\n",
       "      <td>0</td>\n",
       "      <td>0</td>\n",
       "      <td>0</td>\n",
       "      <td>4.368421</td>\n",
       "    </tr>\n",
       "    <tr>\n",
       "      <td>43026</td>\n",
       "      <td>0</td>\n",
       "      <td>0</td>\n",
       "      <td>0</td>\n",
       "      <td>0</td>\n",
       "      <td>1</td>\n",
       "      <td>0</td>\n",
       "      <td>0</td>\n",
       "      <td>0</td>\n",
       "      <td>0</td>\n",
       "      <td>1</td>\n",
       "      <td>...</td>\n",
       "      <td>0</td>\n",
       "      <td>0</td>\n",
       "      <td>0</td>\n",
       "      <td>0</td>\n",
       "      <td>0</td>\n",
       "      <td>0</td>\n",
       "      <td>0</td>\n",
       "      <td>0</td>\n",
       "      <td>0</td>\n",
       "      <td>4.045455</td>\n",
       "    </tr>\n",
       "    <tr>\n",
       "      <td>23933</td>\n",
       "      <td>0</td>\n",
       "      <td>0</td>\n",
       "      <td>0</td>\n",
       "      <td>0</td>\n",
       "      <td>0</td>\n",
       "      <td>0</td>\n",
       "      <td>0</td>\n",
       "      <td>0</td>\n",
       "      <td>0</td>\n",
       "      <td>0</td>\n",
       "      <td>...</td>\n",
       "      <td>0</td>\n",
       "      <td>0</td>\n",
       "      <td>0</td>\n",
       "      <td>0</td>\n",
       "      <td>0</td>\n",
       "      <td>0</td>\n",
       "      <td>0</td>\n",
       "      <td>0</td>\n",
       "      <td>0</td>\n",
       "      <td>4.833333</td>\n",
       "    </tr>\n",
       "  </tbody>\n",
       "</table>\n",
       "<p>3 rows × 496 columns</p>\n",
       "</div>"
      ],
      "text/plain": [
       "        'crusts-pastry-dough-2'   'april-fools-day'   'marinades-and-rubs'  \\\n",
       "id                                                                           \n",
       "63986                         0                   0                      0   \n",
       "43026                         0                   0                      0   \n",
       "23933                         0                   0                      0   \n",
       "\n",
       "        'turkish'   'oamc-freezer-make-ahead'   'gifts'   'cooking-mixes'  \\\n",
       "id                                                                          \n",
       "63986           0                           0         0                 0   \n",
       "43026           0                           1         0                 0   \n",
       "23933           0                           0         0                 0   \n",
       "\n",
       "        'indonesian'   'breads'  '60-minutes-or-less'  ...   'spreads'  \\\n",
       "id                                                     ...               \n",
       "63986              0          0                     0  ...           0   \n",
       "43026              0          0                     1  ...           0   \n",
       "23933              0          0                     0  ...           0   \n",
       "\n",
       "        'tropical-fruit'   'cauliflower'   'canning'   '15-minutes-or-less'  \\\n",
       "id                                                                            \n",
       "63986                  0               0           0                      0   \n",
       "43026                  0               0           0                      0   \n",
       "23933                  0               0           0                      0   \n",
       "\n",
       "        'mixer'   'chowders'   'pressure-canning'   'plums'    rating  \n",
       "id                                                                     \n",
       "63986         0            0                    0         0  4.368421  \n",
       "43026         0            0                    0         0  4.045455  \n",
       "23933         0            0                    0         0  4.833333  \n",
       "\n",
       "[3 rows x 496 columns]"
      ]
     },
     "execution_count": 5,
     "metadata": {},
     "output_type": "execute_result"
    }
   ],
   "source": [
    "avg_rating=reviews_df.groupby('recipe_id')['rating'].mean()\n",
    "tags_matrix_rating=tags_matrix.join(avg_rating, how='left')\n",
    "tags_matrix_rating.head(3)"
   ]
  },
  {
   "cell_type": "markdown",
   "metadata": {},
   "source": [
    "### Naive Bayes"
   ]
  },
  {
   "cell_type": "markdown",
   "metadata": {},
   "source": [
    "Let's use multinomial Naive Bayes model to predict if the recipe rating is >= 4.2. (We want to predict a category with labelled data and over 100K samples of text data, so it is appropriate to use this model.)"
   ]
  },
  {
   "cell_type": "code",
   "execution_count": 6,
   "metadata": {},
   "outputs": [
    {
     "name": "stdout",
     "output_type": "stream",
     "text": [
      "Classification Report:\n",
      "\n",
      "               precision    recall  f1-score   support\n",
      "\n",
      "           0       0.33      0.15      0.21      1166\n",
      "           1       0.81      0.92      0.86      4463\n",
      "\n",
      "    accuracy                           0.76      5629\n",
      "   macro avg       0.57      0.54      0.53      5629\n",
      "weighted avg       0.71      0.76      0.72      5629\n",
      "\n",
      "\n",
      "Confusion Matrix:\n",
      "\n",
      " [[ 180  986]\n",
      " [ 367 4096]]\n"
     ]
    }
   ],
   "source": [
    "X=tags_matrix_rating.iloc[:,:-1].values\n",
    "y=(tags_matrix_rating.rating >= 4.2).values.astype(np.float)\n",
    "\n",
    "from sklearn.model_selection import train_test_split\n",
    "from sklearn.naive_bayes import MultinomialNB\n",
    "\n",
    "X_train, X_test, y_train, y_test = train_test_split(X, y,\n",
    "                                                    test_size = 0.3, random_state=42) \n",
    "multinom = MultinomialNB()\n",
    "multinom.fit(X_train,y_train)\n",
    "y_pred = multinom.predict(X_test)\n",
    "\n",
    "\n",
    "from sklearn.metrics import confusion_matrix, classification_report\n",
    "print(\"Classification Report:\\n\\n\",classification_report(y_test, y_pred, labels=[0, 1]))\n",
    "print(\"\\nConfusion Matrix:\\n\\n\",confusion_matrix(y_test, y_pred))\n",
    "#training_accuracy = multinom.fit(X_train,y_train).score(X_train,y_train)\n",
    "#test_accuracy = multinom.fit(X_test,y_test).score(X_test,y_test)\n",
    "#print(\"Accuracy on training data: {:2f}\".format(training_accuracy))\n",
    "#print(\"Accuracy on test data:     {:2f}\".format(test_accuracy))"
   ]
  },
  {
   "cell_type": "markdown",
   "metadata": {},
   "source": [
    "The regular accuracy score is not a good metri to determine goodness of our model, because we have a class imbalance situation. F1 score will be a better metric, as it balances precision and recall.<br>\n",
    "From the confusion matrix that our model provides a good number of True Negatives (4,096), but also provides more False Positives than True Positives (367 > 180).<br>\n",
    "From the classification report we can see that the F1 score for prediction on the test data is 86%, which is higher than the F1 score on the training data (21%)."
   ]
  },
  {
   "cell_type": "markdown",
   "metadata": {},
   "source": [
    "In order to improve the model accuracy, we need to tune the hyperparameters: min_df and alpha.<br>\n",
    "- min_df represents the minimum number of recipes a tag must appear in for it to be included in the vocabulary <br>\n",
    "- alpha acts as a pseudo count for unseen tags. If alpha is too high, we will assign higher prior probability to unseen tags and add more bias towards the appearance of unseen tags"
   ]
  },
  {
   "cell_type": "code",
   "execution_count": 7,
   "metadata": {},
   "outputs": [
    {
     "data": {
      "image/png": "[encoded data removed]",
      "text/plain": [
       "<Figure size 720x504 with 1 Axes>"
      ]
     },
     "metadata": {
      "needs_background": "light"
     },
     "output_type": "display_data"
    }
   ],
   "source": [
    "tags_count = tags_matrix_rating.drop('rating', axis = 1).sum(axis = 0)\n",
    "fig, ax = plt.subplots(figsize = (10, 7))\n",
    "ax.hist(tags_count.loc[tags_count < 200, ], bins = 200)\n",
    "_ = plt.xlabel('Number of times a tag is used')\n",
    "_ = plt.ylabel('Count of recipes')\n",
    "_ = plt.title('Number of times a tag is used in recipes')\n",
    "ax.set_xlim(0, 200)\n",
    "plt.show()"
   ]
  },
  {
   "cell_type": "markdown",
   "metadata": {},
   "source": [
    "There are very many tags that appear only one time. Intuition tells that us those aren't valuable. Let's drop the tags that are present in only 2 recipes or less and rerun the model."
   ]
  },
  {
   "cell_type": "code",
   "execution_count": 29,
   "metadata": {},
   "outputs": [
    {
     "data": {
      "text/html": [
       "<div>\n",
       "<style scoped>\n",
       "    .dataframe tbody tr th:only-of-type {\n",
       "        vertical-align: middle;\n",
       "    }\n",
       "\n",
       "    .dataframe tbody tr th {\n",
       "        vertical-align: top;\n",
       "    }\n",
       "\n",
       "    .dataframe thead th {\n",
       "        text-align: right;\n",
       "    }\n",
       "</style>\n",
       "<table border=\"1\" class=\"dataframe\">\n",
       "  <thead>\n",
       "    <tr style=\"text-align: right;\">\n",
       "      <th></th>\n",
       "      <th>'crusts-pastry-dough-2'</th>\n",
       "      <th>'marinades-and-rubs'</th>\n",
       "      <th>'turkish'</th>\n",
       "      <th>'oamc-freezer-make-ahead'</th>\n",
       "      <th>'gifts'</th>\n",
       "      <th>'cooking-mixes'</th>\n",
       "      <th>'indonesian'</th>\n",
       "      <th>'breads'</th>\n",
       "      <th>'60-minutes-or-less'</th>\n",
       "      <th>'penne'</th>\n",
       "      <th>...</th>\n",
       "      <th>'spreads'</th>\n",
       "      <th>'tropical-fruit'</th>\n",
       "      <th>'cauliflower'</th>\n",
       "      <th>'canning'</th>\n",
       "      <th>'15-minutes-or-less'</th>\n",
       "      <th>'mixer'</th>\n",
       "      <th>'chowders'</th>\n",
       "      <th>'pressure-canning'</th>\n",
       "      <th>'plums'</th>\n",
       "      <th>rating</th>\n",
       "    </tr>\n",
       "    <tr>\n",
       "      <th>id</th>\n",
       "      <th></th>\n",
       "      <th></th>\n",
       "      <th></th>\n",
       "      <th></th>\n",
       "      <th></th>\n",
       "      <th></th>\n",
       "      <th></th>\n",
       "      <th></th>\n",
       "      <th></th>\n",
       "      <th></th>\n",
       "      <th></th>\n",
       "      <th></th>\n",
       "      <th></th>\n",
       "      <th></th>\n",
       "      <th></th>\n",
       "      <th></th>\n",
       "      <th></th>\n",
       "      <th></th>\n",
       "      <th></th>\n",
       "      <th></th>\n",
       "      <th></th>\n",
       "    </tr>\n",
       "  </thead>\n",
       "  <tbody>\n",
       "    <tr>\n",
       "      <td>63986</td>\n",
       "      <td>0</td>\n",
       "      <td>0</td>\n",
       "      <td>0</td>\n",
       "      <td>0</td>\n",
       "      <td>0</td>\n",
       "      <td>0</td>\n",
       "      <td>0</td>\n",
       "      <td>0</td>\n",
       "      <td>0</td>\n",
       "      <td>0</td>\n",
       "      <td>...</td>\n",
       "      <td>0</td>\n",
       "      <td>0</td>\n",
       "      <td>0</td>\n",
       "      <td>0</td>\n",
       "      <td>0</td>\n",
       "      <td>0</td>\n",
       "      <td>0</td>\n",
       "      <td>0</td>\n",
       "      <td>0</td>\n",
       "      <td>4.368421</td>\n",
       "    </tr>\n",
       "    <tr>\n",
       "      <td>43026</td>\n",
       "      <td>0</td>\n",
       "      <td>0</td>\n",
       "      <td>0</td>\n",
       "      <td>1</td>\n",
       "      <td>0</td>\n",
       "      <td>0</td>\n",
       "      <td>0</td>\n",
       "      <td>0</td>\n",
       "      <td>1</td>\n",
       "      <td>0</td>\n",
       "      <td>...</td>\n",
       "      <td>0</td>\n",
       "      <td>0</td>\n",
       "      <td>0</td>\n",
       "      <td>0</td>\n",
       "      <td>0</td>\n",
       "      <td>0</td>\n",
       "      <td>0</td>\n",
       "      <td>0</td>\n",
       "      <td>0</td>\n",
       "      <td>4.045455</td>\n",
       "    </tr>\n",
       "    <tr>\n",
       "      <td>23933</td>\n",
       "      <td>0</td>\n",
       "      <td>0</td>\n",
       "      <td>0</td>\n",
       "      <td>0</td>\n",
       "      <td>0</td>\n",
       "      <td>0</td>\n",
       "      <td>0</td>\n",
       "      <td>0</td>\n",
       "      <td>0</td>\n",
       "      <td>0</td>\n",
       "      <td>...</td>\n",
       "      <td>0</td>\n",
       "      <td>0</td>\n",
       "      <td>0</td>\n",
       "      <td>0</td>\n",
       "      <td>0</td>\n",
       "      <td>0</td>\n",
       "      <td>0</td>\n",
       "      <td>0</td>\n",
       "      <td>0</td>\n",
       "      <td>4.833333</td>\n",
       "    </tr>\n",
       "  </tbody>\n",
       "</table>\n",
       "<p>3 rows × 461 columns</p>\n",
       "</div>"
      ],
      "text/plain": [
       "        'crusts-pastry-dough-2'   'marinades-and-rubs'   'turkish'  \\\n",
       "id                                                                   \n",
       "63986                         0                      0           0   \n",
       "43026                         0                      0           0   \n",
       "23933                         0                      0           0   \n",
       "\n",
       "        'oamc-freezer-make-ahead'   'gifts'   'cooking-mixes'   'indonesian'  \\\n",
       "id                                                                             \n",
       "63986                           0         0                 0              0   \n",
       "43026                           1         0                 0              0   \n",
       "23933                           0         0                 0              0   \n",
       "\n",
       "        'breads'  '60-minutes-or-less'   'penne'  ...   'spreads'  \\\n",
       "id                                                ...               \n",
       "63986          0                     0         0  ...           0   \n",
       "43026          0                     1         0  ...           0   \n",
       "23933          0                     0         0  ...           0   \n",
       "\n",
       "        'tropical-fruit'   'cauliflower'   'canning'   '15-minutes-or-less'  \\\n",
       "id                                                                            \n",
       "63986                  0               0           0                      0   \n",
       "43026                  0               0           0                      0   \n",
       "23933                  0               0           0                      0   \n",
       "\n",
       "        'mixer'   'chowders'   'pressure-canning'   'plums'    rating  \n",
       "id                                                                     \n",
       "63986         0            0                    0         0  4.368421  \n",
       "43026         0            0                    0         0  4.045455  \n",
       "23933         0            0                    0         0  4.833333  \n",
       "\n",
       "[3 rows x 461 columns]"
      ]
     },
     "execution_count": 29,
     "metadata": {},
     "output_type": "execute_result"
    }
   ],
   "source": [
    "tags_matrix_rating1 = tags_matrix_rating.drop(tags_count[tags_count < 3].index, axis = 1)\n",
    "tags_matrix_rating1.head(3)"
   ]
  },
  {
   "cell_type": "code",
   "execution_count": 30,
   "metadata": {},
   "outputs": [
    {
     "name": "stdout",
     "output_type": "stream",
     "text": [
      "Classification Report:\n",
      "\n",
      "               precision    recall  f1-score   support\n",
      "\n",
      "           0       0.34      0.16      0.22      1166\n",
      "           1       0.81      0.92      0.86      4463\n",
      "\n",
      "    accuracy                           0.76      5629\n",
      "   macro avg       0.57      0.54      0.54      5629\n",
      "weighted avg       0.71      0.76      0.73      5629\n",
      "\n",
      "\n",
      "Confusion Matrix:\n",
      "\n",
      " [[ 185  981]\n",
      " [ 365 4098]]\n"
     ]
    }
   ],
   "source": [
    "X1=tags_matrix_rating1.iloc[:,:-1].values\n",
    "y1=(tags_matrix_rating1.rating >= 4.2).values.astype(np.float)\n",
    "\n",
    "X_train, X_test, y_train, y_test = train_test_split(X1, y1,\n",
    "                                                    test_size = 0.3, random_state=42) \n",
    "multinom = MultinomialNB()\n",
    "multinom.fit(X_train,y_train)\n",
    "y_pred = multinom.predict(X_test)\n",
    "multinom.score(X_test, y_test)\n",
    "\n",
    "\n",
    "from sklearn.metrics import confusion_matrix, classification_report\n",
    "print(\"Classification Report:\\n\\n\",classification_report(y_test, y_pred, labels=[0, 1]))\n",
    "print(\"\\nConfusion Matrix:\\n\\n\",confusion_matrix(y_test, y_pred))"
   ]
  },
  {
   "cell_type": "markdown",
   "metadata": {},
   "source": [
    "By removing the tags present in less than 3 recipes the F1 score improved slightly on the training data (21% to 22%) and did not improve on the test data. "
   ]
  },
  {
   "cell_type": "markdown",
   "metadata": {},
   "source": [
    "Alpha is chosen to be a small value that simply avoids having zeros in the probability computations. We will use K-fold cross validation to find the best parameter alpha. In K-fold cross-validation, we divide the data into $K$ non-overlapping parts. We train on $K-1$ of the folds and test on the remaining fold. We then iterate, so that each fold serves as the test fold exactly once. The function `cv_score` performs the K-fold cross-validation algorithm for us, but we need to pass a function that measures the performance of the algorithm on each fold. "
   ]
  },
  {
   "cell_type": "code",
   "execution_count": 10,
   "metadata": {},
   "outputs": [],
   "source": [
    "from sklearn.model_selection import KFold\n",
    "def cv_score(clf, X, y, scorefunc):\n",
    "    result = 0.\n",
    "    nfold = 5\n",
    "    for train, test in KFold(nfold).split(X): # split data into train/test groups, 5 times\n",
    "        clf.fit(X[train], y[train]) # fit the classifier, passed is as clf.\n",
    "        result += scorefunc(clf, X[test], y[test]) # evaluate score function on held-out data\n",
    "    return result / nfold # average"
   ]
  },
  {
   "cell_type": "markdown",
   "metadata": {},
   "source": [
    "We use the log-likelihood as the score here in `scorefunc`. The higher the log-likelihood, the better. Indeed, what we do in `cv_score` above is to implement the cross-validation part of `GridSearchCV`."
   ]
  },
  {
   "cell_type": "code",
   "execution_count": 11,
   "metadata": {},
   "outputs": [],
   "source": [
    "def log_likelihood(clf, X, y):\n",
    "    prob = clf.predict_log_proba(X)\n",
    "    bad = y == 0\n",
    "    good = ~bad\n",
    "    return prob[bad, 0].sum() + prob[good, 1].sum()"
   ]
  },
  {
   "cell_type": "code",
   "execution_count": 12,
   "metadata": {},
   "outputs": [],
   "source": [
    "from sklearn.feature_extraction.text import CountVectorizer\n",
    "def make_xy(df, vectorizer=None):#CountVectorizer()):    \n",
    "    #X = vectorizer.fit_transform(df.iloc[:,:-1])\n",
    "    X = np.array(tags_matrix_rating.iloc[:,:-1])\n",
    "    #X = X.tocsc()  # some versions of sklearn return COO format\n",
    "    y = (df.rating >= 4.2).values.astype(np.float)\n",
    "    return X, y\n",
    "X, y = make_xy(tags_matrix_rating)"
   ]
  },
  {
   "cell_type": "code",
   "execution_count": 13,
   "metadata": {},
   "outputs": [
    {
     "data": {
      "text/plain": [
       "(18762, 495)"
      ]
     },
     "execution_count": 13,
     "metadata": {},
     "output_type": "execute_result"
    }
   ],
   "source": [
    "X.shape"
   ]
  },
  {
   "cell_type": "code",
   "execution_count": 14,
   "metadata": {},
   "outputs": [
    {
     "data": {
      "text/plain": [
       "(18762,)"
      ]
     },
     "execution_count": 14,
     "metadata": {},
     "output_type": "execute_result"
    }
   ],
   "source": [
    "y.shape"
   ]
  },
  {
   "cell_type": "code",
   "execution_count": 15,
   "metadata": {},
   "outputs": [],
   "source": [
    "from sklearn.model_selection import train_test_split\n",
    "_, itest = train_test_split(range(tags_matrix_rating.shape[0]), train_size=0.7)\n",
    "mask = np.zeros(tags_matrix_rating.shape[0], dtype=np.bool)\n",
    "mask[itest] = True"
   ]
  },
  {
   "cell_type": "markdown",
   "metadata": {},
   "source": [
    "We will now cross-validate over the regularization parameter alpha."
   ]
  },
  {
   "cell_type": "code",
   "execution_count": 32,
   "metadata": {},
   "outputs": [
    {
     "data": {
      "text/plain": [
       "{0.1: -690.3019932618802,\n",
       " 1: -664.4383922997715,\n",
       " 5: -673.2055520443728,\n",
       " 10: -764.5360703482542,\n",
       " 50: -1790.2611910538712}"
      ]
     },
     "execution_count": 32,
     "metadata": {},
     "output_type": "execute_result"
    }
   ],
   "source": [
    "from sklearn.naive_bayes import MultinomialNB\n",
    "\n",
    "#the grid of parameters to search over\n",
    "alphas = [.1, 1, 5, 10, 50]\n",
    "best_min_df = 3 # value of best min_df \n",
    "\n",
    "#Find the best value for alpha and min_df, and the best classifier\n",
    "best_alpha = None\n",
    "maxscore=-np.inf\n",
    "accuracy = []\n",
    "for alpha in alphas:        \n",
    "    vectorizer = CountVectorizer(min_df=best_min_df)       \n",
    "    Xthis, ythis = make_xy(tags_matrix_rating, vectorizer)\n",
    "    Xtrainthis = Xthis[mask]\n",
    "    ytrainthis = ythis[mask]\n",
    "    #model to be used\n",
    "    mlb = MultinomialNB(alpha=alpha)\n",
    "    #fitting data\n",
    "    accuracy.append(cv_score(mlb,Xtrainthis,ytrainthis,log_likelihood))\n",
    "accuracy_alpha = dict(zip(alphas,accuracy))\n",
    "accuracy_alpha"
   ]
  },
  {
   "cell_type": "code",
   "execution_count": 33,
   "metadata": {},
   "outputs": [
    {
     "name": "stdout",
     "output_type": "stream",
     "text": [
      "best alpha: 1\n"
     ]
    }
   ],
   "source": [
    "best_alpha = max(accuracy_alpha,key=accuracy_alpha.get)\n",
    "print(\"best alpha: {}\".format(best_alpha))"
   ]
  },
  {
   "cell_type": "markdown",
   "metadata": {},
   "source": [
    "Let's calculate the accuracy on the training and test sets using the best value of `alpha`=1 "
   ]
  },
  {
   "cell_type": "code",
   "execution_count": 35,
   "metadata": {},
   "outputs": [
    {
     "name": "stdout",
     "output_type": "stream",
     "text": [
      "Classification Report:\n",
      "\n",
      "               precision    recall  f1-score   support\n",
      "\n",
      "           0       0.34      0.16      0.22      1166\n",
      "           1       0.81      0.92      0.86      4463\n",
      "\n",
      "    accuracy                           0.76      5629\n",
      "   macro avg       0.57      0.54      0.54      5629\n",
      "weighted avg       0.71      0.76      0.73      5629\n",
      "\n",
      "\n",
      "Confusion Matrix:\n",
      "\n",
      " [[ 185  981]\n",
      " [ 365 4098]]\n"
     ]
    }
   ],
   "source": [
    "vectorizer = CountVectorizer(min_df=best_min_df)\n",
    "X, y = make_xy(tags_matrix_rating, vectorizer)\n",
    "xtrain=X[mask]\n",
    "ytrain=y[mask]\n",
    "xtest=X[~mask]\n",
    "ytest=y[~mask]\n",
    "\n",
    "clf = MultinomialNB(alpha=best_alpha).fit(xtrain, ytrain)\n",
    "\n",
    "from sklearn.metrics import confusion_matrix, classification_report\n",
    "print(\"Classification Report:\\n\\n\",classification_report(y_test, y_pred, labels=[0, 1]))\n",
    "print(\"\\nConfusion Matrix:\\n\\n\",confusion_matrix(y_test, y_pred))"
   ]
  },
  {
   "cell_type": "markdown",
   "metadata": {},
   "source": [
    "After tuning in the hyperparameters, the model improved slightly with F1 score improvement of 1% on the training data and the number of True Positives increasing from 180 to 185. "
   ]
  },
  {
   "cell_type": "markdown",
   "metadata": {},
   "source": [
    "## Random Forest"
   ]
  },
  {
   "cell_type": "markdown",
   "metadata": {},
   "source": [
    "Let's now predict recipe rating using a Random Forest Classifier.  \n",
    "We need to create a combined_df containing all the feature columns first."
   ]
  },
  {
   "cell_type": "code",
   "execution_count": 19,
   "metadata": {},
   "outputs": [
    {
     "data": {
      "text/html": [
       "<div>\n",
       "<style scoped>\n",
       "    .dataframe tbody tr th:only-of-type {\n",
       "        vertical-align: middle;\n",
       "    }\n",
       "\n",
       "    .dataframe tbody tr th {\n",
       "        vertical-align: top;\n",
       "    }\n",
       "\n",
       "    .dataframe thead th {\n",
       "        text-align: right;\n",
       "    }\n",
       "</style>\n",
       "<table border=\"1\" class=\"dataframe\">\n",
       "  <thead>\n",
       "    <tr style=\"text-align: right;\">\n",
       "      <th></th>\n",
       "      <th>minutes</th>\n",
       "      <th>n_steps</th>\n",
       "      <th>Calories</th>\n",
       "      <th>Total Fat</th>\n",
       "      <th>Sugars</th>\n",
       "      <th>Sodium</th>\n",
       "      <th>Protein</th>\n",
       "      <th>Saturated Fat</th>\n",
       "      <th>Total Carbohydrate</th>\n",
       "      <th>flour</th>\n",
       "      <th>...</th>\n",
       "      <th>'spreads'</th>\n",
       "      <th>'tropical-fruit'</th>\n",
       "      <th>'cauliflower'</th>\n",
       "      <th>'canning'</th>\n",
       "      <th>'15-minutes-or-less'</th>\n",
       "      <th>'mixer'</th>\n",
       "      <th>'chowders'</th>\n",
       "      <th>'pressure-canning'</th>\n",
       "      <th>'plums'</th>\n",
       "      <th>rating</th>\n",
       "    </tr>\n",
       "    <tr>\n",
       "      <th>id</th>\n",
       "      <th></th>\n",
       "      <th></th>\n",
       "      <th></th>\n",
       "      <th></th>\n",
       "      <th></th>\n",
       "      <th></th>\n",
       "      <th></th>\n",
       "      <th></th>\n",
       "      <th></th>\n",
       "      <th></th>\n",
       "      <th></th>\n",
       "      <th></th>\n",
       "      <th></th>\n",
       "      <th></th>\n",
       "      <th></th>\n",
       "      <th></th>\n",
       "      <th></th>\n",
       "      <th></th>\n",
       "      <th></th>\n",
       "      <th></th>\n",
       "      <th></th>\n",
       "    </tr>\n",
       "  </thead>\n",
       "  <tbody>\n",
       "    <tr>\n",
       "      <td>63986</td>\n",
       "      <td>500</td>\n",
       "      <td>5</td>\n",
       "      <td>105.7</td>\n",
       "      <td>8.0</td>\n",
       "      <td>0.0</td>\n",
       "      <td>26.0</td>\n",
       "      <td>5.0</td>\n",
       "      <td>4.0</td>\n",
       "      <td>3.0</td>\n",
       "      <td>1</td>\n",
       "      <td>...</td>\n",
       "      <td>0</td>\n",
       "      <td>0</td>\n",
       "      <td>0</td>\n",
       "      <td>0</td>\n",
       "      <td>0</td>\n",
       "      <td>0</td>\n",
       "      <td>0</td>\n",
       "      <td>0</td>\n",
       "      <td>0</td>\n",
       "      <td>4.368421</td>\n",
       "    </tr>\n",
       "    <tr>\n",
       "      <td>43026</td>\n",
       "      <td>45</td>\n",
       "      <td>9</td>\n",
       "      <td>94.0</td>\n",
       "      <td>10.0</td>\n",
       "      <td>0.0</td>\n",
       "      <td>11.0</td>\n",
       "      <td>11.0</td>\n",
       "      <td>21.0</td>\n",
       "      <td>0.0</td>\n",
       "      <td>0</td>\n",
       "      <td>...</td>\n",
       "      <td>0</td>\n",
       "      <td>0</td>\n",
       "      <td>0</td>\n",
       "      <td>0</td>\n",
       "      <td>0</td>\n",
       "      <td>0</td>\n",
       "      <td>0</td>\n",
       "      <td>0</td>\n",
       "      <td>0</td>\n",
       "      <td>4.045455</td>\n",
       "    </tr>\n",
       "    <tr>\n",
       "      <td>23933</td>\n",
       "      <td>15</td>\n",
       "      <td>4</td>\n",
       "      <td>232.7</td>\n",
       "      <td>21.0</td>\n",
       "      <td>77.0</td>\n",
       "      <td>4.0</td>\n",
       "      <td>6.0</td>\n",
       "      <td>38.0</td>\n",
       "      <td>8.0</td>\n",
       "      <td>0</td>\n",
       "      <td>...</td>\n",
       "      <td>0</td>\n",
       "      <td>0</td>\n",
       "      <td>0</td>\n",
       "      <td>0</td>\n",
       "      <td>0</td>\n",
       "      <td>0</td>\n",
       "      <td>0</td>\n",
       "      <td>0</td>\n",
       "      <td>0</td>\n",
       "      <td>4.833333</td>\n",
       "    </tr>\n",
       "  </tbody>\n",
       "</table>\n",
       "<p>3 rows × 654 columns</p>\n",
       "</div>"
      ],
      "text/plain": [
       "       minutes  n_steps  Calories  Total Fat  Sugars  Sodium  Protein  \\\n",
       "id                                                                      \n",
       "63986      500        5     105.7        8.0     0.0    26.0      5.0   \n",
       "43026       45        9      94.0       10.0     0.0    11.0     11.0   \n",
       "23933       15        4     232.7       21.0    77.0     4.0      6.0   \n",
       "\n",
       "       Saturated Fat  Total Carbohydrate  flour  ...   'spreads'  \\\n",
       "id                                               ...               \n",
       "63986            4.0                 3.0      1  ...           0   \n",
       "43026           21.0                 0.0      0  ...           0   \n",
       "23933           38.0                 8.0      0  ...           0   \n",
       "\n",
       "        'tropical-fruit'   'cauliflower'   'canning'   '15-minutes-or-less'  \\\n",
       "id                                                                            \n",
       "63986                  0               0           0                      0   \n",
       "43026                  0               0           0                      0   \n",
       "23933                  0               0           0                      0   \n",
       "\n",
       "        'mixer'   'chowders'   'pressure-canning'   'plums'    rating  \n",
       "id                                                                     \n",
       "63986         0            0                    0         0  4.368421  \n",
       "43026         0            0                    0         0  4.045455  \n",
       "23933         0            0                    0         0  4.833333  \n",
       "\n",
       "[3 rows x 654 columns]"
      ]
     },
     "execution_count": 19,
     "metadata": {},
     "output_type": "execute_result"
    }
   ],
   "source": [
    "combined_df=recipes_df[['minutes','n_steps','Calories','Total Fat','Sugars',\n",
    "           'Sodium','Protein','Saturated Fat',\n",
    "            'Total Carbohydrate']].merge(ingredients_matrix, right_index=True,left_index=True)\n",
    "combined_df=combined_df.merge(tags_matrix,right_index=True,left_index=True)\n",
    "combined_df=combined_df.join(avg_rating, how='left')\n",
    "combined_df.head(3)"
   ]
  },
  {
   "cell_type": "markdown",
   "metadata": {},
   "source": [
    "Now we have data with 653 features. We need to perform PCA dimension reduction to get rid of \"noisy\" features that don't add predictive value."
   ]
  },
  {
   "cell_type": "markdown",
   "metadata": {},
   "source": [
    "### PCA Dimension Reduction"
   ]
  },
  {
   "cell_type": "markdown",
   "metadata": {},
   "source": [
    "Let's define how many intrinsic dimensions we need. (We will standardize the features first using the StandardScaler())"
   ]
  },
  {
   "cell_type": "code",
   "execution_count": 20,
   "metadata": {},
   "outputs": [],
   "source": [
    "samples=combined_df.iloc[:,:-1].values"
   ]
  },
  {
   "cell_type": "code",
   "execution_count": 21,
   "metadata": {},
   "outputs": [
    {
     "data": {
      "image/png": "[encoded data removed]",
      "text/plain": [
       "<Figure size 1280x800 with 1 Axes>"
      ]
     },
     "metadata": {},
     "output_type": "display_data"
    }
   ],
   "source": [
    "from sklearn.decomposition import PCA\n",
    "from sklearn.preprocessing import StandardScaler\n",
    "from sklearn.pipeline import make_pipeline\n",
    "\n",
    "scaler = StandardScaler()\n",
    "pca = PCA()\n",
    "pipeline = make_pipeline(scaler, pca)\n",
    "pipeline.fit(samples)\n",
    "features = range(pca.n_components_)\n",
    "plt.figure(num=None, figsize=(16, 10), dpi=80, facecolor='w', edgecolor='k')\n",
    "plt.bar(features, pca.explained_variance_)\n",
    "plt.ylim(0,20)\n",
    "plt.xlabel('PCA feature')\n",
    "plt.ylabel('variance')\n",
    "plt.title('Explained Variances')\n",
    "plt.xticks(range(0,654,20))\n",
    "plt.show()"
   ]
  },
  {
   "cell_type": "markdown",
   "metadata": {},
   "source": [
    "As we can see from the plot above, most features do not explain more than 2.5% of the variance, with 1 feature being highly descriptive and explaining power dropping after 20 features. So, we can make a conclusion that there are 20 intrinsic dimensions. Now let's perform dimension reduction of the data using PCA"
   ]
  },
  {
   "cell_type": "code",
   "execution_count": 22,
   "metadata": {},
   "outputs": [
    {
     "name": "stdout",
     "output_type": "stream",
     "text": [
      "(18762, 20)\n"
     ]
    }
   ],
   "source": [
    "pca = PCA(n_components=20)\n",
    "pca.fit(samples)\n",
    "pca_features = pca.transform(samples)\n",
    "print(pca_features.shape)"
   ]
  },
  {
   "cell_type": "markdown",
   "metadata": {},
   "source": [
    "Now let's use a Random Forest classifier on the pca_features to classify the recipes as \"good\" (e.g. average rating > 4.2) or \"bad\"."
   ]
  },
  {
   "cell_type": "code",
   "execution_count": 23,
   "metadata": {},
   "outputs": [
    {
     "data": {
      "text/html": [
       "<div>\n",
       "<style scoped>\n",
       "    .dataframe tbody tr th:only-of-type {\n",
       "        vertical-align: middle;\n",
       "    }\n",
       "\n",
       "    .dataframe tbody tr th {\n",
       "        vertical-align: top;\n",
       "    }\n",
       "\n",
       "    .dataframe thead th {\n",
       "        text-align: right;\n",
       "    }\n",
       "</style>\n",
       "<table border=\"1\" class=\"dataframe\">\n",
       "  <thead>\n",
       "    <tr style=\"text-align: right;\">\n",
       "      <th></th>\n",
       "      <th>minutes</th>\n",
       "      <th>n_steps</th>\n",
       "      <th>Calories</th>\n",
       "      <th>Total Fat</th>\n",
       "      <th>Sugars</th>\n",
       "      <th>Sodium</th>\n",
       "      <th>Protein</th>\n",
       "      <th>Saturated Fat</th>\n",
       "      <th>Total Carbohydrate</th>\n",
       "      <th>flour</th>\n",
       "      <th>...</th>\n",
       "      <th>'tropical-fruit'</th>\n",
       "      <th>'cauliflower'</th>\n",
       "      <th>'canning'</th>\n",
       "      <th>'15-minutes-or-less'</th>\n",
       "      <th>'mixer'</th>\n",
       "      <th>'chowders'</th>\n",
       "      <th>'pressure-canning'</th>\n",
       "      <th>'plums'</th>\n",
       "      <th>rating</th>\n",
       "      <th>rating1</th>\n",
       "    </tr>\n",
       "    <tr>\n",
       "      <th>id</th>\n",
       "      <th></th>\n",
       "      <th></th>\n",
       "      <th></th>\n",
       "      <th></th>\n",
       "      <th></th>\n",
       "      <th></th>\n",
       "      <th></th>\n",
       "      <th></th>\n",
       "      <th></th>\n",
       "      <th></th>\n",
       "      <th></th>\n",
       "      <th></th>\n",
       "      <th></th>\n",
       "      <th></th>\n",
       "      <th></th>\n",
       "      <th></th>\n",
       "      <th></th>\n",
       "      <th></th>\n",
       "      <th></th>\n",
       "      <th></th>\n",
       "      <th></th>\n",
       "    </tr>\n",
       "  </thead>\n",
       "  <tbody>\n",
       "    <tr>\n",
       "      <td>63986</td>\n",
       "      <td>500</td>\n",
       "      <td>5</td>\n",
       "      <td>105.7</td>\n",
       "      <td>8.0</td>\n",
       "      <td>0.0</td>\n",
       "      <td>26.0</td>\n",
       "      <td>5.0</td>\n",
       "      <td>4.0</td>\n",
       "      <td>3.0</td>\n",
       "      <td>1</td>\n",
       "      <td>...</td>\n",
       "      <td>0</td>\n",
       "      <td>0</td>\n",
       "      <td>0</td>\n",
       "      <td>0</td>\n",
       "      <td>0</td>\n",
       "      <td>0</td>\n",
       "      <td>0</td>\n",
       "      <td>0</td>\n",
       "      <td>4.368421</td>\n",
       "      <td>1</td>\n",
       "    </tr>\n",
       "    <tr>\n",
       "      <td>43026</td>\n",
       "      <td>45</td>\n",
       "      <td>9</td>\n",
       "      <td>94.0</td>\n",
       "      <td>10.0</td>\n",
       "      <td>0.0</td>\n",
       "      <td>11.0</td>\n",
       "      <td>11.0</td>\n",
       "      <td>21.0</td>\n",
       "      <td>0.0</td>\n",
       "      <td>0</td>\n",
       "      <td>...</td>\n",
       "      <td>0</td>\n",
       "      <td>0</td>\n",
       "      <td>0</td>\n",
       "      <td>0</td>\n",
       "      <td>0</td>\n",
       "      <td>0</td>\n",
       "      <td>0</td>\n",
       "      <td>0</td>\n",
       "      <td>4.045455</td>\n",
       "      <td>0</td>\n",
       "    </tr>\n",
       "    <tr>\n",
       "      <td>23933</td>\n",
       "      <td>15</td>\n",
       "      <td>4</td>\n",
       "      <td>232.7</td>\n",
       "      <td>21.0</td>\n",
       "      <td>77.0</td>\n",
       "      <td>4.0</td>\n",
       "      <td>6.0</td>\n",
       "      <td>38.0</td>\n",
       "      <td>8.0</td>\n",
       "      <td>0</td>\n",
       "      <td>...</td>\n",
       "      <td>0</td>\n",
       "      <td>0</td>\n",
       "      <td>0</td>\n",
       "      <td>0</td>\n",
       "      <td>0</td>\n",
       "      <td>0</td>\n",
       "      <td>0</td>\n",
       "      <td>0</td>\n",
       "      <td>4.833333</td>\n",
       "      <td>1</td>\n",
       "    </tr>\n",
       "  </tbody>\n",
       "</table>\n",
       "<p>3 rows × 655 columns</p>\n",
       "</div>"
      ],
      "text/plain": [
       "       minutes  n_steps  Calories  Total Fat  Sugars  Sodium  Protein  \\\n",
       "id                                                                      \n",
       "63986      500        5     105.7        8.0     0.0    26.0      5.0   \n",
       "43026       45        9      94.0       10.0     0.0    11.0     11.0   \n",
       "23933       15        4     232.7       21.0    77.0     4.0      6.0   \n",
       "\n",
       "       Saturated Fat  Total Carbohydrate  flour  ...   'tropical-fruit'  \\\n",
       "id                                               ...                      \n",
       "63986            4.0                 3.0      1  ...                  0   \n",
       "43026           21.0                 0.0      0  ...                  0   \n",
       "23933           38.0                 8.0      0  ...                  0   \n",
       "\n",
       "        'cauliflower'   'canning'   '15-minutes-or-less'   'mixer'  \\\n",
       "id                                                                   \n",
       "63986               0           0                      0         0   \n",
       "43026               0           0                      0         0   \n",
       "23933               0           0                      0         0   \n",
       "\n",
       "        'chowders'   'pressure-canning'   'plums'    rating  rating1  \n",
       "id                                                                    \n",
       "63986            0                    0         0  4.368421        1  \n",
       "43026            0                    0         0  4.045455        0  \n",
       "23933            0                    0         0  4.833333        1  \n",
       "\n",
       "[3 rows x 655 columns]"
      ]
     },
     "execution_count": 23,
     "metadata": {},
     "output_type": "execute_result"
    }
   ],
   "source": [
    "combined_df['rating1'] = combined_df.rating.apply(lambda x: 1 if x >= 4.2 else 0)\n",
    "combined_df.head(3)"
   ]
  },
  {
   "cell_type": "code",
   "execution_count": 36,
   "metadata": {},
   "outputs": [
    {
     "name": "stderr",
     "output_type": "stream",
     "text": [
      "C:\\Users\\anna_\\Anaconda3\\lib\\site-packages\\sklearn\\ensemble\\forest.py:245: FutureWarning: The default value of n_estimators will change from 10 in version 0.20 to 100 in 0.22.\n",
      "  \"10 in version 0.20 to 100 in 0.22.\", FutureWarning)\n"
     ]
    },
    {
     "name": "stdout",
     "output_type": "stream",
     "text": [
      "Classification Report:\n",
      "\n",
      "               precision    recall  f1-score   support\n",
      "\n",
      "           0       0.30      0.14      0.19      1166\n",
      "           1       0.80      0.91      0.85      4463\n",
      "\n",
      "    accuracy                           0.75      5629\n",
      "   macro avg       0.55      0.53      0.52      5629\n",
      "weighted avg       0.70      0.75      0.72      5629\n",
      "\n",
      "\n",
      "Confusion Matrix:\n",
      "\n",
      " [[ 168  998]\n",
      " [ 398 4065]]\n"
     ]
    }
   ],
   "source": [
    "from sklearn.ensemble import RandomForestClassifier\n",
    "rf = RandomForestClassifier()\n",
    "X=pca_features\n",
    "y=combined_df.rating1.values.astype(np.int)\n",
    "\n",
    "X_train, X_test, y_train, y_test = train_test_split(X, y,\n",
    "                                                    test_size = 0.3, random_state=42)\n",
    "\n",
    "y_pred = rf.fit(X_train,y_train).predict(X_test)\n",
    "\n",
    "from sklearn.metrics import confusion_matrix, classification_report\n",
    "print(\"Classification Report:\\n\\n\",classification_report(y_test, y_pred, labels=[0, 1]))\n",
    "print(\"\\nConfusion Matrix:\\n\\n\",confusion_matrix(y_test, y_pred))"
   ]
  },
  {
   "cell_type": "markdown",
   "metadata": {},
   "source": [
    "Random Forest model's F1 scores are slightly worse than those of tuned in Naive Bayes model (19% vs 22% on the training data, 85% vs 86% on the test data). The number of True Positives is higher in Random Forest (398 vs 365), but the number of True Negatives is lower (4,065 vs 4,098)"
   ]
  },
  {
   "cell_type": "markdown",
   "metadata": {},
   "source": [
    "Let's see if we can improve Random Forest model's predictions by tuning in the hyperparameters. There are many poarameters that can be tuned for these model, but we chose to start with the number of trees in the forest: n_estimators (default is 10 in our version of sklearn). We will use F1 score as our accuracy metric."
   ]
  },
  {
   "cell_type": "code",
   "execution_count": 75,
   "metadata": {},
   "outputs": [
    {
     "data": {
      "text/plain": [
       "{10: array([0.17446563, 0.85000525]),\n",
       " 20: array([0.11921459, 0.87225386]),\n",
       " 50: array([0.04769475, 0.8802    ]),\n",
       " 100: array([0.02980132, 0.88338308])}"
      ]
     },
     "execution_count": 75,
     "metadata": {},
     "output_type": "execute_result"
    }
   ],
   "source": [
    "n_estimators = [10, 20, 50, 100]\n",
    "accuracy_f1 = []\n",
    "for estimators in n_estimators:\n",
    "    rf = RandomForestClassifier(n_estimators = estimators)\n",
    "    y_pred = rf.fit(X_train,y_train).predict(X_test)\n",
    "    accuracy_f1.append(f1_score(y_test, y_pred, average=None))\n",
    "\n",
    "accuracy_f1_dict = dict(zip(n_estimators,accuracy_f1))\n",
    "accuracy_f1_dict"
   ]
  },
  {
   "cell_type": "code",
   "execution_count": 76,
   "metadata": {},
   "outputs": [
    {
     "name": "stdout",
     "output_type": "stream",
     "text": [
      "Classification Report:\n",
      "\n",
      "               precision    recall  f1-score   support\n",
      "\n",
      "           0       0.33      0.01      0.03      1166\n",
      "           1       0.79      0.99      0.88      4463\n",
      "\n",
      "    accuracy                           0.79      5629\n",
      "   macro avg       0.56      0.50      0.45      5629\n",
      "weighted avg       0.70      0.79      0.71      5629\n",
      "\n",
      "\n",
      "Confusion Matrix:\n",
      "\n",
      " [[  17 1149]\n",
      " [  35 4428]]\n"
     ]
    }
   ],
   "source": [
    "rf = RandomForestClassifier(n_estimators = 100)\n",
    "y_pred = rf.fit(X_train,y_train).predict(X_test)\n",
    "from sklearn.metrics import confusion_matrix, classification_report\n",
    "print(\"Classification Report:\\n\\n\",classification_report(y_test, y_pred, labels=[0, 1]))\n",
    "print(\"\\nConfusion Matrix:\\n\\n\",confusion_matrix(y_test, y_pred))"
   ]
  },
  {
   "cell_type": "markdown",
   "metadata": {},
   "source": [
    "Random Forest model with 100 trees produces the best F1 score on the test data of 88%. <br>"
   ]
  }
 ],
 "metadata": {
  "kernelspec": {
   "display_name": "Python 3",
   "language": "python",
   "name": "python3"
  },
  "language_info": {
   "codemirror_mode": {
    "name": "ipython",
    "version": 3
   },
   "file_extension": ".py",
   "mimetype": "text/x-python",
   "name": "python",
   "nbconvert_exporter": "python",
   "pygments_lexer": "ipython3",
   "version": "3.7.4"
  }
 },
 "nbformat": 4,
 "nbformat_minor": 2
}
