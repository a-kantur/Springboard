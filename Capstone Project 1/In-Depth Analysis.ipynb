{
 "cells": [
  {
   "cell_type": "markdown",
   "metadata": {},
   "source": [
    "# In-Depth Analysis "
   ]
  },
  {
   "cell_type": "markdown",
   "metadata": {},
   "source": [
    "## Loading Modules"
   ]
  },
  {
   "cell_type": "code",
   "execution_count": 1,
   "metadata": {},
   "outputs": [],
   "source": [
    "import pandas as pd\n",
    "import matplotlib.pyplot as plt\n",
    "import seaborn as sns\n",
    "import numpy as np\n",
    "from sklearn.model_selection import train_test_split "
   ]
  },
  {
   "cell_type": "markdown",
   "metadata": {},
   "source": [
    "## Importing the data"
   ]
  },
  {
   "cell_type": "code",
   "execution_count": 2,
   "metadata": {},
   "outputs": [],
   "source": [
    "recipes_df=pd.read_csv('recipes_df.csv')\n",
    "recipes_df.set_index('id', inplace=True)\n",
    "reviews_df=pd.read_csv('reviews_df.csv')\n",
    "reviews_df.set_index('recipe_id', inplace=True)\n",
    "tags_matrix=pd.read_csv('tags_matrix.csv')\n",
    "tags_matrix.set_index('id', inplace=True)\n",
    "ingredients_matrix=pd.read_csv('ingredients_matrix.csv')\n",
    "ingredients_matrix.set_index('id', inplace=True)"
   ]
  },
  {
   "cell_type": "code",
   "execution_count": 3,
   "metadata": {},
   "outputs": [
    {
     "data": {
      "image/png": "[encoded data removed]",
      "text/plain": [
       "<Figure size 720x504 with 1 Axes>"
      ]
     },
     "metadata": {
      "needs_background": "light"
     },
     "output_type": "display_data"
    }
   ],
   "source": [
    "avg_rating_series=reviews_df.groupby('recipe_id')['rating'].mean()\n",
    "_ = plt.figure(figsize=(10,7))\n",
    "x_range=[0.0,0.2,0.4,0.6,0.8,1.0,1.2,1.4,1.6,1.8,\n",
    "         2.0,2.2,2.4,2.6,2.8,3.0,3.2,3.4,3.6,3.8,\n",
    "         4.0,4.2,4.4,4.6,4.8,5.0]\n",
    "_ = plt.hist(avg_rating_series, edgecolor='black', bins=25)#(len(x_range)-1)#np.arange(, 5, 0.20))\n",
    "_ = plt.title('Mean Recipe Rating Distribution')\n",
    "_ = plt.xlabel('Mean Recipe Rating')\n",
    "_ = plt.ylabel('Number of Recipes')\n",
    "_ = plt.xticks(x_range)\n",
    "_ = plt.axvline(x=4.7, linewidth=5, color='r')"
   ]
  },
  {
   "cell_type": "markdown",
   "metadata": {},
   "source": [
    "Based on the histogram above we decided to arbitrarily choose a mean rating of 4.7 as a threshold for \"good\" vs \"bad\" recipes."
   ]
  },
  {
   "cell_type": "code",
   "execution_count": 4,
   "metadata": {},
   "outputs": [
    {
     "name": "stdout",
     "output_type": "stream",
     "text": [
      "Number of \"good\" recipes with rating >=4.7 = 5519\n",
      "Number of \"bad\" recipes with rating < 4.7 = 13302\n"
     ]
    }
   ],
   "source": [
    "print('Number of \"good\" recipes with rating >=4.7 = '\n",
    "      +str(len(avg_rating_series.index[avg_rating_series.values>=4.7]))+'\\n'\n",
    "      +'Number of \"bad\" recipes with rating < 4.7 = '\n",
    "      +str(len(avg_rating_series.index[avg_rating_series.values<=4.7])))"
   ]
  },
  {
   "cell_type": "markdown",
   "metadata": {},
   "source": [
    "## Random Forest"
   ]
  },
  {
   "cell_type": "markdown",
   "metadata": {},
   "source": [
    "First, we need to create a combined_df containing all the features in one dataset."
   ]
  },
  {
   "cell_type": "code",
   "execution_count": 5,
   "metadata": {},
   "outputs": [
    {
     "data": {
      "text/html": [
       "<div>\n",
       "<style scoped>\n",
       "    .dataframe tbody tr th:only-of-type {\n",
       "        vertical-align: middle;\n",
       "    }\n",
       "\n",
       "    .dataframe tbody tr th {\n",
       "        vertical-align: top;\n",
       "    }\n",
       "\n",
       "    .dataframe thead th {\n",
       "        text-align: right;\n",
       "    }\n",
       "</style>\n",
       "<table border=\"1\" class=\"dataframe\">\n",
       "  <thead>\n",
       "    <tr style=\"text-align: right;\">\n",
       "      <th></th>\n",
       "      <th>minutes</th>\n",
       "      <th>n_steps</th>\n",
       "      <th>Calories</th>\n",
       "      <th>Total Fat</th>\n",
       "      <th>Sugars</th>\n",
       "      <th>Sodium</th>\n",
       "      <th>Protein</th>\n",
       "      <th>Saturated Fat</th>\n",
       "      <th>Total Carbohydrate</th>\n",
       "      <th>flour</th>\n",
       "      <th>...</th>\n",
       "      <th>'spreads'</th>\n",
       "      <th>'tropical-fruit'</th>\n",
       "      <th>'cauliflower'</th>\n",
       "      <th>'canning'</th>\n",
       "      <th>'15-minutes-or-less'</th>\n",
       "      <th>'mixer'</th>\n",
       "      <th>'chowders'</th>\n",
       "      <th>'pressure-canning'</th>\n",
       "      <th>'plums'</th>\n",
       "      <th>rating</th>\n",
       "    </tr>\n",
       "    <tr>\n",
       "      <th>id</th>\n",
       "      <th></th>\n",
       "      <th></th>\n",
       "      <th></th>\n",
       "      <th></th>\n",
       "      <th></th>\n",
       "      <th></th>\n",
       "      <th></th>\n",
       "      <th></th>\n",
       "      <th></th>\n",
       "      <th></th>\n",
       "      <th></th>\n",
       "      <th></th>\n",
       "      <th></th>\n",
       "      <th></th>\n",
       "      <th></th>\n",
       "      <th></th>\n",
       "      <th></th>\n",
       "      <th></th>\n",
       "      <th></th>\n",
       "      <th></th>\n",
       "      <th></th>\n",
       "    </tr>\n",
       "  </thead>\n",
       "  <tbody>\n",
       "    <tr>\n",
       "      <td>63986</td>\n",
       "      <td>500</td>\n",
       "      <td>5</td>\n",
       "      <td>105.7</td>\n",
       "      <td>8.0</td>\n",
       "      <td>0.0</td>\n",
       "      <td>26.0</td>\n",
       "      <td>5.0</td>\n",
       "      <td>4.0</td>\n",
       "      <td>3.0</td>\n",
       "      <td>1</td>\n",
       "      <td>...</td>\n",
       "      <td>0</td>\n",
       "      <td>0</td>\n",
       "      <td>0</td>\n",
       "      <td>0</td>\n",
       "      <td>0</td>\n",
       "      <td>0</td>\n",
       "      <td>0</td>\n",
       "      <td>0</td>\n",
       "      <td>0</td>\n",
       "      <td>4.368421</td>\n",
       "    </tr>\n",
       "    <tr>\n",
       "      <td>43026</td>\n",
       "      <td>45</td>\n",
       "      <td>9</td>\n",
       "      <td>94.0</td>\n",
       "      <td>10.0</td>\n",
       "      <td>0.0</td>\n",
       "      <td>11.0</td>\n",
       "      <td>11.0</td>\n",
       "      <td>21.0</td>\n",
       "      <td>0.0</td>\n",
       "      <td>0</td>\n",
       "      <td>...</td>\n",
       "      <td>0</td>\n",
       "      <td>0</td>\n",
       "      <td>0</td>\n",
       "      <td>0</td>\n",
       "      <td>0</td>\n",
       "      <td>0</td>\n",
       "      <td>0</td>\n",
       "      <td>0</td>\n",
       "      <td>0</td>\n",
       "      <td>4.045455</td>\n",
       "    </tr>\n",
       "    <tr>\n",
       "      <td>23933</td>\n",
       "      <td>15</td>\n",
       "      <td>4</td>\n",
       "      <td>232.7</td>\n",
       "      <td>21.0</td>\n",
       "      <td>77.0</td>\n",
       "      <td>4.0</td>\n",
       "      <td>6.0</td>\n",
       "      <td>38.0</td>\n",
       "      <td>8.0</td>\n",
       "      <td>0</td>\n",
       "      <td>...</td>\n",
       "      <td>0</td>\n",
       "      <td>0</td>\n",
       "      <td>0</td>\n",
       "      <td>0</td>\n",
       "      <td>0</td>\n",
       "      <td>0</td>\n",
       "      <td>0</td>\n",
       "      <td>0</td>\n",
       "      <td>0</td>\n",
       "      <td>4.833333</td>\n",
       "    </tr>\n",
       "  </tbody>\n",
       "</table>\n",
       "<p>3 rows × 654 columns</p>\n",
       "</div>"
      ],
      "text/plain": [
       "       minutes  n_steps  Calories  Total Fat  Sugars  Sodium  Protein  \\\n",
       "id                                                                      \n",
       "63986      500        5     105.7        8.0     0.0    26.0      5.0   \n",
       "43026       45        9      94.0       10.0     0.0    11.0     11.0   \n",
       "23933       15        4     232.7       21.0    77.0     4.0      6.0   \n",
       "\n",
       "       Saturated Fat  Total Carbohydrate  flour  ...   'spreads'  \\\n",
       "id                                               ...               \n",
       "63986            4.0                 3.0      1  ...           0   \n",
       "43026           21.0                 0.0      0  ...           0   \n",
       "23933           38.0                 8.0      0  ...           0   \n",
       "\n",
       "        'tropical-fruit'   'cauliflower'   'canning'   '15-minutes-or-less'  \\\n",
       "id                                                                            \n",
       "63986                  0               0           0                      0   \n",
       "43026                  0               0           0                      0   \n",
       "23933                  0               0           0                      0   \n",
       "\n",
       "        'mixer'   'chowders'   'pressure-canning'   'plums'    rating  \n",
       "id                                                                     \n",
       "63986         0            0                    0         0  4.368421  \n",
       "43026         0            0                    0         0  4.045455  \n",
       "23933         0            0                    0         0  4.833333  \n",
       "\n",
       "[3 rows x 654 columns]"
      ]
     },
     "execution_count": 5,
     "metadata": {},
     "output_type": "execute_result"
    }
   ],
   "source": [
    "combined_df=recipes_df[['minutes','n_steps','Calories','Total Fat','Sugars',\n",
    "           'Sodium','Protein','Saturated Fat',\n",
    "            'Total Carbohydrate']].merge(ingredients_matrix, right_index=True,left_index=True)\n",
    "combined_df=combined_df.merge(tags_matrix,right_index=True,left_index=True)\n",
    "combined_df=combined_df.join(avg_rating_series, how='left')\n",
    "combined_df.head(3)"
   ]
  },
  {
   "cell_type": "markdown",
   "metadata": {},
   "source": [
    "We have data with 653 features. We use a Random Forest classifier on the dataset to classify the recipes as \"good\" (e.g. average rating >= 4.7) or \"bad\"."
   ]
  },
  {
   "cell_type": "code",
   "execution_count": 6,
   "metadata": {},
   "outputs": [],
   "source": [
    "combined_df['rating1'] = combined_df.rating.apply(lambda x: 1 if x >= 4.7 else 0)"
   ]
  },
  {
   "cell_type": "code",
   "execution_count": 7,
   "metadata": {},
   "outputs": [],
   "source": [
    "import warnings\n",
    "warnings.filterwarnings(action='ignore', category=FutureWarning)\n",
    "\n",
    "from sklearn.ensemble import RandomForestClassifier\n",
    "rf = RandomForestClassifier()\n",
    "X=combined_df.iloc[:,:-2].values\n",
    "y=combined_df.rating1.values.astype(np.int)\n",
    "\n",
    "X_train, X_test, y_train, y_test = train_test_split(X, y,\n",
    "                                                    test_size = 0.3, random_state=42)\n",
    "\n",
    "y_pred = rf.fit(X_train,y_train).predict(X_test)"
   ]
  },
  {
   "cell_type": "markdown",
   "metadata": {},
   "source": [
    "### Tuning in Hyperparameters"
   ]
  },
  {
   "cell_type": "markdown",
   "metadata": {},
   "source": [
    "Let's tune in the hyperparameters for the Random Forest model:\n",
    "- n_estimators (default is 10 in our version of sklearn). \n",
    "- max_depth (default=None) The maximum depth of the tree. If None, then nodes are expanded until all leaves are pure or until all leaves contain less than min_samples_split samples.\n",
    "- min_samples_split (default=2) The minimum number of samples required to split an internal node\n",
    "- min_samples_leaf (default=1) The minimum number of samples required to be at a leaf node. A split point at any depth will only be considered if it leaves at least min_samples_leaf training samples in each of the left and right branches. This may have the effect of smoothing the model, especially in regression.\n",
    "- min_weight_fraction_leaf (default=0.) The minimum weighted fraction of the sum total of weights (of all the input samples) required to be at a leaf node. Samples have equal weight when sample_weight is not provided.\n",
    "- max_features (default=”auto”) The number of features to consider when looking for the best split \n",
    "\n",
    "<br> We will use GridSearch to tune in multiple parameters at a time, and will use ROC_AUC score as our accuracy metric."
   ]
  },
  {
   "cell_type": "code",
   "execution_count": 8,
   "metadata": {},
   "outputs": [
    {
     "data": {
      "text/plain": [
       "{'max_depth': 11,\n",
       " 'max_features': 20,\n",
       " 'min_samples_leaf': 3,\n",
       " 'min_samples_split': 5,\n",
       " 'min_weight_fraction_leaf': 0,\n",
       " 'n_estimators': 100}"
      ]
     },
     "execution_count": 8,
     "metadata": {},
     "output_type": "execute_result"
    }
   ],
   "source": [
    "from sklearn.model_selection import GridSearchCV\n",
    "param_grid = {'n_estimators': [10, 50, 100]\n",
    "             ,'max_depth': [3, 7, 11]\n",
    "             ,'min_samples_split': [2, 5]\n",
    "             ,'min_samples_leaf': [1, 3]\n",
    "             ,'min_weight_fraction_leaf': [0, 0.25]\n",
    "             ,'max_features': [5, 10, 20]} \n",
    "\n",
    "rf = RandomForestClassifier()\n",
    "rf_cv = GridSearchCV(rf, param_grid, cv=5, scoring='roc_auc') \n",
    "rf_cv.fit(X, y) \n",
    "rf_cv.best_params_"
   ]
  },
  {
   "cell_type": "code",
   "execution_count": 9,
   "metadata": {},
   "outputs": [
    {
     "data": {
      "text/plain": [
       "0.616874177613216"
      ]
     },
     "execution_count": 9,
     "metadata": {},
     "output_type": "execute_result"
    }
   ],
   "source": [
    "rf_cv.best_score_"
   ]
  },
  {
   "cell_type": "markdown",
   "metadata": {},
   "source": [
    "The best combination of parameters produces the best average score of all cv folds equal to 62% with Random Forest classifier model."
   ]
  },
  {
   "cell_type": "markdown",
   "metadata": {},
   "source": [
    "### Feature Importances"
   ]
  },
  {
   "cell_type": "markdown",
   "metadata": {},
   "source": [
    "Let's review top 20 most important features by using sklearn feature_importances_"
   ]
  },
  {
   "cell_type": "code",
   "execution_count": 10,
   "metadata": {},
   "outputs": [
    {
     "name": "stdout",
     "output_type": "stream",
     "text": [
      "0 ('Calories', 0.03511316443674291)\n",
      "1 ('Sugars', 0.0324596393875997)\n",
      "2 ('Sodium', 0.03141175311372838)\n",
      "3 ('Saturated Fat', 0.031217452029162818)\n",
      "4 ('Protein', 0.030957616831073464)\n",
      "5 ('minutes', 0.030385956463672464)\n",
      "6 ('Total Fat', 0.029885634005539796)\n",
      "7 ('Total Carbohydrate', 0.029495388759097924)\n",
      "8 ('n_steps', 0.027769931050696882)\n",
      "9 (\"'60-minutes-or-less'\", 0.006835226566435097)\n",
      "10 (\" 'occasion'\", 0.006784489883286476)\n",
      "11 (\" 'cuisine'\", 0.006711281188137368)\n",
      "12 (\" 'easy'\", 0.006628297743010018)\n",
      "13 ('salt', 0.0062234124509132505)\n",
      "14 (\" 'number-of-servings'\", 0.006115122012373905)\n",
      "15 (\" 'taste-mood'\", 0.006080912813724839)\n",
      "16 (\" 'equipment'\", 0.005533635678412797)\n",
      "17 (\" 'dinner-party'\", 0.005482007310521895)\n",
      "18 (\" 'holiday-event'\", 0.005472445704097876)\n",
      "19 ('garlic', 0.005326606002725216)\n"
     ]
    }
   ],
   "source": [
    "import warnings\n",
    "warnings.filterwarnings(action='ignore', category=FutureWarning)\n",
    "\n",
    "rf.fit(X, y) \n",
    "zipped = zip(combined_df.iloc[:,:-2].columns,rf.feature_importances_)\n",
    "res = sorted(zipped, key = lambda x: x[1], reverse=True)\n",
    "for i in res[0:20]:\n",
    "    print(res.index(i), i)"
   ]
  },
  {
   "cell_type": "markdown",
   "metadata": {},
   "source": [
    "We can see that all nutritional values and time to cook the recipe (\"minutes\", \"steps\", \"easy\", \"60-minutes-or-less\") are in the top 20 most important features to predict the goodness of the recipe average rating. Let's rerun Random Forest model with best features only to see if we can get a score improvement."
   ]
  },
  {
   "cell_type": "code",
   "execution_count": 11,
   "metadata": {},
   "outputs": [],
   "source": [
    "# create a list of best features to use in column selection\n",
    "best_features=[]\n",
    "for i in range(20):\n",
    "    best_features.append(res[i][0])\n",
    "# from sklearn.ensemble import RandomForestClassifier\n",
    "rf1 = RandomForestClassifier()\n",
    "X=combined_df.filter(best_features, axis=1).values\n",
    "y=combined_df.rating1.values.astype(np.int)\n",
    "\n",
    "X_train, X_test, y_train, y_test = train_test_split(X, y,\n",
    "                                                    test_size = 0.3, random_state=42)\n",
    "\n",
    "y_pred = rf1.fit(X_train,y_train).predict(X_test)"
   ]
  },
  {
   "cell_type": "code",
   "execution_count": 12,
   "metadata": {},
   "outputs": [
    {
     "data": {
      "text/plain": [
       "{'max_depth': 11,\n",
       " 'max_features': 5,\n",
       " 'min_samples_leaf': 3,\n",
       " 'min_samples_split': 5,\n",
       " 'min_weight_fraction_leaf': 0,\n",
       " 'n_estimators': 100}"
      ]
     },
     "execution_count": 12,
     "metadata": {},
     "output_type": "execute_result"
    }
   ],
   "source": [
    "# tuning in hyperparameters:\n",
    "from sklearn.model_selection import GridSearchCV\n",
    "param_grid = {'n_estimators': [10, 50, 100]\n",
    "             ,'max_depth': [3, 7, 11]\n",
    "             ,'min_samples_split': [2, 5]\n",
    "             ,'min_samples_leaf': [1, 3]\n",
    "             ,'min_weight_fraction_leaf': [0, 0.25]\n",
    "             ,'max_features': [5, 10, 20]} \n",
    "\n",
    "rf1_cv = GridSearchCV(rf1, param_grid, cv=5, scoring='roc_auc') \n",
    "rf1_cv.fit(X, y) \n",
    "rf1_cv.best_params_"
   ]
  },
  {
   "cell_type": "code",
   "execution_count": 13,
   "metadata": {},
   "outputs": [
    {
     "data": {
      "text/plain": [
       "0.5709491675780951"
      ]
     },
     "execution_count": 13,
     "metadata": {},
     "output_type": "execute_result"
    }
   ],
   "source": [
    "rf1_cv.best_score_"
   ]
  },
  {
   "cell_type": "markdown",
   "metadata": {},
   "source": [
    "With only the best 20 features and tuned in hyperparameters the Random Forest model ROC_AUC score actually went down from 62% to 57%."
   ]
  },
  {
   "cell_type": "markdown",
   "metadata": {},
   "source": [
    "## Logistic Regression "
   ]
  },
  {
   "cell_type": "markdown",
   "metadata": {},
   "source": [
    "Let's use a Logistic Regression to predict recipe rating being 'good' or 'bad'"
   ]
  },
  {
   "cell_type": "code",
   "execution_count": 14,
   "metadata": {},
   "outputs": [],
   "source": [
    "import warnings\n",
    "from sklearn.exceptions import ConvergenceWarning\n",
    "warnings.filterwarnings(action='ignore', category=ConvergenceWarning)\n",
    "\n",
    "X=combined_df.iloc[:,:-2].values\n",
    "y=combined_df.rating1.values.astype(np.int)\n",
    "from sklearn.linear_model import LogisticRegression\n",
    "from sklearn.model_selection import train_test_split\n",
    "logreg = LogisticRegression(solver='lbfgs')\n",
    "X_train, X_test, y_train, y_test = train_test_split(X, y, test_size=0.4, random_state=42)\n",
    "logreg.fit(X_train, y_train)\n",
    "y_pred = logreg.predict(X_test)"
   ]
  },
  {
   "cell_type": "markdown",
   "metadata": {},
   "source": [
    "### Tuning in Hyperparameters"
   ]
  },
  {
   "cell_type": "markdown",
   "metadata": {},
   "source": [
    "Let's tune in hyperparameters for the Logistic regression model:\n",
    "- C Inverse of regularization strength (Like in support vector machines, smaller values specify stronger regularization.)\n",
    "- class_weight Weights associated with classes (the default is None) We will try \"balanced\", e.g. uses the values of y to automatically adjust weights inversely proportional to class frequencies in the input data )"
   ]
  },
  {
   "cell_type": "code",
   "execution_count": 15,
   "metadata": {},
   "outputs": [
    {
     "data": {
      "text/plain": [
       "{'C': 163789.3706954068, 'class_weight': None}"
      ]
     },
     "execution_count": 15,
     "metadata": {},
     "output_type": "execute_result"
    }
   ],
   "source": [
    "import warnings\n",
    "from sklearn.exceptions import ConvergenceWarning\n",
    "warnings.filterwarnings(action='ignore', category=ConvergenceWarning)\n",
    "\n",
    "logreg = LogisticRegression(solver='lbfgs')\n",
    "param_grid= {'C': np.logspace(-5, 8, 15)\n",
    "             ,'class_weight': [None,'balanced']}\n",
    "logreg_cv = GridSearchCV(logreg, param_grid, cv=5, scoring='roc_auc')\n",
    "logreg_cv.fit(X,y)\n",
    "logreg_cv.best_params_"
   ]
  },
  {
   "cell_type": "code",
   "execution_count": 16,
   "metadata": {},
   "outputs": [
    {
     "data": {
      "text/plain": [
       "0.544210926127887"
      ]
     },
     "execution_count": 16,
     "metadata": {},
     "output_type": "execute_result"
    }
   ],
   "source": [
    "logreg_cv.best_score_"
   ]
  },
  {
   "cell_type": "markdown",
   "metadata": {},
   "source": [
    "The best average score of all cv folds for the Logistic Regression model is 53%"
   ]
  },
  {
   "cell_type": "markdown",
   "metadata": {},
   "source": [
    "## K Nearest Neighbours"
   ]
  },
  {
   "cell_type": "markdown",
   "metadata": {},
   "source": [
    "Let's use KNN to predict recipe rating being 'good' or 'bad'"
   ]
  },
  {
   "cell_type": "code",
   "execution_count": 17,
   "metadata": {},
   "outputs": [],
   "source": [
    "from sklearn.neighbors import KNeighborsClassifier\n",
    "from sklearn.model_selection import train_test_split\n",
    "knn = KNeighborsClassifier()\n",
    "X=combined_df.iloc[:,:-2].values\n",
    "y=combined_df.rating1.values.astype(np.int)\n",
    "X_train, X_test, y_train, y_test = train_test_split(X, y, test_size=0.4, random_state=42)\n",
    "knn.fit(X_train, y_train)\n",
    "y_pred = knn.predict(X_test)"
   ]
  },
  {
   "cell_type": "markdown",
   "metadata": {},
   "source": [
    "### Tuning in Hyperparameters"
   ]
  },
  {
   "cell_type": "markdown",
   "metadata": {},
   "source": [
    "Let's tune in hyperparameters for the Logistic regression model:\n",
    "- n_neighbors Number of neighbors to use by the KNN algorithm (default=5)\n",
    "- weights Weight function used in prediction (default = 'uniform', e.g. all points in each neighborhood are weighted equally) We will choose between 'uniform' and 'distance': weight points by the inverse of their distance. in this case, closer neighbors of a query point will have a greater influence than neighbors which are further away."
   ]
  },
  {
   "cell_type": "code",
   "execution_count": 18,
   "metadata": {},
   "outputs": [
    {
     "data": {
      "text/plain": [
       "{'n_neighbors': 20, 'weights': 'distance'}"
      ]
     },
     "execution_count": 18,
     "metadata": {},
     "output_type": "execute_result"
    }
   ],
   "source": [
    "knn = KNeighborsClassifier()\n",
    "param_grid= {'n_neighbors': [5,7,10,20]\n",
    "             ,'weights': ['uniform','distance']}\n",
    "knn_cv = GridSearchCV(knn, param_grid, cv=5, scoring='roc_auc')\n",
    "knn_cv.fit(X,y)\n",
    "knn_cv.best_params_"
   ]
  },
  {
   "cell_type": "code",
   "execution_count": 19,
   "metadata": {},
   "outputs": [
    {
     "data": {
      "text/plain": [
       "0.5389189514679892"
      ]
     },
     "execution_count": 19,
     "metadata": {},
     "output_type": "execute_result"
    }
   ],
   "source": [
    "knn_cv.best_score_"
   ]
  },
  {
   "cell_type": "markdown",
   "metadata": {},
   "source": [
    "The best average score of all cv folds for the K Nearest Neighbours model is 53%"
   ]
  },
  {
   "cell_type": "markdown",
   "metadata": {},
   "source": [
    "## Best Model"
   ]
  },
  {
   "cell_type": "code",
   "execution_count": 20,
   "metadata": {},
   "outputs": [
    {
     "data": {
      "text/html": [
       "<div>\n",
       "<style scoped>\n",
       "    .dataframe tbody tr th:only-of-type {\n",
       "        vertical-align: middle;\n",
       "    }\n",
       "\n",
       "    .dataframe tbody tr th {\n",
       "        vertical-align: top;\n",
       "    }\n",
       "\n",
       "    .dataframe thead th {\n",
       "        text-align: right;\n",
       "    }\n",
       "</style>\n",
       "<table border=\"1\" class=\"dataframe\">\n",
       "  <thead>\n",
       "    <tr style=\"text-align: right;\">\n",
       "      <th></th>\n",
       "      <th>Best Score</th>\n",
       "      <th>Best Parameters</th>\n",
       "    </tr>\n",
       "  </thead>\n",
       "  <tbody>\n",
       "    <tr>\n",
       "      <td>Random Forest</td>\n",
       "      <td>0.616874</td>\n",
       "      <td>{'max_depth': 11, 'max_features': 20, 'min_sam...</td>\n",
       "    </tr>\n",
       "    <tr>\n",
       "      <td>Random Forest with 20 Best Features</td>\n",
       "      <td>0.570949</td>\n",
       "      <td>{'max_depth': 11, 'max_features': 5, 'min_samp...</td>\n",
       "    </tr>\n",
       "    <tr>\n",
       "      <td>Logistic Regression</td>\n",
       "      <td>0.544211</td>\n",
       "      <td>{'C': 163789.3706954068, 'class_weight': None}</td>\n",
       "    </tr>\n",
       "    <tr>\n",
       "      <td>KNN</td>\n",
       "      <td>0.538919</td>\n",
       "      <td>{'n_neighbors': 20, 'weights': 'distance'}</td>\n",
       "    </tr>\n",
       "  </tbody>\n",
       "</table>\n",
       "</div>"
      ],
      "text/plain": [
       "                                     Best Score  \\\n",
       "Random Forest                          0.616874   \n",
       "Random Forest with 20 Best Features    0.570949   \n",
       "Logistic Regression                    0.544211   \n",
       "KNN                                    0.538919   \n",
       "\n",
       "                                                                       Best Parameters  \n",
       "Random Forest                        {'max_depth': 11, 'max_features': 20, 'min_sam...  \n",
       "Random Forest with 20 Best Features  {'max_depth': 11, 'max_features': 5, 'min_samp...  \n",
       "Logistic Regression                     {'C': 163789.3706954068, 'class_weight': None}  \n",
       "KNN                                         {'n_neighbors': 20, 'weights': 'distance'}  "
      ]
     },
     "execution_count": 20,
     "metadata": {},
     "output_type": "execute_result"
    }
   ],
   "source": [
    "d = {'Best Score': [rf_cv.best_score_,rf1_cv.best_score_, logreg_cv.best_score_,knn_cv.best_score_]\n",
    "     , 'Best Parameters': [rf_cv.best_params_, rf1_cv.best_params_, logreg_cv.best_params_,knn_cv.best_params_]}\n",
    "models_summary = pd.DataFrame(data=d, index=['Random Forest','Random Forest with 20 Best Features','Logistic Regression','KNN'])\n",
    "models_summary"
   ]
  },
  {
   "cell_type": "markdown",
   "metadata": {},
   "source": [
    "The best ROC_AUC score is for the Random Forest model (61%), so this is the best model to predict the average recipe rating being good or bad."
   ]
  },
  {
   "cell_type": "markdown",
   "metadata": {},
   "source": [
    "## Thresholding"
   ]
  },
  {
   "cell_type": "markdown",
   "metadata": {},
   "source": [
    "Let's loop over a list of thresholds from 0 to 1, and at each threshold transform those probabilites into 1s and 0s, and then use our ultimate metric (F-beta score with beta < 1 to be weighted towards precision) to get a score, and pick the threshold that maximizes that metric."
   ]
  },
  {
   "cell_type": "code",
   "execution_count": 21,
   "metadata": {},
   "outputs": [
    {
     "data": {
      "text/plain": [
       "array([[0.8, 0.2],\n",
       "       [0.6, 0.4],\n",
       "       [0.7, 0.3],\n",
       "       ...,\n",
       "       [0.6, 0.4],\n",
       "       [0.9, 0.1],\n",
       "       [0.7, 0.3]])"
      ]
     },
     "execution_count": 21,
     "metadata": {},
     "output_type": "execute_result"
    }
   ],
   "source": [
    "y_pred = rf.fit(X_train,y_train).predict(X_test)\n",
    "rf_probs=rf.predict_proba(X_test)\n",
    "rf_probs"
   ]
  },
  {
   "cell_type": "markdown",
   "metadata": {},
   "source": [
    "A chart above shows probabi;ity thresholds on X axis, F-beta score on Y axis, and a vertical red line through the optimal threshold of 0.8."
   ]
  },
  {
   "cell_type": "code",
   "execution_count": 23,
   "metadata": {},
   "outputs": [
    {
     "name": "stdout",
     "output_type": "stream",
     "text": [
      "              precision    recall  f1-score   support\n",
      "\n",
      "           0       0.70      1.00      0.83      5269\n",
      "           1       0.69      0.00      0.01      2236\n",
      "\n",
      "    accuracy                           0.70      7505\n",
      "   macro avg       0.70      0.50      0.42      7505\n",
      "weighted avg       0.70      0.70      0.58      7505\n",
      "\n"
     ]
    }
   ],
   "source": [
    "from sklearn.metrics import confusion_matrix, classification_report\n",
    "print(classification_report(y_test, best_y_pred))"
   ]
  },
  {
   "cell_type": "code",
   "execution_count": 38,
   "metadata": {},
   "outputs": [
    {
     "name": "stderr",
     "output_type": "stream",
     "text": [
      "C:\\Users\\anna_\\Anaconda3\\lib\\site-packages\\sklearn\\metrics\\classification.py:1437: UndefinedMetricWarning: F-score is ill-defined and being set to 0.0 due to no predicted samples.\n",
      "  'precision', 'predicted', average, warn_for)\n"
     ]
    },
    {
     "name": "stdout",
     "output_type": "stream",
     "text": [
      "Best probability threshold for the model is 0.8.\n",
      "It maximizes F-beta score to 0.6806694092380289\n"
     ]
    },
    {
     "data": {
      "image/png": "[encoded data removed]",
      "text/plain": [
       "<Figure size 432x288 with 1 Axes>"
      ]
     },
     "metadata": {
      "needs_background": "light"
     },
     "output_type": "display_data"
    }
   ],
   "source": [
    "from sklearn.metrics import fbeta_score\n",
    "#threshold_list = np.arange(0,1.01,0.01)\n",
    "best_threshold = 0\n",
    "best_score=0\n",
    "y_pred_prob = rf.predict_proba(X_test)[:,1]\n",
    "threshold_list=sorted(list(set(y_pred_prob)))\n",
    "fbeta_list=[]\n",
    "for i in threshold_list:\n",
    "    y_pred=(y_pred_prob > i)*1.0\n",
    "    test_score = fbeta_score(y_test, y_pred, beta=0.01)\n",
    "    fbeta_list.append(test_score)\n",
    "    if test_score>best_score:\n",
    "        best_threshold = i\n",
    "        best_score = test_score\n",
    "        best_y_pred=y_pred\n",
    "print('Best probability threshold for the model is {0}.\\nIt maximizes F-beta score to {1}'.format(best_threshold,best_score))\n",
    "\n",
    "_ = plt.plot(threshold_list,fbeta_list)\n",
    "_ = plt.title('F-beta Score for Each Probability Threshold')\n",
    "_ = plt.xlabel('Probability Threshold')\n",
    "_ = plt.ylabel('F-beta Score')\n",
    "_ = plt.xlim(1,0)\n",
    "_ = plt.xticks([0,0.1,0.2,0.3,0.4,0.5,0.6,0.7,0.8,0.9,1.0])\n",
    "_ = plt.axvline(x=best_threshold, linewidth=3, color='r')"
   ]
  }
 ],
 "metadata": {
  "kernelspec": {
   "display_name": "Python 3",
   "language": "python",
   "name": "python3"
  },
  "language_info": {
   "codemirror_mode": {
    "name": "ipython",
    "version": 3
   },
   "file_extension": ".py",
   "mimetype": "text/x-python",
   "name": "python",
   "nbconvert_exporter": "python",
   "pygments_lexer": "ipython3",
   "version": "3.7.4"
  }
 },
 "nbformat": 4,
 "nbformat_minor": 2
}
