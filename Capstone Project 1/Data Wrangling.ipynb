{
 "cells": [
  {
   "cell_type": "markdown",
   "metadata": {},
   "source": [
    "# Data Wrangling"
   ]
  },
  {
   "cell_type": "markdown",
   "metadata": {},
   "source": [
    "In this notebook, we import and explore the data, get rid of the outliers, and also wrangle the data into the format that is useful for further analysis."
   ]
  },
  {
   "cell_type": "markdown",
   "metadata": {},
   "source": [
    "## Loading modules"
   ]
  },
  {
   "cell_type": "code",
   "execution_count": 1,
   "metadata": {},
   "outputs": [],
   "source": [
    "import pandas as pd\n",
    "import matplotlib.pyplot as plt\n",
    "import seaborn as sns\n",
    "from collections import Counter"
   ]
  },
  {
   "cell_type": "markdown",
   "metadata": {},
   "source": [
    "## Loading and exploring the data"
   ]
  },
  {
   "cell_type": "markdown",
   "metadata": {},
   "source": [
    "Uploading 'RAW_recipes.csv' and 'RAW_interactions.csv' files from https://www.kaggle.com/shuyangli94/food-com-recipes-and-user-interactions into Pandas dataframes"
   ]
  },
  {
   "cell_type": "code",
   "execution_count": 2,
   "metadata": {},
   "outputs": [],
   "source": [
    "recipes = pd.read_csv('RAW_recipes.csv')\n",
    "interactions = pd.read_csv('RAW_interactions.csv')"
   ]
  },
  {
   "cell_type": "code",
   "execution_count": 3,
   "metadata": {},
   "outputs": [
    {
     "name": "stdout",
     "output_type": "stream",
     "text": [
      "Recipes: (231637, 12) , Interactions: (1132367, 5)\n"
     ]
    }
   ],
   "source": [
    "print(\"Recipes:\",recipes.shape,\",\",\"Interactions:\", interactions.shape)"
   ]
  },
  {
   "cell_type": "code",
   "execution_count": 4,
   "metadata": {},
   "outputs": [
    {
     "data": {
      "text/html": [
       "<div>\n",
       "<style scoped>\n",
       "    .dataframe tbody tr th:only-of-type {\n",
       "        vertical-align: middle;\n",
       "    }\n",
       "\n",
       "    .dataframe tbody tr th {\n",
       "        vertical-align: top;\n",
       "    }\n",
       "\n",
       "    .dataframe thead th {\n",
       "        text-align: right;\n",
       "    }\n",
       "</style>\n",
       "<table border=\"1\" class=\"dataframe\">\n",
       "  <thead>\n",
       "    <tr style=\"text-align: right;\">\n",
       "      <th></th>\n",
       "      <th>name</th>\n",
       "      <th>id</th>\n",
       "      <th>minutes</th>\n",
       "      <th>contributor_id</th>\n",
       "      <th>submitted</th>\n",
       "      <th>tags</th>\n",
       "      <th>nutrition</th>\n",
       "      <th>n_steps</th>\n",
       "      <th>steps</th>\n",
       "      <th>description</th>\n",
       "      <th>ingredients</th>\n",
       "      <th>n_ingredients</th>\n",
       "    </tr>\n",
       "  </thead>\n",
       "  <tbody>\n",
       "    <tr>\n",
       "      <td>0</td>\n",
       "      <td>arriba   baked winter squash mexican style</td>\n",
       "      <td>137739</td>\n",
       "      <td>55</td>\n",
       "      <td>47892</td>\n",
       "      <td>2005-09-16</td>\n",
       "      <td>['60-minutes-or-less', 'time-to-make', 'course...</td>\n",
       "      <td>[51.5, 0.0, 13.0, 0.0, 2.0, 0.0, 4.0]</td>\n",
       "      <td>11</td>\n",
       "      <td>['make a choice and proceed with recipe', 'dep...</td>\n",
       "      <td>autumn is my favorite time of year to cook! th...</td>\n",
       "      <td>['winter squash', 'mexican seasoning', 'mixed ...</td>\n",
       "      <td>7</td>\n",
       "    </tr>\n",
       "    <tr>\n",
       "      <td>1</td>\n",
       "      <td>a bit different  breakfast pizza</td>\n",
       "      <td>31490</td>\n",
       "      <td>30</td>\n",
       "      <td>26278</td>\n",
       "      <td>2002-06-17</td>\n",
       "      <td>['30-minutes-or-less', 'time-to-make', 'course...</td>\n",
       "      <td>[173.4, 18.0, 0.0, 17.0, 22.0, 35.0, 1.0]</td>\n",
       "      <td>9</td>\n",
       "      <td>['preheat oven to 425 degrees f', 'press dough...</td>\n",
       "      <td>this recipe calls for the crust to be prebaked...</td>\n",
       "      <td>['prepared pizza crust', 'sausage patty', 'egg...</td>\n",
       "      <td>6</td>\n",
       "    </tr>\n",
       "    <tr>\n",
       "      <td>2</td>\n",
       "      <td>all in the kitchen  chili</td>\n",
       "      <td>112140</td>\n",
       "      <td>130</td>\n",
       "      <td>196586</td>\n",
       "      <td>2005-02-25</td>\n",
       "      <td>['time-to-make', 'course', 'preparation', 'mai...</td>\n",
       "      <td>[269.8, 22.0, 32.0, 48.0, 39.0, 27.0, 5.0]</td>\n",
       "      <td>6</td>\n",
       "      <td>['brown ground beef in large pot', 'add choppe...</td>\n",
       "      <td>this modified version of 'mom's' chili was a h...</td>\n",
       "      <td>['ground beef', 'yellow onions', 'diced tomato...</td>\n",
       "      <td>13</td>\n",
       "    </tr>\n",
       "  </tbody>\n",
       "</table>\n",
       "</div>"
      ],
      "text/plain": [
       "                                         name      id  minutes  \\\n",
       "0  arriba   baked winter squash mexican style  137739       55   \n",
       "1            a bit different  breakfast pizza   31490       30   \n",
       "2                   all in the kitchen  chili  112140      130   \n",
       "\n",
       "   contributor_id   submitted  \\\n",
       "0           47892  2005-09-16   \n",
       "1           26278  2002-06-17   \n",
       "2          196586  2005-02-25   \n",
       "\n",
       "                                                tags  \\\n",
       "0  ['60-minutes-or-less', 'time-to-make', 'course...   \n",
       "1  ['30-minutes-or-less', 'time-to-make', 'course...   \n",
       "2  ['time-to-make', 'course', 'preparation', 'mai...   \n",
       "\n",
       "                                    nutrition  n_steps  \\\n",
       "0       [51.5, 0.0, 13.0, 0.0, 2.0, 0.0, 4.0]       11   \n",
       "1   [173.4, 18.0, 0.0, 17.0, 22.0, 35.0, 1.0]        9   \n",
       "2  [269.8, 22.0, 32.0, 48.0, 39.0, 27.0, 5.0]        6   \n",
       "\n",
       "                                               steps  \\\n",
       "0  ['make a choice and proceed with recipe', 'dep...   \n",
       "1  ['preheat oven to 425 degrees f', 'press dough...   \n",
       "2  ['brown ground beef in large pot', 'add choppe...   \n",
       "\n",
       "                                         description  \\\n",
       "0  autumn is my favorite time of year to cook! th...   \n",
       "1  this recipe calls for the crust to be prebaked...   \n",
       "2  this modified version of 'mom's' chili was a h...   \n",
       "\n",
       "                                         ingredients  n_ingredients  \n",
       "0  ['winter squash', 'mexican seasoning', 'mixed ...              7  \n",
       "1  ['prepared pizza crust', 'sausage patty', 'egg...              6  \n",
       "2  ['ground beef', 'yellow onions', 'diced tomato...             13  "
      ]
     },
     "execution_count": 4,
     "metadata": {},
     "output_type": "execute_result"
    }
   ],
   "source": [
    "recipes.head(3)"
   ]
  },
  {
   "cell_type": "code",
   "execution_count": 5,
   "metadata": {},
   "outputs": [
    {
     "data": {
      "text/plain": [
       "231637"
      ]
     },
     "execution_count": 5,
     "metadata": {},
     "output_type": "execute_result"
    }
   ],
   "source": [
    "len(recipes['id'].unique())"
   ]
  },
  {
   "cell_type": "code",
   "execution_count": 6,
   "metadata": {},
   "outputs": [
    {
     "data": {
      "text/html": [
       "<div>\n",
       "<style scoped>\n",
       "    .dataframe tbody tr th:only-of-type {\n",
       "        vertical-align: middle;\n",
       "    }\n",
       "\n",
       "    .dataframe tbody tr th {\n",
       "        vertical-align: top;\n",
       "    }\n",
       "\n",
       "    .dataframe thead th {\n",
       "        text-align: right;\n",
       "    }\n",
       "</style>\n",
       "<table border=\"1\" class=\"dataframe\">\n",
       "  <thead>\n",
       "    <tr style=\"text-align: right;\">\n",
       "      <th></th>\n",
       "      <th>user_id</th>\n",
       "      <th>recipe_id</th>\n",
       "      <th>date</th>\n",
       "      <th>rating</th>\n",
       "      <th>review</th>\n",
       "    </tr>\n",
       "  </thead>\n",
       "  <tbody>\n",
       "    <tr>\n",
       "      <td>0</td>\n",
       "      <td>38094</td>\n",
       "      <td>40893</td>\n",
       "      <td>2003-02-17</td>\n",
       "      <td>4</td>\n",
       "      <td>Great with a salad. Cooked on top of stove for...</td>\n",
       "    </tr>\n",
       "    <tr>\n",
       "      <td>1</td>\n",
       "      <td>1293707</td>\n",
       "      <td>40893</td>\n",
       "      <td>2011-12-21</td>\n",
       "      <td>5</td>\n",
       "      <td>So simple, so delicious! Great for chilly fall...</td>\n",
       "    </tr>\n",
       "    <tr>\n",
       "      <td>2</td>\n",
       "      <td>8937</td>\n",
       "      <td>44394</td>\n",
       "      <td>2002-12-01</td>\n",
       "      <td>4</td>\n",
       "      <td>This worked very well and is EASY.  I used not...</td>\n",
       "    </tr>\n",
       "  </tbody>\n",
       "</table>\n",
       "</div>"
      ],
      "text/plain": [
       "   user_id  recipe_id        date  rating  \\\n",
       "0    38094      40893  2003-02-17       4   \n",
       "1  1293707      40893  2011-12-21       5   \n",
       "2     8937      44394  2002-12-01       4   \n",
       "\n",
       "                                              review  \n",
       "0  Great with a salad. Cooked on top of stove for...  \n",
       "1  So simple, so delicious! Great for chilly fall...  \n",
       "2  This worked very well and is EASY.  I used not...  "
      ]
     },
     "execution_count": 6,
     "metadata": {},
     "output_type": "execute_result"
    }
   ],
   "source": [
    "interactions.head(3)"
   ]
  },
  {
   "cell_type": "code",
   "execution_count": 7,
   "metadata": {},
   "outputs": [
    {
     "data": {
      "text/plain": [
       "226570"
      ]
     },
     "execution_count": 7,
     "metadata": {},
     "output_type": "execute_result"
    }
   ],
   "source": [
    "len(interactions['user_id'].unique())"
   ]
  },
  {
   "cell_type": "markdown",
   "metadata": {},
   "source": [
    "There are 231,637 unique recipe ids, represented by the equal number of rows in the recipes dataframe. The recipes are reviewed by 226,570 unique users, represented by 1,132,367 interactions (reviews) in the interactions dataframe"
   ]
  },
  {
   "cell_type": "markdown",
   "metadata": {},
   "source": [
    "## Removing Irrelevant Data "
   ]
  },
  {
   "cell_type": "markdown",
   "metadata": {},
   "source": [
    "For the goals of the analysis for the capstone project we only need recipes that have over 10 reviews. To do this, we first explore the outliers with less than 10 reviews in the interactions dataframe :"
   ]
  },
  {
   "cell_type": "code",
   "execution_count": 8,
   "metadata": {},
   "outputs": [
    {
     "data": {
      "text/plain": [
       "recipe_id\n",
       "38    4\n",
       "39    1\n",
       "40    9\n",
       "Name: review, dtype: int64"
      ]
     },
     "execution_count": 8,
     "metadata": {},
     "output_type": "execute_result"
    }
   ],
   "source": [
    "s=interactions.groupby('recipe_id')['review'].count()\n",
    "s.head(3)"
   ]
  },
  {
   "cell_type": "code",
   "execution_count": 9,
   "metadata": {},
   "outputs": [
    {
     "data": {
      "text/plain": [
       "Text(0.5, 1.0, 'Number of recipes by number of reviews')"
      ]
     },
     "execution_count": 9,
     "metadata": {},
     "output_type": "execute_result"
    },
    {
     "data": {
      "image/png": "[encoded data removed]",
      "text/plain": [
       "<Figure size 432x288 with 1 Axes>"
      ]
     },
     "metadata": {
      "needs_background": "light"
     },
     "output_type": "display_data"
    }
   ],
   "source": [
    "rs=s.reset_index()\n",
    "rs.head(3)\n",
    "plt.hist(rs.review, bins=[0, 10, 20, 30, 40, 50, 100])\n",
    "plt.title('Number of recipes by number of reviews')"
   ]
  },
  {
   "cell_type": "markdown",
   "metadata": {},
   "source": [
    "As the histogram shows, it turns out that there are a lot of recipes with less than 10 reviews. Specifically, there are 210,244 recipes with less than 10 reviews and 18,762 recipes with over 10 reviews, as shown in the code below:"
   ]
  },
  {
   "cell_type": "code",
   "execution_count": 10,
   "metadata": {},
   "outputs": [
    {
     "name": "stdout",
     "output_type": "stream",
     "text": [
      "Number of recipes with < 10 reviews: 210244\n",
      "Number of recipes with > 10 reviews: 18762\n"
     ]
    },
    {
     "data": {
      "text/plain": [
       "pandas.core.series.Series"
      ]
     },
     "execution_count": 10,
     "metadata": {},
     "output_type": "execute_result"
    }
   ],
   "source": [
    "recipesbelow10=s[s<10].sort_values()\n",
    "print('Number of recipes with < 10 reviews:', len(recipesbelow10))\n",
    "recipesover10=s[s>10].sort_values()\n",
    "print('Number of recipes with > 10 reviews:', len(recipesover10))\n",
    "type(recipesover10)"
   ]
  },
  {
   "cell_type": "markdown",
   "metadata": {},
   "source": [
    "We now need to create new dataframes for recipes with reviews over 10."
   ]
  },
  {
   "cell_type": "code",
   "execution_count": 11,
   "metadata": {
    "scrolled": true
   },
   "outputs": [
    {
     "data": {
      "text/html": [
       "<div>\n",
       "<style scoped>\n",
       "    .dataframe tbody tr th:only-of-type {\n",
       "        vertical-align: middle;\n",
       "    }\n",
       "\n",
       "    .dataframe tbody tr th {\n",
       "        vertical-align: top;\n",
       "    }\n",
       "\n",
       "    .dataframe thead th {\n",
       "        text-align: right;\n",
       "    }\n",
       "</style>\n",
       "<table border=\"1\" class=\"dataframe\">\n",
       "  <thead>\n",
       "    <tr style=\"text-align: right;\">\n",
       "      <th></th>\n",
       "      <th>index</th>\n",
       "      <th>name</th>\n",
       "      <th>id</th>\n",
       "      <th>minutes</th>\n",
       "      <th>contributor_id</th>\n",
       "      <th>submitted</th>\n",
       "      <th>tags</th>\n",
       "      <th>nutrition</th>\n",
       "      <th>n_steps</th>\n",
       "      <th>steps</th>\n",
       "      <th>description</th>\n",
       "      <th>ingredients</th>\n",
       "      <th>n_ingredients</th>\n",
       "    </tr>\n",
       "  </thead>\n",
       "  <tbody>\n",
       "    <tr>\n",
       "      <td>0</td>\n",
       "      <td>15</td>\n",
       "      <td>chicken lickin  good  pork chops</td>\n",
       "      <td>63986</td>\n",
       "      <td>500</td>\n",
       "      <td>14664</td>\n",
       "      <td>2003-06-06</td>\n",
       "      <td>['weeknight', 'time-to-make', 'course', 'main-...</td>\n",
       "      <td>[105.7, 8.0, 0.0, 26.0, 5.0, 4.0, 3.0]</td>\n",
       "      <td>5</td>\n",
       "      <td>['dredge pork chops in mixture of flour , salt...</td>\n",
       "      <td>here's and old standby i enjoy from time to ti...</td>\n",
       "      <td>['lean pork chops', 'flour', 'salt', 'dry must...</td>\n",
       "      <td>7</td>\n",
       "    </tr>\n",
       "    <tr>\n",
       "      <td>1</td>\n",
       "      <td>16</td>\n",
       "      <td>chile rellenos</td>\n",
       "      <td>43026</td>\n",
       "      <td>45</td>\n",
       "      <td>52268</td>\n",
       "      <td>2002-10-14</td>\n",
       "      <td>['60-minutes-or-less', 'time-to-make', 'course...</td>\n",
       "      <td>[94.0, 10.0, 0.0, 11.0, 11.0, 21.0, 0.0]</td>\n",
       "      <td>9</td>\n",
       "      <td>['drain green chiles', 'sprinkle cornstarch on...</td>\n",
       "      <td>a favorite from a local restaurant no longer i...</td>\n",
       "      <td>['egg roll wrap', 'whole green chilies', 'chee...</td>\n",
       "      <td>5</td>\n",
       "    </tr>\n",
       "    <tr>\n",
       "      <td>2</td>\n",
       "      <td>17</td>\n",
       "      <td>chinese  candy</td>\n",
       "      <td>23933</td>\n",
       "      <td>15</td>\n",
       "      <td>35268</td>\n",
       "      <td>2002-03-29</td>\n",
       "      <td>['15-minutes-or-less', 'time-to-make', 'course...</td>\n",
       "      <td>[232.7, 21.0, 77.0, 4.0, 6.0, 38.0, 8.0]</td>\n",
       "      <td>4</td>\n",
       "      <td>['melt butterscotch chips in heavy saucepan ov...</td>\n",
       "      <td>a little different, and oh so good. i include ...</td>\n",
       "      <td>['butterscotch chips', 'chinese noodles', 'sal...</td>\n",
       "      <td>3</td>\n",
       "    </tr>\n",
       "  </tbody>\n",
       "</table>\n",
       "</div>"
      ],
      "text/plain": [
       "   index                              name     id  minutes  contributor_id  \\\n",
       "0     15  chicken lickin  good  pork chops  63986      500           14664   \n",
       "1     16                    chile rellenos  43026       45           52268   \n",
       "2     17                    chinese  candy  23933       15           35268   \n",
       "\n",
       "    submitted                                               tags  \\\n",
       "0  2003-06-06  ['weeknight', 'time-to-make', 'course', 'main-...   \n",
       "1  2002-10-14  ['60-minutes-or-less', 'time-to-make', 'course...   \n",
       "2  2002-03-29  ['15-minutes-or-less', 'time-to-make', 'course...   \n",
       "\n",
       "                                  nutrition  n_steps  \\\n",
       "0    [105.7, 8.0, 0.0, 26.0, 5.0, 4.0, 3.0]        5   \n",
       "1  [94.0, 10.0, 0.0, 11.0, 11.0, 21.0, 0.0]        9   \n",
       "2  [232.7, 21.0, 77.0, 4.0, 6.0, 38.0, 8.0]        4   \n",
       "\n",
       "                                               steps  \\\n",
       "0  ['dredge pork chops in mixture of flour , salt...   \n",
       "1  ['drain green chiles', 'sprinkle cornstarch on...   \n",
       "2  ['melt butterscotch chips in heavy saucepan ov...   \n",
       "\n",
       "                                         description  \\\n",
       "0  here's and old standby i enjoy from time to ti...   \n",
       "1  a favorite from a local restaurant no longer i...   \n",
       "2  a little different, and oh so good. i include ...   \n",
       "\n",
       "                                         ingredients  n_ingredients  \n",
       "0  ['lean pork chops', 'flour', 'salt', 'dry must...              7  \n",
       "1  ['egg roll wrap', 'whole green chilies', 'chee...              5  \n",
       "2  ['butterscotch chips', 'chinese noodles', 'sal...              3  "
      ]
     },
     "execution_count": 11,
     "metadata": {},
     "output_type": "execute_result"
    }
   ],
   "source": [
    "#filter recipes to include only the ones with over 10 reviews\n",
    "recipes_df=recipes[recipes['id'].isin(recipesover10.index)].reset_index()\n",
    "recipes_df.head(3)"
   ]
  },
  {
   "cell_type": "code",
   "execution_count": 12,
   "metadata": {},
   "outputs": [
    {
     "data": {
      "text/html": [
       "<div>\n",
       "<style scoped>\n",
       "    .dataframe tbody tr th:only-of-type {\n",
       "        vertical-align: middle;\n",
       "    }\n",
       "\n",
       "    .dataframe tbody tr th {\n",
       "        vertical-align: top;\n",
       "    }\n",
       "\n",
       "    .dataframe thead th {\n",
       "        text-align: right;\n",
       "    }\n",
       "</style>\n",
       "<table border=\"1\" class=\"dataframe\">\n",
       "  <thead>\n",
       "    <tr style=\"text-align: right;\">\n",
       "      <th></th>\n",
       "      <th>index</th>\n",
       "      <th>user_id</th>\n",
       "      <th>recipe_id</th>\n",
       "      <th>date</th>\n",
       "      <th>rating</th>\n",
       "      <th>review</th>\n",
       "    </tr>\n",
       "  </thead>\n",
       "  <tbody>\n",
       "    <tr>\n",
       "      <td>0</td>\n",
       "      <td>31</td>\n",
       "      <td>56680</td>\n",
       "      <td>79222</td>\n",
       "      <td>2006-11-11</td>\n",
       "      <td>5</td>\n",
       "      <td>Oh, This was wonderful!  Had a soup and salad ...</td>\n",
       "    </tr>\n",
       "    <tr>\n",
       "      <td>1</td>\n",
       "      <td>43</td>\n",
       "      <td>183565</td>\n",
       "      <td>79222</td>\n",
       "      <td>2006-02-13</td>\n",
       "      <td>5</td>\n",
       "      <td>Wow!  My family loves this recipe and it is a ...</td>\n",
       "    </tr>\n",
       "    <tr>\n",
       "      <td>2</td>\n",
       "      <td>44</td>\n",
       "      <td>101823</td>\n",
       "      <td>79222</td>\n",
       "      <td>2006-03-21</td>\n",
       "      <td>5</td>\n",
       "      <td>Excellent chowder.  This was the perfect warm-...</td>\n",
       "    </tr>\n",
       "  </tbody>\n",
       "</table>\n",
       "</div>"
      ],
      "text/plain": [
       "   index  user_id  recipe_id        date  rating  \\\n",
       "0     31    56680      79222  2006-11-11       5   \n",
       "1     43   183565      79222  2006-02-13       5   \n",
       "2     44   101823      79222  2006-03-21       5   \n",
       "\n",
       "                                              review  \n",
       "0  Oh, This was wonderful!  Had a soup and salad ...  \n",
       "1  Wow!  My family loves this recipe and it is a ...  \n",
       "2  Excellent chowder.  This was the perfect warm-...  "
      ]
     },
     "execution_count": 12,
     "metadata": {},
     "output_type": "execute_result"
    }
   ],
   "source": [
    "#filter reviews to include only the recipes with over 10 reviews\n",
    "reviews_df=interactions[interactions['recipe_id'].isin(recipesover10.index)].reset_index()\n",
    "reviews_df.head(3)"
   ]
  },
  {
   "cell_type": "code",
   "execution_count": 13,
   "metadata": {},
   "outputs": [
    {
     "data": {
      "text/plain": [
       "18762"
      ]
     },
     "execution_count": 13,
     "metadata": {},
     "output_type": "execute_result"
    }
   ],
   "source": [
    "len(recipes_df)"
   ]
  },
  {
   "cell_type": "code",
   "execution_count": 14,
   "metadata": {},
   "outputs": [
    {
     "data": {
      "text/plain": [
       "577837"
      ]
     },
     "execution_count": 14,
     "metadata": {},
     "output_type": "execute_result"
    }
   ],
   "source": [
    "len(reviews_df)"
   ]
  },
  {
   "cell_type": "markdown",
   "metadata": {},
   "source": [
    "## Missing Values"
   ]
  },
  {
   "cell_type": "markdown",
   "metadata": {},
   "source": [
    "To check on misisng values, we loop over the columns of the dataframe and print the names of the columns where the Null values are present:"
   ]
  },
  {
   "cell_type": "code",
   "execution_count": 15,
   "metadata": {
    "scrolled": false
   },
   "outputs": [
    {
     "name": "stdout",
     "output_type": "stream",
     "text": [
      "description\n"
     ]
    }
   ],
   "source": [
    "for col in recipes_df.columns:\n",
    "        df = recipes_df[recipes_df[col].isnull()==True]\n",
    "        if df.empty == False:\n",
    "            print(col)\n",
    "        else:\n",
    "            continue"
   ]
  },
  {
   "cell_type": "markdown",
   "metadata": {},
   "source": [
    "Turns out that there are 406 missing values in the description column:"
   ]
  },
  {
   "cell_type": "code",
   "execution_count": 16,
   "metadata": {},
   "outputs": [
    {
     "data": {
      "text/plain": [
       "406"
      ]
     },
     "execution_count": 16,
     "metadata": {},
     "output_type": "execute_result"
    }
   ],
   "source": [
    "len(recipes_df[recipes_df['description'].isnull()])"
   ]
  },
  {
   "cell_type": "markdown",
   "metadata": {},
   "source": [
    "We decided to keep the recipes with missing descriptions in the dataframe for now."
   ]
  },
  {
   "cell_type": "markdown",
   "metadata": {},
   "source": [
    "## 0 Star Ratings"
   ]
  },
  {
   "cell_type": "markdown",
   "metadata": {},
   "source": [
    "There are some reviews with rating of 0:"
   ]
  },
  {
   "cell_type": "code",
   "execution_count": 17,
   "metadata": {},
   "outputs": [
    {
     "data": {
      "text/plain": [
       "0.05702992366359371"
      ]
     },
     "execution_count": 17,
     "metadata": {},
     "output_type": "execute_result"
    }
   ],
   "source": [
    "len(reviews_df[reviews_df.rating==0])/len(reviews_df)"
   ]
  },
  {
   "cell_type": "code",
   "execution_count": 18,
   "metadata": {},
   "outputs": [
    {
     "data": {
      "text/plain": [
       "0.05702992366359371"
      ]
     },
     "execution_count": 18,
     "metadata": {},
     "output_type": "execute_result"
    }
   ],
   "source": [
    "len(reviews_df.index[reviews_df.rating==0].unique())/reviews_df.index.nunique()"
   ]
  },
  {
   "cell_type": "code",
   "execution_count": 19,
   "metadata": {},
   "outputs": [],
   "source": [
    "reviews_df.set_index('recipe_id', inplace=True)"
   ]
  },
  {
   "cell_type": "code",
   "execution_count": 20,
   "metadata": {},
   "outputs": [
    {
     "data": {
      "text/plain": [
       "['Very easy and so very delicious. A family favorite!!',\n",
       " 'it&#039;s in the oven now...but i&#039;m not really impressed with the recipe instructions, could have been a little more informative like wait times',\n",
       " 'Ok, today I make my first loaf of bread EVER!\\nI will report the results!\\nKind of surprised by margarine in the recipe. I didn&#039;t think anyone used that anymore. I&#039;ll use butter.',\n",
       " 'I made this tonight...and made errors...I should have added extra flour before turning it out to be kneaded. Compensating made it messy..but after all was said and done...the bread turned out really delicious. The instructions could be modified to give more guidance to people without baking knowledge(like me)..... But again....I am sitting here eating a hot slice with butter on it....and I am very happy!',\n",
       " 'followed the recipe and baked it in a traeger pellet grill. turned out perfect.']"
      ]
     },
     "execution_count": 20,
     "metadata": {},
     "output_type": "execute_result"
    }
   ],
   "source": [
    "reviews_df.review[reviews_df.rating==0][34620].to_list()"
   ]
  },
  {
   "cell_type": "markdown",
   "metadata": {},
   "source": [
    "0 star ratings are present for 58% of unique recipe ids and represent 6% of all the reviews in the reviews dataframe. <br>\n",
    "By reading the reviews for 0 star ratings it is evident that some of them were meant to be a higher rating and were probably coded as 0 star by error. <br>\n",
    "Nevertheless, we checked food.com where the reviews were collected, and the website allows 0 star ratings. So we will keep 0 star ratings in the reviews dataframe."
   ]
  },
  {
   "cell_type": "markdown",
   "metadata": {},
   "source": [
    "## Recipe Tags"
   ]
  },
  {
   "cell_type": "markdown",
   "metadata": {},
   "source": [
    "For part 2 of EDA we want to investigate the tags column of the recipes dataframe. "
   ]
  },
  {
   "cell_type": "markdown",
   "metadata": {},
   "source": [
    "First, we want to create a list of unique tags:"
   ]
  },
  {
   "cell_type": "code",
   "execution_count": 21,
   "metadata": {},
   "outputs": [
    {
     "name": "stdout",
     "output_type": "stream",
     "text": [
      "[\"'weeknight'\", \" 'time-to-make'\", \" 'course'\", \" 'main-ingredient'\", \" 'preparation'\", \" 'main-dish'\", \" 'pork'\", \" 'crock-pot-slow-cooker'\", \" 'dietary'\", \" 'meat'\"]\n"
     ]
    }
   ],
   "source": [
    "# create a list of unique tags:\n",
    "tags_list=[]\n",
    "for i in range(0,len(recipes_df['tags'])):\n",
    "    for val in recipes_df['tags'][i].strip('[]').strip(' ').split(','):\n",
    "        if val in tags_list:\n",
    "            continue\n",
    "        else:\n",
    "            tags_list.append(val)\n",
    "print((tags_list[0:10]))"
   ]
  },
  {
   "cell_type": "code",
   "execution_count": 22,
   "metadata": {},
   "outputs": [],
   "source": [
    "# to double check that the tags in the list are indeeed unique:\n",
    "tags_list=list(set(tags_list))"
   ]
  },
  {
   "cell_type": "markdown",
   "metadata": {},
   "source": [
    "As it turns out below, the tags column in the recipes dataframe is similar to the ingredients column in that the individual values look like a list, but are actually strings:"
   ]
  },
  {
   "cell_type": "code",
   "execution_count": 23,
   "metadata": {},
   "outputs": [
    {
     "data": {
      "text/plain": [
       "str"
      ]
     },
     "execution_count": 23,
     "metadata": {},
     "output_type": "execute_result"
    }
   ],
   "source": [
    "type(recipes_df.tags[0])"
   ]
  },
  {
   "cell_type": "markdown",
   "metadata": {},
   "source": [
    "### Tags Matrix"
   ]
  },
  {
   "cell_type": "markdown",
   "metadata": {},
   "source": [
    "We want to create a dataframe that will look like a matrix of recipe ids in rows, all individual tags as columns with values being 1 if the ingredient is present in the recipe and 0 if not."
   ]
  },
  {
   "cell_type": "markdown",
   "metadata": {},
   "source": [
    "1) To do this, the first step is to add a column tags2 to the recipes dataframe where the values from the tags column are converted to a list:"
   ]
  },
  {
   "cell_type": "code",
   "execution_count": 24,
   "metadata": {},
   "outputs": [
    {
     "data": {
      "text/html": [
       "<div>\n",
       "<style scoped>\n",
       "    .dataframe tbody tr th:only-of-type {\n",
       "        vertical-align: middle;\n",
       "    }\n",
       "\n",
       "    .dataframe tbody tr th {\n",
       "        vertical-align: top;\n",
       "    }\n",
       "\n",
       "    .dataframe thead th {\n",
       "        text-align: right;\n",
       "    }\n",
       "</style>\n",
       "<table border=\"1\" class=\"dataframe\">\n",
       "  <thead>\n",
       "    <tr style=\"text-align: right;\">\n",
       "      <th></th>\n",
       "      <th>index</th>\n",
       "      <th>name</th>\n",
       "      <th>id</th>\n",
       "      <th>minutes</th>\n",
       "      <th>contributor_id</th>\n",
       "      <th>submitted</th>\n",
       "      <th>tags</th>\n",
       "      <th>nutrition</th>\n",
       "      <th>n_steps</th>\n",
       "      <th>steps</th>\n",
       "      <th>description</th>\n",
       "      <th>ingredients</th>\n",
       "      <th>n_ingredients</th>\n",
       "      <th>tags2</th>\n",
       "    </tr>\n",
       "  </thead>\n",
       "  <tbody>\n",
       "    <tr>\n",
       "      <td>0</td>\n",
       "      <td>15</td>\n",
       "      <td>chicken lickin  good  pork chops</td>\n",
       "      <td>63986</td>\n",
       "      <td>500</td>\n",
       "      <td>14664</td>\n",
       "      <td>2003-06-06</td>\n",
       "      <td>['weeknight', 'time-to-make', 'course', 'main-...</td>\n",
       "      <td>[105.7, 8.0, 0.0, 26.0, 5.0, 4.0, 3.0]</td>\n",
       "      <td>5</td>\n",
       "      <td>['dredge pork chops in mixture of flour , salt...</td>\n",
       "      <td>here's and old standby i enjoy from time to ti...</td>\n",
       "      <td>['lean pork chops', 'flour', 'salt', 'dry must...</td>\n",
       "      <td>7</td>\n",
       "      <td>[['weeknight',  'time-to-make',  'course',  'm...</td>\n",
       "    </tr>\n",
       "    <tr>\n",
       "      <td>1</td>\n",
       "      <td>16</td>\n",
       "      <td>chile rellenos</td>\n",
       "      <td>43026</td>\n",
       "      <td>45</td>\n",
       "      <td>52268</td>\n",
       "      <td>2002-10-14</td>\n",
       "      <td>['60-minutes-or-less', 'time-to-make', 'course...</td>\n",
       "      <td>[94.0, 10.0, 0.0, 11.0, 11.0, 21.0, 0.0]</td>\n",
       "      <td>9</td>\n",
       "      <td>['drain green chiles', 'sprinkle cornstarch on...</td>\n",
       "      <td>a favorite from a local restaurant no longer i...</td>\n",
       "      <td>['egg roll wrap', 'whole green chilies', 'chee...</td>\n",
       "      <td>5</td>\n",
       "      <td>[['60-minutes-or-less',  'time-to-make',  'cou...</td>\n",
       "    </tr>\n",
       "    <tr>\n",
       "      <td>2</td>\n",
       "      <td>17</td>\n",
       "      <td>chinese  candy</td>\n",
       "      <td>23933</td>\n",
       "      <td>15</td>\n",
       "      <td>35268</td>\n",
       "      <td>2002-03-29</td>\n",
       "      <td>['15-minutes-or-less', 'time-to-make', 'course...</td>\n",
       "      <td>[232.7, 21.0, 77.0, 4.0, 6.0, 38.0, 8.0]</td>\n",
       "      <td>4</td>\n",
       "      <td>['melt butterscotch chips in heavy saucepan ov...</td>\n",
       "      <td>a little different, and oh so good. i include ...</td>\n",
       "      <td>['butterscotch chips', 'chinese noodles', 'sal...</td>\n",
       "      <td>3</td>\n",
       "      <td>[['15-minutes-or-less',  'time-to-make',  'cou...</td>\n",
       "    </tr>\n",
       "  </tbody>\n",
       "</table>\n",
       "</div>"
      ],
      "text/plain": [
       "   index                              name     id  minutes  contributor_id  \\\n",
       "0     15  chicken lickin  good  pork chops  63986      500           14664   \n",
       "1     16                    chile rellenos  43026       45           52268   \n",
       "2     17                    chinese  candy  23933       15           35268   \n",
       "\n",
       "    submitted                                               tags  \\\n",
       "0  2003-06-06  ['weeknight', 'time-to-make', 'course', 'main-...   \n",
       "1  2002-10-14  ['60-minutes-or-less', 'time-to-make', 'course...   \n",
       "2  2002-03-29  ['15-minutes-or-less', 'time-to-make', 'course...   \n",
       "\n",
       "                                  nutrition  n_steps  \\\n",
       "0    [105.7, 8.0, 0.0, 26.0, 5.0, 4.0, 3.0]        5   \n",
       "1  [94.0, 10.0, 0.0, 11.0, 11.0, 21.0, 0.0]        9   \n",
       "2  [232.7, 21.0, 77.0, 4.0, 6.0, 38.0, 8.0]        4   \n",
       "\n",
       "                                               steps  \\\n",
       "0  ['dredge pork chops in mixture of flour , salt...   \n",
       "1  ['drain green chiles', 'sprinkle cornstarch on...   \n",
       "2  ['melt butterscotch chips in heavy saucepan ov...   \n",
       "\n",
       "                                         description  \\\n",
       "0  here's and old standby i enjoy from time to ti...   \n",
       "1  a favorite from a local restaurant no longer i...   \n",
       "2  a little different, and oh so good. i include ...   \n",
       "\n",
       "                                         ingredients  n_ingredients  \\\n",
       "0  ['lean pork chops', 'flour', 'salt', 'dry must...              7   \n",
       "1  ['egg roll wrap', 'whole green chilies', 'chee...              5   \n",
       "2  ['butterscotch chips', 'chinese noodles', 'sal...              3   \n",
       "\n",
       "                                               tags2  \n",
       "0  [['weeknight',  'time-to-make',  'course',  'm...  \n",
       "1  [['60-minutes-or-less',  'time-to-make',  'cou...  \n",
       "2  [['15-minutes-or-less',  'time-to-make',  'cou...  "
      ]
     },
     "execution_count": 24,
     "metadata": {},
     "output_type": "execute_result"
    }
   ],
   "source": [
    "# convert 'tags' column from string type to a list:\n",
    "recipes_df['tags2']=recipes_df['tags'].apply(lambda x: x.split(','))\n",
    "recipes_df.head(3)"
   ]
  },
  {
   "cell_type": "markdown",
   "metadata": {},
   "source": [
    "2) Then we attach a column called tags_check to the recipes dataframe. This column contains a list of unique tags from all the recipes:"
   ]
  },
  {
   "cell_type": "code",
   "execution_count": 25,
   "metadata": {},
   "outputs": [
    {
     "data": {
      "text/html": [
       "<div>\n",
       "<style scoped>\n",
       "    .dataframe tbody tr th:only-of-type {\n",
       "        vertical-align: middle;\n",
       "    }\n",
       "\n",
       "    .dataframe tbody tr th {\n",
       "        vertical-align: top;\n",
       "    }\n",
       "\n",
       "    .dataframe thead th {\n",
       "        text-align: right;\n",
       "    }\n",
       "</style>\n",
       "<table border=\"1\" class=\"dataframe\">\n",
       "  <thead>\n",
       "    <tr style=\"text-align: right;\">\n",
       "      <th></th>\n",
       "      <th>index</th>\n",
       "      <th>name</th>\n",
       "      <th>id</th>\n",
       "      <th>minutes</th>\n",
       "      <th>contributor_id</th>\n",
       "      <th>submitted</th>\n",
       "      <th>tags</th>\n",
       "      <th>nutrition</th>\n",
       "      <th>n_steps</th>\n",
       "      <th>steps</th>\n",
       "      <th>description</th>\n",
       "      <th>ingredients</th>\n",
       "      <th>n_ingredients</th>\n",
       "      <th>tags2</th>\n",
       "      <th>tags_check</th>\n",
       "    </tr>\n",
       "  </thead>\n",
       "  <tbody>\n",
       "    <tr>\n",
       "      <td>0</td>\n",
       "      <td>15</td>\n",
       "      <td>chicken lickin  good  pork chops</td>\n",
       "      <td>63986</td>\n",
       "      <td>500</td>\n",
       "      <td>14664</td>\n",
       "      <td>2003-06-06</td>\n",
       "      <td>['weeknight', 'time-to-make', 'course', 'main-...</td>\n",
       "      <td>[105.7, 8.0, 0.0, 26.0, 5.0, 4.0, 3.0]</td>\n",
       "      <td>5</td>\n",
       "      <td>['dredge pork chops in mixture of flour , salt...</td>\n",
       "      <td>here's and old standby i enjoy from time to ti...</td>\n",
       "      <td>['lean pork chops', 'flour', 'salt', 'dry must...</td>\n",
       "      <td>7</td>\n",
       "      <td>[['weeknight',  'time-to-make',  'course',  'm...</td>\n",
       "      <td>[ 'crusts-pastry-dough-2',  'april-fools-day',...</td>\n",
       "    </tr>\n",
       "    <tr>\n",
       "      <td>1</td>\n",
       "      <td>16</td>\n",
       "      <td>chile rellenos</td>\n",
       "      <td>43026</td>\n",
       "      <td>45</td>\n",
       "      <td>52268</td>\n",
       "      <td>2002-10-14</td>\n",
       "      <td>['60-minutes-or-less', 'time-to-make', 'course...</td>\n",
       "      <td>[94.0, 10.0, 0.0, 11.0, 11.0, 21.0, 0.0]</td>\n",
       "      <td>9</td>\n",
       "      <td>['drain green chiles', 'sprinkle cornstarch on...</td>\n",
       "      <td>a favorite from a local restaurant no longer i...</td>\n",
       "      <td>['egg roll wrap', 'whole green chilies', 'chee...</td>\n",
       "      <td>5</td>\n",
       "      <td>[['60-minutes-or-less',  'time-to-make',  'cou...</td>\n",
       "      <td>[ 'crusts-pastry-dough-2',  'april-fools-day',...</td>\n",
       "    </tr>\n",
       "    <tr>\n",
       "      <td>2</td>\n",
       "      <td>17</td>\n",
       "      <td>chinese  candy</td>\n",
       "      <td>23933</td>\n",
       "      <td>15</td>\n",
       "      <td>35268</td>\n",
       "      <td>2002-03-29</td>\n",
       "      <td>['15-minutes-or-less', 'time-to-make', 'course...</td>\n",
       "      <td>[232.7, 21.0, 77.0, 4.0, 6.0, 38.0, 8.0]</td>\n",
       "      <td>4</td>\n",
       "      <td>['melt butterscotch chips in heavy saucepan ov...</td>\n",
       "      <td>a little different, and oh so good. i include ...</td>\n",
       "      <td>['butterscotch chips', 'chinese noodles', 'sal...</td>\n",
       "      <td>3</td>\n",
       "      <td>[['15-minutes-or-less',  'time-to-make',  'cou...</td>\n",
       "      <td>[ 'crusts-pastry-dough-2',  'april-fools-day',...</td>\n",
       "    </tr>\n",
       "  </tbody>\n",
       "</table>\n",
       "</div>"
      ],
      "text/plain": [
       "   index                              name     id  minutes  contributor_id  \\\n",
       "0     15  chicken lickin  good  pork chops  63986      500           14664   \n",
       "1     16                    chile rellenos  43026       45           52268   \n",
       "2     17                    chinese  candy  23933       15           35268   \n",
       "\n",
       "    submitted                                               tags  \\\n",
       "0  2003-06-06  ['weeknight', 'time-to-make', 'course', 'main-...   \n",
       "1  2002-10-14  ['60-minutes-or-less', 'time-to-make', 'course...   \n",
       "2  2002-03-29  ['15-minutes-or-less', 'time-to-make', 'course...   \n",
       "\n",
       "                                  nutrition  n_steps  \\\n",
       "0    [105.7, 8.0, 0.0, 26.0, 5.0, 4.0, 3.0]        5   \n",
       "1  [94.0, 10.0, 0.0, 11.0, 11.0, 21.0, 0.0]        9   \n",
       "2  [232.7, 21.0, 77.0, 4.0, 6.0, 38.0, 8.0]        4   \n",
       "\n",
       "                                               steps  \\\n",
       "0  ['dredge pork chops in mixture of flour , salt...   \n",
       "1  ['drain green chiles', 'sprinkle cornstarch on...   \n",
       "2  ['melt butterscotch chips in heavy saucepan ov...   \n",
       "\n",
       "                                         description  \\\n",
       "0  here's and old standby i enjoy from time to ti...   \n",
       "1  a favorite from a local restaurant no longer i...   \n",
       "2  a little different, and oh so good. i include ...   \n",
       "\n",
       "                                         ingredients  n_ingredients  \\\n",
       "0  ['lean pork chops', 'flour', 'salt', 'dry must...              7   \n",
       "1  ['egg roll wrap', 'whole green chilies', 'chee...              5   \n",
       "2  ['butterscotch chips', 'chinese noodles', 'sal...              3   \n",
       "\n",
       "                                               tags2  \\\n",
       "0  [['weeknight',  'time-to-make',  'course',  'm...   \n",
       "1  [['60-minutes-or-less',  'time-to-make',  'cou...   \n",
       "2  [['15-minutes-or-less',  'time-to-make',  'cou...   \n",
       "\n",
       "                                          tags_check  \n",
       "0  [ 'crusts-pastry-dough-2',  'april-fools-day',...  \n",
       "1  [ 'crusts-pastry-dough-2',  'april-fools-day',...  \n",
       "2  [ 'crusts-pastry-dough-2',  'april-fools-day',...  "
      ]
     },
     "execution_count": 25,
     "metadata": {},
     "output_type": "execute_result"
    }
   ],
   "source": [
    "recipes_df['tags_check']=[tags_list for n in range(len(recipes_df))]\n",
    "recipes_df.head(3)"
   ]
  },
  {
   "cell_type": "markdown",
   "metadata": {},
   "source": [
    "3) Now we create a function that runs through all the values in the tags_check column and replaces the tag value with 1 if it is present in the recipe and with 0 if it is not present. "
   ]
  },
  {
   "cell_type": "code",
   "execution_count": 26,
   "metadata": {},
   "outputs": [],
   "source": [
    "def tags_check(df, recid, taglist):\n",
    "    taglist=[1 if tag in df['tags'][recid] else 0 for tag in taglist]\n",
    "    return taglist"
   ]
  },
  {
   "cell_type": "markdown",
   "metadata": {},
   "source": [
    "We test the function on one recipe id, \"63986\" (in order to do this, we first need to add the recipe id to the index of the recipes dataframe)"
   ]
  },
  {
   "cell_type": "code",
   "execution_count": 27,
   "metadata": {},
   "outputs": [],
   "source": [
    "recipes_df = recipes_df.set_index('id')"
   ]
  },
  {
   "cell_type": "code",
   "execution_count": 28,
   "metadata": {},
   "outputs": [
    {
     "data": {
      "text/plain": [
       "[0,\n",
       " 0,\n",
       " 0,\n",
       " 0,\n",
       " 0,\n",
       " 0,\n",
       " 0,\n",
       " 0,\n",
       " 0,\n",
       " 0,\n",
       " 0,\n",
       " 0,\n",
       " 0,\n",
       " 0,\n",
       " 0,\n",
       " 0,\n",
       " 0,\n",
       " 0,\n",
       " 0,\n",
       " 0,\n",
       " 0,\n",
       " 0,\n",
       " 0,\n",
       " 0,\n",
       " 0,\n",
       " 0,\n",
       " 0,\n",
       " 0,\n",
       " 0,\n",
       " 0,\n",
       " 0,\n",
       " 0,\n",
       " 0,\n",
       " 0,\n",
       " 0,\n",
       " 0,\n",
       " 0,\n",
       " 0,\n",
       " 0,\n",
       " 0,\n",
       " 0,\n",
       " 0,\n",
       " 0,\n",
       " 0,\n",
       " 0,\n",
       " 0,\n",
       " 0,\n",
       " 0,\n",
       " 0,\n",
       " 0,\n",
       " 0,\n",
       " 0,\n",
       " 0,\n",
       " 0,\n",
       " 0,\n",
       " 0,\n",
       " 0,\n",
       " 0,\n",
       " 0,\n",
       " 0,\n",
       " 0,\n",
       " 0,\n",
       " 0,\n",
       " 0,\n",
       " 0,\n",
       " 0,\n",
       " 0,\n",
       " 0,\n",
       " 0,\n",
       " 0,\n",
       " 0,\n",
       " 0,\n",
       " 0,\n",
       " 0,\n",
       " 0,\n",
       " 0,\n",
       " 0,\n",
       " 0,\n",
       " 0,\n",
       " 0,\n",
       " 0,\n",
       " 0,\n",
       " 0,\n",
       " 0,\n",
       " 0,\n",
       " 0,\n",
       " 0,\n",
       " 0,\n",
       " 0,\n",
       " 0,\n",
       " 0,\n",
       " 0,\n",
       " 0,\n",
       " 0,\n",
       " 0,\n",
       " 0,\n",
       " 0,\n",
       " 0,\n",
       " 0,\n",
       " 0,\n",
       " 0,\n",
       " 0,\n",
       " 0,\n",
       " 0,\n",
       " 0,\n",
       " 0,\n",
       " 0,\n",
       " 0,\n",
       " 0,\n",
       " 0,\n",
       " 0,\n",
       " 0,\n",
       " 0,\n",
       " 0,\n",
       " 0,\n",
       " 1,\n",
       " 1,\n",
       " 0,\n",
       " 0,\n",
       " 0,\n",
       " 0,\n",
       " 0,\n",
       " 0,\n",
       " 0,\n",
       " 0,\n",
       " 0,\n",
       " 0,\n",
       " 0,\n",
       " 0,\n",
       " 0,\n",
       " 0,\n",
       " 0,\n",
       " 0,\n",
       " 0,\n",
       " 0,\n",
       " 0,\n",
       " 0,\n",
       " 0,\n",
       " 0,\n",
       " 0,\n",
       " 0,\n",
       " 0,\n",
       " 0,\n",
       " 0,\n",
       " 0,\n",
       " 0,\n",
       " 0,\n",
       " 0,\n",
       " 0,\n",
       " 0,\n",
       " 0,\n",
       " 0,\n",
       " 0,\n",
       " 0,\n",
       " 0,\n",
       " 0,\n",
       " 0,\n",
       " 0,\n",
       " 0,\n",
       " 0,\n",
       " 0,\n",
       " 0,\n",
       " 0,\n",
       " 0,\n",
       " 0,\n",
       " 0,\n",
       " 0,\n",
       " 0,\n",
       " 0,\n",
       " 0,\n",
       " 0,\n",
       " 0,\n",
       " 0,\n",
       " 0,\n",
       " 0,\n",
       " 0,\n",
       " 1,\n",
       " 0,\n",
       " 0,\n",
       " 0,\n",
       " 0,\n",
       " 0,\n",
       " 0,\n",
       " 0,\n",
       " 0,\n",
       " 0,\n",
       " 0,\n",
       " 0,\n",
       " 0,\n",
       " 0,\n",
       " 0,\n",
       " 0,\n",
       " 0,\n",
       " 0,\n",
       " 0,\n",
       " 0,\n",
       " 0,\n",
       " 0,\n",
       " 0,\n",
       " 0,\n",
       " 1,\n",
       " 0,\n",
       " 0,\n",
       " 0,\n",
       " 0,\n",
       " 0,\n",
       " 0,\n",
       " 0,\n",
       " 1,\n",
       " 0,\n",
       " 0,\n",
       " 0,\n",
       " 0,\n",
       " 0,\n",
       " 0,\n",
       " 0,\n",
       " 0,\n",
       " 0,\n",
       " 0,\n",
       " 0,\n",
       " 0,\n",
       " 0,\n",
       " 0,\n",
       " 0,\n",
       " 1,\n",
       " 0,\n",
       " 0,\n",
       " 0,\n",
       " 0,\n",
       " 1,\n",
       " 0,\n",
       " 0,\n",
       " 0,\n",
       " 0,\n",
       " 0,\n",
       " 0,\n",
       " 0,\n",
       " 0,\n",
       " 0,\n",
       " 0,\n",
       " 0,\n",
       " 0,\n",
       " 0,\n",
       " 0,\n",
       " 0,\n",
       " 0,\n",
       " 0,\n",
       " 0,\n",
       " 0,\n",
       " 0,\n",
       " 0,\n",
       " 0,\n",
       " 0,\n",
       " 0,\n",
       " 0,\n",
       " 0,\n",
       " 0,\n",
       " 0,\n",
       " 0,\n",
       " 0,\n",
       " 0,\n",
       " 0,\n",
       " 0,\n",
       " 0,\n",
       " 0,\n",
       " 0,\n",
       " 0,\n",
       " 0,\n",
       " 0,\n",
       " 0,\n",
       " 0,\n",
       " 0,\n",
       " 0,\n",
       " 0,\n",
       " 0,\n",
       " 0,\n",
       " 0,\n",
       " 0,\n",
       " 0,\n",
       " 0,\n",
       " 1,\n",
       " 0,\n",
       " 0,\n",
       " 0,\n",
       " 0,\n",
       " 0,\n",
       " 0,\n",
       " 0,\n",
       " 1,\n",
       " 0,\n",
       " 0,\n",
       " 0,\n",
       " 0,\n",
       " 0,\n",
       " 0,\n",
       " 0,\n",
       " 0,\n",
       " 0,\n",
       " 0,\n",
       " 0,\n",
       " 0,\n",
       " 1,\n",
       " 0,\n",
       " 0,\n",
       " 0,\n",
       " 0,\n",
       " 0,\n",
       " 0,\n",
       " 0,\n",
       " 0,\n",
       " 0,\n",
       " 0,\n",
       " 0,\n",
       " 0,\n",
       " 0,\n",
       " 0,\n",
       " 0,\n",
       " 0,\n",
       " 0,\n",
       " 0,\n",
       " 0,\n",
       " 0,\n",
       " 0,\n",
       " 0,\n",
       " 0,\n",
       " 0,\n",
       " 0,\n",
       " 0,\n",
       " 0,\n",
       " 0,\n",
       " 0,\n",
       " 0,\n",
       " 0,\n",
       " 0,\n",
       " 0,\n",
       " 0,\n",
       " 0,\n",
       " 0,\n",
       " 0,\n",
       " 0,\n",
       " 0,\n",
       " 0,\n",
       " 0,\n",
       " 0,\n",
       " 0,\n",
       " 0,\n",
       " 0,\n",
       " 0,\n",
       " 0,\n",
       " 0,\n",
       " 0,\n",
       " 0,\n",
       " 0,\n",
       " 0,\n",
       " 0,\n",
       " 0,\n",
       " 0,\n",
       " 1,\n",
       " 0,\n",
       " 0,\n",
       " 0,\n",
       " 0,\n",
       " 0,\n",
       " 0,\n",
       " 0,\n",
       " 0,\n",
       " 0,\n",
       " 0,\n",
       " 0,\n",
       " 0,\n",
       " 0,\n",
       " 0,\n",
       " 0,\n",
       " 0,\n",
       " 0,\n",
       " 0,\n",
       " 0,\n",
       " 0,\n",
       " 0,\n",
       " 0,\n",
       " 0,\n",
       " 0,\n",
       " 0,\n",
       " 0,\n",
       " 1,\n",
       " 0,\n",
       " 0,\n",
       " 0,\n",
       " 0,\n",
       " 0,\n",
       " 0,\n",
       " 0,\n",
       " 1,\n",
       " 0,\n",
       " 0,\n",
       " 0,\n",
       " 0,\n",
       " 0,\n",
       " 0,\n",
       " 0,\n",
       " 0,\n",
       " 0,\n",
       " 0,\n",
       " 0,\n",
       " 0,\n",
       " 0,\n",
       " 0,\n",
       " 0,\n",
       " 0,\n",
       " 0,\n",
       " 0,\n",
       " 0,\n",
       " 0,\n",
       " 0,\n",
       " 0,\n",
       " 0,\n",
       " 0,\n",
       " 0,\n",
       " 0,\n",
       " 0,\n",
       " 0,\n",
       " 0,\n",
       " 0,\n",
       " 0,\n",
       " 0,\n",
       " 0,\n",
       " 0,\n",
       " 0,\n",
       " 0,\n",
       " 0,\n",
       " 0,\n",
       " 0,\n",
       " 0,\n",
       " 0,\n",
       " 0,\n",
       " 1,\n",
       " 0,\n",
       " 1,\n",
       " 0,\n",
       " 0,\n",
       " 0,\n",
       " 0,\n",
       " 0,\n",
       " 0,\n",
       " 1,\n",
       " 0,\n",
       " 0,\n",
       " 0,\n",
       " 0,\n",
       " 0,\n",
       " 0,\n",
       " 0,\n",
       " 0,\n",
       " 0,\n",
       " 0,\n",
       " 1,\n",
       " 0,\n",
       " 0,\n",
       " 0,\n",
       " 0,\n",
       " 0,\n",
       " 0,\n",
       " 0,\n",
       " 0,\n",
       " 0,\n",
       " 0,\n",
       " 0,\n",
       " 0,\n",
       " 0,\n",
       " 0,\n",
       " 0,\n",
       " 0,\n",
       " 0,\n",
       " 0,\n",
       " 0,\n",
       " 0,\n",
       " 0,\n",
       " 0,\n",
       " 0,\n",
       " 0,\n",
       " 0,\n",
       " 0,\n",
       " 0,\n",
       " 0,\n",
       " 0,\n",
       " 0,\n",
       " 0,\n",
       " 0,\n",
       " 0,\n",
       " 0,\n",
       " 0,\n",
       " 0,\n",
       " 0,\n",
       " 0,\n",
       " 0]"
      ]
     },
     "execution_count": 28,
     "metadata": {},
     "output_type": "execute_result"
    }
   ],
   "source": [
    "tags_check(recipes_df, 63986, tags_list)"
   ]
  },
  {
   "cell_type": "markdown",
   "metadata": {},
   "source": [
    "4) We apply the tags_check function to the whole column tags_check using list comrehension to get to the individual tags level:"
   ]
  },
  {
   "cell_type": "code",
   "execution_count": 29,
   "metadata": {},
   "outputs": [
    {
     "data": {
      "text/html": [
       "<div>\n",
       "<style scoped>\n",
       "    .dataframe tbody tr th:only-of-type {\n",
       "        vertical-align: middle;\n",
       "    }\n",
       "\n",
       "    .dataframe tbody tr th {\n",
       "        vertical-align: top;\n",
       "    }\n",
       "\n",
       "    .dataframe thead th {\n",
       "        text-align: right;\n",
       "    }\n",
       "</style>\n",
       "<table border=\"1\" class=\"dataframe\">\n",
       "  <thead>\n",
       "    <tr style=\"text-align: right;\">\n",
       "      <th></th>\n",
       "      <th>index</th>\n",
       "      <th>name</th>\n",
       "      <th>minutes</th>\n",
       "      <th>contributor_id</th>\n",
       "      <th>submitted</th>\n",
       "      <th>tags</th>\n",
       "      <th>nutrition</th>\n",
       "      <th>n_steps</th>\n",
       "      <th>steps</th>\n",
       "      <th>description</th>\n",
       "      <th>ingredients</th>\n",
       "      <th>n_ingredients</th>\n",
       "      <th>tags2</th>\n",
       "      <th>tags_check</th>\n",
       "    </tr>\n",
       "    <tr>\n",
       "      <th>id</th>\n",
       "      <th></th>\n",
       "      <th></th>\n",
       "      <th></th>\n",
       "      <th></th>\n",
       "      <th></th>\n",
       "      <th></th>\n",
       "      <th></th>\n",
       "      <th></th>\n",
       "      <th></th>\n",
       "      <th></th>\n",
       "      <th></th>\n",
       "      <th></th>\n",
       "      <th></th>\n",
       "      <th></th>\n",
       "    </tr>\n",
       "  </thead>\n",
       "  <tbody>\n",
       "    <tr>\n",
       "      <td>63986</td>\n",
       "      <td>15</td>\n",
       "      <td>chicken lickin  good  pork chops</td>\n",
       "      <td>500</td>\n",
       "      <td>14664</td>\n",
       "      <td>2003-06-06</td>\n",
       "      <td>['weeknight', 'time-to-make', 'course', 'main-...</td>\n",
       "      <td>[105.7, 8.0, 0.0, 26.0, 5.0, 4.0, 3.0]</td>\n",
       "      <td>5</td>\n",
       "      <td>['dredge pork chops in mixture of flour , salt...</td>\n",
       "      <td>here's and old standby i enjoy from time to ti...</td>\n",
       "      <td>['lean pork chops', 'flour', 'salt', 'dry must...</td>\n",
       "      <td>7</td>\n",
       "      <td>[['weeknight',  'time-to-make',  'course',  'm...</td>\n",
       "      <td>[0, 0, 0, 0, 0, 0, 0, 0, 0, 0, 0, 0, 0, 0, 0, ...</td>\n",
       "    </tr>\n",
       "    <tr>\n",
       "      <td>43026</td>\n",
       "      <td>16</td>\n",
       "      <td>chile rellenos</td>\n",
       "      <td>45</td>\n",
       "      <td>52268</td>\n",
       "      <td>2002-10-14</td>\n",
       "      <td>['60-minutes-or-less', 'time-to-make', 'course...</td>\n",
       "      <td>[94.0, 10.0, 0.0, 11.0, 11.0, 21.0, 0.0]</td>\n",
       "      <td>9</td>\n",
       "      <td>['drain green chiles', 'sprinkle cornstarch on...</td>\n",
       "      <td>a favorite from a local restaurant no longer i...</td>\n",
       "      <td>['egg roll wrap', 'whole green chilies', 'chee...</td>\n",
       "      <td>5</td>\n",
       "      <td>[['60-minutes-or-less',  'time-to-make',  'cou...</td>\n",
       "      <td>[0, 0, 0, 0, 1, 0, 0, 0, 0, 1, 0, 0, 0, 0, 0, ...</td>\n",
       "    </tr>\n",
       "    <tr>\n",
       "      <td>23933</td>\n",
       "      <td>17</td>\n",
       "      <td>chinese  candy</td>\n",
       "      <td>15</td>\n",
       "      <td>35268</td>\n",
       "      <td>2002-03-29</td>\n",
       "      <td>['15-minutes-or-less', 'time-to-make', 'course...</td>\n",
       "      <td>[232.7, 21.0, 77.0, 4.0, 6.0, 38.0, 8.0]</td>\n",
       "      <td>4</td>\n",
       "      <td>['melt butterscotch chips in heavy saucepan ov...</td>\n",
       "      <td>a little different, and oh so good. i include ...</td>\n",
       "      <td>['butterscotch chips', 'chinese noodles', 'sal...</td>\n",
       "      <td>3</td>\n",
       "      <td>[['15-minutes-or-less',  'time-to-make',  'cou...</td>\n",
       "      <td>[0, 0, 0, 0, 0, 0, 0, 0, 0, 0, 0, 0, 0, 0, 0, ...</td>\n",
       "    </tr>\n",
       "  </tbody>\n",
       "</table>\n",
       "</div>"
      ],
      "text/plain": [
       "       index                              name  minutes  contributor_id  \\\n",
       "id                                                                        \n",
       "63986     15  chicken lickin  good  pork chops      500           14664   \n",
       "43026     16                    chile rellenos       45           52268   \n",
       "23933     17                    chinese  candy       15           35268   \n",
       "\n",
       "        submitted                                               tags  \\\n",
       "id                                                                     \n",
       "63986  2003-06-06  ['weeknight', 'time-to-make', 'course', 'main-...   \n",
       "43026  2002-10-14  ['60-minutes-or-less', 'time-to-make', 'course...   \n",
       "23933  2002-03-29  ['15-minutes-or-less', 'time-to-make', 'course...   \n",
       "\n",
       "                                      nutrition  n_steps  \\\n",
       "id                                                         \n",
       "63986    [105.7, 8.0, 0.0, 26.0, 5.0, 4.0, 3.0]        5   \n",
       "43026  [94.0, 10.0, 0.0, 11.0, 11.0, 21.0, 0.0]        9   \n",
       "23933  [232.7, 21.0, 77.0, 4.0, 6.0, 38.0, 8.0]        4   \n",
       "\n",
       "                                                   steps  \\\n",
       "id                                                         \n",
       "63986  ['dredge pork chops in mixture of flour , salt...   \n",
       "43026  ['drain green chiles', 'sprinkle cornstarch on...   \n",
       "23933  ['melt butterscotch chips in heavy saucepan ov...   \n",
       "\n",
       "                                             description  \\\n",
       "id                                                         \n",
       "63986  here's and old standby i enjoy from time to ti...   \n",
       "43026  a favorite from a local restaurant no longer i...   \n",
       "23933  a little different, and oh so good. i include ...   \n",
       "\n",
       "                                             ingredients  n_ingredients  \\\n",
       "id                                                                        \n",
       "63986  ['lean pork chops', 'flour', 'salt', 'dry must...              7   \n",
       "43026  ['egg roll wrap', 'whole green chilies', 'chee...              5   \n",
       "23933  ['butterscotch chips', 'chinese noodles', 'sal...              3   \n",
       "\n",
       "                                                   tags2  \\\n",
       "id                                                         \n",
       "63986  [['weeknight',  'time-to-make',  'course',  'm...   \n",
       "43026  [['60-minutes-or-less',  'time-to-make',  'cou...   \n",
       "23933  [['15-minutes-or-less',  'time-to-make',  'cou...   \n",
       "\n",
       "                                              tags_check  \n",
       "id                                                        \n",
       "63986  [0, 0, 0, 0, 0, 0, 0, 0, 0, 0, 0, 0, 0, 0, 0, ...  \n",
       "43026  [0, 0, 0, 0, 1, 0, 0, 0, 0, 1, 0, 0, 0, 0, 0, ...  \n",
       "23933  [0, 0, 0, 0, 0, 0, 0, 0, 0, 0, 0, 0, 0, 0, 0, ...  "
      ]
     },
     "execution_count": 29,
     "metadata": {},
     "output_type": "execute_result"
    }
   ],
   "source": [
    "recipes_df['tags_check']=[tags_check(recipes_df, recipes_df.index[n], tags_list) for n in range(len(recipes_df))]\n",
    "recipes_df.head(3)"
   ]
  },
  {
   "cell_type": "markdown",
   "metadata": {},
   "source": [
    "5) We create the tags_matrix dataframe with rows as recipe ids, columns as the indidual recipe tags, and values as 1-s and 0-s for a particular recipe id-tag match from the tags_check column:"
   ]
  },
  {
   "cell_type": "code",
   "execution_count": 30,
   "metadata": {
    "scrolled": true
   },
   "outputs": [
    {
     "data": {
      "text/html": [
       "<div>\n",
       "<style scoped>\n",
       "    .dataframe tbody tr th:only-of-type {\n",
       "        vertical-align: middle;\n",
       "    }\n",
       "\n",
       "    .dataframe tbody tr th {\n",
       "        vertical-align: top;\n",
       "    }\n",
       "\n",
       "    .dataframe thead th {\n",
       "        text-align: right;\n",
       "    }\n",
       "</style>\n",
       "<table border=\"1\" class=\"dataframe\">\n",
       "  <thead>\n",
       "    <tr style=\"text-align: right;\">\n",
       "      <th></th>\n",
       "      <th>'crusts-pastry-dough-2'</th>\n",
       "      <th>'april-fools-day'</th>\n",
       "      <th>'marinades-and-rubs'</th>\n",
       "      <th>'turkish'</th>\n",
       "      <th>'oamc-freezer-make-ahead'</th>\n",
       "      <th>'gifts'</th>\n",
       "      <th>'cooking-mixes'</th>\n",
       "      <th>'indonesian'</th>\n",
       "      <th>'breads'</th>\n",
       "      <th>'60-minutes-or-less'</th>\n",
       "      <th>...</th>\n",
       "      <th>'toddler-friendly'</th>\n",
       "      <th>'spreads'</th>\n",
       "      <th>'tropical-fruit'</th>\n",
       "      <th>'cauliflower'</th>\n",
       "      <th>'canning'</th>\n",
       "      <th>'15-minutes-or-less'</th>\n",
       "      <th>'mixer'</th>\n",
       "      <th>'chowders'</th>\n",
       "      <th>'pressure-canning'</th>\n",
       "      <th>'plums'</th>\n",
       "    </tr>\n",
       "    <tr>\n",
       "      <th>id</th>\n",
       "      <th></th>\n",
       "      <th></th>\n",
       "      <th></th>\n",
       "      <th></th>\n",
       "      <th></th>\n",
       "      <th></th>\n",
       "      <th></th>\n",
       "      <th></th>\n",
       "      <th></th>\n",
       "      <th></th>\n",
       "      <th></th>\n",
       "      <th></th>\n",
       "      <th></th>\n",
       "      <th></th>\n",
       "      <th></th>\n",
       "      <th></th>\n",
       "      <th></th>\n",
       "      <th></th>\n",
       "      <th></th>\n",
       "      <th></th>\n",
       "      <th></th>\n",
       "    </tr>\n",
       "  </thead>\n",
       "  <tbody>\n",
       "    <tr>\n",
       "      <td>63986</td>\n",
       "      <td>0</td>\n",
       "      <td>0</td>\n",
       "      <td>0</td>\n",
       "      <td>0</td>\n",
       "      <td>0</td>\n",
       "      <td>0</td>\n",
       "      <td>0</td>\n",
       "      <td>0</td>\n",
       "      <td>0</td>\n",
       "      <td>0</td>\n",
       "      <td>...</td>\n",
       "      <td>0</td>\n",
       "      <td>0</td>\n",
       "      <td>0</td>\n",
       "      <td>0</td>\n",
       "      <td>0</td>\n",
       "      <td>0</td>\n",
       "      <td>0</td>\n",
       "      <td>0</td>\n",
       "      <td>0</td>\n",
       "      <td>0</td>\n",
       "    </tr>\n",
       "    <tr>\n",
       "      <td>43026</td>\n",
       "      <td>0</td>\n",
       "      <td>0</td>\n",
       "      <td>0</td>\n",
       "      <td>0</td>\n",
       "      <td>1</td>\n",
       "      <td>0</td>\n",
       "      <td>0</td>\n",
       "      <td>0</td>\n",
       "      <td>0</td>\n",
       "      <td>1</td>\n",
       "      <td>...</td>\n",
       "      <td>0</td>\n",
       "      <td>0</td>\n",
       "      <td>0</td>\n",
       "      <td>0</td>\n",
       "      <td>0</td>\n",
       "      <td>0</td>\n",
       "      <td>0</td>\n",
       "      <td>0</td>\n",
       "      <td>0</td>\n",
       "      <td>0</td>\n",
       "    </tr>\n",
       "    <tr>\n",
       "      <td>23933</td>\n",
       "      <td>0</td>\n",
       "      <td>0</td>\n",
       "      <td>0</td>\n",
       "      <td>0</td>\n",
       "      <td>0</td>\n",
       "      <td>0</td>\n",
       "      <td>0</td>\n",
       "      <td>0</td>\n",
       "      <td>0</td>\n",
       "      <td>0</td>\n",
       "      <td>...</td>\n",
       "      <td>0</td>\n",
       "      <td>0</td>\n",
       "      <td>0</td>\n",
       "      <td>0</td>\n",
       "      <td>0</td>\n",
       "      <td>0</td>\n",
       "      <td>0</td>\n",
       "      <td>0</td>\n",
       "      <td>0</td>\n",
       "      <td>0</td>\n",
       "    </tr>\n",
       "  </tbody>\n",
       "</table>\n",
       "<p>3 rows × 495 columns</p>\n",
       "</div>"
      ],
      "text/plain": [
       "        'crusts-pastry-dough-2'   'april-fools-day'   'marinades-and-rubs'  \\\n",
       "id                                                                           \n",
       "63986                         0                   0                      0   \n",
       "43026                         0                   0                      0   \n",
       "23933                         0                   0                      0   \n",
       "\n",
       "        'turkish'   'oamc-freezer-make-ahead'   'gifts'   'cooking-mixes'  \\\n",
       "id                                                                          \n",
       "63986           0                           0         0                 0   \n",
       "43026           0                           1         0                 0   \n",
       "23933           0                           0         0                 0   \n",
       "\n",
       "        'indonesian'   'breads'  '60-minutes-or-less'  ...  \\\n",
       "id                                                     ...   \n",
       "63986              0          0                     0  ...   \n",
       "43026              0          0                     1  ...   \n",
       "23933              0          0                     0  ...   \n",
       "\n",
       "        'toddler-friendly'   'spreads'   'tropical-fruit'   'cauliflower'  \\\n",
       "id                                                                          \n",
       "63986                    0           0                  0               0   \n",
       "43026                    0           0                  0               0   \n",
       "23933                    0           0                  0               0   \n",
       "\n",
       "        'canning'   '15-minutes-or-less'   'mixer'   'chowders'  \\\n",
       "id                                                                \n",
       "63986           0                      0         0            0   \n",
       "43026           0                      0         0            0   \n",
       "23933           0                      0         0            0   \n",
       "\n",
       "        'pressure-canning'   'plums'  \n",
       "id                                    \n",
       "63986                    0         0  \n",
       "43026                    0         0  \n",
       "23933                    0         0  \n",
       "\n",
       "[3 rows x 495 columns]"
      ]
     },
     "execution_count": 30,
     "metadata": {},
     "output_type": "execute_result"
    }
   ],
   "source": [
    "tags_matrix=pd.DataFrame(recipes_df['tags_check'].values.tolist(),\n",
    "                        columns=[tag for tag in tags_list],\n",
    "                        index=recipes_df.index)\n",
    "tags_matrix.head(3)"
   ]
  },
  {
   "cell_type": "markdown",
   "metadata": {},
   "source": [
    "We can doublecheck that the tags_matrix has correct values by comparing the output of the tags_matrix for one recipe id to the sum of tag values from the tags_check column of the recipes dataframe for the same recipe id:"
   ]
  },
  {
   "cell_type": "code",
   "execution_count": 31,
   "metadata": {},
   "outputs": [
    {
     "data": {
      "text/plain": [
       "17"
      ]
     },
     "execution_count": 31,
     "metadata": {},
     "output_type": "execute_result"
    }
   ],
   "source": [
    "sum(recipes_df['tags_check'][63986])"
   ]
  },
  {
   "cell_type": "code",
   "execution_count": 32,
   "metadata": {},
   "outputs": [
    {
     "data": {
      "text/plain": [
       "17"
      ]
     },
     "execution_count": 32,
     "metadata": {},
     "output_type": "execute_result"
    }
   ],
   "source": [
    "len(tags_matrix.loc[63986][tags_matrix.loc[63986]==1])"
   ]
  },
  {
   "cell_type": "markdown",
   "metadata": {},
   "source": [
    "We now can use tags_matrix for further Capstone 1 analysis."
   ]
  },
  {
   "cell_type": "markdown",
   "metadata": {},
   "source": [
    "## Recipe Ingredients"
   ]
  },
  {
   "cell_type": "markdown",
   "metadata": {},
   "source": [
    "For the third part of the EDA, we focus on the ingredients column of the recipes dataframe."
   ]
  },
  {
   "cell_type": "markdown",
   "metadata": {},
   "source": [
    "The data presented in the ingredients column looks like a list, but upon further investigation it actually turned out to be a string:"
   ]
  },
  {
   "cell_type": "code",
   "execution_count": 33,
   "metadata": {},
   "outputs": [],
   "source": [
    "recipes_df.reset_index(inplace=True)"
   ]
  },
  {
   "cell_type": "code",
   "execution_count": 34,
   "metadata": {},
   "outputs": [
    {
     "data": {
      "text/plain": [
       "str"
      ]
     },
     "execution_count": 34,
     "metadata": {},
     "output_type": "execute_result"
    }
   ],
   "source": [
    "type(recipes_df.ingredients[0])"
   ]
  },
  {
   "cell_type": "markdown",
   "metadata": {},
   "source": [
    "We now need to create a list of all ingredients from all the recipes without duplicates:"
   ]
  },
  {
   "cell_type": "code",
   "execution_count": 35,
   "metadata": {
    "scrolled": true
   },
   "outputs": [
    {
     "name": "stdout",
     "output_type": "stream",
     "text": [
      "Number of unique ingredients: 148434\n",
      "[\"'cheese'\", \"'chicken rice soup'\", \"'dry mustard'\", \"'egg roll wrap'\", \"'flour'\", \"'garlic powder'\", \"'lean pork chops'\", \"'oil'\", \"'salt'\", \"'whole green chilies'\"]\n"
     ]
    }
   ],
   "source": [
    "ingredients_list = []\n",
    "for i in range(0,len(recipes_df['ingredients'])):\n",
    "    for val in recipes_df['ingredients'][i].strip('[]').split(','):\n",
    "        if val in ingredients_list:\n",
    "            continue\n",
    "        else:\n",
    "            ingredients_list.append(val.strip(' '))\n",
    "print('Number of unique ingredients:',len(ingredients_list))\n",
    "print(sorted(ingredients_list[0:10]))"
   ]
  },
  {
   "cell_type": "markdown",
   "metadata": {},
   "source": [
    "The resulting ingredients list has 8,091 unique values. \n",
    "\n",
    "Upon further investigation, we found that there is a certain peculiarity about the ingredients names. Some ingredients names are simple like \"flour\", while the others are complex like \"all-purpose flour\". "
   ]
  },
  {
   "cell_type": "code",
   "execution_count": 36,
   "metadata": {},
   "outputs": [
    {
     "data": {
      "text/plain": [
       "0     ['lean pork chops', 'flour', 'salt', 'dry must...\n",
       "10    ['all-purpose flour', 'sugar', 'salt', 'baking...\n",
       "16    ['butter', 'sugar', 'eggs', 'bananas', 'water'...\n",
       "17    ['oreo cookie crumbs', 'butter', 'cream cheese...\n",
       "18    ['flour', 'sugar', 'cocoa', 'baking soda', 'sa...\n",
       "Name: ingredients, dtype: object"
      ]
     },
     "execution_count": 36,
     "metadata": {},
     "output_type": "execute_result"
    }
   ],
   "source": [
    "recipes_df.ingredients[recipes_df.ingredients.str.contains('flour')==True].head(5)"
   ]
  },
  {
   "cell_type": "markdown",
   "metadata": {},
   "source": [
    "### Ingredients Matrix"
   ]
  },
  {
   "cell_type": "markdown",
   "metadata": {},
   "source": [
    "Similar to the tags matrix, we want to create the ingredients matrix with recipe ids in rows, ingredients as columns with values being 1 if the ingredient is present in the recipe and 0 if not."
   ]
  },
  {
   "cell_type": "markdown",
   "metadata": {},
   "source": [
    "We know that the ingredients list has 8,091 unique values, so we need to limit thescope of the analysis only to the significant common ingredients. To see how often the ingredient shows up in recipes we create a dictionary of ingredients with an ingredient name as a key and a number of times the ingredient showed up in recipes as a value."
   ]
  },
  {
   "cell_type": "code",
   "execution_count": 37,
   "metadata": {},
   "outputs": [],
   "source": [
    "def clean_up(s):\n",
    "    new_l =[]\n",
    "    l = s.strip('[]').split(',')\n",
    "    for val in l:\n",
    "        new_val=val.strip(' ').strip(\"'\")\n",
    "        new_l.append(new_val)\n",
    "    return new_l"
   ]
  },
  {
   "cell_type": "code",
   "execution_count": 38,
   "metadata": {},
   "outputs": [],
   "source": [
    "recipes_df.reset_index(inplace=True)"
   ]
  },
  {
   "cell_type": "code",
   "execution_count": 39,
   "metadata": {},
   "outputs": [
    {
     "data": {
      "text/plain": [
       "['lean pork chops',\n",
       " 'flour',\n",
       " 'salt',\n",
       " 'dry mustard',\n",
       " 'garlic powder',\n",
       " 'oil',\n",
       " 'chicken rice soup']"
      ]
     },
     "execution_count": 39,
     "metadata": {},
     "output_type": "execute_result"
    }
   ],
   "source": [
    "clean_up(recipes_df['ingredients'][0])"
   ]
  },
  {
   "cell_type": "code",
   "execution_count": 40,
   "metadata": {},
   "outputs": [
    {
     "data": {
      "text/html": [
       "<div>\n",
       "<style scoped>\n",
       "    .dataframe tbody tr th:only-of-type {\n",
       "        vertical-align: middle;\n",
       "    }\n",
       "\n",
       "    .dataframe tbody tr th {\n",
       "        vertical-align: top;\n",
       "    }\n",
       "\n",
       "    .dataframe thead th {\n",
       "        text-align: right;\n",
       "    }\n",
       "</style>\n",
       "<table border=\"1\" class=\"dataframe\">\n",
       "  <thead>\n",
       "    <tr style=\"text-align: right;\">\n",
       "      <th></th>\n",
       "      <th>level_0</th>\n",
       "      <th>id</th>\n",
       "      <th>index</th>\n",
       "      <th>name</th>\n",
       "      <th>minutes</th>\n",
       "      <th>contributor_id</th>\n",
       "      <th>submitted</th>\n",
       "      <th>tags</th>\n",
       "      <th>nutrition</th>\n",
       "      <th>n_steps</th>\n",
       "      <th>steps</th>\n",
       "      <th>description</th>\n",
       "      <th>ingredients</th>\n",
       "      <th>n_ingredients</th>\n",
       "      <th>tags2</th>\n",
       "      <th>tags_check</th>\n",
       "      <th>ingredients2</th>\n",
       "    </tr>\n",
       "  </thead>\n",
       "  <tbody>\n",
       "    <tr>\n",
       "      <td>0</td>\n",
       "      <td>0</td>\n",
       "      <td>63986</td>\n",
       "      <td>15</td>\n",
       "      <td>chicken lickin  good  pork chops</td>\n",
       "      <td>500</td>\n",
       "      <td>14664</td>\n",
       "      <td>2003-06-06</td>\n",
       "      <td>['weeknight', 'time-to-make', 'course', 'main-...</td>\n",
       "      <td>[105.7, 8.0, 0.0, 26.0, 5.0, 4.0, 3.0]</td>\n",
       "      <td>5</td>\n",
       "      <td>['dredge pork chops in mixture of flour , salt...</td>\n",
       "      <td>here's and old standby i enjoy from time to ti...</td>\n",
       "      <td>['lean pork chops', 'flour', 'salt', 'dry must...</td>\n",
       "      <td>7</td>\n",
       "      <td>[['weeknight',  'time-to-make',  'course',  'm...</td>\n",
       "      <td>[0, 0, 0, 0, 0, 0, 0, 0, 0, 0, 0, 0, 0, 0, 0, ...</td>\n",
       "      <td>[lean pork chops, flour, salt, dry mustard, ga...</td>\n",
       "    </tr>\n",
       "    <tr>\n",
       "      <td>1</td>\n",
       "      <td>1</td>\n",
       "      <td>43026</td>\n",
       "      <td>16</td>\n",
       "      <td>chile rellenos</td>\n",
       "      <td>45</td>\n",
       "      <td>52268</td>\n",
       "      <td>2002-10-14</td>\n",
       "      <td>['60-minutes-or-less', 'time-to-make', 'course...</td>\n",
       "      <td>[94.0, 10.0, 0.0, 11.0, 11.0, 21.0, 0.0]</td>\n",
       "      <td>9</td>\n",
       "      <td>['drain green chiles', 'sprinkle cornstarch on...</td>\n",
       "      <td>a favorite from a local restaurant no longer i...</td>\n",
       "      <td>['egg roll wrap', 'whole green chilies', 'chee...</td>\n",
       "      <td>5</td>\n",
       "      <td>[['60-minutes-or-less',  'time-to-make',  'cou...</td>\n",
       "      <td>[0, 0, 0, 0, 1, 0, 0, 0, 0, 1, 0, 0, 0, 0, 0, ...</td>\n",
       "      <td>[egg roll wrap, whole green chilies, cheese, c...</td>\n",
       "    </tr>\n",
       "    <tr>\n",
       "      <td>2</td>\n",
       "      <td>2</td>\n",
       "      <td>23933</td>\n",
       "      <td>17</td>\n",
       "      <td>chinese  candy</td>\n",
       "      <td>15</td>\n",
       "      <td>35268</td>\n",
       "      <td>2002-03-29</td>\n",
       "      <td>['15-minutes-or-less', 'time-to-make', 'course...</td>\n",
       "      <td>[232.7, 21.0, 77.0, 4.0, 6.0, 38.0, 8.0]</td>\n",
       "      <td>4</td>\n",
       "      <td>['melt butterscotch chips in heavy saucepan ov...</td>\n",
       "      <td>a little different, and oh so good. i include ...</td>\n",
       "      <td>['butterscotch chips', 'chinese noodles', 'sal...</td>\n",
       "      <td>3</td>\n",
       "      <td>[['15-minutes-or-less',  'time-to-make',  'cou...</td>\n",
       "      <td>[0, 0, 0, 0, 0, 0, 0, 0, 0, 0, 0, 0, 0, 0, 0, ...</td>\n",
       "      <td>[butterscotch chips, chinese noodles, salted p...</td>\n",
       "    </tr>\n",
       "  </tbody>\n",
       "</table>\n",
       "</div>"
      ],
      "text/plain": [
       "   level_0     id  index                              name  minutes  \\\n",
       "0        0  63986     15  chicken lickin  good  pork chops      500   \n",
       "1        1  43026     16                    chile rellenos       45   \n",
       "2        2  23933     17                    chinese  candy       15   \n",
       "\n",
       "   contributor_id   submitted  \\\n",
       "0           14664  2003-06-06   \n",
       "1           52268  2002-10-14   \n",
       "2           35268  2002-03-29   \n",
       "\n",
       "                                                tags  \\\n",
       "0  ['weeknight', 'time-to-make', 'course', 'main-...   \n",
       "1  ['60-minutes-or-less', 'time-to-make', 'course...   \n",
       "2  ['15-minutes-or-less', 'time-to-make', 'course...   \n",
       "\n",
       "                                  nutrition  n_steps  \\\n",
       "0    [105.7, 8.0, 0.0, 26.0, 5.0, 4.0, 3.0]        5   \n",
       "1  [94.0, 10.0, 0.0, 11.0, 11.0, 21.0, 0.0]        9   \n",
       "2  [232.7, 21.0, 77.0, 4.0, 6.0, 38.0, 8.0]        4   \n",
       "\n",
       "                                               steps  \\\n",
       "0  ['dredge pork chops in mixture of flour , salt...   \n",
       "1  ['drain green chiles', 'sprinkle cornstarch on...   \n",
       "2  ['melt butterscotch chips in heavy saucepan ov...   \n",
       "\n",
       "                                         description  \\\n",
       "0  here's and old standby i enjoy from time to ti...   \n",
       "1  a favorite from a local restaurant no longer i...   \n",
       "2  a little different, and oh so good. i include ...   \n",
       "\n",
       "                                         ingredients  n_ingredients  \\\n",
       "0  ['lean pork chops', 'flour', 'salt', 'dry must...              7   \n",
       "1  ['egg roll wrap', 'whole green chilies', 'chee...              5   \n",
       "2  ['butterscotch chips', 'chinese noodles', 'sal...              3   \n",
       "\n",
       "                                               tags2  \\\n",
       "0  [['weeknight',  'time-to-make',  'course',  'm...   \n",
       "1  [['60-minutes-or-less',  'time-to-make',  'cou...   \n",
       "2  [['15-minutes-or-less',  'time-to-make',  'cou...   \n",
       "\n",
       "                                          tags_check  \\\n",
       "0  [0, 0, 0, 0, 0, 0, 0, 0, 0, 0, 0, 0, 0, 0, 0, ...   \n",
       "1  [0, 0, 0, 0, 1, 0, 0, 0, 0, 1, 0, 0, 0, 0, 0, ...   \n",
       "2  [0, 0, 0, 0, 0, 0, 0, 0, 0, 0, 0, 0, 0, 0, 0, ...   \n",
       "\n",
       "                                        ingredients2  \n",
       "0  [lean pork chops, flour, salt, dry mustard, ga...  \n",
       "1  [egg roll wrap, whole green chilies, cheese, c...  \n",
       "2  [butterscotch chips, chinese noodles, salted p...  "
      ]
     },
     "execution_count": 40,
     "metadata": {},
     "output_type": "execute_result"
    }
   ],
   "source": [
    "recipes_df['ingredients2']=recipes_df['ingredients'].apply(clean_up)\n",
    "recipes_df.head(3)"
   ]
  },
  {
   "cell_type": "markdown",
   "metadata": {},
   "source": [
    "Create a list of all ingredients from all the recipes by adding values from the column ingredients2 together:"
   ]
  },
  {
   "cell_type": "code",
   "execution_count": 41,
   "metadata": {},
   "outputs": [],
   "source": [
    "ingredients_list = recipes_df.ingredients2.sum()"
   ]
  },
  {
   "cell_type": "markdown",
   "metadata": {},
   "source": [
    "Make a dictionary of unique ingredients by applying the Counter function on a non-unique ingredients list:"
   ]
  },
  {
   "cell_type": "code",
   "execution_count": 42,
   "metadata": {},
   "outputs": [],
   "source": [
    "d = dict(Counter(ingredients_list))"
   ]
  },
  {
   "cell_type": "markdown",
   "metadata": {},
   "source": [
    "Create a dictionary d10 that will only hold ingredients that were mentioned in the recipes x number of times:"
   ]
  },
  {
   "cell_type": "code",
   "execution_count": 43,
   "metadata": {},
   "outputs": [
    {
     "name": "stdout",
     "output_type": "stream",
     "text": [
      "245 \n",
      " {'flour': 2565, 'salt': 7864, 'dry mustard': 238, 'garlic powder': 1316, 'oil': 934, 'cheese': 202, 'cornstarch': 699, 'water': 3095, 'onion': 3246, 'black pepper': 1245, 'worcestershire sauce': 756, 'milk': 2359, 'plain yogurt': 107, 'frozen chopped spinach': 113, 'egg': 1538, 'sharp cheddar cheese': 230, 'soy sauce': 870, 'honey': 738, 'garlic': 1860, 'green onions': 463, 'ground beef': 559, 'sugar': 3940, 'beer': 119, 'cayenne': 176, 'salt & pepper': 172, 'brown sugar': 1794, 'cinnamon': 1065, 'raisins': 288, 'butter': 5106, 'whipping cream': 197, 'powdered sugar': 412, 'vanilla extract': 841, 'all-purpose flour': 1625, 'baking soda': 1442, 'lemon': 446, 'vanilla': 1360, 'eggs': 2930, 'red wine vinegar': 237, 'fresh basil': 273, 'scallions': 150, 'bacon': 549, 'celery': 723, 'carrot': 494, 'olive oil': 2503, 'lean ground beef': 247, 'dry white wine': 187, 'oregano': 430, 'red pepper flakes': 244, 'nutmeg': 462, 'mayonnaise': 802, 'bananas': 233, 'ketchup': 374, 'fresh lemon juice': 396, 'mustard': 121, 'vegetable oil': 1299, 'baking powder': 1701, 'nuts': 224, 'chocolate chips': 231, 'cream cheese': 809, 'sweetened condensed milk': 158, 'sour cream': 1071, 'cocoa': 189, 'vinegar': 300, 'egg white': 118, 'dark brown sugar': 128, 'ground ginger': 337, 'ground cinnamon': 546, 'ground cloves': 184, 'heavy cream': 367, 'balsamic vinegar': 314, 'garlic cloves': 1899, 'rosemary': 120, 'fresh ground black pepper': 577, 'tabasco sauce': 175, 'dried oregano': 527, 'boiling water': 202, 'dried thyme': 372, 'ginger': 245, 'potatoes': 611, 'dijon mustard': 447, 'white pepper': 254, 'fresh ground pepper': 262, 'boneless skinless chicken breasts': 460, 'thyme': 278, 'pepper': 1979, 'chili powder': 639, 'chives': 115, 'garlic clove': 624, 'lime juice': 223, 'banana': 163, 'frozen peas': 108, 'cheddar cheese': 846, 'seasoning salt': 316, 'white vinegar': 242, 'paprika': 917, 'chicken breasts': 195, 'lemon juice': 1093, 'dried parsley': 161, 'dried basil': 371, 'garlic salt': 289, 'barbecue sauce': 179, '\"confectioners\\' sugar\"': 283, 'pecans': 374, 'black beans': 190, 'cumin': 382, 'salsa': 235, 'dry breadcrumbs': 108, 'fresh parsley': 670, 'tomatoes': 785, 'salt and pepper': 1294, 'zucchini': 332, 'walnuts': 399, 'sweet onion': 101, 'half-and-half': 179, 'onions': 763, 'ground black pepper': 396, 'parmesan cheese': 1416, 'evaporated milk': 166, 'cayenne pepper': 639, 'unsalted butter': 617, 'cocoa powder': 108, 'buttermilk': 357, 'cream of chicken soup': 147, 'active dry yeast': 192, 'margarine': 507, 'cornmeal': 150, 'feta cheese': 194, 'granulated sugar': 538, 'beef broth': 204, 'mozzarella cheese': 458, 'extra virgin olive oil': 464, 'green bell pepper': 250, 'tomato sauce': 399, 'tomato paste': 337, 'dried rosemary': 111, 'mushrooms': 192, 'prepared mustard': 133, 'lettuce': 123, 'peanut butter': 217, 'rolled oats': 137, 'canola oil': 333, 'bread flour': 177, 'celery ribs': 127, 'red bell pepper': 267, 'juice of': 272, 'cold water': 156, 'semi-sweet chocolate chips': 219, 'egg yolks': 153, 'bay leaves': 211, 'diced tomatoes': 262, 'cream of mushroom soup': 236, 'apples': 161, 'green chilies': 126, 'ham': 139, 'sesame oil': 260, 'chicken broth': 780, 'light brown sugar': 240, 'scallion': 113, 'cooked rice': 139, 'red pepper': 131, 'flour tortillas': 145, 'parsley': 542, 'warm water': 223, 'whole wheat flour': 230, 'hot water': 152, 'molasses': 136, 'egg whites': 201, 'blueberries': 107, 'yeast': 180, 'boneless skinless chicken breast halves': 200, 'white wine': 190, 'cooked chicken': 174, 'monterey jack cheese': 228, 'black olives': 136, 'green onion': 473, 'shortening': 225, 'cooking spray': 162, 'fresh cilantro': 289, 'lime': 140, 'bread': 176, 'boneless skinless chicken breast': 120, 'swiss cheese': 152, 'chicken stock': 311, 'spaghetti sauce': 104, 'carrots': 513, 'italian seasoning': 211, 'crushed red pepper flakes': 287, 'onion powder': 417, 'fresh mushrooms': 182, 'pork chops': 121, 'potato': 113, 'bay leaf': 243, 'salt & freshly ground black pepper': 201, 'kosher salt': 439, 'red potatoes': 142, 'white sugar': 393, 'cool whip': 103, 'whole milk': 146, 'shrimp': 133, 'cream': 124, 'peanut oil': 103, 'fresh ginger': 289, 'corn': 107, 'hot sauce': 173, 'cucumber': 138, 'red onion': 339, 'chicken': 143, 'cabbage': 185, 'rice': 112, 'green pepper': 307, 'orange juice': 224, 'sliced mushrooms': 158, 'breadcrumbs': 217, 'mushroom': 153, 'capers': 103, 'sea salt': 192, 'white onion': 107, 'ground cumin': 519, 'cilantro': 247, 'lemon zest': 133, 'ricotta cheese': 101, 'almond extract': 159, 'skim milk': 170, 'broccoli': 116, 'maple syrup': 111, 'curry powder': 205, 'ground nutmeg': 214, 'ground coriander': 146, 'cider vinegar': 214, 'bell pepper': 115, 'cooking oil': 105, 'pure vanilla extract': 109, 'lemons': 123, 'fresh garlic': 115, 'turmeric': 137, 'elbow macaroni': 103, 'yellow onion': 158, 'red wine': 112, 'fresh lime juice': 167, 'fresh thyme': 116, 'shallots': 121, 'fresh rosemary': 130, 'basil': 240, 'rice vinegar': 116, 'sesame seeds': 173}\n"
     ]
    }
   ],
   "source": [
    "d10 = {}\n",
    "for key, value in d.items():\n",
    "    if value > 100:\n",
    "        d10[key]= value\n",
    "    else:\n",
    "        continue\n",
    "print(len(d10),'\\n', d10)"
   ]
  },
  {
   "cell_type": "markdown",
   "metadata": {},
   "source": [
    "We decided to limit the dictionary of ingredients to ingredients that were present in 100 recipes or more. There are 245 ingredients like this."
   ]
  },
  {
   "cell_type": "markdown",
   "metadata": {},
   "source": [
    "For further exploration, we created a list of keys from d10 and sorted it in alphabetical order:"
   ]
  },
  {
   "cell_type": "code",
   "execution_count": 44,
   "metadata": {},
   "outputs": [
    {
     "data": {
      "text/plain": [
       "['\"confectioners\\' sugar\"',\n",
       " 'active dry yeast',\n",
       " 'all-purpose flour',\n",
       " 'almond extract',\n",
       " 'apples',\n",
       " 'bacon',\n",
       " 'baking powder',\n",
       " 'baking soda',\n",
       " 'balsamic vinegar',\n",
       " 'banana',\n",
       " 'bananas',\n",
       " 'barbecue sauce',\n",
       " 'basil',\n",
       " 'bay leaf',\n",
       " 'bay leaves',\n",
       " 'beef broth',\n",
       " 'beer',\n",
       " 'bell pepper',\n",
       " 'black beans',\n",
       " 'black olives',\n",
       " 'black pepper',\n",
       " 'blueberries',\n",
       " 'boiling water',\n",
       " 'boneless skinless chicken breast',\n",
       " 'boneless skinless chicken breast halves',\n",
       " 'boneless skinless chicken breasts',\n",
       " 'bread',\n",
       " 'bread flour',\n",
       " 'breadcrumbs',\n",
       " 'broccoli',\n",
       " 'brown sugar',\n",
       " 'butter',\n",
       " 'buttermilk',\n",
       " 'cabbage',\n",
       " 'canola oil',\n",
       " 'capers',\n",
       " 'carrot',\n",
       " 'carrots',\n",
       " 'cayenne',\n",
       " 'cayenne pepper',\n",
       " 'celery',\n",
       " 'celery ribs',\n",
       " 'cheddar cheese',\n",
       " 'cheese',\n",
       " 'chicken',\n",
       " 'chicken breasts',\n",
       " 'chicken broth',\n",
       " 'chicken stock',\n",
       " 'chili powder',\n",
       " 'chives',\n",
       " 'chocolate chips',\n",
       " 'cider vinegar',\n",
       " 'cilantro',\n",
       " 'cinnamon',\n",
       " 'cocoa',\n",
       " 'cocoa powder',\n",
       " 'cold water',\n",
       " 'cooked chicken',\n",
       " 'cooked rice',\n",
       " 'cooking oil',\n",
       " 'cooking spray',\n",
       " 'cool whip',\n",
       " 'corn',\n",
       " 'cornmeal',\n",
       " 'cornstarch',\n",
       " 'cream',\n",
       " 'cream cheese',\n",
       " 'cream of chicken soup',\n",
       " 'cream of mushroom soup',\n",
       " 'crushed red pepper flakes',\n",
       " 'cucumber',\n",
       " 'cumin',\n",
       " 'curry powder',\n",
       " 'dark brown sugar',\n",
       " 'diced tomatoes',\n",
       " 'dijon mustard',\n",
       " 'dried basil',\n",
       " 'dried oregano',\n",
       " 'dried parsley',\n",
       " 'dried rosemary',\n",
       " 'dried thyme',\n",
       " 'dry breadcrumbs',\n",
       " 'dry mustard',\n",
       " 'dry white wine',\n",
       " 'egg',\n",
       " 'egg white',\n",
       " 'egg whites',\n",
       " 'egg yolks',\n",
       " 'eggs',\n",
       " 'elbow macaroni',\n",
       " 'evaporated milk',\n",
       " 'extra virgin olive oil',\n",
       " 'feta cheese',\n",
       " 'flour',\n",
       " 'flour tortillas',\n",
       " 'fresh basil',\n",
       " 'fresh cilantro',\n",
       " 'fresh garlic',\n",
       " 'fresh ginger',\n",
       " 'fresh ground black pepper',\n",
       " 'fresh ground pepper',\n",
       " 'fresh lemon juice',\n",
       " 'fresh lime juice',\n",
       " 'fresh mushrooms',\n",
       " 'fresh parsley',\n",
       " 'fresh rosemary',\n",
       " 'fresh thyme',\n",
       " 'frozen chopped spinach',\n",
       " 'frozen peas',\n",
       " 'garlic',\n",
       " 'garlic clove',\n",
       " 'garlic cloves',\n",
       " 'garlic powder',\n",
       " 'garlic salt',\n",
       " 'ginger',\n",
       " 'granulated sugar',\n",
       " 'green bell pepper',\n",
       " 'green chilies',\n",
       " 'green onion',\n",
       " 'green onions',\n",
       " 'green pepper',\n",
       " 'ground beef',\n",
       " 'ground black pepper',\n",
       " 'ground cinnamon',\n",
       " 'ground cloves',\n",
       " 'ground coriander',\n",
       " 'ground cumin',\n",
       " 'ground ginger',\n",
       " 'ground nutmeg',\n",
       " 'half-and-half',\n",
       " 'ham',\n",
       " 'heavy cream',\n",
       " 'honey',\n",
       " 'hot sauce',\n",
       " 'hot water',\n",
       " 'italian seasoning',\n",
       " 'juice of',\n",
       " 'ketchup',\n",
       " 'kosher salt',\n",
       " 'lean ground beef',\n",
       " 'lemon',\n",
       " 'lemon juice',\n",
       " 'lemon zest',\n",
       " 'lemons',\n",
       " 'lettuce',\n",
       " 'light brown sugar',\n",
       " 'lime',\n",
       " 'lime juice',\n",
       " 'maple syrup',\n",
       " 'margarine',\n",
       " 'mayonnaise',\n",
       " 'milk',\n",
       " 'molasses',\n",
       " 'monterey jack cheese',\n",
       " 'mozzarella cheese',\n",
       " 'mushroom',\n",
       " 'mushrooms',\n",
       " 'mustard',\n",
       " 'nutmeg',\n",
       " 'nuts',\n",
       " 'oil',\n",
       " 'olive oil',\n",
       " 'onion',\n",
       " 'onion powder',\n",
       " 'onions',\n",
       " 'orange juice',\n",
       " 'oregano',\n",
       " 'paprika',\n",
       " 'parmesan cheese',\n",
       " 'parsley',\n",
       " 'peanut butter',\n",
       " 'peanut oil',\n",
       " 'pecans',\n",
       " 'pepper',\n",
       " 'plain yogurt',\n",
       " 'pork chops',\n",
       " 'potato',\n",
       " 'potatoes',\n",
       " 'powdered sugar',\n",
       " 'prepared mustard',\n",
       " 'pure vanilla extract',\n",
       " 'raisins',\n",
       " 'red bell pepper',\n",
       " 'red onion',\n",
       " 'red pepper',\n",
       " 'red pepper flakes',\n",
       " 'red potatoes',\n",
       " 'red wine',\n",
       " 'red wine vinegar',\n",
       " 'rice',\n",
       " 'rice vinegar',\n",
       " 'ricotta cheese',\n",
       " 'rolled oats',\n",
       " 'rosemary',\n",
       " 'salsa',\n",
       " 'salt',\n",
       " 'salt & freshly ground black pepper',\n",
       " 'salt & pepper',\n",
       " 'salt and pepper',\n",
       " 'scallion',\n",
       " 'scallions',\n",
       " 'sea salt',\n",
       " 'seasoning salt',\n",
       " 'semi-sweet chocolate chips',\n",
       " 'sesame oil',\n",
       " 'sesame seeds',\n",
       " 'shallots',\n",
       " 'sharp cheddar cheese',\n",
       " 'shortening',\n",
       " 'shrimp',\n",
       " 'skim milk',\n",
       " 'sliced mushrooms',\n",
       " 'sour cream',\n",
       " 'soy sauce',\n",
       " 'spaghetti sauce',\n",
       " 'sugar',\n",
       " 'sweet onion',\n",
       " 'sweetened condensed milk',\n",
       " 'swiss cheese',\n",
       " 'tabasco sauce',\n",
       " 'thyme',\n",
       " 'tomato paste',\n",
       " 'tomato sauce',\n",
       " 'tomatoes',\n",
       " 'turmeric',\n",
       " 'unsalted butter',\n",
       " 'vanilla',\n",
       " 'vanilla extract',\n",
       " 'vegetable oil',\n",
       " 'vinegar',\n",
       " 'walnuts',\n",
       " 'warm water',\n",
       " 'water',\n",
       " 'whipping cream',\n",
       " 'white onion',\n",
       " 'white pepper',\n",
       " 'white sugar',\n",
       " 'white vinegar',\n",
       " 'white wine',\n",
       " 'whole milk',\n",
       " 'whole wheat flour',\n",
       " 'worcestershire sauce',\n",
       " 'yeast',\n",
       " 'yellow onion',\n",
       " 'zucchini']"
      ]
     },
     "execution_count": 44,
     "metadata": {},
     "output_type": "execute_result"
    }
   ],
   "source": [
    "d10_list=list(d10.keys())\n",
    "sorted(d10_list)"
   ]
  },
  {
   "cell_type": "markdown",
   "metadata": {},
   "source": [
    "Further exploration of the sorted list shows that there are some repeating ingredients with a slightly different names, e.g. carrot and carrots or garlick and fresh garlic. We will have to combine the outputs for these repeating ingredients later. "
   ]
  },
  {
   "cell_type": "markdown",
   "metadata": {},
   "source": [
    "Now we create the ingredients matrix similar way we created the tags matrix."
   ]
  },
  {
   "cell_type": "markdown",
   "metadata": {},
   "source": [
    "1) We attach a column called ingredients_check to the recipes dataframe. This column contains d10_list in every row:"
   ]
  },
  {
   "cell_type": "code",
   "execution_count": 45,
   "metadata": {},
   "outputs": [
    {
     "data": {
      "text/html": [
       "<div>\n",
       "<style scoped>\n",
       "    .dataframe tbody tr th:only-of-type {\n",
       "        vertical-align: middle;\n",
       "    }\n",
       "\n",
       "    .dataframe tbody tr th {\n",
       "        vertical-align: top;\n",
       "    }\n",
       "\n",
       "    .dataframe thead th {\n",
       "        text-align: right;\n",
       "    }\n",
       "</style>\n",
       "<table border=\"1\" class=\"dataframe\">\n",
       "  <thead>\n",
       "    <tr style=\"text-align: right;\">\n",
       "      <th></th>\n",
       "      <th>level_0</th>\n",
       "      <th>id</th>\n",
       "      <th>index</th>\n",
       "      <th>name</th>\n",
       "      <th>minutes</th>\n",
       "      <th>contributor_id</th>\n",
       "      <th>submitted</th>\n",
       "      <th>tags</th>\n",
       "      <th>nutrition</th>\n",
       "      <th>n_steps</th>\n",
       "      <th>steps</th>\n",
       "      <th>description</th>\n",
       "      <th>ingredients</th>\n",
       "      <th>n_ingredients</th>\n",
       "      <th>tags2</th>\n",
       "      <th>tags_check</th>\n",
       "      <th>ingredients2</th>\n",
       "      <th>ingredients_check</th>\n",
       "    </tr>\n",
       "  </thead>\n",
       "  <tbody>\n",
       "    <tr>\n",
       "      <td>0</td>\n",
       "      <td>0</td>\n",
       "      <td>63986</td>\n",
       "      <td>15</td>\n",
       "      <td>chicken lickin  good  pork chops</td>\n",
       "      <td>500</td>\n",
       "      <td>14664</td>\n",
       "      <td>2003-06-06</td>\n",
       "      <td>['weeknight', 'time-to-make', 'course', 'main-...</td>\n",
       "      <td>[105.7, 8.0, 0.0, 26.0, 5.0, 4.0, 3.0]</td>\n",
       "      <td>5</td>\n",
       "      <td>['dredge pork chops in mixture of flour , salt...</td>\n",
       "      <td>here's and old standby i enjoy from time to ti...</td>\n",
       "      <td>['lean pork chops', 'flour', 'salt', 'dry must...</td>\n",
       "      <td>7</td>\n",
       "      <td>[['weeknight',  'time-to-make',  'course',  'm...</td>\n",
       "      <td>[0, 0, 0, 0, 0, 0, 0, 0, 0, 0, 0, 0, 0, 0, 0, ...</td>\n",
       "      <td>[lean pork chops, flour, salt, dry mustard, ga...</td>\n",
       "      <td>[flour, salt, dry mustard, garlic powder, oil,...</td>\n",
       "    </tr>\n",
       "    <tr>\n",
       "      <td>1</td>\n",
       "      <td>1</td>\n",
       "      <td>43026</td>\n",
       "      <td>16</td>\n",
       "      <td>chile rellenos</td>\n",
       "      <td>45</td>\n",
       "      <td>52268</td>\n",
       "      <td>2002-10-14</td>\n",
       "      <td>['60-minutes-or-less', 'time-to-make', 'course...</td>\n",
       "      <td>[94.0, 10.0, 0.0, 11.0, 11.0, 21.0, 0.0]</td>\n",
       "      <td>9</td>\n",
       "      <td>['drain green chiles', 'sprinkle cornstarch on...</td>\n",
       "      <td>a favorite from a local restaurant no longer i...</td>\n",
       "      <td>['egg roll wrap', 'whole green chilies', 'chee...</td>\n",
       "      <td>5</td>\n",
       "      <td>[['60-minutes-or-less',  'time-to-make',  'cou...</td>\n",
       "      <td>[0, 0, 0, 0, 1, 0, 0, 0, 0, 1, 0, 0, 0, 0, 0, ...</td>\n",
       "      <td>[egg roll wrap, whole green chilies, cheese, c...</td>\n",
       "      <td>[flour, salt, dry mustard, garlic powder, oil,...</td>\n",
       "    </tr>\n",
       "    <tr>\n",
       "      <td>2</td>\n",
       "      <td>2</td>\n",
       "      <td>23933</td>\n",
       "      <td>17</td>\n",
       "      <td>chinese  candy</td>\n",
       "      <td>15</td>\n",
       "      <td>35268</td>\n",
       "      <td>2002-03-29</td>\n",
       "      <td>['15-minutes-or-less', 'time-to-make', 'course...</td>\n",
       "      <td>[232.7, 21.0, 77.0, 4.0, 6.0, 38.0, 8.0]</td>\n",
       "      <td>4</td>\n",
       "      <td>['melt butterscotch chips in heavy saucepan ov...</td>\n",
       "      <td>a little different, and oh so good. i include ...</td>\n",
       "      <td>['butterscotch chips', 'chinese noodles', 'sal...</td>\n",
       "      <td>3</td>\n",
       "      <td>[['15-minutes-or-less',  'time-to-make',  'cou...</td>\n",
       "      <td>[0, 0, 0, 0, 0, 0, 0, 0, 0, 0, 0, 0, 0, 0, 0, ...</td>\n",
       "      <td>[butterscotch chips, chinese noodles, salted p...</td>\n",
       "      <td>[flour, salt, dry mustard, garlic powder, oil,...</td>\n",
       "    </tr>\n",
       "  </tbody>\n",
       "</table>\n",
       "</div>"
      ],
      "text/plain": [
       "   level_0     id  index                              name  minutes  \\\n",
       "0        0  63986     15  chicken lickin  good  pork chops      500   \n",
       "1        1  43026     16                    chile rellenos       45   \n",
       "2        2  23933     17                    chinese  candy       15   \n",
       "\n",
       "   contributor_id   submitted  \\\n",
       "0           14664  2003-06-06   \n",
       "1           52268  2002-10-14   \n",
       "2           35268  2002-03-29   \n",
       "\n",
       "                                                tags  \\\n",
       "0  ['weeknight', 'time-to-make', 'course', 'main-...   \n",
       "1  ['60-minutes-or-less', 'time-to-make', 'course...   \n",
       "2  ['15-minutes-or-less', 'time-to-make', 'course...   \n",
       "\n",
       "                                  nutrition  n_steps  \\\n",
       "0    [105.7, 8.0, 0.0, 26.0, 5.0, 4.0, 3.0]        5   \n",
       "1  [94.0, 10.0, 0.0, 11.0, 11.0, 21.0, 0.0]        9   \n",
       "2  [232.7, 21.0, 77.0, 4.0, 6.0, 38.0, 8.0]        4   \n",
       "\n",
       "                                               steps  \\\n",
       "0  ['dredge pork chops in mixture of flour , salt...   \n",
       "1  ['drain green chiles', 'sprinkle cornstarch on...   \n",
       "2  ['melt butterscotch chips in heavy saucepan ov...   \n",
       "\n",
       "                                         description  \\\n",
       "0  here's and old standby i enjoy from time to ti...   \n",
       "1  a favorite from a local restaurant no longer i...   \n",
       "2  a little different, and oh so good. i include ...   \n",
       "\n",
       "                                         ingredients  n_ingredients  \\\n",
       "0  ['lean pork chops', 'flour', 'salt', 'dry must...              7   \n",
       "1  ['egg roll wrap', 'whole green chilies', 'chee...              5   \n",
       "2  ['butterscotch chips', 'chinese noodles', 'sal...              3   \n",
       "\n",
       "                                               tags2  \\\n",
       "0  [['weeknight',  'time-to-make',  'course',  'm...   \n",
       "1  [['60-minutes-or-less',  'time-to-make',  'cou...   \n",
       "2  [['15-minutes-or-less',  'time-to-make',  'cou...   \n",
       "\n",
       "                                          tags_check  \\\n",
       "0  [0, 0, 0, 0, 0, 0, 0, 0, 0, 0, 0, 0, 0, 0, 0, ...   \n",
       "1  [0, 0, 0, 0, 1, 0, 0, 0, 0, 1, 0, 0, 0, 0, 0, ...   \n",
       "2  [0, 0, 0, 0, 0, 0, 0, 0, 0, 0, 0, 0, 0, 0, 0, ...   \n",
       "\n",
       "                                        ingredients2  \\\n",
       "0  [lean pork chops, flour, salt, dry mustard, ga...   \n",
       "1  [egg roll wrap, whole green chilies, cheese, c...   \n",
       "2  [butterscotch chips, chinese noodles, salted p...   \n",
       "\n",
       "                                   ingredients_check  \n",
       "0  [flour, salt, dry mustard, garlic powder, oil,...  \n",
       "1  [flour, salt, dry mustard, garlic powder, oil,...  \n",
       "2  [flour, salt, dry mustard, garlic powder, oil,...  "
      ]
     },
     "execution_count": 45,
     "metadata": {},
     "output_type": "execute_result"
    }
   ],
   "source": [
    "recipes_df['ingredients_check']=[d10_list for n in range(len(recipes_df))]\n",
    "recipes_df.head(3)"
   ]
  },
  {
   "cell_type": "markdown",
   "metadata": {},
   "source": [
    "2) Now we create a function that runs through all the values in the ingredients_check column and replaces the ingredient name with 1 if it is present in the recipe and with 0 if it is not present."
   ]
  },
  {
   "cell_type": "code",
   "execution_count": 46,
   "metadata": {},
   "outputs": [],
   "source": [
    "def ingredients_check(df, recid, i_list):\n",
    "    i_list=[1 if ingredient in df['ingredients2'][recid] else 0 for ingredient in i_list]\n",
    "    return i_list"
   ]
  },
  {
   "cell_type": "markdown",
   "metadata": {},
   "source": [
    "We test the function on one recipe id, \"63986\" (in order to do this, we first need to add the recipe id to the index of the recipes dataframe)"
   ]
  },
  {
   "cell_type": "code",
   "execution_count": 47,
   "metadata": {},
   "outputs": [],
   "source": [
    "recipes_df = recipes_df.set_index('id')"
   ]
  },
  {
   "cell_type": "code",
   "execution_count": 48,
   "metadata": {},
   "outputs": [
    {
     "data": {
      "text/plain": [
       "[1,\n",
       " 1,\n",
       " 1,\n",
       " 1,\n",
       " 1,\n",
       " 0,\n",
       " 0,\n",
       " 0,\n",
       " 0,\n",
       " 0,\n",
       " 0,\n",
       " 0,\n",
       " 0,\n",
       " 0,\n",
       " 0,\n",
       " 0,\n",
       " 0,\n",
       " 0,\n",
       " 0,\n",
       " 0,\n",
       " 0,\n",
       " 0,\n",
       " 0,\n",
       " 0,\n",
       " 0,\n",
       " 0,\n",
       " 0,\n",
       " 0,\n",
       " 0,\n",
       " 0,\n",
       " 0,\n",
       " 0,\n",
       " 0,\n",
       " 0,\n",
       " 0,\n",
       " 0,\n",
       " 0,\n",
       " 0,\n",
       " 0,\n",
       " 0,\n",
       " 0,\n",
       " 0,\n",
       " 0,\n",
       " 0,\n",
       " 0,\n",
       " 0,\n",
       " 0,\n",
       " 0,\n",
       " 0,\n",
       " 0,\n",
       " 0,\n",
       " 0,\n",
       " 0,\n",
       " 0,\n",
       " 0,\n",
       " 0,\n",
       " 0,\n",
       " 0,\n",
       " 0,\n",
       " 0,\n",
       " 0,\n",
       " 0,\n",
       " 0,\n",
       " 0,\n",
       " 0,\n",
       " 0,\n",
       " 0,\n",
       " 0,\n",
       " 0,\n",
       " 0,\n",
       " 0,\n",
       " 0,\n",
       " 0,\n",
       " 0,\n",
       " 0,\n",
       " 0,\n",
       " 0,\n",
       " 0,\n",
       " 0,\n",
       " 0,\n",
       " 0,\n",
       " 0,\n",
       " 0,\n",
       " 0,\n",
       " 0,\n",
       " 0,\n",
       " 0,\n",
       " 0,\n",
       " 0,\n",
       " 0,\n",
       " 0,\n",
       " 0,\n",
       " 0,\n",
       " 0,\n",
       " 0,\n",
       " 0,\n",
       " 0,\n",
       " 0,\n",
       " 0,\n",
       " 0,\n",
       " 0,\n",
       " 0,\n",
       " 0,\n",
       " 0,\n",
       " 0,\n",
       " 0,\n",
       " 0,\n",
       " 0,\n",
       " 0,\n",
       " 0,\n",
       " 0,\n",
       " 0,\n",
       " 0,\n",
       " 0,\n",
       " 0,\n",
       " 0,\n",
       " 0,\n",
       " 0,\n",
       " 0,\n",
       " 0,\n",
       " 0,\n",
       " 0,\n",
       " 0,\n",
       " 0,\n",
       " 0,\n",
       " 0,\n",
       " 0,\n",
       " 0,\n",
       " 0,\n",
       " 0,\n",
       " 0,\n",
       " 0,\n",
       " 0,\n",
       " 0,\n",
       " 0,\n",
       " 0,\n",
       " 0,\n",
       " 0,\n",
       " 0,\n",
       " 0,\n",
       " 0,\n",
       " 0,\n",
       " 0,\n",
       " 0,\n",
       " 0,\n",
       " 0,\n",
       " 0,\n",
       " 0,\n",
       " 0,\n",
       " 0,\n",
       " 0,\n",
       " 0,\n",
       " 0,\n",
       " 0,\n",
       " 0,\n",
       " 0,\n",
       " 0,\n",
       " 0,\n",
       " 0,\n",
       " 0,\n",
       " 0,\n",
       " 0,\n",
       " 0,\n",
       " 0,\n",
       " 0,\n",
       " 0,\n",
       " 0,\n",
       " 0,\n",
       " 0,\n",
       " 0,\n",
       " 0,\n",
       " 0,\n",
       " 0,\n",
       " 0,\n",
       " 0,\n",
       " 0,\n",
       " 0,\n",
       " 0,\n",
       " 0,\n",
       " 0,\n",
       " 0,\n",
       " 0,\n",
       " 0,\n",
       " 0,\n",
       " 0,\n",
       " 0,\n",
       " 0,\n",
       " 0,\n",
       " 0,\n",
       " 0,\n",
       " 0,\n",
       " 0,\n",
       " 0,\n",
       " 0,\n",
       " 0,\n",
       " 0,\n",
       " 0,\n",
       " 0,\n",
       " 0,\n",
       " 0,\n",
       " 0,\n",
       " 0,\n",
       " 0,\n",
       " 0,\n",
       " 0,\n",
       " 0,\n",
       " 0,\n",
       " 0,\n",
       " 0,\n",
       " 0,\n",
       " 0,\n",
       " 0,\n",
       " 0,\n",
       " 0,\n",
       " 0,\n",
       " 0,\n",
       " 0,\n",
       " 0,\n",
       " 0,\n",
       " 0,\n",
       " 0,\n",
       " 0,\n",
       " 0,\n",
       " 0,\n",
       " 0,\n",
       " 0,\n",
       " 0,\n",
       " 0,\n",
       " 0,\n",
       " 0,\n",
       " 0,\n",
       " 0,\n",
       " 0,\n",
       " 0,\n",
       " 0,\n",
       " 0,\n",
       " 0,\n",
       " 0,\n",
       " 0,\n",
       " 0,\n",
       " 0,\n",
       " 0,\n",
       " 0,\n",
       " 0,\n",
       " 0]"
      ]
     },
     "execution_count": 48,
     "metadata": {},
     "output_type": "execute_result"
    }
   ],
   "source": [
    "ingredients_check(recipes_df, 63986, d10_list)"
   ]
  },
  {
   "cell_type": "markdown",
   "metadata": {},
   "source": [
    "3) We apply the ingredients_check function to the whole column ingredients_check using list comrehension to get to the individual tags level:"
   ]
  },
  {
   "cell_type": "code",
   "execution_count": 49,
   "metadata": {},
   "outputs": [
    {
     "data": {
      "text/html": [
       "<div>\n",
       "<style scoped>\n",
       "    .dataframe tbody tr th:only-of-type {\n",
       "        vertical-align: middle;\n",
       "    }\n",
       "\n",
       "    .dataframe tbody tr th {\n",
       "        vertical-align: top;\n",
       "    }\n",
       "\n",
       "    .dataframe thead th {\n",
       "        text-align: right;\n",
       "    }\n",
       "</style>\n",
       "<table border=\"1\" class=\"dataframe\">\n",
       "  <thead>\n",
       "    <tr style=\"text-align: right;\">\n",
       "      <th></th>\n",
       "      <th>level_0</th>\n",
       "      <th>index</th>\n",
       "      <th>name</th>\n",
       "      <th>minutes</th>\n",
       "      <th>contributor_id</th>\n",
       "      <th>submitted</th>\n",
       "      <th>tags</th>\n",
       "      <th>nutrition</th>\n",
       "      <th>n_steps</th>\n",
       "      <th>steps</th>\n",
       "      <th>description</th>\n",
       "      <th>ingredients</th>\n",
       "      <th>n_ingredients</th>\n",
       "      <th>tags2</th>\n",
       "      <th>tags_check</th>\n",
       "      <th>ingredients2</th>\n",
       "      <th>ingredients_check</th>\n",
       "    </tr>\n",
       "    <tr>\n",
       "      <th>id</th>\n",
       "      <th></th>\n",
       "      <th></th>\n",
       "      <th></th>\n",
       "      <th></th>\n",
       "      <th></th>\n",
       "      <th></th>\n",
       "      <th></th>\n",
       "      <th></th>\n",
       "      <th></th>\n",
       "      <th></th>\n",
       "      <th></th>\n",
       "      <th></th>\n",
       "      <th></th>\n",
       "      <th></th>\n",
       "      <th></th>\n",
       "      <th></th>\n",
       "      <th></th>\n",
       "    </tr>\n",
       "  </thead>\n",
       "  <tbody>\n",
       "    <tr>\n",
       "      <td>63986</td>\n",
       "      <td>0</td>\n",
       "      <td>15</td>\n",
       "      <td>chicken lickin  good  pork chops</td>\n",
       "      <td>500</td>\n",
       "      <td>14664</td>\n",
       "      <td>2003-06-06</td>\n",
       "      <td>['weeknight', 'time-to-make', 'course', 'main-...</td>\n",
       "      <td>[105.7, 8.0, 0.0, 26.0, 5.0, 4.0, 3.0]</td>\n",
       "      <td>5</td>\n",
       "      <td>['dredge pork chops in mixture of flour , salt...</td>\n",
       "      <td>here's and old standby i enjoy from time to ti...</td>\n",
       "      <td>['lean pork chops', 'flour', 'salt', 'dry must...</td>\n",
       "      <td>7</td>\n",
       "      <td>[['weeknight',  'time-to-make',  'course',  'm...</td>\n",
       "      <td>[0, 0, 0, 0, 0, 0, 0, 0, 0, 0, 0, 0, 0, 0, 0, ...</td>\n",
       "      <td>[lean pork chops, flour, salt, dry mustard, ga...</td>\n",
       "      <td>[1, 1, 1, 1, 1, 0, 0, 0, 0, 0, 0, 0, 0, 0, 0, ...</td>\n",
       "    </tr>\n",
       "    <tr>\n",
       "      <td>43026</td>\n",
       "      <td>1</td>\n",
       "      <td>16</td>\n",
       "      <td>chile rellenos</td>\n",
       "      <td>45</td>\n",
       "      <td>52268</td>\n",
       "      <td>2002-10-14</td>\n",
       "      <td>['60-minutes-or-less', 'time-to-make', 'course...</td>\n",
       "      <td>[94.0, 10.0, 0.0, 11.0, 11.0, 21.0, 0.0]</td>\n",
       "      <td>9</td>\n",
       "      <td>['drain green chiles', 'sprinkle cornstarch on...</td>\n",
       "      <td>a favorite from a local restaurant no longer i...</td>\n",
       "      <td>['egg roll wrap', 'whole green chilies', 'chee...</td>\n",
       "      <td>5</td>\n",
       "      <td>[['60-minutes-or-less',  'time-to-make',  'cou...</td>\n",
       "      <td>[0, 0, 0, 0, 1, 0, 0, 0, 0, 1, 0, 0, 0, 0, 0, ...</td>\n",
       "      <td>[egg roll wrap, whole green chilies, cheese, c...</td>\n",
       "      <td>[0, 0, 0, 0, 1, 1, 1, 0, 0, 0, 0, 0, 0, 0, 0, ...</td>\n",
       "    </tr>\n",
       "    <tr>\n",
       "      <td>23933</td>\n",
       "      <td>2</td>\n",
       "      <td>17</td>\n",
       "      <td>chinese  candy</td>\n",
       "      <td>15</td>\n",
       "      <td>35268</td>\n",
       "      <td>2002-03-29</td>\n",
       "      <td>['15-minutes-or-less', 'time-to-make', 'course...</td>\n",
       "      <td>[232.7, 21.0, 77.0, 4.0, 6.0, 38.0, 8.0]</td>\n",
       "      <td>4</td>\n",
       "      <td>['melt butterscotch chips in heavy saucepan ov...</td>\n",
       "      <td>a little different, and oh so good. i include ...</td>\n",
       "      <td>['butterscotch chips', 'chinese noodles', 'sal...</td>\n",
       "      <td>3</td>\n",
       "      <td>[['15-minutes-or-less',  'time-to-make',  'cou...</td>\n",
       "      <td>[0, 0, 0, 0, 0, 0, 0, 0, 0, 0, 0, 0, 0, 0, 0, ...</td>\n",
       "      <td>[butterscotch chips, chinese noodles, salted p...</td>\n",
       "      <td>[0, 0, 0, 0, 0, 0, 0, 0, 0, 0, 0, 0, 0, 0, 0, ...</td>\n",
       "    </tr>\n",
       "  </tbody>\n",
       "</table>\n",
       "</div>"
      ],
      "text/plain": [
       "       level_0  index                              name  minutes  \\\n",
       "id                                                                 \n",
       "63986        0     15  chicken lickin  good  pork chops      500   \n",
       "43026        1     16                    chile rellenos       45   \n",
       "23933        2     17                    chinese  candy       15   \n",
       "\n",
       "       contributor_id   submitted  \\\n",
       "id                                  \n",
       "63986           14664  2003-06-06   \n",
       "43026           52268  2002-10-14   \n",
       "23933           35268  2002-03-29   \n",
       "\n",
       "                                                    tags  \\\n",
       "id                                                         \n",
       "63986  ['weeknight', 'time-to-make', 'course', 'main-...   \n",
       "43026  ['60-minutes-or-less', 'time-to-make', 'course...   \n",
       "23933  ['15-minutes-or-less', 'time-to-make', 'course...   \n",
       "\n",
       "                                      nutrition  n_steps  \\\n",
       "id                                                         \n",
       "63986    [105.7, 8.0, 0.0, 26.0, 5.0, 4.0, 3.0]        5   \n",
       "43026  [94.0, 10.0, 0.0, 11.0, 11.0, 21.0, 0.0]        9   \n",
       "23933  [232.7, 21.0, 77.0, 4.0, 6.0, 38.0, 8.0]        4   \n",
       "\n",
       "                                                   steps  \\\n",
       "id                                                         \n",
       "63986  ['dredge pork chops in mixture of flour , salt...   \n",
       "43026  ['drain green chiles', 'sprinkle cornstarch on...   \n",
       "23933  ['melt butterscotch chips in heavy saucepan ov...   \n",
       "\n",
       "                                             description  \\\n",
       "id                                                         \n",
       "63986  here's and old standby i enjoy from time to ti...   \n",
       "43026  a favorite from a local restaurant no longer i...   \n",
       "23933  a little different, and oh so good. i include ...   \n",
       "\n",
       "                                             ingredients  n_ingredients  \\\n",
       "id                                                                        \n",
       "63986  ['lean pork chops', 'flour', 'salt', 'dry must...              7   \n",
       "43026  ['egg roll wrap', 'whole green chilies', 'chee...              5   \n",
       "23933  ['butterscotch chips', 'chinese noodles', 'sal...              3   \n",
       "\n",
       "                                                   tags2  \\\n",
       "id                                                         \n",
       "63986  [['weeknight',  'time-to-make',  'course',  'm...   \n",
       "43026  [['60-minutes-or-less',  'time-to-make',  'cou...   \n",
       "23933  [['15-minutes-or-less',  'time-to-make',  'cou...   \n",
       "\n",
       "                                              tags_check  \\\n",
       "id                                                         \n",
       "63986  [0, 0, 0, 0, 0, 0, 0, 0, 0, 0, 0, 0, 0, 0, 0, ...   \n",
       "43026  [0, 0, 0, 0, 1, 0, 0, 0, 0, 1, 0, 0, 0, 0, 0, ...   \n",
       "23933  [0, 0, 0, 0, 0, 0, 0, 0, 0, 0, 0, 0, 0, 0, 0, ...   \n",
       "\n",
       "                                            ingredients2  \\\n",
       "id                                                         \n",
       "63986  [lean pork chops, flour, salt, dry mustard, ga...   \n",
       "43026  [egg roll wrap, whole green chilies, cheese, c...   \n",
       "23933  [butterscotch chips, chinese noodles, salted p...   \n",
       "\n",
       "                                       ingredients_check  \n",
       "id                                                        \n",
       "63986  [1, 1, 1, 1, 1, 0, 0, 0, 0, 0, 0, 0, 0, 0, 0, ...  \n",
       "43026  [0, 0, 0, 0, 1, 1, 1, 0, 0, 0, 0, 0, 0, 0, 0, ...  \n",
       "23933  [0, 0, 0, 0, 0, 0, 0, 0, 0, 0, 0, 0, 0, 0, 0, ...  "
      ]
     },
     "execution_count": 49,
     "metadata": {},
     "output_type": "execute_result"
    }
   ],
   "source": [
    "recipes_df['ingredients_check']=[ingredients_check(recipes_df, recipes_df.index[n], d10_list) for n in range(len(recipes_df))]\n",
    "recipes_df.head(3)"
   ]
  },
  {
   "cell_type": "markdown",
   "metadata": {},
   "source": [
    "4) We create the ingredients_matrix dataframe with rows as recipe ids, columns as the individual recipe ingredients, and values as 1-s and 0-s for a particular recipe id-ingredient match from the ingredients_check column:"
   ]
  },
  {
   "cell_type": "code",
   "execution_count": 50,
   "metadata": {},
   "outputs": [
    {
     "data": {
      "text/html": [
       "<div>\n",
       "<style scoped>\n",
       "    .dataframe tbody tr th:only-of-type {\n",
       "        vertical-align: middle;\n",
       "    }\n",
       "\n",
       "    .dataframe tbody tr th {\n",
       "        vertical-align: top;\n",
       "    }\n",
       "\n",
       "    .dataframe thead th {\n",
       "        text-align: right;\n",
       "    }\n",
       "</style>\n",
       "<table border=\"1\" class=\"dataframe\">\n",
       "  <thead>\n",
       "    <tr style=\"text-align: right;\">\n",
       "      <th></th>\n",
       "      <th>flour</th>\n",
       "      <th>salt</th>\n",
       "      <th>dry mustard</th>\n",
       "      <th>garlic powder</th>\n",
       "      <th>oil</th>\n",
       "      <th>cheese</th>\n",
       "      <th>cornstarch</th>\n",
       "      <th>water</th>\n",
       "      <th>onion</th>\n",
       "      <th>black pepper</th>\n",
       "      <th>...</th>\n",
       "      <th>elbow macaroni</th>\n",
       "      <th>yellow onion</th>\n",
       "      <th>red wine</th>\n",
       "      <th>fresh lime juice</th>\n",
       "      <th>fresh thyme</th>\n",
       "      <th>shallots</th>\n",
       "      <th>fresh rosemary</th>\n",
       "      <th>basil</th>\n",
       "      <th>rice vinegar</th>\n",
       "      <th>sesame seeds</th>\n",
       "    </tr>\n",
       "    <tr>\n",
       "      <th>id</th>\n",
       "      <th></th>\n",
       "      <th></th>\n",
       "      <th></th>\n",
       "      <th></th>\n",
       "      <th></th>\n",
       "      <th></th>\n",
       "      <th></th>\n",
       "      <th></th>\n",
       "      <th></th>\n",
       "      <th></th>\n",
       "      <th></th>\n",
       "      <th></th>\n",
       "      <th></th>\n",
       "      <th></th>\n",
       "      <th></th>\n",
       "      <th></th>\n",
       "      <th></th>\n",
       "      <th></th>\n",
       "      <th></th>\n",
       "      <th></th>\n",
       "      <th></th>\n",
       "    </tr>\n",
       "  </thead>\n",
       "  <tbody>\n",
       "    <tr>\n",
       "      <td>63986</td>\n",
       "      <td>1</td>\n",
       "      <td>1</td>\n",
       "      <td>1</td>\n",
       "      <td>1</td>\n",
       "      <td>1</td>\n",
       "      <td>0</td>\n",
       "      <td>0</td>\n",
       "      <td>0</td>\n",
       "      <td>0</td>\n",
       "      <td>0</td>\n",
       "      <td>...</td>\n",
       "      <td>0</td>\n",
       "      <td>0</td>\n",
       "      <td>0</td>\n",
       "      <td>0</td>\n",
       "      <td>0</td>\n",
       "      <td>0</td>\n",
       "      <td>0</td>\n",
       "      <td>0</td>\n",
       "      <td>0</td>\n",
       "      <td>0</td>\n",
       "    </tr>\n",
       "    <tr>\n",
       "      <td>43026</td>\n",
       "      <td>0</td>\n",
       "      <td>0</td>\n",
       "      <td>0</td>\n",
       "      <td>0</td>\n",
       "      <td>1</td>\n",
       "      <td>1</td>\n",
       "      <td>1</td>\n",
       "      <td>0</td>\n",
       "      <td>0</td>\n",
       "      <td>0</td>\n",
       "      <td>...</td>\n",
       "      <td>0</td>\n",
       "      <td>0</td>\n",
       "      <td>0</td>\n",
       "      <td>0</td>\n",
       "      <td>0</td>\n",
       "      <td>0</td>\n",
       "      <td>0</td>\n",
       "      <td>0</td>\n",
       "      <td>0</td>\n",
       "      <td>0</td>\n",
       "    </tr>\n",
       "    <tr>\n",
       "      <td>23933</td>\n",
       "      <td>0</td>\n",
       "      <td>0</td>\n",
       "      <td>0</td>\n",
       "      <td>0</td>\n",
       "      <td>0</td>\n",
       "      <td>0</td>\n",
       "      <td>0</td>\n",
       "      <td>0</td>\n",
       "      <td>0</td>\n",
       "      <td>0</td>\n",
       "      <td>...</td>\n",
       "      <td>0</td>\n",
       "      <td>0</td>\n",
       "      <td>0</td>\n",
       "      <td>0</td>\n",
       "      <td>0</td>\n",
       "      <td>0</td>\n",
       "      <td>0</td>\n",
       "      <td>0</td>\n",
       "      <td>0</td>\n",
       "      <td>0</td>\n",
       "    </tr>\n",
       "  </tbody>\n",
       "</table>\n",
       "<p>3 rows × 245 columns</p>\n",
       "</div>"
      ],
      "text/plain": [
       "       flour  salt  dry mustard  garlic powder  oil  cheese  cornstarch  \\\n",
       "id                                                                        \n",
       "63986      1     1            1              1    1       0           0   \n",
       "43026      0     0            0              0    1       1           1   \n",
       "23933      0     0            0              0    0       0           0   \n",
       "\n",
       "       water  onion  black pepper  ...  elbow macaroni  yellow onion  \\\n",
       "id                                 ...                                 \n",
       "63986      0      0             0  ...               0             0   \n",
       "43026      0      0             0  ...               0             0   \n",
       "23933      0      0             0  ...               0             0   \n",
       "\n",
       "       red wine  fresh lime juice  fresh thyme  shallots  fresh rosemary  \\\n",
       "id                                                                         \n",
       "63986         0                 0            0         0               0   \n",
       "43026         0                 0            0         0               0   \n",
       "23933         0                 0            0         0               0   \n",
       "\n",
       "       basil  rice vinegar  sesame seeds  \n",
       "id                                        \n",
       "63986      0             0             0  \n",
       "43026      0             0             0  \n",
       "23933      0             0             0  \n",
       "\n",
       "[3 rows x 245 columns]"
      ]
     },
     "execution_count": 50,
     "metadata": {},
     "output_type": "execute_result"
    }
   ],
   "source": [
    "ingredients_matrix=pd.DataFrame(recipes_df['ingredients_check'].values.tolist(),\n",
    "                        columns=[ingredient for ingredient in d10_list],\n",
    "                        index=recipes_df.index)\n",
    "ingredients_matrix.head(3)"
   ]
  },
  {
   "cell_type": "markdown",
   "metadata": {},
   "source": [
    "### Further cleaning of ingredients_matrix"
   ]
  },
  {
   "cell_type": "markdown",
   "metadata": {},
   "source": [
    "Now we need to get rid of the columns with similar ingredients. There are 3 types of similar ingredients that we will investigate:\n",
    "1) Ingredient names in single and plural form\n",
    "2) Ingredient names with the same first word in the name\n",
    "3) Ingredient names with the same second word in the name"
   ]
  },
  {
   "cell_type": "markdown",
   "metadata": {},
   "source": [
    "##### Ingredient names in single and plural form"
   ]
  },
  {
   "cell_type": "markdown",
   "metadata": {},
   "source": [
    "In order to find columns with similar ingredients names, we create a list of pairs:"
   ]
  },
  {
   "cell_type": "code",
   "execution_count": 51,
   "metadata": {},
   "outputs": [
    {
     "name": "stdout",
     "output_type": "stream",
     "text": [
      "['onion', 'onions', 'egg', 'eggs', 'lemon', 'lemons', 'carrot', 'carrots', 'egg white', 'egg whites', 'garlic clove', 'garlic cloves', 'banana', 'bananas', 'scallion', 'scallions', 'green onion', 'green onions', 'boneless skinless chicken breast', 'boneless skinless chicken breasts', 'mushroom', 'mushrooms']\n"
     ]
    }
   ],
   "source": [
    "pairs_list=[]\n",
    "for str in d10_list:\n",
    "    if str+'s' in d10_list:\n",
    "        pairs_list.append(str)\n",
    "        pairs_list.append(str+'s')\n",
    "    else:\n",
    "        continue\n",
    "\n",
    "print(pairs_list)"
   ]
  },
  {
   "cell_type": "code",
   "execution_count": 52,
   "metadata": {},
   "outputs": [
    {
     "name": "stdout",
     "output_type": "stream",
     "text": [
      "['onion', 'onions', 'egg', 'eggs', 'lemon', 'lemons', 'carrot', 'carrots', 'egg white', 'egg whites', 'garlic clove', 'garlic cloves', 'banana', 'bananas', 'scallion', 'scallions', 'green onion', 'green onions', 'boneless skinless chicken breast', 'boneless skinless chicken breasts', 'mushroom', 'mushrooms', 'potato', 'potatoes']\n"
     ]
    }
   ],
   "source": [
    "for str in d10_list:\n",
    "    if str+'es' in d10_list:\n",
    "        pairs_list.append(str)\n",
    "        pairs_list.append(str+'es')\n",
    "    else:\n",
    "        continue\n",
    "print(pairs_list)"
   ]
  },
  {
   "cell_type": "markdown",
   "metadata": {},
   "source": [
    "We further convert the pairs_list into the tuples_list with similar ingredients in one tuple:"
   ]
  },
  {
   "cell_type": "code",
   "execution_count": 53,
   "metadata": {},
   "outputs": [
    {
     "name": "stdout",
     "output_type": "stream",
     "text": [
      "[('onions', 'onion'), ('eggs', 'egg'), ('lemons', 'lemon'), ('carrots', 'carrot'), ('egg whites', 'egg white'), ('garlic cloves', 'garlic clove'), ('bananas', 'banana'), ('scallions', 'scallion'), ('green onions', 'green onion'), ('boneless skinless chicken breasts', 'boneless skinless chicken breast'), ('mushrooms', 'mushroom'), ('potatoes', 'potato')]\n"
     ]
    }
   ],
   "source": [
    "sublist1 = []\n",
    "sublist2 = []\n",
    "for i in range(0,len(pairs_list)):\n",
    "    if i%2 !=0:\n",
    "        sublist1.append(pairs_list[i])\n",
    "    else:\n",
    "        sublist2.append(pairs_list[i])\n",
    "tuples_list = list(zip(sublist1,sublist2))\n",
    "print(tuples_list)"
   ]
  },
  {
   "cell_type": "markdown",
   "metadata": {},
   "source": [
    "Now we need to use tuples_list and same_words list to unite the values of ingredients_matrix columns together. We do this by creating a function that:\n",
    "1) adds values of two columns of the ingredients matrix together \n",
    "2) replaces the resulting values over 1 with 1"
   ]
  },
  {
   "cell_type": "code",
   "execution_count": 54,
   "metadata": {},
   "outputs": [],
   "source": [
    "def unite_cols(df, col1, col2):\n",
    "    df[col1] = df[col1] + df[col2]\n",
    "    df[df[col1]>1] = 1\n",
    "    return df[df.values>1]"
   ]
  },
  {
   "cell_type": "code",
   "execution_count": 55,
   "metadata": {},
   "outputs": [],
   "source": [
    "for i in range(0,len(tuples_list)):\n",
    "    unite_cols(ingredients_matrix, tuples_list[i][1],tuples_list[i][0])"
   ]
  },
  {
   "cell_type": "code",
   "execution_count": 56,
   "metadata": {},
   "outputs": [
    {
     "data": {
      "text/plain": [
       "245"
      ]
     },
     "execution_count": 56,
     "metadata": {},
     "output_type": "execute_result"
    }
   ],
   "source": [
    "len(ingredients_matrix.columns)"
   ]
  },
  {
   "cell_type": "code",
   "execution_count": 57,
   "metadata": {},
   "outputs": [
    {
     "data": {
      "text/plain": [
       "233"
      ]
     },
     "execution_count": 57,
     "metadata": {},
     "output_type": "execute_result"
    }
   ],
   "source": [
    "for i in sublist1:\n",
    "    ingredients_matrix.drop(i, axis=1, inplace=True)\n",
    "len(ingredients_matrix.columns)"
   ]
  },
  {
   "cell_type": "markdown",
   "metadata": {},
   "source": [
    "We now reduced the number of columns from 245 to 233 by removing the repeating ingredients."
   ]
  },
  {
   "cell_type": "markdown",
   "metadata": {},
   "source": [
    "##### Ingredient names with the same first word in the name"
   ]
  },
  {
   "cell_type": "markdown",
   "metadata": {},
   "source": [
    "We still need to deal with ingredients that have one word in common, like 'cilantro' and 'fresh cilantro'. "
   ]
  },
  {
   "cell_type": "code",
   "execution_count": 58,
   "metadata": {},
   "outputs": [],
   "source": [
    "list1 =[]\n",
    "list2 =[]\n",
    "list3 =[]\n",
    "list4 =[]\n",
    "for str in d10_list:\n",
    "    if len(str.split(' '))>1:\n",
    "        if str.split(' ')[0] in d10_list:\n",
    "            list1.append(str)\n",
    "            list2.append(str.split(' ')[0])\n",
    "        elif str.split(' ')[1] in d10_list:\n",
    "            list3.append(str)\n",
    "            list4.append(str.split(' ')[1])\n",
    "        else:\n",
    "            continue"
   ]
  },
  {
   "cell_type": "markdown",
   "metadata": {},
   "source": [
    "First, let's review the lists of ingredients where the first word is matching a different ingredient:"
   ]
  },
  {
   "cell_type": "code",
   "execution_count": 59,
   "metadata": {},
   "outputs": [
    {
     "name": "stdout",
     "output_type": "stream",
     "text": [
      "['garlic powder', 'salt & pepper', 'vanilla extract', 'cream cheese', 'egg white', 'garlic cloves', 'garlic clove', 'lime juice', 'chicken breasts', 'lemon juice', 'garlic salt', 'salt and pepper', 'cayenne pepper', 'cocoa powder', 'cream of chicken soup', 'bread flour', 'celery ribs', 'egg yolks', 'cream of mushroom soup', 'chicken broth', 'flour tortillas', 'egg whites', 'chicken stock', 'onion powder', 'salt & freshly ground black pepper', 'lemon zest', 'rice vinegar'] \n",
      " ['garlic', 'salt', 'vanilla', 'cream', 'egg', 'garlic', 'garlic', 'lime', 'chicken', 'lemon', 'garlic', 'salt', 'cayenne', 'cocoa', 'cream', 'bread', 'celery', 'egg', 'cream', 'chicken', 'flour', 'egg', 'chicken', 'onion', 'salt', 'lemon', 'rice']\n"
     ]
    }
   ],
   "source": [
    "print(list1, '\\n', list2)"
   ]
  },
  {
   "cell_type": "markdown",
   "metadata": {},
   "source": [
    "We combine these ingredients in a list of tuples and observe the results:"
   ]
  },
  {
   "cell_type": "code",
   "execution_count": 60,
   "metadata": {},
   "outputs": [
    {
     "name": "stdout",
     "output_type": "stream",
     "text": [
      "0 ('bread flour', 'bread')\n",
      "1 ('cayenne pepper', 'cayenne')\n",
      "2 ('celery ribs', 'celery')\n",
      "3 ('chicken breasts', 'chicken')\n",
      "4 ('chicken broth', 'chicken')\n",
      "5 ('chicken stock', 'chicken')\n",
      "6 ('cocoa powder', 'cocoa')\n",
      "7 ('cream cheese', 'cream')\n",
      "8 ('cream of chicken soup', 'cream')\n",
      "9 ('cream of mushroom soup', 'cream')\n",
      "10 ('egg white', 'egg')\n",
      "11 ('egg whites', 'egg')\n",
      "12 ('egg yolks', 'egg')\n",
      "13 ('flour tortillas', 'flour')\n",
      "14 ('garlic clove', 'garlic')\n",
      "15 ('garlic cloves', 'garlic')\n",
      "16 ('garlic powder', 'garlic')\n",
      "17 ('garlic salt', 'garlic')\n",
      "18 ('lemon juice', 'lemon')\n",
      "19 ('lemon zest', 'lemon')\n",
      "20 ('lime juice', 'lime')\n",
      "21 ('onion powder', 'onion')\n",
      "22 ('rice vinegar', 'rice')\n",
      "23 ('salt & freshly ground black pepper', 'salt')\n",
      "24 ('salt & pepper', 'salt')\n",
      "25 ('salt and pepper', 'salt')\n",
      "26 ('vanilla extract', 'vanilla')\n"
     ]
    }
   ],
   "source": [
    "tuples_list2=sorted(list(zip(list1, list2)))\n",
    "for i in range(0,len(tuples_list2)):\n",
    "    print(i,tuples_list2[i])   "
   ]
  },
  {
   "cell_type": "markdown",
   "metadata": {},
   "source": [
    "Upon observation, we remove the tuples that are not a similar ingredient from a list. We update tuples_list2 manually to include only the relevant tuples:"
   ]
  },
  {
   "cell_type": "code",
   "execution_count": 61,
   "metadata": {},
   "outputs": [
    {
     "data": {
      "text/plain": [
       "27"
      ]
     },
     "execution_count": 61,
     "metadata": {},
     "output_type": "execute_result"
    }
   ],
   "source": [
    "tuples_list2_df=pd.DataFrame(tuples_list2, columns=['long_name','short_name'])\n",
    "len(tuples_list2_df)"
   ]
  },
  {
   "cell_type": "code",
   "execution_count": 62,
   "metadata": {},
   "outputs": [
    {
     "data": {
      "text/plain": [
       "14"
      ]
     },
     "execution_count": 62,
     "metadata": {},
     "output_type": "execute_result"
    }
   ],
   "source": [
    "removal=[0,4,7,8,9,10,11,12,13,15,18,20,21]\n",
    "tuples_list2_df.drop([i for i in removal], inplace=True)\n",
    "len(tuples_list2_df)"
   ]
  },
  {
   "cell_type": "code",
   "execution_count": 63,
   "metadata": {},
   "outputs": [
    {
     "data": {
      "text/html": [
       "<div>\n",
       "<style scoped>\n",
       "    .dataframe tbody tr th:only-of-type {\n",
       "        vertical-align: middle;\n",
       "    }\n",
       "\n",
       "    .dataframe tbody tr th {\n",
       "        vertical-align: top;\n",
       "    }\n",
       "\n",
       "    .dataframe thead th {\n",
       "        text-align: right;\n",
       "    }\n",
       "</style>\n",
       "<table border=\"1\" class=\"dataframe\">\n",
       "  <thead>\n",
       "    <tr style=\"text-align: right;\">\n",
       "      <th></th>\n",
       "      <th>index</th>\n",
       "      <th>long_name</th>\n",
       "      <th>short_name</th>\n",
       "    </tr>\n",
       "  </thead>\n",
       "  <tbody>\n",
       "    <tr>\n",
       "      <td>0</td>\n",
       "      <td>1</td>\n",
       "      <td>cayenne pepper</td>\n",
       "      <td>cayenne</td>\n",
       "    </tr>\n",
       "    <tr>\n",
       "      <td>1</td>\n",
       "      <td>2</td>\n",
       "      <td>celery ribs</td>\n",
       "      <td>celery</td>\n",
       "    </tr>\n",
       "    <tr>\n",
       "      <td>2</td>\n",
       "      <td>3</td>\n",
       "      <td>chicken breasts</td>\n",
       "      <td>chicken</td>\n",
       "    </tr>\n",
       "    <tr>\n",
       "      <td>3</td>\n",
       "      <td>5</td>\n",
       "      <td>chicken stock</td>\n",
       "      <td>chicken</td>\n",
       "    </tr>\n",
       "    <tr>\n",
       "      <td>4</td>\n",
       "      <td>6</td>\n",
       "      <td>cocoa powder</td>\n",
       "      <td>cocoa</td>\n",
       "    </tr>\n",
       "  </tbody>\n",
       "</table>\n",
       "</div>"
      ],
      "text/plain": [
       "   index        long_name short_name\n",
       "0      1   cayenne pepper    cayenne\n",
       "1      2      celery ribs     celery\n",
       "2      3  chicken breasts    chicken\n",
       "3      5    chicken stock    chicken\n",
       "4      6     cocoa powder      cocoa"
      ]
     },
     "execution_count": 63,
     "metadata": {},
     "output_type": "execute_result"
    }
   ],
   "source": [
    "tuples_list2_df.reset_index(inplace=True)\n",
    "tuples_list2_df.head(5)"
   ]
  },
  {
   "cell_type": "code",
   "execution_count": 64,
   "metadata": {},
   "outputs": [
    {
     "data": {
      "text/plain": [
       "[('cayenne pepper', 'cayenne'),\n",
       " ('celery ribs', 'celery'),\n",
       " ('chicken breasts', 'chicken'),\n",
       " ('chicken stock', 'chicken'),\n",
       " ('cocoa powder', 'cocoa'),\n",
       " ('garlic clove', 'garlic'),\n",
       " ('garlic powder', 'garlic'),\n",
       " ('garlic salt', 'garlic'),\n",
       " ('lemon zest', 'lemon'),\n",
       " ('rice vinegar', 'rice'),\n",
       " ('salt & freshly ground black pepper', 'salt'),\n",
       " ('salt & pepper', 'salt'),\n",
       " ('salt and pepper', 'salt'),\n",
       " ('vanilla extract', 'vanilla')]"
      ]
     },
     "execution_count": 64,
     "metadata": {},
     "output_type": "execute_result"
    }
   ],
   "source": [
    "tuples_list2=[]\n",
    "for i in range(0,len(tuples_list2_df)):\n",
    "    y=tuples_list2_df['short_name'][i]\n",
    "    x=tuples_list2_df['long_name'][i]\n",
    "    tuples_list2.append((x,y))\n",
    "tuples_list2"
   ]
  },
  {
   "cell_type": "code",
   "execution_count": 65,
   "metadata": {},
   "outputs": [],
   "source": [
    "tuples_list2.append(('salt & freshly ground black pepper', 'pepper'))\n",
    "tuples_list2.append(('salt and pepper', 'pepper'))"
   ]
  },
  {
   "cell_type": "markdown",
   "metadata": {},
   "source": [
    "Now we use tuples_list2 and unite_cols function to further clean up the columns in the ingredients_matrix:"
   ]
  },
  {
   "cell_type": "code",
   "execution_count": 66,
   "metadata": {},
   "outputs": [],
   "source": [
    "for i in range(0,len(tuples_list2)):\n",
    "    unite_cols(ingredients_matrix, tuples_list2[i][1],tuples_list2[i][0])"
   ]
  },
  {
   "cell_type": "code",
   "execution_count": 67,
   "metadata": {
    "scrolled": true
   },
   "outputs": [
    {
     "data": {
      "text/plain": [
       "233"
      ]
     },
     "execution_count": 67,
     "metadata": {},
     "output_type": "execute_result"
    }
   ],
   "source": [
    "len(ingredients_matrix.columns)"
   ]
  },
  {
   "cell_type": "code",
   "execution_count": 68,
   "metadata": {},
   "outputs": [
    {
     "data": {
      "text/plain": [
       "['cayenne pepper',\n",
       " 'garlic salt',\n",
       " 'chicken stock',\n",
       " 'lemon zest',\n",
       " 'chicken breasts',\n",
       " 'garlic clove',\n",
       " 'rice vinegar',\n",
       " 'salt & freshly ground black pepper',\n",
       " 'vanilla extract',\n",
       " 'salt & pepper',\n",
       " 'celery ribs',\n",
       " 'garlic powder',\n",
       " 'salt and pepper',\n",
       " 'cocoa powder']"
      ]
     },
     "execution_count": 68,
     "metadata": {},
     "output_type": "execute_result"
    }
   ],
   "source": [
    "list1=[x[0] for x in tuples_list2]\n",
    "list1=list(set(list1))\n",
    "list1"
   ]
  },
  {
   "cell_type": "code",
   "execution_count": 69,
   "metadata": {},
   "outputs": [],
   "source": [
    "for i in list1:\n",
    "    ingredients_matrix.drop(i, axis=1, inplace=True)"
   ]
  },
  {
   "cell_type": "code",
   "execution_count": 70,
   "metadata": {
    "scrolled": true
   },
   "outputs": [
    {
     "data": {
      "text/html": [
       "<div>\n",
       "<style scoped>\n",
       "    .dataframe tbody tr th:only-of-type {\n",
       "        vertical-align: middle;\n",
       "    }\n",
       "\n",
       "    .dataframe tbody tr th {\n",
       "        vertical-align: top;\n",
       "    }\n",
       "\n",
       "    .dataframe thead th {\n",
       "        text-align: right;\n",
       "    }\n",
       "</style>\n",
       "<table border=\"1\" class=\"dataframe\">\n",
       "  <thead>\n",
       "    <tr style=\"text-align: right;\">\n",
       "      <th></th>\n",
       "      <th>flour</th>\n",
       "      <th>salt</th>\n",
       "      <th>dry mustard</th>\n",
       "      <th>oil</th>\n",
       "      <th>cheese</th>\n",
       "      <th>cornstarch</th>\n",
       "      <th>water</th>\n",
       "      <th>onion</th>\n",
       "      <th>black pepper</th>\n",
       "      <th>worcestershire sauce</th>\n",
       "      <th>...</th>\n",
       "      <th>turmeric</th>\n",
       "      <th>elbow macaroni</th>\n",
       "      <th>yellow onion</th>\n",
       "      <th>red wine</th>\n",
       "      <th>fresh lime juice</th>\n",
       "      <th>fresh thyme</th>\n",
       "      <th>shallots</th>\n",
       "      <th>fresh rosemary</th>\n",
       "      <th>basil</th>\n",
       "      <th>sesame seeds</th>\n",
       "    </tr>\n",
       "    <tr>\n",
       "      <th>id</th>\n",
       "      <th></th>\n",
       "      <th></th>\n",
       "      <th></th>\n",
       "      <th></th>\n",
       "      <th></th>\n",
       "      <th></th>\n",
       "      <th></th>\n",
       "      <th></th>\n",
       "      <th></th>\n",
       "      <th></th>\n",
       "      <th></th>\n",
       "      <th></th>\n",
       "      <th></th>\n",
       "      <th></th>\n",
       "      <th></th>\n",
       "      <th></th>\n",
       "      <th></th>\n",
       "      <th></th>\n",
       "      <th></th>\n",
       "      <th></th>\n",
       "      <th></th>\n",
       "    </tr>\n",
       "  </thead>\n",
       "  <tbody>\n",
       "  </tbody>\n",
       "</table>\n",
       "<p>0 rows × 219 columns</p>\n",
       "</div>"
      ],
      "text/plain": [
       "Empty DataFrame\n",
       "Columns: [flour, salt, dry mustard, oil, cheese, cornstarch, water, onion, black pepper, worcestershire sauce, milk, plain yogurt, frozen chopped spinach, egg, sharp cheddar cheese, soy sauce, honey, garlic, ground beef, sugar, beer, cayenne, brown sugar, cinnamon, raisins, butter, whipping cream, powdered sugar, all-purpose flour, baking soda, lemon, vanilla, red wine vinegar, fresh basil, bacon, celery, carrot, olive oil, lean ground beef, dry white wine, oregano, red pepper flakes, nutmeg, mayonnaise, ketchup, fresh lemon juice, mustard, vegetable oil, baking powder, nuts, chocolate chips, cream cheese, sweetened condensed milk, sour cream, cocoa, vinegar, egg white, dark brown sugar, ground ginger, ground cinnamon, ground cloves, heavy cream, balsamic vinegar, rosemary, fresh ground black pepper, tabasco sauce, dried oregano, boiling water, dried thyme, ginger, dijon mustard, white pepper, fresh ground pepper, thyme, pepper, chili powder, chives, lime juice, banana, frozen peas, cheddar cheese, seasoning salt, white vinegar, paprika, lemon juice, dried parsley, dried basil, barbecue sauce, \"confectioners' sugar\", pecans, black beans, cumin, salsa, dry breadcrumbs, fresh parsley, tomatoes, zucchini, walnuts, sweet onion, half-and-half, ...]\n",
       "Index: []\n",
       "\n",
       "[0 rows x 219 columns]"
      ]
     },
     "execution_count": 70,
     "metadata": {},
     "output_type": "execute_result"
    }
   ],
   "source": [
    "unite_cols(ingredients_matrix, 'sugar','\"confectioners\\' sugar\"')"
   ]
  },
  {
   "cell_type": "code",
   "execution_count": 71,
   "metadata": {},
   "outputs": [],
   "source": [
    "del ingredients_matrix['\"confectioners\\' sugar\"']"
   ]
  },
  {
   "cell_type": "code",
   "execution_count": 72,
   "metadata": {},
   "outputs": [
    {
     "data": {
      "text/plain": [
       "218"
      ]
     },
     "execution_count": 72,
     "metadata": {},
     "output_type": "execute_result"
    }
   ],
   "source": [
    "len(ingredients_matrix.columns)"
   ]
  },
  {
   "cell_type": "markdown",
   "metadata": {},
   "source": [
    "We further reduced the number of columns from 233 to 218 by removing the repeating ingredients."
   ]
  },
  {
   "cell_type": "markdown",
   "metadata": {},
   "source": [
    "##### Ingredient names with the same second word in the name"
   ]
  },
  {
   "cell_type": "markdown",
   "metadata": {},
   "source": [
    "Similar to the previous section, we create a list of tuples for ingredient names with the same second word in the ingredient name."
   ]
  },
  {
   "cell_type": "code",
   "execution_count": 73,
   "metadata": {
    "scrolled": true
   },
   "outputs": [
    {
     "name": "stdout",
     "output_type": "stream",
     "text": [
      "['dry mustard', 'black pepper', 'green onions', 'brown sugar', 'whipping cream', 'powdered sugar', 'all-purpose flour', 'fresh basil', 'olive oil', 'red pepper flakes', 'fresh lemon juice', 'vegetable oil', 'sour cream', 'ground ginger', 'ground cinnamon', 'heavy cream', 'balsamic vinegar', 'dried oregano', 'boiling water', 'dried thyme', 'dijon mustard', 'white pepper', 'cheddar cheese', 'seasoning salt', 'white vinegar', 'dried parsley', 'dried basil', 'dry breadcrumbs', 'fresh parsley', 'sweet onion', 'parmesan cheese', 'evaporated milk', 'unsalted butter', 'feta cheese', 'granulated sugar', 'mozzarella cheese', 'dried rosemary', 'prepared mustard', 'peanut butter', 'canola oil', 'cold water', 'diced tomatoes', 'sesame oil', 'cooked rice', 'red pepper', 'warm water', 'hot water', 'cooked chicken', 'green onion', 'fresh cilantro', 'swiss cheese', 'fresh mushrooms', 'kosher salt', 'red potatoes', 'white sugar', 'whole milk', 'peanut oil', 'fresh ginger', 'red onion', 'green pepper', 'sliced mushrooms', 'sea salt', 'white onion', 'ground cumin', 'ricotta cheese', 'skim milk', 'ground nutmeg', 'cider vinegar', 'bell pepper', 'cooking oil', 'pure vanilla extract', 'fresh garlic', 'yellow onion', 'fresh lime juice', 'fresh thyme', 'fresh rosemary'] \n",
      " ['mustard', 'pepper', 'onions', 'sugar', 'cream', 'sugar', 'flour', 'basil', 'oil', 'pepper', 'lemon', 'oil', 'cream', 'ginger', 'cinnamon', 'cream', 'vinegar', 'oregano', 'water', 'thyme', 'mustard', 'pepper', 'cheese', 'salt', 'vinegar', 'parsley', 'basil', 'breadcrumbs', 'parsley', 'onion', 'cheese', 'milk', 'butter', 'cheese', 'sugar', 'cheese', 'rosemary', 'mustard', 'butter', 'oil', 'water', 'tomatoes', 'oil', 'rice', 'pepper', 'water', 'water', 'chicken', 'onion', 'cilantro', 'cheese', 'mushrooms', 'salt', 'potatoes', 'sugar', 'milk', 'oil', 'ginger', 'onion', 'pepper', 'mushrooms', 'salt', 'onion', 'cumin', 'cheese', 'milk', 'nutmeg', 'vinegar', 'pepper', 'oil', 'vanilla', 'garlic', 'onion', 'lime', 'thyme', 'rosemary']\n"
     ]
    }
   ],
   "source": [
    "print(list3, '\\n', list4)"
   ]
  },
  {
   "cell_type": "code",
   "execution_count": 74,
   "metadata": {},
   "outputs": [],
   "source": [
    "tuples_list3=sorted(list(zip(list3, list4)))"
   ]
  },
  {
   "cell_type": "code",
   "execution_count": 75,
   "metadata": {},
   "outputs": [
    {
     "data": {
      "text/html": [
       "<div>\n",
       "<style scoped>\n",
       "    .dataframe tbody tr th:only-of-type {\n",
       "        vertical-align: middle;\n",
       "    }\n",
       "\n",
       "    .dataframe tbody tr th {\n",
       "        vertical-align: top;\n",
       "    }\n",
       "\n",
       "    .dataframe thead th {\n",
       "        text-align: right;\n",
       "    }\n",
       "</style>\n",
       "<table border=\"1\" class=\"dataframe\">\n",
       "  <thead>\n",
       "    <tr style=\"text-align: right;\">\n",
       "      <th></th>\n",
       "      <th>long_name</th>\n",
       "      <th>short_name</th>\n",
       "    </tr>\n",
       "  </thead>\n",
       "  <tbody>\n",
       "    <tr>\n",
       "      <td>0</td>\n",
       "      <td>all-purpose flour</td>\n",
       "      <td>flour</td>\n",
       "    </tr>\n",
       "    <tr>\n",
       "      <td>1</td>\n",
       "      <td>balsamic vinegar</td>\n",
       "      <td>vinegar</td>\n",
       "    </tr>\n",
       "    <tr>\n",
       "      <td>2</td>\n",
       "      <td>bell pepper</td>\n",
       "      <td>pepper</td>\n",
       "    </tr>\n",
       "    <tr>\n",
       "      <td>3</td>\n",
       "      <td>black pepper</td>\n",
       "      <td>pepper</td>\n",
       "    </tr>\n",
       "    <tr>\n",
       "      <td>4</td>\n",
       "      <td>boiling water</td>\n",
       "      <td>water</td>\n",
       "    </tr>\n",
       "  </tbody>\n",
       "</table>\n",
       "</div>"
      ],
      "text/plain": [
       "           long_name short_name\n",
       "0  all-purpose flour      flour\n",
       "1   balsamic vinegar    vinegar\n",
       "2        bell pepper     pepper\n",
       "3       black pepper     pepper\n",
       "4      boiling water      water"
      ]
     },
     "execution_count": 75,
     "metadata": {},
     "output_type": "execute_result"
    }
   ],
   "source": [
    "tuples_list3_df=pd.DataFrame(tuples_list3, columns=['long_name','short_name'])\n",
    "for i in range(0,len(tuples_list3_df)):\n",
    "    if tuples_list3_df['short_name'][i]=='mushrooms':\n",
    "        tuples_list3_df['short_name'][i]='mushroom'\n",
    "    elif tuples_list3_df['short_name'][i]=='onions':\n",
    "        tuples_list3_df['short_name'][i]='onion'\n",
    "    elif tuples_list3_df['short_name'][i]=='potatoes':\n",
    "        tuples_list3_df['short_name'][i]='potato'\n",
    "    elif tuples_list3_df['long_name'][i]=='green onions':\n",
    "        tuples_list3_df['long_name'][i]='green onion'\n",
    "    elif tuples_list3_df['long_name'][i]=='cayenne pepper':\n",
    "        tuples_list3_df['long_name'][i]='cayenne'\n",
    "    else:\n",
    "        continue\n",
    "tuples_list3_df.head(5)"
   ]
  },
  {
   "cell_type": "markdown",
   "metadata": {},
   "source": [
    "Upon studying the dataframe by filtering through key ingredients and sorting, we decide on what rows to add to the removal list (by index):"
   ]
  },
  {
   "cell_type": "code",
   "execution_count": 76,
   "metadata": {},
   "outputs": [
    {
     "data": {
      "text/plain": [
       "58"
      ]
     },
     "execution_count": 76,
     "metadata": {},
     "output_type": "execute_result"
    }
   ],
   "source": [
    "removal=[3,6,7,13,22,23,36,45,47,48,49,54,55,57,63,65,69,71]\n",
    "tuples_list3_df.drop([i for i in removal], inplace=True)\n",
    "len(tuples_list3_df)"
   ]
  },
  {
   "cell_type": "code",
   "execution_count": 77,
   "metadata": {},
   "outputs": [
    {
     "data": {
      "text/html": [
       "<div>\n",
       "<style scoped>\n",
       "    .dataframe tbody tr th:only-of-type {\n",
       "        vertical-align: middle;\n",
       "    }\n",
       "\n",
       "    .dataframe tbody tr th {\n",
       "        vertical-align: top;\n",
       "    }\n",
       "\n",
       "    .dataframe thead th {\n",
       "        text-align: right;\n",
       "    }\n",
       "</style>\n",
       "<table border=\"1\" class=\"dataframe\">\n",
       "  <thead>\n",
       "    <tr style=\"text-align: right;\">\n",
       "      <th></th>\n",
       "      <th>index</th>\n",
       "      <th>long_name</th>\n",
       "      <th>short_name</th>\n",
       "    </tr>\n",
       "  </thead>\n",
       "  <tbody>\n",
       "    <tr>\n",
       "      <td>0</td>\n",
       "      <td>0</td>\n",
       "      <td>all-purpose flour</td>\n",
       "      <td>flour</td>\n",
       "    </tr>\n",
       "    <tr>\n",
       "      <td>1</td>\n",
       "      <td>1</td>\n",
       "      <td>balsamic vinegar</td>\n",
       "      <td>vinegar</td>\n",
       "    </tr>\n",
       "    <tr>\n",
       "      <td>2</td>\n",
       "      <td>2</td>\n",
       "      <td>bell pepper</td>\n",
       "      <td>pepper</td>\n",
       "    </tr>\n",
       "    <tr>\n",
       "      <td>3</td>\n",
       "      <td>4</td>\n",
       "      <td>boiling water</td>\n",
       "      <td>water</td>\n",
       "    </tr>\n",
       "    <tr>\n",
       "      <td>4</td>\n",
       "      <td>5</td>\n",
       "      <td>brown sugar</td>\n",
       "      <td>sugar</td>\n",
       "    </tr>\n",
       "  </tbody>\n",
       "</table>\n",
       "</div>"
      ],
      "text/plain": [
       "   index          long_name short_name\n",
       "0      0  all-purpose flour      flour\n",
       "1      1   balsamic vinegar    vinegar\n",
       "2      2        bell pepper     pepper\n",
       "3      4      boiling water      water\n",
       "4      5        brown sugar      sugar"
      ]
     },
     "execution_count": 77,
     "metadata": {},
     "output_type": "execute_result"
    }
   ],
   "source": [
    "tuples_list3_df.reset_index(inplace=True)\n",
    "tuples_list3_df.head(5)"
   ]
  },
  {
   "cell_type": "code",
   "execution_count": 78,
   "metadata": {},
   "outputs": [
    {
     "data": {
      "text/plain": [
       "[('powdered sugar', 'sugar'),\n",
       " ('cold water', 'water'),\n",
       " ('dried basil', 'basil'),\n",
       " ('dijon mustard', 'mustard'),\n",
       " ('cider vinegar', 'vinegar'),\n",
       " ('dry breadcrumbs', 'breadcrumbs'),\n",
       " ('granulated sugar', 'sugar'),\n",
       " ('brown sugar', 'sugar'),\n",
       " ('sea salt', 'salt'),\n",
       " ('white vinegar', 'vinegar'),\n",
       " ('dried rosemary', 'rosemary'),\n",
       " ('pure vanilla extract', 'vanilla'),\n",
       " ('all-purpose flour', 'flour'),\n",
       " ('vegetable oil', 'oil'),\n",
       " ('fresh basil', 'basil'),\n",
       " ('ground cinnamon', 'cinnamon'),\n",
       " ('cooking oil', 'oil'),\n",
       " ('fresh ginger', 'ginger'),\n",
       " ('unsalted butter', 'butter'),\n",
       " ('ground nutmeg', 'nutmeg'),\n",
       " ('bell pepper', 'pepper'),\n",
       " ('fresh lime juice', 'lime'),\n",
       " ('warm water', 'water'),\n",
       " ('olive oil', 'oil'),\n",
       " ('prepared mustard', 'mustard'),\n",
       " ('skim milk', 'milk'),\n",
       " ('white sugar', 'sugar'),\n",
       " ('ground ginger', 'ginger'),\n",
       " ('green pepper', 'pepper'),\n",
       " ('dried thyme', 'thyme'),\n",
       " ('sesame oil', 'oil'),\n",
       " ('fresh mushrooms', 'mushroom'),\n",
       " ('ground cumin', 'cumin'),\n",
       " ('sliced mushrooms', 'mushroom'),\n",
       " ('fresh cilantro', 'cilantro'),\n",
       " ('balsamic vinegar', 'vinegar'),\n",
       " ('kosher salt', 'salt'),\n",
       " ('cooked chicken', 'chicken'),\n",
       " ('fresh rosemary', 'rosemary'),\n",
       " ('fresh lemon juice', 'lemon'),\n",
       " ('heavy cream', 'cream'),\n",
       " ('sweet onion', 'onion'),\n",
       " ('dried parsley', 'parsley'),\n",
       " ('fresh parsley', 'parsley'),\n",
       " ('yellow onion', 'onion'),\n",
       " ('green onion', 'onion'),\n",
       " ('dry mustard', 'mustard'),\n",
       " ('whole milk', 'milk'),\n",
       " ('boiling water', 'water'),\n",
       " ('fresh thyme', 'thyme'),\n",
       " ('red potatoes', 'potato'),\n",
       " ('seasoning salt', 'salt'),\n",
       " ('hot water', 'water'),\n",
       " ('dried oregano', 'oregano'),\n",
       " ('white onion', 'onion'),\n",
       " ('fresh garlic', 'garlic'),\n",
       " ('red onion', 'onion'),\n",
       " ('cooked rice', 'rice')]"
      ]
     },
     "execution_count": 78,
     "metadata": {},
     "output_type": "execute_result"
    }
   ],
   "source": [
    "tuples_list4=[]\n",
    "for i in range(0,len(tuples_list3_df)):\n",
    "    y=tuples_list3_df['short_name'][i]\n",
    "    x=tuples_list3_df['long_name'][i]\n",
    "    tuples_list4.append((x,y))\n",
    "tuples_list4 = list(set(tuples_list4))\n",
    "tuples_list4"
   ]
  },
  {
   "cell_type": "markdown",
   "metadata": {},
   "source": [
    "Now we use tuples_list4 and unite_cols function to further clean up the columns in the ingredients_matrix:"
   ]
  },
  {
   "cell_type": "code",
   "execution_count": 79,
   "metadata": {},
   "outputs": [],
   "source": [
    "for i in range(0,len(tuples_list4)):\n",
    "    unite_cols(ingredients_matrix, tuples_list4[i][1],tuples_list4[i][0])"
   ]
  },
  {
   "cell_type": "code",
   "execution_count": 80,
   "metadata": {
    "scrolled": true
   },
   "outputs": [
    {
     "data": {
      "text/plain": [
       "218"
      ]
     },
     "execution_count": 80,
     "metadata": {},
     "output_type": "execute_result"
    }
   ],
   "source": [
    "len(ingredients_matrix.columns)"
   ]
  },
  {
   "cell_type": "code",
   "execution_count": 81,
   "metadata": {},
   "outputs": [
    {
     "data": {
      "text/plain": [
       "['pure vanilla extract',\n",
       " 'prepared mustard',\n",
       " 'red potatoes',\n",
       " 'green pepper',\n",
       " 'white sugar',\n",
       " 'dried oregano',\n",
       " 'white vinegar',\n",
       " 'fresh lemon juice',\n",
       " 'dijon mustard',\n",
       " 'cider vinegar',\n",
       " 'hot water',\n",
       " 'boiling water',\n",
       " 'dry breadcrumbs',\n",
       " 'fresh garlic',\n",
       " 'white onion',\n",
       " 'fresh ginger',\n",
       " 'powdered sugar',\n",
       " 'unsalted butter',\n",
       " 'all-purpose flour',\n",
       " 'ground cumin',\n",
       " 'sliced mushrooms',\n",
       " 'fresh parsley',\n",
       " 'red onion',\n",
       " 'dry mustard',\n",
       " 'balsamic vinegar',\n",
       " 'sea salt',\n",
       " 'brown sugar',\n",
       " 'green onion',\n",
       " 'fresh thyme',\n",
       " 'seasoning salt',\n",
       " 'vegetable oil',\n",
       " 'skim milk',\n",
       " 'fresh lime juice',\n",
       " 'cold water',\n",
       " 'cooked chicken',\n",
       " 'heavy cream',\n",
       " 'dried parsley',\n",
       " 'sweet onion',\n",
       " 'dried rosemary',\n",
       " 'cooked rice',\n",
       " 'fresh basil',\n",
       " 'fresh rosemary',\n",
       " 'kosher salt',\n",
       " 'sesame oil',\n",
       " 'bell pepper',\n",
       " 'ground nutmeg',\n",
       " 'olive oil',\n",
       " 'dried thyme',\n",
       " 'whole milk',\n",
       " 'cooking oil',\n",
       " 'granulated sugar',\n",
       " 'warm water',\n",
       " 'yellow onion',\n",
       " 'dried basil',\n",
       " 'ground ginger',\n",
       " 'fresh cilantro',\n",
       " 'fresh mushrooms',\n",
       " 'ground cinnamon']"
      ]
     },
     "execution_count": 81,
     "metadata": {},
     "output_type": "execute_result"
    }
   ],
   "source": [
    "list1=[x[0] for x in tuples_list4]\n",
    "list1 = list(set(list1))\n",
    "list1"
   ]
  },
  {
   "cell_type": "code",
   "execution_count": 82,
   "metadata": {},
   "outputs": [],
   "source": [
    "for i in list1:\n",
    "    ingredients_matrix.drop(i, axis=1, inplace=True)"
   ]
  },
  {
   "cell_type": "code",
   "execution_count": 83,
   "metadata": {},
   "outputs": [
    {
     "data": {
      "text/plain": [
       "['active dry yeast',\n",
       " 'almond extract',\n",
       " 'apples',\n",
       " 'bacon',\n",
       " 'baking powder',\n",
       " 'baking soda',\n",
       " 'banana',\n",
       " 'barbecue sauce',\n",
       " 'basil',\n",
       " 'bay leaf',\n",
       " 'bay leaves',\n",
       " 'beef broth',\n",
       " 'beer',\n",
       " 'black beans',\n",
       " 'black olives',\n",
       " 'black pepper',\n",
       " 'blueberries',\n",
       " 'boneless skinless chicken breast',\n",
       " 'boneless skinless chicken breast halves',\n",
       " 'bread',\n",
       " 'bread flour',\n",
       " 'breadcrumbs',\n",
       " 'broccoli',\n",
       " 'butter',\n",
       " 'buttermilk',\n",
       " 'cabbage',\n",
       " 'canola oil',\n",
       " 'capers',\n",
       " 'carrot',\n",
       " 'cayenne',\n",
       " 'celery',\n",
       " 'cheddar cheese',\n",
       " 'cheese',\n",
       " 'chicken',\n",
       " 'chicken broth',\n",
       " 'chili powder',\n",
       " 'chives',\n",
       " 'chocolate chips',\n",
       " 'cilantro',\n",
       " 'cinnamon',\n",
       " 'cocoa',\n",
       " 'cooking spray',\n",
       " 'cool whip',\n",
       " 'corn',\n",
       " 'cornmeal',\n",
       " 'cornstarch',\n",
       " 'cream',\n",
       " 'cream cheese',\n",
       " 'cream of chicken soup',\n",
       " 'cream of mushroom soup',\n",
       " 'crushed red pepper flakes',\n",
       " 'cucumber',\n",
       " 'cumin',\n",
       " 'curry powder',\n",
       " 'dark brown sugar',\n",
       " 'diced tomatoes',\n",
       " 'dry white wine',\n",
       " 'egg',\n",
       " 'egg white',\n",
       " 'egg yolks',\n",
       " 'elbow macaroni',\n",
       " 'evaporated milk',\n",
       " 'extra virgin olive oil',\n",
       " 'feta cheese',\n",
       " 'flour',\n",
       " 'flour tortillas',\n",
       " 'fresh ground black pepper',\n",
       " 'fresh ground pepper',\n",
       " 'frozen chopped spinach',\n",
       " 'frozen peas',\n",
       " 'garlic',\n",
       " 'ginger',\n",
       " 'green bell pepper',\n",
       " 'green chilies',\n",
       " 'ground beef',\n",
       " 'ground black pepper',\n",
       " 'ground cloves',\n",
       " 'ground coriander',\n",
       " 'half-and-half',\n",
       " 'ham',\n",
       " 'honey',\n",
       " 'hot sauce',\n",
       " 'italian seasoning',\n",
       " 'juice of',\n",
       " 'ketchup',\n",
       " 'lean ground beef',\n",
       " 'lemon',\n",
       " 'lemon juice',\n",
       " 'lettuce',\n",
       " 'light brown sugar',\n",
       " 'lime',\n",
       " 'lime juice',\n",
       " 'maple syrup',\n",
       " 'margarine',\n",
       " 'mayonnaise',\n",
       " 'milk',\n",
       " 'molasses',\n",
       " 'monterey jack cheese',\n",
       " 'mozzarella cheese',\n",
       " 'mushroom',\n",
       " 'mustard',\n",
       " 'nutmeg',\n",
       " 'nuts',\n",
       " 'oil',\n",
       " 'onion',\n",
       " 'onion powder',\n",
       " 'orange juice',\n",
       " 'oregano',\n",
       " 'paprika',\n",
       " 'parmesan cheese',\n",
       " 'parsley',\n",
       " 'peanut butter',\n",
       " 'peanut oil',\n",
       " 'pecans',\n",
       " 'pepper',\n",
       " 'plain yogurt',\n",
       " 'pork chops',\n",
       " 'potato',\n",
       " 'raisins',\n",
       " 'red bell pepper',\n",
       " 'red pepper',\n",
       " 'red pepper flakes',\n",
       " 'red wine',\n",
       " 'red wine vinegar',\n",
       " 'rice',\n",
       " 'ricotta cheese',\n",
       " 'rolled oats',\n",
       " 'rosemary',\n",
       " 'salsa',\n",
       " 'salt',\n",
       " 'scallion',\n",
       " 'semi-sweet chocolate chips',\n",
       " 'sesame seeds',\n",
       " 'shallots',\n",
       " 'sharp cheddar cheese',\n",
       " 'shortening',\n",
       " 'shrimp',\n",
       " 'sour cream',\n",
       " 'soy sauce',\n",
       " 'spaghetti sauce',\n",
       " 'sugar',\n",
       " 'sweetened condensed milk',\n",
       " 'swiss cheese',\n",
       " 'tabasco sauce',\n",
       " 'thyme',\n",
       " 'tomato paste',\n",
       " 'tomato sauce',\n",
       " 'tomatoes',\n",
       " 'turmeric',\n",
       " 'vanilla',\n",
       " 'vinegar',\n",
       " 'walnuts',\n",
       " 'water',\n",
       " 'whipping cream',\n",
       " 'white pepper',\n",
       " 'white wine',\n",
       " 'whole wheat flour',\n",
       " 'worcestershire sauce',\n",
       " 'yeast',\n",
       " 'zucchini']"
      ]
     },
     "execution_count": 83,
     "metadata": {},
     "output_type": "execute_result"
    }
   ],
   "source": [
    "sorted(ingredients_matrix.columns)"
   ]
  },
  {
   "cell_type": "code",
   "execution_count": 84,
   "metadata": {
    "scrolled": true
   },
   "outputs": [
    {
     "data": {
      "text/html": [
       "<div>\n",
       "<style scoped>\n",
       "    .dataframe tbody tr th:only-of-type {\n",
       "        vertical-align: middle;\n",
       "    }\n",
       "\n",
       "    .dataframe tbody tr th {\n",
       "        vertical-align: top;\n",
       "    }\n",
       "\n",
       "    .dataframe thead th {\n",
       "        text-align: right;\n",
       "    }\n",
       "</style>\n",
       "<table border=\"1\" class=\"dataframe\">\n",
       "  <thead>\n",
       "    <tr style=\"text-align: right;\">\n",
       "      <th></th>\n",
       "      <th>flour</th>\n",
       "      <th>salt</th>\n",
       "      <th>oil</th>\n",
       "      <th>cheese</th>\n",
       "      <th>cornstarch</th>\n",
       "      <th>water</th>\n",
       "      <th>onion</th>\n",
       "      <th>black pepper</th>\n",
       "      <th>worcestershire sauce</th>\n",
       "      <th>milk</th>\n",
       "      <th>...</th>\n",
       "      <th>broccoli</th>\n",
       "      <th>maple syrup</th>\n",
       "      <th>curry powder</th>\n",
       "      <th>ground coriander</th>\n",
       "      <th>turmeric</th>\n",
       "      <th>elbow macaroni</th>\n",
       "      <th>red wine</th>\n",
       "      <th>shallots</th>\n",
       "      <th>basil</th>\n",
       "      <th>sesame seeds</th>\n",
       "    </tr>\n",
       "    <tr>\n",
       "      <th>id</th>\n",
       "      <th></th>\n",
       "      <th></th>\n",
       "      <th></th>\n",
       "      <th></th>\n",
       "      <th></th>\n",
       "      <th></th>\n",
       "      <th></th>\n",
       "      <th></th>\n",
       "      <th></th>\n",
       "      <th></th>\n",
       "      <th></th>\n",
       "      <th></th>\n",
       "      <th></th>\n",
       "      <th></th>\n",
       "      <th></th>\n",
       "      <th></th>\n",
       "      <th></th>\n",
       "      <th></th>\n",
       "      <th></th>\n",
       "      <th></th>\n",
       "      <th></th>\n",
       "    </tr>\n",
       "  </thead>\n",
       "  <tbody>\n",
       "  </tbody>\n",
       "</table>\n",
       "<p>0 rows × 160 columns</p>\n",
       "</div>"
      ],
      "text/plain": [
       "Empty DataFrame\n",
       "Columns: [flour, salt, oil, cheese, cornstarch, water, onion, black pepper, worcestershire sauce, milk, plain yogurt, frozen chopped spinach, egg, sharp cheddar cheese, soy sauce, honey, garlic, ground beef, sugar, beer, cayenne, cinnamon, raisins, butter, whipping cream, baking soda, lemon, vanilla, red wine vinegar, bacon, celery, carrot, lean ground beef, dry white wine, oregano, red pepper flakes, nutmeg, mayonnaise, ketchup, mustard, baking powder, nuts, chocolate chips, cream cheese, sweetened condensed milk, sour cream, cocoa, vinegar, egg white, dark brown sugar, ground cloves, rosemary, fresh ground black pepper, tabasco sauce, ginger, white pepper, fresh ground pepper, thyme, pepper, chili powder, chives, lime juice, banana, frozen peas, cheddar cheese, paprika, lemon juice, barbecue sauce, pecans, black beans, cumin, salsa, tomatoes, zucchini, walnuts, half-and-half, ground black pepper, parmesan cheese, evaporated milk, buttermilk, cream of chicken soup, active dry yeast, margarine, cornmeal, feta cheese, beef broth, mozzarella cheese, extra virgin olive oil, green bell pepper, tomato sauce, tomato paste, lettuce, peanut butter, rolled oats, canola oil, bread flour, red bell pepper, juice of, semi-sweet chocolate chips, egg yolks, ...]\n",
       "Index: []\n",
       "\n",
       "[0 rows x 160 columns]"
      ]
     },
     "execution_count": 84,
     "metadata": {},
     "output_type": "execute_result"
    }
   ],
   "source": [
    "unite_cols(ingredients_matrix, 'chicken','boneless skinless chicken breast')\n",
    "unite_cols(ingredients_matrix, 'chicken','boneless skinless chicken breast halves')"
   ]
  },
  {
   "cell_type": "code",
   "execution_count": 85,
   "metadata": {},
   "outputs": [],
   "source": [
    "del ingredients_matrix['boneless skinless chicken breast']"
   ]
  },
  {
   "cell_type": "code",
   "execution_count": 86,
   "metadata": {},
   "outputs": [],
   "source": [
    "del ingredients_matrix['boneless skinless chicken breast halves']"
   ]
  },
  {
   "cell_type": "code",
   "execution_count": 87,
   "metadata": {},
   "outputs": [
    {
     "data": {
      "text/plain": [
       "158"
      ]
     },
     "execution_count": 87,
     "metadata": {},
     "output_type": "execute_result"
    }
   ],
   "source": [
    "len(ingredients_matrix.columns)"
   ]
  },
  {
   "cell_type": "markdown",
   "metadata": {},
   "source": [
    "We further reduced the number of columns from 233 to 158 by removing the repeating ingredients."
   ]
  },
  {
   "cell_type": "code",
   "execution_count": 88,
   "metadata": {},
   "outputs": [
    {
     "data": {
      "text/plain": [
       "['active dry yeast',\n",
       " 'almond extract',\n",
       " 'apples',\n",
       " 'bacon',\n",
       " 'baking powder',\n",
       " 'baking soda',\n",
       " 'banana',\n",
       " 'barbecue sauce',\n",
       " 'basil',\n",
       " 'bay leaf',\n",
       " 'bay leaves',\n",
       " 'beef broth',\n",
       " 'beer',\n",
       " 'black beans',\n",
       " 'black olives',\n",
       " 'black pepper',\n",
       " 'blueberries',\n",
       " 'bread',\n",
       " 'bread flour',\n",
       " 'breadcrumbs',\n",
       " 'broccoli',\n",
       " 'butter',\n",
       " 'buttermilk',\n",
       " 'cabbage',\n",
       " 'canola oil',\n",
       " 'capers',\n",
       " 'carrot',\n",
       " 'cayenne',\n",
       " 'celery',\n",
       " 'cheddar cheese',\n",
       " 'cheese',\n",
       " 'chicken',\n",
       " 'chicken broth',\n",
       " 'chili powder',\n",
       " 'chives',\n",
       " 'chocolate chips',\n",
       " 'cilantro',\n",
       " 'cinnamon',\n",
       " 'cocoa',\n",
       " 'cooking spray',\n",
       " 'cool whip',\n",
       " 'corn',\n",
       " 'cornmeal',\n",
       " 'cornstarch',\n",
       " 'cream',\n",
       " 'cream cheese',\n",
       " 'cream of chicken soup',\n",
       " 'cream of mushroom soup',\n",
       " 'crushed red pepper flakes',\n",
       " 'cucumber',\n",
       " 'cumin',\n",
       " 'curry powder',\n",
       " 'dark brown sugar',\n",
       " 'diced tomatoes',\n",
       " 'dry white wine',\n",
       " 'egg',\n",
       " 'egg white',\n",
       " 'egg yolks',\n",
       " 'elbow macaroni',\n",
       " 'evaporated milk',\n",
       " 'extra virgin olive oil',\n",
       " 'feta cheese',\n",
       " 'flour',\n",
       " 'flour tortillas',\n",
       " 'fresh ground black pepper',\n",
       " 'fresh ground pepper',\n",
       " 'frozen chopped spinach',\n",
       " 'frozen peas',\n",
       " 'garlic',\n",
       " 'ginger',\n",
       " 'green bell pepper',\n",
       " 'green chilies',\n",
       " 'ground beef',\n",
       " 'ground black pepper',\n",
       " 'ground cloves',\n",
       " 'ground coriander',\n",
       " 'half-and-half',\n",
       " 'ham',\n",
       " 'honey',\n",
       " 'hot sauce',\n",
       " 'italian seasoning',\n",
       " 'juice of',\n",
       " 'ketchup',\n",
       " 'lean ground beef',\n",
       " 'lemon',\n",
       " 'lemon juice',\n",
       " 'lettuce',\n",
       " 'light brown sugar',\n",
       " 'lime',\n",
       " 'lime juice',\n",
       " 'maple syrup',\n",
       " 'margarine',\n",
       " 'mayonnaise',\n",
       " 'milk',\n",
       " 'molasses',\n",
       " 'monterey jack cheese',\n",
       " 'mozzarella cheese',\n",
       " 'mushroom',\n",
       " 'mustard',\n",
       " 'nutmeg',\n",
       " 'nuts',\n",
       " 'oil',\n",
       " 'onion',\n",
       " 'onion powder',\n",
       " 'orange juice',\n",
       " 'oregano',\n",
       " 'paprika',\n",
       " 'parmesan cheese',\n",
       " 'parsley',\n",
       " 'peanut butter',\n",
       " 'peanut oil',\n",
       " 'pecans',\n",
       " 'pepper',\n",
       " 'plain yogurt',\n",
       " 'pork chops',\n",
       " 'potato',\n",
       " 'raisins',\n",
       " 'red bell pepper',\n",
       " 'red pepper',\n",
       " 'red pepper flakes',\n",
       " 'red wine',\n",
       " 'red wine vinegar',\n",
       " 'rice',\n",
       " 'ricotta cheese',\n",
       " 'rolled oats',\n",
       " 'rosemary',\n",
       " 'salsa',\n",
       " 'salt',\n",
       " 'scallion',\n",
       " 'semi-sweet chocolate chips',\n",
       " 'sesame seeds',\n",
       " 'shallots',\n",
       " 'sharp cheddar cheese',\n",
       " 'shortening',\n",
       " 'shrimp',\n",
       " 'sour cream',\n",
       " 'soy sauce',\n",
       " 'spaghetti sauce',\n",
       " 'sugar',\n",
       " 'sweetened condensed milk',\n",
       " 'swiss cheese',\n",
       " 'tabasco sauce',\n",
       " 'thyme',\n",
       " 'tomato paste',\n",
       " 'tomato sauce',\n",
       " 'tomatoes',\n",
       " 'turmeric',\n",
       " 'vanilla',\n",
       " 'vinegar',\n",
       " 'walnuts',\n",
       " 'water',\n",
       " 'whipping cream',\n",
       " 'white pepper',\n",
       " 'white wine',\n",
       " 'whole wheat flour',\n",
       " 'worcestershire sauce',\n",
       " 'yeast',\n",
       " 'zucchini']"
      ]
     },
     "execution_count": 88,
     "metadata": {},
     "output_type": "execute_result"
    }
   ],
   "source": [
    "sorted(ingredients_matrix.columns)"
   ]
  },
  {
   "cell_type": "markdown",
   "metadata": {},
   "source": [
    "Upon investigation of the resulting ingredient names list, we decided to also clean up the ingredient names with the same third word in the name."
   ]
  },
  {
   "cell_type": "markdown",
   "metadata": {},
   "source": [
    "##### Ingredient names with the same third word in the name"
   ]
  },
  {
   "cell_type": "markdown",
   "metadata": {},
   "source": [
    "We still need to deal with ingredients that have one word in common, like 'cilantro' and 'fresh cilantro'. "
   ]
  },
  {
   "cell_type": "code",
   "execution_count": 89,
   "metadata": {},
   "outputs": [],
   "source": [
    "list5 =[]\n",
    "list6 =[]\n",
    "\n",
    "for str in sorted(ingredients_matrix.columns):\n",
    "    if len(str.split(' '))>2:\n",
    "        if str.split(' ')[2] in d10_list:\n",
    "            list5.append(str)\n",
    "            list6.append(str.split(' ')[2])\n",
    "        else:\n",
    "            continue"
   ]
  },
  {
   "cell_type": "markdown",
   "metadata": {},
   "source": [
    "First, let's review the lists of ingredients where the first word is matching a different ingredient:"
   ]
  },
  {
   "cell_type": "code",
   "execution_count": 90,
   "metadata": {},
   "outputs": [
    {
     "name": "stdout",
     "output_type": "stream",
     "text": [
      "['active dry yeast', 'cream of chicken soup', 'cream of mushroom soup', 'crushed red pepper flakes', 'dark brown sugar', 'fresh ground pepper', 'green bell pepper', 'ground black pepper', 'light brown sugar', 'monterey jack cheese', 'red bell pepper', 'red wine vinegar', 'sharp cheddar cheese', 'sweetened condensed milk', 'whole wheat flour'] \n",
      " ['yeast', 'chicken', 'mushroom', 'pepper', 'sugar', 'pepper', 'pepper', 'pepper', 'sugar', 'cheese', 'pepper', 'vinegar', 'cheese', 'milk', 'flour']\n"
     ]
    }
   ],
   "source": [
    "print(list5, '\\n', list6)"
   ]
  },
  {
   "cell_type": "markdown",
   "metadata": {},
   "source": [
    "We combine these ingredients in a list of tuples and observe the results:"
   ]
  },
  {
   "cell_type": "code",
   "execution_count": 91,
   "metadata": {},
   "outputs": [
    {
     "name": "stdout",
     "output_type": "stream",
     "text": [
      "0 ('active dry yeast', 'yeast')\n",
      "1 ('cream of chicken soup', 'chicken')\n",
      "2 ('cream of mushroom soup', 'mushroom')\n",
      "3 ('crushed red pepper flakes', 'pepper')\n",
      "4 ('dark brown sugar', 'sugar')\n",
      "5 ('fresh ground pepper', 'pepper')\n",
      "6 ('green bell pepper', 'pepper')\n",
      "7 ('ground black pepper', 'pepper')\n",
      "8 ('light brown sugar', 'sugar')\n",
      "9 ('monterey jack cheese', 'cheese')\n",
      "10 ('red bell pepper', 'pepper')\n",
      "11 ('red wine vinegar', 'vinegar')\n",
      "12 ('sharp cheddar cheese', 'cheese')\n",
      "13 ('sweetened condensed milk', 'milk')\n",
      "14 ('whole wheat flour', 'flour')\n"
     ]
    }
   ],
   "source": [
    "tuples_list5=sorted(list(zip(list5, list6)))\n",
    "for i in range(0,len(tuples_list5)):\n",
    "    print(i,tuples_list5[i])   "
   ]
  },
  {
   "cell_type": "code",
   "execution_count": 92,
   "metadata": {},
   "outputs": [
    {
     "data": {
      "text/plain": [
       "15"
      ]
     },
     "execution_count": 92,
     "metadata": {},
     "output_type": "execute_result"
    }
   ],
   "source": [
    "tuples_list5_df=pd.DataFrame(tuples_list5, columns=['long_name','short_name'])\n",
    "len(tuples_list5_df)"
   ]
  },
  {
   "cell_type": "markdown",
   "metadata": {},
   "source": [
    "Upon observation, we remove the tuples that are not a similar ingredient from a list. We update tuples_list5 to include only the relevant tuples:"
   ]
  },
  {
   "cell_type": "code",
   "execution_count": 93,
   "metadata": {},
   "outputs": [
    {
     "data": {
      "text/plain": [
       "9"
      ]
     },
     "execution_count": 93,
     "metadata": {},
     "output_type": "execute_result"
    }
   ],
   "source": [
    "removal=[1,2,9,10,12,13]\n",
    "tuples_list5_df.drop([i for i in removal], inplace=True)\n",
    "len(tuples_list5_df)"
   ]
  },
  {
   "cell_type": "code",
   "execution_count": 94,
   "metadata": {},
   "outputs": [
    {
     "data": {
      "text/html": [
       "<div>\n",
       "<style scoped>\n",
       "    .dataframe tbody tr th:only-of-type {\n",
       "        vertical-align: middle;\n",
       "    }\n",
       "\n",
       "    .dataframe tbody tr th {\n",
       "        vertical-align: top;\n",
       "    }\n",
       "\n",
       "    .dataframe thead th {\n",
       "        text-align: right;\n",
       "    }\n",
       "</style>\n",
       "<table border=\"1\" class=\"dataframe\">\n",
       "  <thead>\n",
       "    <tr style=\"text-align: right;\">\n",
       "      <th></th>\n",
       "      <th>index</th>\n",
       "      <th>long_name</th>\n",
       "      <th>short_name</th>\n",
       "    </tr>\n",
       "  </thead>\n",
       "  <tbody>\n",
       "    <tr>\n",
       "      <td>0</td>\n",
       "      <td>0</td>\n",
       "      <td>active dry yeast</td>\n",
       "      <td>yeast</td>\n",
       "    </tr>\n",
       "    <tr>\n",
       "      <td>1</td>\n",
       "      <td>3</td>\n",
       "      <td>crushed red pepper flakes</td>\n",
       "      <td>pepper</td>\n",
       "    </tr>\n",
       "    <tr>\n",
       "      <td>2</td>\n",
       "      <td>4</td>\n",
       "      <td>dark brown sugar</td>\n",
       "      <td>sugar</td>\n",
       "    </tr>\n",
       "    <tr>\n",
       "      <td>3</td>\n",
       "      <td>5</td>\n",
       "      <td>fresh ground pepper</td>\n",
       "      <td>pepper</td>\n",
       "    </tr>\n",
       "    <tr>\n",
       "      <td>4</td>\n",
       "      <td>6</td>\n",
       "      <td>green bell pepper</td>\n",
       "      <td>pepper</td>\n",
       "    </tr>\n",
       "  </tbody>\n",
       "</table>\n",
       "</div>"
      ],
      "text/plain": [
       "   index                  long_name short_name\n",
       "0      0           active dry yeast      yeast\n",
       "1      3  crushed red pepper flakes     pepper\n",
       "2      4           dark brown sugar      sugar\n",
       "3      5        fresh ground pepper     pepper\n",
       "4      6          green bell pepper     pepper"
      ]
     },
     "execution_count": 94,
     "metadata": {},
     "output_type": "execute_result"
    }
   ],
   "source": [
    "tuples_list5_df.reset_index(inplace=True)\n",
    "tuples_list5_df.head(5)"
   ]
  },
  {
   "cell_type": "code",
   "execution_count": 95,
   "metadata": {},
   "outputs": [
    {
     "data": {
      "text/plain": [
       "[('active dry yeast', 'yeast'),\n",
       " ('crushed red pepper flakes', 'pepper'),\n",
       " ('dark brown sugar', 'sugar'),\n",
       " ('fresh ground pepper', 'pepper'),\n",
       " ('green bell pepper', 'pepper'),\n",
       " ('ground black pepper', 'pepper'),\n",
       " ('light brown sugar', 'sugar'),\n",
       " ('red wine vinegar', 'vinegar'),\n",
       " ('whole wheat flour', 'flour')]"
      ]
     },
     "execution_count": 95,
     "metadata": {},
     "output_type": "execute_result"
    }
   ],
   "source": [
    "tuples_list5=[]\n",
    "for i in range(0,len(tuples_list5_df)):\n",
    "    y=tuples_list5_df['short_name'][i]\n",
    "    x=tuples_list5_df['long_name'][i]\n",
    "    tuples_list5.append((x,y))\n",
    "tuples_list5"
   ]
  },
  {
   "cell_type": "markdown",
   "metadata": {},
   "source": [
    "Now we use tuples_list5 and unite_cols function to further clean up the columns in the ingredients_matrix:"
   ]
  },
  {
   "cell_type": "code",
   "execution_count": 96,
   "metadata": {},
   "outputs": [],
   "source": [
    "for i in range(0,len(tuples_list5)):\n",
    "    unite_cols(ingredients_matrix, tuples_list5[i][1],tuples_list5[i][0])"
   ]
  },
  {
   "cell_type": "code",
   "execution_count": 97,
   "metadata": {
    "scrolled": true
   },
   "outputs": [
    {
     "data": {
      "text/plain": [
       "158"
      ]
     },
     "execution_count": 97,
     "metadata": {},
     "output_type": "execute_result"
    }
   ],
   "source": [
    "len(ingredients_matrix.columns)"
   ]
  },
  {
   "cell_type": "code",
   "execution_count": 98,
   "metadata": {},
   "outputs": [
    {
     "data": {
      "text/plain": [
       "['fresh ground pepper',\n",
       " 'ground black pepper',\n",
       " 'crushed red pepper flakes',\n",
       " 'dark brown sugar',\n",
       " 'active dry yeast',\n",
       " 'green bell pepper',\n",
       " 'light brown sugar',\n",
       " 'red wine vinegar',\n",
       " 'whole wheat flour']"
      ]
     },
     "execution_count": 98,
     "metadata": {},
     "output_type": "execute_result"
    }
   ],
   "source": [
    "list7=[x[0] for x in tuples_list5]\n",
    "list7=list(set(list7))\n",
    "list7"
   ]
  },
  {
   "cell_type": "code",
   "execution_count": 99,
   "metadata": {},
   "outputs": [],
   "source": [
    "for i in list7:\n",
    "    ingredients_matrix.drop(i, axis=1, inplace=True)"
   ]
  },
  {
   "cell_type": "code",
   "execution_count": 100,
   "metadata": {},
   "outputs": [
    {
     "data": {
      "text/plain": [
       "149"
      ]
     },
     "execution_count": 100,
     "metadata": {},
     "output_type": "execute_result"
    }
   ],
   "source": [
    "len(ingredients_matrix.columns)"
   ]
  },
  {
   "cell_type": "markdown",
   "metadata": {},
   "source": [
    "We further reduced the number of columns from 158 to 149 by removing the repeating ingredients."
   ]
  },
  {
   "cell_type": "markdown",
   "metadata": {},
   "source": [
    "## Nutrition value columns"
   ]
  },
  {
   "cell_type": "markdown",
   "metadata": {},
   "source": [
    "Currently the nutrition column in the recipes dataframe is a list of different values in this order:<br>\n",
    " - Calories\n",
    " - Total Fat\n",
    " - Sugars\n",
    " - Sodium\n",
    " - Protein\n",
    " - Saturated Fat\n",
    " - Total Carbohydrate\n",
    "We want to add these values as separate columns to recipes_df."
   ]
  },
  {
   "cell_type": "code",
   "execution_count": 101,
   "metadata": {},
   "outputs": [
    {
     "data": {
      "text/html": [
       "<div>\n",
       "<style scoped>\n",
       "    .dataframe tbody tr th:only-of-type {\n",
       "        vertical-align: middle;\n",
       "    }\n",
       "\n",
       "    .dataframe tbody tr th {\n",
       "        vertical-align: top;\n",
       "    }\n",
       "\n",
       "    .dataframe thead th {\n",
       "        text-align: right;\n",
       "    }\n",
       "</style>\n",
       "<table border=\"1\" class=\"dataframe\">\n",
       "  <thead>\n",
       "    <tr style=\"text-align: right;\">\n",
       "      <th></th>\n",
       "      <th>level_0</th>\n",
       "      <th>index</th>\n",
       "      <th>name</th>\n",
       "      <th>minutes</th>\n",
       "      <th>contributor_id</th>\n",
       "      <th>submitted</th>\n",
       "      <th>tags</th>\n",
       "      <th>nutrition</th>\n",
       "      <th>n_steps</th>\n",
       "      <th>steps</th>\n",
       "      <th>description</th>\n",
       "      <th>ingredients</th>\n",
       "      <th>n_ingredients</th>\n",
       "      <th>tags2</th>\n",
       "      <th>tags_check</th>\n",
       "      <th>ingredients2</th>\n",
       "      <th>ingredients_check</th>\n",
       "      <th>nutrition2</th>\n",
       "    </tr>\n",
       "    <tr>\n",
       "      <th>id</th>\n",
       "      <th></th>\n",
       "      <th></th>\n",
       "      <th></th>\n",
       "      <th></th>\n",
       "      <th></th>\n",
       "      <th></th>\n",
       "      <th></th>\n",
       "      <th></th>\n",
       "      <th></th>\n",
       "      <th></th>\n",
       "      <th></th>\n",
       "      <th></th>\n",
       "      <th></th>\n",
       "      <th></th>\n",
       "      <th></th>\n",
       "      <th></th>\n",
       "      <th></th>\n",
       "      <th></th>\n",
       "    </tr>\n",
       "  </thead>\n",
       "  <tbody>\n",
       "    <tr>\n",
       "      <td>63986</td>\n",
       "      <td>0</td>\n",
       "      <td>15</td>\n",
       "      <td>chicken lickin  good  pork chops</td>\n",
       "      <td>500</td>\n",
       "      <td>14664</td>\n",
       "      <td>2003-06-06</td>\n",
       "      <td>['weeknight', 'time-to-make', 'course', 'main-...</td>\n",
       "      <td>[105.7, 8.0, 0.0, 26.0, 5.0, 4.0, 3.0]</td>\n",
       "      <td>5</td>\n",
       "      <td>['dredge pork chops in mixture of flour , salt...</td>\n",
       "      <td>here's and old standby i enjoy from time to ti...</td>\n",
       "      <td>['lean pork chops', 'flour', 'salt', 'dry must...</td>\n",
       "      <td>7</td>\n",
       "      <td>[['weeknight',  'time-to-make',  'course',  'm...</td>\n",
       "      <td>[0, 0, 0, 0, 0, 0, 0, 0, 0, 0, 0, 0, 0, 0, 0, ...</td>\n",
       "      <td>[lean pork chops, flour, salt, dry mustard, ga...</td>\n",
       "      <td>[1, 1, 1, 1, 1, 0, 0, 0, 0, 0, 0, 0, 0, 0, 0, ...</td>\n",
       "      <td>[105.7,  8.0,  0.0,  26.0,  5.0,  4.0,  3.0]</td>\n",
       "    </tr>\n",
       "    <tr>\n",
       "      <td>43026</td>\n",
       "      <td>1</td>\n",
       "      <td>16</td>\n",
       "      <td>chile rellenos</td>\n",
       "      <td>45</td>\n",
       "      <td>52268</td>\n",
       "      <td>2002-10-14</td>\n",
       "      <td>['60-minutes-or-less', 'time-to-make', 'course...</td>\n",
       "      <td>[94.0, 10.0, 0.0, 11.0, 11.0, 21.0, 0.0]</td>\n",
       "      <td>9</td>\n",
       "      <td>['drain green chiles', 'sprinkle cornstarch on...</td>\n",
       "      <td>a favorite from a local restaurant no longer i...</td>\n",
       "      <td>['egg roll wrap', 'whole green chilies', 'chee...</td>\n",
       "      <td>5</td>\n",
       "      <td>[['60-minutes-or-less',  'time-to-make',  'cou...</td>\n",
       "      <td>[0, 0, 0, 0, 1, 0, 0, 0, 0, 1, 0, 0, 0, 0, 0, ...</td>\n",
       "      <td>[egg roll wrap, whole green chilies, cheese, c...</td>\n",
       "      <td>[0, 0, 0, 0, 1, 1, 1, 0, 0, 0, 0, 0, 0, 0, 0, ...</td>\n",
       "      <td>[94.0,  10.0,  0.0,  11.0,  11.0,  21.0,  0.0]</td>\n",
       "    </tr>\n",
       "    <tr>\n",
       "      <td>23933</td>\n",
       "      <td>2</td>\n",
       "      <td>17</td>\n",
       "      <td>chinese  candy</td>\n",
       "      <td>15</td>\n",
       "      <td>35268</td>\n",
       "      <td>2002-03-29</td>\n",
       "      <td>['15-minutes-or-less', 'time-to-make', 'course...</td>\n",
       "      <td>[232.7, 21.0, 77.0, 4.0, 6.0, 38.0, 8.0]</td>\n",
       "      <td>4</td>\n",
       "      <td>['melt butterscotch chips in heavy saucepan ov...</td>\n",
       "      <td>a little different, and oh so good. i include ...</td>\n",
       "      <td>['butterscotch chips', 'chinese noodles', 'sal...</td>\n",
       "      <td>3</td>\n",
       "      <td>[['15-minutes-or-less',  'time-to-make',  'cou...</td>\n",
       "      <td>[0, 0, 0, 0, 0, 0, 0, 0, 0, 0, 0, 0, 0, 0, 0, ...</td>\n",
       "      <td>[butterscotch chips, chinese noodles, salted p...</td>\n",
       "      <td>[0, 0, 0, 0, 0, 0, 0, 0, 0, 0, 0, 0, 0, 0, 0, ...</td>\n",
       "      <td>[232.7,  21.0,  77.0,  4.0,  6.0,  38.0,  8.0]</td>\n",
       "    </tr>\n",
       "  </tbody>\n",
       "</table>\n",
       "</div>"
      ],
      "text/plain": [
       "       level_0  index                              name  minutes  \\\n",
       "id                                                                 \n",
       "63986        0     15  chicken lickin  good  pork chops      500   \n",
       "43026        1     16                    chile rellenos       45   \n",
       "23933        2     17                    chinese  candy       15   \n",
       "\n",
       "       contributor_id   submitted  \\\n",
       "id                                  \n",
       "63986           14664  2003-06-06   \n",
       "43026           52268  2002-10-14   \n",
       "23933           35268  2002-03-29   \n",
       "\n",
       "                                                    tags  \\\n",
       "id                                                         \n",
       "63986  ['weeknight', 'time-to-make', 'course', 'main-...   \n",
       "43026  ['60-minutes-or-less', 'time-to-make', 'course...   \n",
       "23933  ['15-minutes-or-less', 'time-to-make', 'course...   \n",
       "\n",
       "                                      nutrition  n_steps  \\\n",
       "id                                                         \n",
       "63986    [105.7, 8.0, 0.0, 26.0, 5.0, 4.0, 3.0]        5   \n",
       "43026  [94.0, 10.0, 0.0, 11.0, 11.0, 21.0, 0.0]        9   \n",
       "23933  [232.7, 21.0, 77.0, 4.0, 6.0, 38.0, 8.0]        4   \n",
       "\n",
       "                                                   steps  \\\n",
       "id                                                         \n",
       "63986  ['dredge pork chops in mixture of flour , salt...   \n",
       "43026  ['drain green chiles', 'sprinkle cornstarch on...   \n",
       "23933  ['melt butterscotch chips in heavy saucepan ov...   \n",
       "\n",
       "                                             description  \\\n",
       "id                                                         \n",
       "63986  here's and old standby i enjoy from time to ti...   \n",
       "43026  a favorite from a local restaurant no longer i...   \n",
       "23933  a little different, and oh so good. i include ...   \n",
       "\n",
       "                                             ingredients  n_ingredients  \\\n",
       "id                                                                        \n",
       "63986  ['lean pork chops', 'flour', 'salt', 'dry must...              7   \n",
       "43026  ['egg roll wrap', 'whole green chilies', 'chee...              5   \n",
       "23933  ['butterscotch chips', 'chinese noodles', 'sal...              3   \n",
       "\n",
       "                                                   tags2  \\\n",
       "id                                                         \n",
       "63986  [['weeknight',  'time-to-make',  'course',  'm...   \n",
       "43026  [['60-minutes-or-less',  'time-to-make',  'cou...   \n",
       "23933  [['15-minutes-or-less',  'time-to-make',  'cou...   \n",
       "\n",
       "                                              tags_check  \\\n",
       "id                                                         \n",
       "63986  [0, 0, 0, 0, 0, 0, 0, 0, 0, 0, 0, 0, 0, 0, 0, ...   \n",
       "43026  [0, 0, 0, 0, 1, 0, 0, 0, 0, 1, 0, 0, 0, 0, 0, ...   \n",
       "23933  [0, 0, 0, 0, 0, 0, 0, 0, 0, 0, 0, 0, 0, 0, 0, ...   \n",
       "\n",
       "                                            ingredients2  \\\n",
       "id                                                         \n",
       "63986  [lean pork chops, flour, salt, dry mustard, ga...   \n",
       "43026  [egg roll wrap, whole green chilies, cheese, c...   \n",
       "23933  [butterscotch chips, chinese noodles, salted p...   \n",
       "\n",
       "                                       ingredients_check  \\\n",
       "id                                                         \n",
       "63986  [1, 1, 1, 1, 1, 0, 0, 0, 0, 0, 0, 0, 0, 0, 0, ...   \n",
       "43026  [0, 0, 0, 0, 1, 1, 1, 0, 0, 0, 0, 0, 0, 0, 0, ...   \n",
       "23933  [0, 0, 0, 0, 0, 0, 0, 0, 0, 0, 0, 0, 0, 0, 0, ...   \n",
       "\n",
       "                                           nutrition2  \n",
       "id                                                     \n",
       "63986    [105.7,  8.0,  0.0,  26.0,  5.0,  4.0,  3.0]  \n",
       "43026  [94.0,  10.0,  0.0,  11.0,  11.0,  21.0,  0.0]  \n",
       "23933  [232.7,  21.0,  77.0,  4.0,  6.0,  38.0,  8.0]  "
      ]
     },
     "execution_count": 101,
     "metadata": {},
     "output_type": "execute_result"
    }
   ],
   "source": [
    "recipes_df['nutrition2']=recipes_df['nutrition'].apply(lambda x: x.strip('[]').split(','))\n",
    "for i in recipes_df.index:\n",
    "    [float(recipes_df['nutrition2'][i][x].lstrip(' ')) for x in range(6)]\n",
    "recipes_df.head(3)"
   ]
  },
  {
   "cell_type": "code",
   "execution_count": 102,
   "metadata": {},
   "outputs": [
    {
     "data": {
      "text/html": [
       "<div>\n",
       "<style scoped>\n",
       "    .dataframe tbody tr th:only-of-type {\n",
       "        vertical-align: middle;\n",
       "    }\n",
       "\n",
       "    .dataframe tbody tr th {\n",
       "        vertical-align: top;\n",
       "    }\n",
       "\n",
       "    .dataframe thead th {\n",
       "        text-align: right;\n",
       "    }\n",
       "</style>\n",
       "<table border=\"1\" class=\"dataframe\">\n",
       "  <thead>\n",
       "    <tr style=\"text-align: right;\">\n",
       "      <th></th>\n",
       "      <th>level_0</th>\n",
       "      <th>index</th>\n",
       "      <th>name</th>\n",
       "      <th>minutes</th>\n",
       "      <th>contributor_id</th>\n",
       "      <th>submitted</th>\n",
       "      <th>tags</th>\n",
       "      <th>nutrition</th>\n",
       "      <th>n_steps</th>\n",
       "      <th>steps</th>\n",
       "      <th>...</th>\n",
       "      <th>ingredients2</th>\n",
       "      <th>ingredients_check</th>\n",
       "      <th>nutrition2</th>\n",
       "      <th>Calories</th>\n",
       "      <th>Total Fat</th>\n",
       "      <th>Sugars</th>\n",
       "      <th>Sodium</th>\n",
       "      <th>Protein</th>\n",
       "      <th>Saturated Fat</th>\n",
       "      <th>Total Carbohydrate</th>\n",
       "    </tr>\n",
       "    <tr>\n",
       "      <th>id</th>\n",
       "      <th></th>\n",
       "      <th></th>\n",
       "      <th></th>\n",
       "      <th></th>\n",
       "      <th></th>\n",
       "      <th></th>\n",
       "      <th></th>\n",
       "      <th></th>\n",
       "      <th></th>\n",
       "      <th></th>\n",
       "      <th></th>\n",
       "      <th></th>\n",
       "      <th></th>\n",
       "      <th></th>\n",
       "      <th></th>\n",
       "      <th></th>\n",
       "      <th></th>\n",
       "      <th></th>\n",
       "      <th></th>\n",
       "      <th></th>\n",
       "      <th></th>\n",
       "    </tr>\n",
       "  </thead>\n",
       "  <tbody>\n",
       "    <tr>\n",
       "      <td>63986</td>\n",
       "      <td>0</td>\n",
       "      <td>15</td>\n",
       "      <td>chicken lickin  good  pork chops</td>\n",
       "      <td>500</td>\n",
       "      <td>14664</td>\n",
       "      <td>2003-06-06</td>\n",
       "      <td>['weeknight', 'time-to-make', 'course', 'main-...</td>\n",
       "      <td>[105.7, 8.0, 0.0, 26.0, 5.0, 4.0, 3.0]</td>\n",
       "      <td>5</td>\n",
       "      <td>['dredge pork chops in mixture of flour , salt...</td>\n",
       "      <td>...</td>\n",
       "      <td>[lean pork chops, flour, salt, dry mustard, ga...</td>\n",
       "      <td>[1, 1, 1, 1, 1, 0, 0, 0, 0, 0, 0, 0, 0, 0, 0, ...</td>\n",
       "      <td>[105.7,  8.0,  0.0,  26.0,  5.0,  4.0,  3.0]</td>\n",
       "      <td>105.7</td>\n",
       "      <td>8.0</td>\n",
       "      <td>0.0</td>\n",
       "      <td>26.0</td>\n",
       "      <td>5.0</td>\n",
       "      <td>4.0</td>\n",
       "      <td>3.0</td>\n",
       "    </tr>\n",
       "    <tr>\n",
       "      <td>43026</td>\n",
       "      <td>1</td>\n",
       "      <td>16</td>\n",
       "      <td>chile rellenos</td>\n",
       "      <td>45</td>\n",
       "      <td>52268</td>\n",
       "      <td>2002-10-14</td>\n",
       "      <td>['60-minutes-or-less', 'time-to-make', 'course...</td>\n",
       "      <td>[94.0, 10.0, 0.0, 11.0, 11.0, 21.0, 0.0]</td>\n",
       "      <td>9</td>\n",
       "      <td>['drain green chiles', 'sprinkle cornstarch on...</td>\n",
       "      <td>...</td>\n",
       "      <td>[egg roll wrap, whole green chilies, cheese, c...</td>\n",
       "      <td>[0, 0, 0, 0, 1, 1, 1, 0, 0, 0, 0, 0, 0, 0, 0, ...</td>\n",
       "      <td>[94.0,  10.0,  0.0,  11.0,  11.0,  21.0,  0.0]</td>\n",
       "      <td>94.0</td>\n",
       "      <td>10.0</td>\n",
       "      <td>0.0</td>\n",
       "      <td>11.0</td>\n",
       "      <td>11.0</td>\n",
       "      <td>21.0</td>\n",
       "      <td>0.0</td>\n",
       "    </tr>\n",
       "    <tr>\n",
       "      <td>23933</td>\n",
       "      <td>2</td>\n",
       "      <td>17</td>\n",
       "      <td>chinese  candy</td>\n",
       "      <td>15</td>\n",
       "      <td>35268</td>\n",
       "      <td>2002-03-29</td>\n",
       "      <td>['15-minutes-or-less', 'time-to-make', 'course...</td>\n",
       "      <td>[232.7, 21.0, 77.0, 4.0, 6.0, 38.0, 8.0]</td>\n",
       "      <td>4</td>\n",
       "      <td>['melt butterscotch chips in heavy saucepan ov...</td>\n",
       "      <td>...</td>\n",
       "      <td>[butterscotch chips, chinese noodles, salted p...</td>\n",
       "      <td>[0, 0, 0, 0, 0, 0, 0, 0, 0, 0, 0, 0, 0, 0, 0, ...</td>\n",
       "      <td>[232.7,  21.0,  77.0,  4.0,  6.0,  38.0,  8.0]</td>\n",
       "      <td>232.7</td>\n",
       "      <td>21.0</td>\n",
       "      <td>77.0</td>\n",
       "      <td>4.0</td>\n",
       "      <td>6.0</td>\n",
       "      <td>38.0</td>\n",
       "      <td>8.0</td>\n",
       "    </tr>\n",
       "  </tbody>\n",
       "</table>\n",
       "<p>3 rows × 25 columns</p>\n",
       "</div>"
      ],
      "text/plain": [
       "       level_0  index                              name  minutes  \\\n",
       "id                                                                 \n",
       "63986        0     15  chicken lickin  good  pork chops      500   \n",
       "43026        1     16                    chile rellenos       45   \n",
       "23933        2     17                    chinese  candy       15   \n",
       "\n",
       "       contributor_id   submitted  \\\n",
       "id                                  \n",
       "63986           14664  2003-06-06   \n",
       "43026           52268  2002-10-14   \n",
       "23933           35268  2002-03-29   \n",
       "\n",
       "                                                    tags  \\\n",
       "id                                                         \n",
       "63986  ['weeknight', 'time-to-make', 'course', 'main-...   \n",
       "43026  ['60-minutes-or-less', 'time-to-make', 'course...   \n",
       "23933  ['15-minutes-or-less', 'time-to-make', 'course...   \n",
       "\n",
       "                                      nutrition  n_steps  \\\n",
       "id                                                         \n",
       "63986    [105.7, 8.0, 0.0, 26.0, 5.0, 4.0, 3.0]        5   \n",
       "43026  [94.0, 10.0, 0.0, 11.0, 11.0, 21.0, 0.0]        9   \n",
       "23933  [232.7, 21.0, 77.0, 4.0, 6.0, 38.0, 8.0]        4   \n",
       "\n",
       "                                                   steps  ...  \\\n",
       "id                                                        ...   \n",
       "63986  ['dredge pork chops in mixture of flour , salt...  ...   \n",
       "43026  ['drain green chiles', 'sprinkle cornstarch on...  ...   \n",
       "23933  ['melt butterscotch chips in heavy saucepan ov...  ...   \n",
       "\n",
       "                                            ingredients2  \\\n",
       "id                                                         \n",
       "63986  [lean pork chops, flour, salt, dry mustard, ga...   \n",
       "43026  [egg roll wrap, whole green chilies, cheese, c...   \n",
       "23933  [butterscotch chips, chinese noodles, salted p...   \n",
       "\n",
       "                                       ingredients_check  \\\n",
       "id                                                         \n",
       "63986  [1, 1, 1, 1, 1, 0, 0, 0, 0, 0, 0, 0, 0, 0, 0, ...   \n",
       "43026  [0, 0, 0, 0, 1, 1, 1, 0, 0, 0, 0, 0, 0, 0, 0, ...   \n",
       "23933  [0, 0, 0, 0, 0, 0, 0, 0, 0, 0, 0, 0, 0, 0, 0, ...   \n",
       "\n",
       "                                           nutrition2 Calories Total Fat  \\\n",
       "id                                                                         \n",
       "63986    [105.7,  8.0,  0.0,  26.0,  5.0,  4.0,  3.0]    105.7       8.0   \n",
       "43026  [94.0,  10.0,  0.0,  11.0,  11.0,  21.0,  0.0]     94.0      10.0   \n",
       "23933  [232.7,  21.0,  77.0,  4.0,  6.0,  38.0,  8.0]    232.7      21.0   \n",
       "\n",
       "      Sugars Sodium Protein Saturated Fat Total Carbohydrate  \n",
       "id                                                            \n",
       "63986    0.0   26.0     5.0           4.0                3.0  \n",
       "43026    0.0   11.0    11.0          21.0                0.0  \n",
       "23933   77.0    4.0     6.0          38.0                8.0  \n",
       "\n",
       "[3 rows x 25 columns]"
      ]
     },
     "execution_count": 102,
     "metadata": {},
     "output_type": "execute_result"
    }
   ],
   "source": [
    "recipes_df['Calories'] = recipes_df['nutrition2'].apply(lambda x: x[0])\n",
    "recipes_df['Total Fat'] = recipes_df['nutrition2'].apply(lambda x: x[1])\n",
    "recipes_df['Sugars'] = recipes_df['nutrition2'].apply(lambda x: x[2])\n",
    "recipes_df['Sodium'] = recipes_df['nutrition2'].apply(lambda x: x[3])\n",
    "recipes_df['Protein'] = recipes_df['nutrition2'].apply(lambda x: x[4])\n",
    "recipes_df['Saturated Fat'] = recipes_df['nutrition2'].apply(lambda x: x[5])\n",
    "recipes_df['Total Carbohydrate'] = recipes_df['nutrition2'].apply(lambda x: x[6])\n",
    "recipes_df.head(3)"
   ]
  },
  {
   "cell_type": "markdown",
   "metadata": {},
   "source": [
    "We also need to delete the index columns generated by earlier data wrangling:"
   ]
  },
  {
   "cell_type": "code",
   "execution_count": 107,
   "metadata": {},
   "outputs": [
    {
     "data": {
      "text/html": [
       "<div>\n",
       "<style scoped>\n",
       "    .dataframe tbody tr th:only-of-type {\n",
       "        vertical-align: middle;\n",
       "    }\n",
       "\n",
       "    .dataframe tbody tr th {\n",
       "        vertical-align: top;\n",
       "    }\n",
       "\n",
       "    .dataframe thead th {\n",
       "        text-align: right;\n",
       "    }\n",
       "</style>\n",
       "<table border=\"1\" class=\"dataframe\">\n",
       "  <thead>\n",
       "    <tr style=\"text-align: right;\">\n",
       "      <th></th>\n",
       "      <th>name</th>\n",
       "      <th>minutes</th>\n",
       "      <th>contributor_id</th>\n",
       "      <th>submitted</th>\n",
       "      <th>tags</th>\n",
       "      <th>nutrition</th>\n",
       "      <th>n_steps</th>\n",
       "      <th>steps</th>\n",
       "      <th>description</th>\n",
       "      <th>ingredients</th>\n",
       "      <th>...</th>\n",
       "      <th>ingredients2</th>\n",
       "      <th>ingredients_check</th>\n",
       "      <th>nutrition2</th>\n",
       "      <th>Calories</th>\n",
       "      <th>Total Fat</th>\n",
       "      <th>Sugars</th>\n",
       "      <th>Sodium</th>\n",
       "      <th>Protein</th>\n",
       "      <th>Saturated Fat</th>\n",
       "      <th>Total Carbohydrate</th>\n",
       "    </tr>\n",
       "    <tr>\n",
       "      <th>id</th>\n",
       "      <th></th>\n",
       "      <th></th>\n",
       "      <th></th>\n",
       "      <th></th>\n",
       "      <th></th>\n",
       "      <th></th>\n",
       "      <th></th>\n",
       "      <th></th>\n",
       "      <th></th>\n",
       "      <th></th>\n",
       "      <th></th>\n",
       "      <th></th>\n",
       "      <th></th>\n",
       "      <th></th>\n",
       "      <th></th>\n",
       "      <th></th>\n",
       "      <th></th>\n",
       "      <th></th>\n",
       "      <th></th>\n",
       "      <th></th>\n",
       "      <th></th>\n",
       "    </tr>\n",
       "  </thead>\n",
       "  <tbody>\n",
       "    <tr>\n",
       "      <td>63986</td>\n",
       "      <td>chicken lickin  good  pork chops</td>\n",
       "      <td>500</td>\n",
       "      <td>14664</td>\n",
       "      <td>2003-06-06</td>\n",
       "      <td>['weeknight', 'time-to-make', 'course', 'main-...</td>\n",
       "      <td>[105.7, 8.0, 0.0, 26.0, 5.0, 4.0, 3.0]</td>\n",
       "      <td>5</td>\n",
       "      <td>['dredge pork chops in mixture of flour , salt...</td>\n",
       "      <td>here's and old standby i enjoy from time to ti...</td>\n",
       "      <td>['lean pork chops', 'flour', 'salt', 'dry must...</td>\n",
       "      <td>...</td>\n",
       "      <td>[lean pork chops, flour, salt, dry mustard, ga...</td>\n",
       "      <td>[1, 1, 1, 1, 1, 0, 0, 0, 0, 0, 0, 0, 0, 0, 0, ...</td>\n",
       "      <td>[105.7,  8.0,  0.0,  26.0,  5.0,  4.0,  3.0]</td>\n",
       "      <td>105.7</td>\n",
       "      <td>8.0</td>\n",
       "      <td>0.0</td>\n",
       "      <td>26.0</td>\n",
       "      <td>5.0</td>\n",
       "      <td>4.0</td>\n",
       "      <td>3.0</td>\n",
       "    </tr>\n",
       "    <tr>\n",
       "      <td>43026</td>\n",
       "      <td>chile rellenos</td>\n",
       "      <td>45</td>\n",
       "      <td>52268</td>\n",
       "      <td>2002-10-14</td>\n",
       "      <td>['60-minutes-or-less', 'time-to-make', 'course...</td>\n",
       "      <td>[94.0, 10.0, 0.0, 11.0, 11.0, 21.0, 0.0]</td>\n",
       "      <td>9</td>\n",
       "      <td>['drain green chiles', 'sprinkle cornstarch on...</td>\n",
       "      <td>a favorite from a local restaurant no longer i...</td>\n",
       "      <td>['egg roll wrap', 'whole green chilies', 'chee...</td>\n",
       "      <td>...</td>\n",
       "      <td>[egg roll wrap, whole green chilies, cheese, c...</td>\n",
       "      <td>[0, 0, 0, 0, 1, 1, 1, 0, 0, 0, 0, 0, 0, 0, 0, ...</td>\n",
       "      <td>[94.0,  10.0,  0.0,  11.0,  11.0,  21.0,  0.0]</td>\n",
       "      <td>94.0</td>\n",
       "      <td>10.0</td>\n",
       "      <td>0.0</td>\n",
       "      <td>11.0</td>\n",
       "      <td>11.0</td>\n",
       "      <td>21.0</td>\n",
       "      <td>0.0</td>\n",
       "    </tr>\n",
       "    <tr>\n",
       "      <td>23933</td>\n",
       "      <td>chinese  candy</td>\n",
       "      <td>15</td>\n",
       "      <td>35268</td>\n",
       "      <td>2002-03-29</td>\n",
       "      <td>['15-minutes-or-less', 'time-to-make', 'course...</td>\n",
       "      <td>[232.7, 21.0, 77.0, 4.0, 6.0, 38.0, 8.0]</td>\n",
       "      <td>4</td>\n",
       "      <td>['melt butterscotch chips in heavy saucepan ov...</td>\n",
       "      <td>a little different, and oh so good. i include ...</td>\n",
       "      <td>['butterscotch chips', 'chinese noodles', 'sal...</td>\n",
       "      <td>...</td>\n",
       "      <td>[butterscotch chips, chinese noodles, salted p...</td>\n",
       "      <td>[0, 0, 0, 0, 0, 0, 0, 0, 0, 0, 0, 0, 0, 0, 0, ...</td>\n",
       "      <td>[232.7,  21.0,  77.0,  4.0,  6.0,  38.0,  8.0]</td>\n",
       "      <td>232.7</td>\n",
       "      <td>21.0</td>\n",
       "      <td>77.0</td>\n",
       "      <td>4.0</td>\n",
       "      <td>6.0</td>\n",
       "      <td>38.0</td>\n",
       "      <td>8.0</td>\n",
       "    </tr>\n",
       "  </tbody>\n",
       "</table>\n",
       "<p>3 rows × 23 columns</p>\n",
       "</div>"
      ],
      "text/plain": [
       "                                   name  minutes  contributor_id   submitted  \\\n",
       "id                                                                             \n",
       "63986  chicken lickin  good  pork chops      500           14664  2003-06-06   \n",
       "43026                    chile rellenos       45           52268  2002-10-14   \n",
       "23933                    chinese  candy       15           35268  2002-03-29   \n",
       "\n",
       "                                                    tags  \\\n",
       "id                                                         \n",
       "63986  ['weeknight', 'time-to-make', 'course', 'main-...   \n",
       "43026  ['60-minutes-or-less', 'time-to-make', 'course...   \n",
       "23933  ['15-minutes-or-less', 'time-to-make', 'course...   \n",
       "\n",
       "                                      nutrition  n_steps  \\\n",
       "id                                                         \n",
       "63986    [105.7, 8.0, 0.0, 26.0, 5.0, 4.0, 3.0]        5   \n",
       "43026  [94.0, 10.0, 0.0, 11.0, 11.0, 21.0, 0.0]        9   \n",
       "23933  [232.7, 21.0, 77.0, 4.0, 6.0, 38.0, 8.0]        4   \n",
       "\n",
       "                                                   steps  \\\n",
       "id                                                         \n",
       "63986  ['dredge pork chops in mixture of flour , salt...   \n",
       "43026  ['drain green chiles', 'sprinkle cornstarch on...   \n",
       "23933  ['melt butterscotch chips in heavy saucepan ov...   \n",
       "\n",
       "                                             description  \\\n",
       "id                                                         \n",
       "63986  here's and old standby i enjoy from time to ti...   \n",
       "43026  a favorite from a local restaurant no longer i...   \n",
       "23933  a little different, and oh so good. i include ...   \n",
       "\n",
       "                                             ingredients  ...  \\\n",
       "id                                                        ...   \n",
       "63986  ['lean pork chops', 'flour', 'salt', 'dry must...  ...   \n",
       "43026  ['egg roll wrap', 'whole green chilies', 'chee...  ...   \n",
       "23933  ['butterscotch chips', 'chinese noodles', 'sal...  ...   \n",
       "\n",
       "                                            ingredients2  \\\n",
       "id                                                         \n",
       "63986  [lean pork chops, flour, salt, dry mustard, ga...   \n",
       "43026  [egg roll wrap, whole green chilies, cheese, c...   \n",
       "23933  [butterscotch chips, chinese noodles, salted p...   \n",
       "\n",
       "                                       ingredients_check  \\\n",
       "id                                                         \n",
       "63986  [1, 1, 1, 1, 1, 0, 0, 0, 0, 0, 0, 0, 0, 0, 0, ...   \n",
       "43026  [0, 0, 0, 0, 1, 1, 1, 0, 0, 0, 0, 0, 0, 0, 0, ...   \n",
       "23933  [0, 0, 0, 0, 0, 0, 0, 0, 0, 0, 0, 0, 0, 0, 0, ...   \n",
       "\n",
       "                                           nutrition2 Calories Total Fat  \\\n",
       "id                                                                         \n",
       "63986    [105.7,  8.0,  0.0,  26.0,  5.0,  4.0,  3.0]    105.7       8.0   \n",
       "43026  [94.0,  10.0,  0.0,  11.0,  11.0,  21.0,  0.0]     94.0      10.0   \n",
       "23933  [232.7,  21.0,  77.0,  4.0,  6.0,  38.0,  8.0]    232.7      21.0   \n",
       "\n",
       "      Sugars Sodium Protein Saturated Fat Total Carbohydrate  \n",
       "id                                                            \n",
       "63986    0.0   26.0     5.0           4.0                3.0  \n",
       "43026    0.0   11.0    11.0          21.0                0.0  \n",
       "23933   77.0    4.0     6.0          38.0                8.0  \n",
       "\n",
       "[3 rows x 23 columns]"
      ]
     },
     "execution_count": 107,
     "metadata": {},
     "output_type": "execute_result"
    }
   ],
   "source": [
    "recipes_df.drop(columns=['level_0','index'], inplace=True)\n",
    "recipes_df.head(3)"
   ]
  },
  {
   "cell_type": "markdown",
   "metadata": {},
   "source": [
    "## Files for Future Use in Capstone 1"
   ]
  },
  {
   "cell_type": "markdown",
   "metadata": {},
   "source": [
    "As the result of the data wrangling we got several files for further analysis:\n",
    "1)\tRecipes_df\n",
    "2)\tReviews_df\n",
    "3)\tTags_matrix\n",
    "4)\tIngredients_matrix"
   ]
  },
  {
   "cell_type": "code",
   "execution_count": 108,
   "metadata": {},
   "outputs": [],
   "source": [
    "recipes_df.to_csv(\"recipes_df.csv\")\n",
    "reviews_df.to_csv(\"reviews_df.csv\")\n",
    "tags_matrix.to_csv(\"tags_matrix.csv\")\n",
    "ingredients_matrix.to_csv(\"ingredients_matrix.csv\")"
   ]
  }
 ],
 "metadata": {
  "kernelspec": {
   "display_name": "Python 3",
   "language": "python",
   "name": "python3"
  },
  "language_info": {
   "codemirror_mode": {
    "name": "ipython",
    "version": 3
   },
   "file_extension": ".py",
   "mimetype": "text/x-python",
   "name": "python",
   "nbconvert_exporter": "python",
   "pygments_lexer": "ipython3",
   "version": "3.7.4"
  }
 },
 "nbformat": 4,
 "nbformat_minor": 2
}
