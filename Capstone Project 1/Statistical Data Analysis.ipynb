{
 "cells": [
  {
   "cell_type": "markdown",
   "metadata": {},
   "source": [
    "# Statistical Data Analysis"
   ]
  },
  {
   "cell_type": "markdown",
   "metadata": {},
   "source": [
    "## Loading Modules"
   ]
  },
  {
   "cell_type": "code",
   "execution_count": 1,
   "metadata": {},
   "outputs": [],
   "source": [
    "import pandas as pd\n",
    "import numpy as np\n",
    "from numpy.random import seed\n",
    "import matplotlib.pyplot as plt\n",
    "import seaborn as sns; sns.set()\n",
    "from scipy.stats import norm\n",
    "from scipy.stats import t\n",
    "from scipy.stats import ttest_ind_from_stats"
   ]
  },
  {
   "cell_type": "markdown",
   "metadata": {},
   "source": [
    "## Loading Data"
   ]
  },
  {
   "cell_type": "code",
   "execution_count": 2,
   "metadata": {},
   "outputs": [],
   "source": [
    "recipes_df=pd.read_csv('recipes_df.csv')\n",
    "recipes_df.set_index('id', inplace=True)\n",
    "reviews_df=pd.read_csv('reviews_df.csv')\n",
    "reviews_df.set_index('recipe_id', inplace=True)\n",
    "tags_matrix=pd.read_csv('tags_matrix.csv')\n",
    "tags_matrix.set_index('id', inplace=True)\n",
    "ingredients_matrix=pd.read_csv('ingredients_matrix.csv')\n",
    "ingredients_matrix.set_index('id', inplace=True)"
   ]
  },
  {
   "cell_type": "markdown",
   "metadata": {},
   "source": [
    "## T-tests of Recipe Attributes"
   ]
  },
  {
   "cell_type": "markdown",
   "metadata": {},
   "source": [
    "After performing the EDA on the data we have the following findings: <br>\n",
    " 1. The best ingredient is garlic. It has the average recipe ranking of 4.453\n",
    " 2. The worst ingredient is baking powder. It has the average recipe ranking of 4.388\n",
    " 3. The best tag is 'beijing'. It has the average recipe ranking of 5.000\n",
    " 4. The worst tag is 'pressure-canning'. It has the average recipe ranking of 2.981\n",
    " 5. Successful recipes on average take longer to make and include 10 or more steps\n",
    " 6. In terms of nutritional value, successful recipes have more total fats, sugars and carbohydrates, but less sodium and saturated fats, and slightly less protein. "
   ]
  },
  {
   "cell_type": "markdown",
   "metadata": {},
   "source": [
    "Below we will perform t-tests to confirm which of our EDA findings are statistically significant. More specifically: <br><br>\n",
    "1) We will perform a t-test on two independent samples: the recipes with a specific attribute and the recipes without it <br><br>\n",
    "\n",
    "2) We will test the null hypothesis $H_0$ that the mean recipe rating for the two samples is identical.<br><br>\n",
    "2) The alternative hypothesis $H_a$ would be that the means are different (e.g. the mean recipe rating is indeed affected by the specific recipe attribute). <br><br>\n",
    "3) If the t-test results are statistically significant (e.g. p-value > $a, a$ = 0.05), then we will reject the $H_0$ and accept the $H_a$."
   ]
  },
  {
   "cell_type": "markdown",
   "metadata": {},
   "source": [
    "### Garlic"
   ]
  },
  {
   "cell_type": "markdown",
   "metadata": {},
   "source": [
    "1. Define the function for a t-test and apply it"
   ]
  },
  {
   "cell_type": "code",
   "execution_count": 3,
   "metadata": {},
   "outputs": [],
   "source": [
    "def myttest(x,y):\n",
    "    mean_x = np.mean(x)\n",
    "    std_x = np.std(x)\n",
    "    n_x = len(x)\n",
    "    mean_y = np.mean(y)\n",
    "    std_y = np.std(y)\n",
    "    n_y = len(y)\n",
    "    return ttest_ind_from_stats(mean_x, std_x, n_x, mean_y, std_y, n_y)"
   ]
  },
  {
   "cell_type": "markdown",
   "metadata": {},
   "source": [
    "2. Define the two samples for recipes with and without garlic"
   ]
  },
  {
   "cell_type": "code",
   "execution_count": 4,
   "metadata": {},
   "outputs": [],
   "source": [
    "a = reviews_df.rating[reviews_df.index.isin(ingredients_matrix.index[ingredients_matrix.garlic==1])]\n",
    "b = reviews_df.rating[reviews_df.index.isin(ingredients_matrix.index[ingredients_matrix.garlic==0])]"
   ]
  },
  {
   "cell_type": "markdown",
   "metadata": {},
   "source": [
    "3. Calculate t-test statistic and p-value"
   ]
  },
  {
   "cell_type": "code",
   "execution_count": 5,
   "metadata": {},
   "outputs": [
    {
     "data": {
      "text/plain": [
       "Ttest_indResult(statistic=8.580416896899402, pvalue=9.475783077096418e-18)"
      ]
     },
     "execution_count": 5,
     "metadata": {},
     "output_type": "execute_result"
    }
   ],
   "source": [
    "myttest(a,b)"
   ]
  },
  {
   "cell_type": "markdown",
   "metadata": {},
   "source": [
    "The p-value of 9.475783077096418e-18 is very small, so we can reject the $H_0$ and confirm that garlic in recipes contribute to a higher recipe rating"
   ]
  },
  {
   "cell_type": "markdown",
   "metadata": {},
   "source": [
    "### Baking Powder"
   ]
  },
  {
   "cell_type": "code",
   "execution_count": 6,
   "metadata": {},
   "outputs": [],
   "source": [
    "c = reviews_df.rating[reviews_df.index.isin(ingredients_matrix.index[ingredients_matrix['baking powder']==1])]\n",
    "d = reviews_df.rating[reviews_df.index.isin(ingredients_matrix.index[ingredients_matrix['baking powder']==0])]"
   ]
  },
  {
   "cell_type": "code",
   "execution_count": 7,
   "metadata": {},
   "outputs": [
    {
     "data": {
      "text/plain": [
       "Ttest_indResult(statistic=-13.271590757508033, pvalue=3.429445436924159e-40)"
      ]
     },
     "execution_count": 7,
     "metadata": {},
     "output_type": "execute_result"
    }
   ],
   "source": [
    "myttest(c,d)"
   ]
  },
  {
   "cell_type": "markdown",
   "metadata": {},
   "source": [
    "The p-value of 9.475783077096418e-18 is very small, so we can reject the $H_0$ and confirm that baking powder in recipes contribute to a lower recipe rating"
   ]
  },
  {
   "cell_type": "markdown",
   "metadata": {},
   "source": [
    "### 'beijing' Recipe Tag"
   ]
  },
  {
   "cell_type": "code",
   "execution_count": 8,
   "metadata": {},
   "outputs": [
    {
     "data": {
      "text/plain": [
       "Ttest_indResult(statistic=1.5223040043497773, pvalue=0.12793347240670874)"
      ]
     },
     "execution_count": 8,
     "metadata": {},
     "output_type": "execute_result"
    }
   ],
   "source": [
    "e = reviews_df.rating[reviews_df.index.isin(tags_matrix.index[tags_matrix[\" 'beijing'\"]==1])]\n",
    "f = reviews_df.rating[reviews_df.index.isin(tags_matrix.index[tags_matrix[\" 'beijing'\"]==0])]\n",
    "myttest(e,f)"
   ]
  },
  {
   "cell_type": "markdown",
   "metadata": {},
   "source": [
    "The p-value of 0.13 > $a$ = 0.05, so we can reject the $H_a$. This means that 'beijing' tag positive effect on the recipe rating is statistically not significant."
   ]
  },
  {
   "cell_type": "markdown",
   "metadata": {},
   "source": [
    "### 'pressure-canning' Recipe Tag"
   ]
  },
  {
   "cell_type": "code",
   "execution_count": 9,
   "metadata": {},
   "outputs": [
    {
     "data": {
      "text/plain": [
       "Ttest_indResult(statistic=-6.309979344310214, pvalue=2.792736995754129e-10)"
      ]
     },
     "execution_count": 9,
     "metadata": {},
     "output_type": "execute_result"
    }
   ],
   "source": [
    "g = reviews_df.rating[reviews_df.index.isin(tags_matrix.index[tags_matrix[\" 'pressure-canning'\"]==1])]\n",
    "h = reviews_df.rating[reviews_df.index.isin(tags_matrix.index[tags_matrix[\" 'pressure-canning'\"]==0])]\n",
    "myttest(g,h)"
   ]
  },
  {
   "cell_type": "markdown",
   "metadata": {},
   "source": [
    "The p-value is very small, so we can reject the $H_o$. This means that 'pressure-canning' tag negative effect on the recipe rating is statistically significant."
   ]
  },
  {
   "cell_type": "markdown",
   "metadata": {},
   "source": [
    "### Time to make a recipe"
   ]
  },
  {
   "cell_type": "markdown",
   "metadata": {},
   "source": [
    "Time to make the recipe is represented by the 'minutes' attribute of the recipes dataframe. We know from EDA that the higher rated recipes on average require more time to make than the lower rated recipes. For the t-test we will take a sample of recipes that take less than an hour to make and a sample of recipes that take more than an hour to make."
   ]
  },
  {
   "cell_type": "code",
   "execution_count": 10,
   "metadata": {},
   "outputs": [
    {
     "data": {
      "text/plain": [
       "Ttest_indResult(statistic=1.2950403454784183, pvalue=0.195307054244819)"
      ]
     },
     "execution_count": 10,
     "metadata": {},
     "output_type": "execute_result"
    }
   ],
   "source": [
    "i = reviews_df.rating[reviews_df.index.isin(recipes_df.index[recipes_df.minutes <= 60])]\n",
    "j = reviews_df.rating[reviews_df.index.isin(recipes_df.minutes[recipes_df.minutes > 60])]\n",
    "myttest(i,j)"
   ]
  },
  {
   "cell_type": "markdown",
   "metadata": {},
   "source": [
    "The p-value of 0.20 > $a$ = 0.05, so we can reject the $H_a$. This means that time to make a recipe does not impact the recipe rating significantly."
   ]
  },
  {
   "cell_type": "markdown",
   "metadata": {},
   "source": [
    "### Number of steps to make a recipe"
   ]
  },
  {
   "cell_type": "markdown",
   "metadata": {},
   "source": [
    "The number of steps to make the recipe (or complexity of the recipe) is represented by the 'n_steps' attribute of the recipes dataframe. We know from EDA that the higher rated recipes have 10 or more steps. For the t-test we will take a sample of recipes with less than 10 steps and a sample of recipes with more than 10 steps."
   ]
  },
  {
   "cell_type": "code",
   "execution_count": 11,
   "metadata": {},
   "outputs": [
    {
     "data": {
      "text/plain": [
       "Ttest_indResult(statistic=1.6296614415681554, pvalue=0.10317400160552949)"
      ]
     },
     "execution_count": 11,
     "metadata": {},
     "output_type": "execute_result"
    }
   ],
   "source": [
    "k = reviews_df.rating[reviews_df.index.isin(recipes_df.index[recipes_df.n_steps < 10])]\n",
    "l = reviews_df.rating[reviews_df.index.isin(recipes_df.minutes[recipes_df.n_steps >= 10])]\n",
    "myttest(k,l)"
   ]
  },
  {
   "cell_type": "markdown",
   "metadata": {},
   "source": [
    "The p-value of 0.10 > $a$ = 0.05, so we can reject the $H_a$. This means that the number of steps over 10 does not impact the recipe rating significantly."
   ]
  },
  {
   "cell_type": "markdown",
   "metadata": {},
   "source": [
    "### Total Fats Content"
   ]
  },
  {
   "cell_type": "markdown",
   "metadata": {},
   "source": [
    "We know from EDA that the 'Total Fat' attribute of the recipes dataframe has a posiive effect on the recipe rating.  For the t-test we will take a sample of recipes with total fat less than 25 steps and a sample of recipes with total fat over 25."
   ]
  },
  {
   "cell_type": "code",
   "execution_count": 12,
   "metadata": {},
   "outputs": [
    {
     "data": {
      "text/plain": [
       "Ttest_indResult(statistic=1.6504603313321327, pvalue=0.09884978527865239)"
      ]
     },
     "execution_count": 12,
     "metadata": {},
     "output_type": "execute_result"
    }
   ],
   "source": [
    "m = reviews_df.rating[reviews_df.index.isin(recipes_df.index[recipes_df['Total Fat'] < 25])]\n",
    "n = reviews_df.rating[reviews_df.index.isin(recipes_df.minutes[recipes_df['Total Fat'] >= 25])]\n",
    "myttest(m,n)"
   ]
  },
  {
   "cell_type": "markdown",
   "metadata": {},
   "source": [
    "The p-value of 0.10 > $a$ = 0.05, so we can reject the $H_a$. This means that the total fat content does not impact the recipe rating significantly."
   ]
  },
  {
   "cell_type": "markdown",
   "metadata": {},
   "source": [
    "### Sugar Content"
   ]
  },
  {
   "cell_type": "markdown",
   "metadata": {},
   "source": [
    "We know from EDA that the sugar content has a posiive effect on the recipe rating.  For the t-test we will take a sample of recipes with sugar less than 30 and a sample of recipes with sugar over 30."
   ]
  },
  {
   "cell_type": "code",
   "execution_count": 13,
   "metadata": {},
   "outputs": [
    {
     "data": {
      "text/plain": [
       "Ttest_indResult(statistic=0.14791774616466175, pvalue=0.8824077946155509)"
      ]
     },
     "execution_count": 13,
     "metadata": {},
     "output_type": "execute_result"
    }
   ],
   "source": [
    "o = reviews_df.rating[reviews_df.index.isin(recipes_df.index[recipes_df['Sugars'] < 20])]\n",
    "p = reviews_df.rating[reviews_df.index.isin(recipes_df.minutes[recipes_df['Sugars'] >= 20])]\n",
    "myttest(o,p)"
   ]
  },
  {
   "cell_type": "markdown",
   "metadata": {},
   "source": [
    "The p-value of 0.88 > $a$ = 0.05, so we can reject the $H_a$. This means that the sugar content does not impact the recipe rating significantly."
   ]
  },
  {
   "cell_type": "markdown",
   "metadata": {},
   "source": [
    "### Sodium Content"
   ]
  },
  {
   "cell_type": "markdown",
   "metadata": {},
   "source": [
    "We know from EDA that the sodium content has a negative effect on the recipe rating.  For the t-test we will take a sample of recipes with sugar less than 30 and a sample of recipes with sugar over 30."
   ]
  },
  {
   "cell_type": "code",
   "execution_count": 14,
   "metadata": {},
   "outputs": [
    {
     "data": {
      "text/plain": [
       "Ttest_indResult(statistic=1.8366578448832098, pvalue=0.06626201500112164)"
      ]
     },
     "execution_count": 14,
     "metadata": {},
     "output_type": "execute_result"
    }
   ],
   "source": [
    "q = reviews_df.rating[reviews_df.index.isin(recipes_df.index[recipes_df['Sodium'] < 10])]\n",
    "r = reviews_df.rating[reviews_df.index.isin(recipes_df.minutes[recipes_df['Sodium'] >= 10])]\n",
    "myttest(q,r)"
   ]
  },
  {
   "cell_type": "markdown",
   "metadata": {},
   "source": [
    "The p-value of 0.07 > $a$ = 0.05, so we can reject the $H_a$. This means that the sodium content does not impact the recipe rating significantly."
   ]
  },
  {
   "cell_type": "markdown",
   "metadata": {},
   "source": [
    "### Carbohydrates Content"
   ]
  },
  {
   "cell_type": "markdown",
   "metadata": {},
   "source": [
    "We know from EDA that the carbs content has a negative effect on the recipe rating.  For the t-test we will take the carbs content threshold of 5 for the samples split."
   ]
  },
  {
   "cell_type": "code",
   "execution_count": 15,
   "metadata": {},
   "outputs": [
    {
     "data": {
      "text/plain": [
       "Ttest_indResult(statistic=1.3984372828546618, pvalue=0.16198366772171705)"
      ]
     },
     "execution_count": 15,
     "metadata": {},
     "output_type": "execute_result"
    }
   ],
   "source": [
    "q = reviews_df.rating[reviews_df.index.isin(recipes_df.index[recipes_df['Total Carbohydrate'] < 5])]\n",
    "r = reviews_df.rating[reviews_df.index.isin(recipes_df.minutes[recipes_df['Total Carbohydrate'] >= 5])]\n",
    "myttest(q,r)"
   ]
  },
  {
   "cell_type": "markdown",
   "metadata": {},
   "source": [
    "The p-value of 0.07 > $a$ = 0.05, so we can reject the $H_a$. This means that the sodium content does not impact the recipe rating significantly."
   ]
  },
  {
   "cell_type": "markdown",
   "metadata": {},
   "source": [
    "### Protein Content"
   ]
  },
  {
   "cell_type": "markdown",
   "metadata": {},
   "source": [
    "We know from EDA that the protein content has a slightly negative effect on the recipe rating.  For the t-test we will take the carbs content threshold of 15 for the samples split."
   ]
  },
  {
   "cell_type": "code",
   "execution_count": 16,
   "metadata": {},
   "outputs": [
    {
     "data": {
      "text/plain": [
       "Ttest_indResult(statistic=1.7088986054895212, pvalue=0.08747134962599898)"
      ]
     },
     "execution_count": 16,
     "metadata": {},
     "output_type": "execute_result"
    }
   ],
   "source": [
    "s = reviews_df.rating[reviews_df.index.isin(recipes_df.index[recipes_df['Protein'] < 10])]\n",
    "t = reviews_df.rating[reviews_df.index.isin(recipes_df.minutes[recipes_df['Protein'] >= 10])]\n",
    "myttest(s,t)"
   ]
  },
  {
   "cell_type": "markdown",
   "metadata": {},
   "source": [
    "The p-value of 0.09 > $a$ = 0.05, so we can reject the $H_a$. This means that the sodium content does not impact the recipe rating significantly."
   ]
  },
  {
   "cell_type": "markdown",
   "metadata": {},
   "source": [
    "### Saturated Fats Content"
   ]
  },
  {
   "cell_type": "markdown",
   "metadata": {},
   "source": [
    "We know from EDA that the saturated fats content has a negative effect on the recipe rating.  For the t-test we will take the saturated fats content threshold of 25 for the samples split."
   ]
  },
  {
   "cell_type": "code",
   "execution_count": 17,
   "metadata": {},
   "outputs": [
    {
     "data": {
      "text/plain": [
       "Ttest_indResult(statistic=2.249021930838759, pvalue=0.02451185160533414)"
      ]
     },
     "execution_count": 17,
     "metadata": {},
     "output_type": "execute_result"
    }
   ],
   "source": [
    "z = reviews_df.rating[reviews_df.index.isin(recipes_df.index[recipes_df['Saturated Fat'] < 25])]\n",
    "w = reviews_df.rating[reviews_df.index.isin(recipes_df.minutes[recipes_df['Saturated Fat'] >= 25])]\n",
    "myttest(z,w)"
   ]
  },
  {
   "cell_type": "markdown",
   "metadata": {},
   "source": [
    "The p-value of 0.02 < $a$ = 0.05, so we can reject the $H_0$. This means that the saturated fats content has a statistically significant negative effect on the recipe rating."
   ]
  },
  {
   "cell_type": "markdown",
   "metadata": {},
   "source": [
    "# Summary"
   ]
  },
  {
   "cell_type": "markdown",
   "metadata": {},
   "source": [
    "To summarize our findings: <br>\n",
    " -  Garlic is the best ingredient\n",
    " -  Baking powder is the worst ingredient\n",
    " - 'pressure-canning' is indeed the worst recipe tag\n",
    " - Time and the number of steps to make the recipe do not significantly change the recipe rating\n",
    " - Saturated Fats content negatively affects the recipe rating"
   ]
  }
 ],
 "metadata": {
  "kernelspec": {
   "display_name": "Python 3",
   "language": "python",
   "name": "python3"
  },
  "language_info": {
   "codemirror_mode": {
    "name": "ipython",
    "version": 3
   },
   "file_extension": ".py",
   "mimetype": "text/x-python",
   "name": "python",
   "nbconvert_exporter": "python",
   "pygments_lexer": "ipython3",
   "version": "3.7.4"
  }
 },
 "nbformat": 4,
 "nbformat_minor": 2
}
